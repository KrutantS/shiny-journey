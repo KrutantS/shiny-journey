{
 "cells": [
  {
   "cell_type": "code",
   "execution_count": 1,
   "id": "5bc50317",
   "metadata": {
    "_cell_guid": "b1076dfc-b9ad-4769-8c92-a6c4dae69d19",
    "_uuid": "8f2839f25d086af736a60e9eeb907d3b93b6e0e5",
    "execution": {
     "iopub.execute_input": "2022-07-04T15:32:50.964594Z",
     "iopub.status.busy": "2022-07-04T15:32:50.963934Z",
     "iopub.status.idle": "2022-07-04T15:32:50.974928Z",
     "shell.execute_reply": "2022-07-04T15:32:50.974122Z"
    },
    "papermill": {
     "duration": 0.046825,
     "end_time": "2022-07-04T15:32:50.977223",
     "exception": false,
     "start_time": "2022-07-04T15:32:50.930398",
     "status": "completed"
    },
    "tags": []
   },
   "outputs": [],
   "source": [
    "from warnings import filterwarnings\n",
    "filterwarnings(\"ignore\")"
   ]
  },
  {
   "cell_type": "code",
   "execution_count": 2,
   "id": "5ebbfce8",
   "metadata": {
    "execution": {
     "iopub.execute_input": "2022-07-04T15:32:51.040323Z",
     "iopub.status.busy": "2022-07-04T15:32:51.039628Z",
     "iopub.status.idle": "2022-07-04T15:32:51.069211Z",
     "shell.execute_reply": "2022-07-04T15:32:51.068036Z"
    },
    "papermill": {
     "duration": 0.06444,
     "end_time": "2022-07-04T15:32:51.072001",
     "exception": false,
     "start_time": "2022-07-04T15:32:51.007561",
     "status": "completed"
    },
    "tags": []
   },
   "outputs": [],
   "source": [
    "import pandas as pd\n",
    "A = pd.read_csv(\"C:/Users/kruta/Downloads/train.csv\")\n",
    "B = pd.read_csv(\"C:/Users/kruta/Downloads/test.csv\")"
   ]
  },
  {
   "cell_type": "markdown",
   "id": "d7ba8836",
   "metadata": {
    "execution": {
     "iopub.execute_input": "2022-07-04T11:18:16.201180Z",
     "iopub.status.busy": "2022-07-04T11:18:16.200328Z",
     "iopub.status.idle": "2022-07-04T11:18:16.228031Z",
     "shell.execute_reply": "2022-07-04T11:18:16.227162Z",
     "shell.execute_reply.started": "2022-07-04T11:18:16.201141Z"
    },
    "papermill": {
     "duration": 0.030066,
     "end_time": "2022-07-04T15:32:51.132425",
     "exception": false,
     "start_time": "2022-07-04T15:32:51.102359",
     "status": "completed"
    },
    "tags": []
   },
   "source": [
    "Find for missing values"
   ]
  },
  {
   "cell_type": "code",
   "execution_count": 3,
   "id": "848c3413",
   "metadata": {
    "execution": {
     "iopub.execute_input": "2022-07-04T15:32:51.199031Z",
     "iopub.status.busy": "2022-07-04T15:32:51.198153Z",
     "iopub.status.idle": "2022-07-04T15:32:51.213855Z",
     "shell.execute_reply": "2022-07-04T15:32:51.212895Z"
    },
    "papermill": {
     "duration": 0.053292,
     "end_time": "2022-07-04T15:32:51.216129",
     "exception": false,
     "start_time": "2022-07-04T15:32:51.162837",
     "status": "completed"
    },
    "tags": []
   },
   "outputs": [
    {
     "data": {
      "text/plain": [
       "PassengerId      0\n",
       "Survived         0\n",
       "Pclass           0\n",
       "Name             0\n",
       "Sex              0\n",
       "Age            177\n",
       "SibSp            0\n",
       "Parch            0\n",
       "Ticket           0\n",
       "Fare             0\n",
       "Cabin          687\n",
       "Embarked         2\n",
       "dtype: int64"
      ]
     },
     "execution_count": 3,
     "metadata": {},
     "output_type": "execute_result"
    }
   ],
   "source": [
    "A.isna().sum()"
   ]
  },
  {
   "cell_type": "code",
   "execution_count": 4,
   "id": "65f5f1cc",
   "metadata": {
    "execution": {
     "iopub.execute_input": "2022-07-04T15:32:51.279321Z",
     "iopub.status.busy": "2022-07-04T15:32:51.278653Z",
     "iopub.status.idle": "2022-07-04T15:32:51.287111Z",
     "shell.execute_reply": "2022-07-04T15:32:51.286126Z"
    },
    "papermill": {
     "duration": 0.042956,
     "end_time": "2022-07-04T15:32:51.289552",
     "exception": false,
     "start_time": "2022-07-04T15:32:51.246596",
     "status": "completed"
    },
    "tags": []
   },
   "outputs": [
    {
     "data": {
      "text/plain": [
       "PassengerId      0\n",
       "Pclass           0\n",
       "Name             0\n",
       "Sex              0\n",
       "Age             86\n",
       "SibSp            0\n",
       "Parch            0\n",
       "Ticket           0\n",
       "Fare             1\n",
       "Cabin          327\n",
       "Embarked         0\n",
       "dtype: int64"
      ]
     },
     "execution_count": 4,
     "metadata": {},
     "output_type": "execute_result"
    }
   ],
   "source": [
    "B.isna().sum()"
   ]
  },
  {
   "cell_type": "code",
   "execution_count": 5,
   "id": "0834a742",
   "metadata": {
    "execution": {
     "iopub.execute_input": "2022-07-04T15:32:51.351993Z",
     "iopub.status.busy": "2022-07-04T15:32:51.351476Z",
     "iopub.status.idle": "2022-07-04T15:32:51.380354Z",
     "shell.execute_reply": "2022-07-04T15:32:51.379514Z"
    },
    "papermill": {
     "duration": 0.062447,
     "end_time": "2022-07-04T15:32:51.382838",
     "exception": false,
     "start_time": "2022-07-04T15:32:51.320391",
     "status": "completed"
    },
    "tags": []
   },
   "outputs": [],
   "source": [
    "for i in A.columns:\n",
    "    if (A[i].dtypes == \"object\"):\n",
    "        x = A[i].mode()[0]\n",
    "        A[i] = A[i].fillna(x)\n",
    "    else:\n",
    "        x = A[i].mean()\n",
    "        A[i] = A[i].fillna(x)\n",
    "        \n",
    "for i in B.columns:\n",
    "    if (B[i].dtypes == \"object\"):\n",
    "        x = B[i].mode()[0]\n",
    "        B[i] = B[i].fillna(x)\n",
    "    else:\n",
    "        x = B[i].mean()\n",
    "        B[i] = B[i].fillna(x)\n"
   ]
  },
  {
   "cell_type": "code",
   "execution_count": 6,
   "id": "540ba53c",
   "metadata": {
    "execution": {
     "iopub.execute_input": "2022-07-04T15:32:51.447112Z",
     "iopub.status.busy": "2022-07-04T15:32:51.445913Z",
     "iopub.status.idle": "2022-07-04T15:32:51.456173Z",
     "shell.execute_reply": "2022-07-04T15:32:51.455226Z"
    },
    "papermill": {
     "duration": 0.044254,
     "end_time": "2022-07-04T15:32:51.458418",
     "exception": false,
     "start_time": "2022-07-04T15:32:51.414164",
     "status": "completed"
    },
    "tags": []
   },
   "outputs": [
    {
     "data": {
      "text/plain": [
       "PassengerId    0\n",
       "Survived       0\n",
       "Pclass         0\n",
       "Name           0\n",
       "Sex            0\n",
       "Age            0\n",
       "SibSp          0\n",
       "Parch          0\n",
       "Ticket         0\n",
       "Fare           0\n",
       "Cabin          0\n",
       "Embarked       0\n",
       "dtype: int64"
      ]
     },
     "execution_count": 6,
     "metadata": {},
     "output_type": "execute_result"
    }
   ],
   "source": [
    "A.isna().sum()"
   ]
  },
  {
   "cell_type": "code",
   "execution_count": 7,
   "id": "167f9ca9",
   "metadata": {
    "execution": {
     "iopub.execute_input": "2022-07-04T15:32:51.521356Z",
     "iopub.status.busy": "2022-07-04T15:32:51.520607Z",
     "iopub.status.idle": "2022-07-04T15:32:51.530476Z",
     "shell.execute_reply": "2022-07-04T15:32:51.529537Z"
    },
    "papermill": {
     "duration": 0.043888,
     "end_time": "2022-07-04T15:32:51.532829",
     "exception": false,
     "start_time": "2022-07-04T15:32:51.488941",
     "status": "completed"
    },
    "tags": []
   },
   "outputs": [
    {
     "data": {
      "text/plain": [
       "PassengerId    0\n",
       "Pclass         0\n",
       "Name           0\n",
       "Sex            0\n",
       "Age            0\n",
       "SibSp          0\n",
       "Parch          0\n",
       "Ticket         0\n",
       "Fare           0\n",
       "Cabin          0\n",
       "Embarked       0\n",
       "dtype: int64"
      ]
     },
     "execution_count": 7,
     "metadata": {},
     "output_type": "execute_result"
    }
   ],
   "source": [
    "B.isna().sum()"
   ]
  },
  {
   "cell_type": "markdown",
   "id": "9850aa6c",
   "metadata": {
    "papermill": {
     "duration": 0.02981,
     "end_time": "2022-07-04T15:32:51.593291",
     "exception": false,
     "start_time": "2022-07-04T15:32:51.563481",
     "status": "completed"
    },
    "tags": []
   },
   "source": [
    "As checked above no missing values now"
   ]
  },
  {
   "cell_type": "markdown",
   "id": "9fca01fd",
   "metadata": {
    "papermill": {
     "duration": 0.030161,
     "end_time": "2022-07-04T15:32:51.653722",
     "exception": false,
     "start_time": "2022-07-04T15:32:51.623561",
     "status": "completed"
    },
    "tags": []
   },
   "source": [
    "Checking the correlation of continous features with \"Survived\""
   ]
  },
  {
   "cell_type": "code",
   "execution_count": 8,
   "id": "47b4e8a8",
   "metadata": {
    "execution": {
     "iopub.execute_input": "2022-07-04T15:32:51.717205Z",
     "iopub.status.busy": "2022-07-04T15:32:51.716461Z",
     "iopub.status.idle": "2022-07-04T15:32:51.738171Z",
     "shell.execute_reply": "2022-07-04T15:32:51.736916Z"
    },
    "papermill": {
     "duration": 0.056589,
     "end_time": "2022-07-04T15:32:51.740626",
     "exception": false,
     "start_time": "2022-07-04T15:32:51.684037",
     "status": "completed"
    },
    "tags": []
   },
   "outputs": [
    {
     "data": {
      "text/html": [
       "<div>\n",
       "<style scoped>\n",
       "    .dataframe tbody tr th:only-of-type {\n",
       "        vertical-align: middle;\n",
       "    }\n",
       "\n",
       "    .dataframe tbody tr th {\n",
       "        vertical-align: top;\n",
       "    }\n",
       "\n",
       "    .dataframe thead th {\n",
       "        text-align: right;\n",
       "    }\n",
       "</style>\n",
       "<table border=\"1\" class=\"dataframe\">\n",
       "  <thead>\n",
       "    <tr style=\"text-align: right;\">\n",
       "      <th></th>\n",
       "      <th>Survived</th>\n",
       "    </tr>\n",
       "  </thead>\n",
       "  <tbody>\n",
       "    <tr>\n",
       "      <th>PassengerId</th>\n",
       "      <td>-0.005007</td>\n",
       "    </tr>\n",
       "    <tr>\n",
       "      <th>Survived</th>\n",
       "      <td>1.000000</td>\n",
       "    </tr>\n",
       "    <tr>\n",
       "      <th>Pclass</th>\n",
       "      <td>-0.338481</td>\n",
       "    </tr>\n",
       "    <tr>\n",
       "      <th>Age</th>\n",
       "      <td>-0.069809</td>\n",
       "    </tr>\n",
       "    <tr>\n",
       "      <th>SibSp</th>\n",
       "      <td>-0.035322</td>\n",
       "    </tr>\n",
       "    <tr>\n",
       "      <th>Parch</th>\n",
       "      <td>0.081629</td>\n",
       "    </tr>\n",
       "    <tr>\n",
       "      <th>Fare</th>\n",
       "      <td>0.257307</td>\n",
       "    </tr>\n",
       "  </tbody>\n",
       "</table>\n",
       "</div>"
      ],
      "text/plain": [
       "             Survived\n",
       "PassengerId -0.005007\n",
       "Survived     1.000000\n",
       "Pclass      -0.338481\n",
       "Age         -0.069809\n",
       "SibSp       -0.035322\n",
       "Parch        0.081629\n",
       "Fare         0.257307"
      ]
     },
     "execution_count": 8,
     "metadata": {},
     "output_type": "execute_result"
    }
   ],
   "source": [
    "A.corr()[[\"Survived\"]]"
   ]
  },
  {
   "cell_type": "markdown",
   "id": "f44cafc8",
   "metadata": {
    "papermill": {
     "duration": 0.030321,
     "end_time": "2022-07-04T15:32:51.803215",
     "exception": false,
     "start_time": "2022-07-04T15:32:51.772894",
     "status": "completed"
    },
    "tags": []
   },
   "source": [
    "Dropping the unnecessary features based on correlation, also dropping \"Survived\" feature as its not necessary to predict"
   ]
  },
  {
   "cell_type": "code",
   "execution_count": 9,
   "id": "dce774c5",
   "metadata": {
    "execution": {
     "iopub.execute_input": "2022-07-04T15:32:51.866675Z",
     "iopub.status.busy": "2022-07-04T15:32:51.865903Z",
     "iopub.status.idle": "2022-07-04T15:32:51.872996Z",
     "shell.execute_reply": "2022-07-04T15:32:51.872178Z"
    },
    "papermill": {
     "duration": 0.041437,
     "end_time": "2022-07-04T15:32:51.875288",
     "exception": false,
     "start_time": "2022-07-04T15:32:51.833851",
     "status": "completed"
    },
    "tags": []
   },
   "outputs": [],
   "source": [
    "X = A.drop(labels = [\"PassengerId\",\"Survived\", \"Pclass\" , \"Age\",\"SibSp\",\"Parch\"],axis = 1)\n",
    "Y = A[[\"Survived\"]]"
   ]
  },
  {
   "cell_type": "markdown",
   "id": "75f59592",
   "metadata": {
    "papermill": {
     "duration": 0.030247,
     "end_time": "2022-07-04T15:32:51.937418",
     "exception": false,
     "start_time": "2022-07-04T15:32:51.907171",
     "status": "completed"
    },
    "tags": []
   },
   "source": [
    "Seperating categorical and continous features to use min - max (Standardization)"
   ]
  },
  {
   "cell_type": "code",
   "execution_count": 10,
   "id": "d849ce28",
   "metadata": {
    "execution": {
     "iopub.execute_input": "2022-07-04T15:32:52.000733Z",
     "iopub.status.busy": "2022-07-04T15:32:51.999968Z",
     "iopub.status.idle": "2022-07-04T15:32:52.006511Z",
     "shell.execute_reply": "2022-07-04T15:32:52.005625Z"
    },
    "papermill": {
     "duration": 0.040984,
     "end_time": "2022-07-04T15:32:52.008882",
     "exception": false,
     "start_time": "2022-07-04T15:32:51.967898",
     "status": "completed"
    },
    "tags": []
   },
   "outputs": [],
   "source": [
    "cat = []\n",
    "con = []\n",
    "\n",
    "for i in X.columns:\n",
    "    if (X[i].dtypes == \"object\"):\n",
    "        cat.append(i)\n",
    "    else:\n",
    "        con.append(i)\n",
    "        "
   ]
  },
  {
   "cell_type": "code",
   "execution_count": 11,
   "id": "882ef93a",
   "metadata": {
    "execution": {
     "iopub.execute_input": "2022-07-04T15:32:52.072976Z",
     "iopub.status.busy": "2022-07-04T15:32:52.072012Z",
     "iopub.status.idle": "2022-07-04T15:32:53.268256Z",
     "shell.execute_reply": "2022-07-04T15:32:53.267348Z"
    },
    "papermill": {
     "duration": 1.230759,
     "end_time": "2022-07-04T15:32:53.270901",
     "exception": false,
     "start_time": "2022-07-04T15:32:52.040142",
     "status": "completed"
    },
    "tags": []
   },
   "outputs": [],
   "source": [
    "from sklearn.preprocessing import StandardScaler\n",
    "ss = StandardScaler()\n",
    "X1 = pd.DataFrame(ss.fit_transform(X[con]),columns = con)"
   ]
  },
  {
   "cell_type": "markdown",
   "id": "6accee6f",
   "metadata": {
    "papermill": {
     "duration": 0.030349,
     "end_time": "2022-07-04T15:32:53.332349",
     "exception": false,
     "start_time": "2022-07-04T15:32:53.302000",
     "status": "completed"
    },
    "tags": []
   },
   "source": [
    "Drop the outliers"
   ]
  },
  {
   "cell_type": "code",
   "execution_count": 12,
   "id": "42516958",
   "metadata": {
    "execution": {
     "iopub.execute_input": "2022-07-04T15:32:53.400083Z",
     "iopub.status.busy": "2022-07-04T15:32:53.399180Z",
     "iopub.status.idle": "2022-07-04T15:32:53.407117Z",
     "shell.execute_reply": "2022-07-04T15:32:53.406151Z"
    },
    "papermill": {
     "duration": 0.046438,
     "end_time": "2022-07-04T15:32:53.409473",
     "exception": false,
     "start_time": "2022-07-04T15:32:53.363035",
     "status": "completed"
    },
    "tags": []
   },
   "outputs": [],
   "source": [
    "for i  in X1.columns:\n",
    "    outliers = []\n",
    "    outliers.extend(list(X1[(X1[i] > 3) | (X1[i] < -3)].index))\n",
    "    \n",
    "import numpy as np\n",
    "outliers = np.unique(outliers)"
   ]
  },
  {
   "cell_type": "code",
   "execution_count": 13,
   "id": "7750a0df",
   "metadata": {
    "execution": {
     "iopub.execute_input": "2022-07-04T15:32:53.472506Z",
     "iopub.status.busy": "2022-07-04T15:32:53.472082Z",
     "iopub.status.idle": "2022-07-04T15:32:53.478385Z",
     "shell.execute_reply": "2022-07-04T15:32:53.477534Z"
    },
    "papermill": {
     "duration": 0.040276,
     "end_time": "2022-07-04T15:32:53.480434",
     "exception": false,
     "start_time": "2022-07-04T15:32:53.440158",
     "status": "completed"
    },
    "tags": []
   },
   "outputs": [
    {
     "data": {
      "text/plain": [
       "array([ 27,  88, 118, 258, 299, 311, 341, 377, 380, 438, 527, 557, 679,\n",
       "       689, 700, 716, 730, 737, 742, 779])"
      ]
     },
     "execution_count": 13,
     "metadata": {},
     "output_type": "execute_result"
    }
   ],
   "source": [
    "outliers"
   ]
  },
  {
   "cell_type": "code",
   "execution_count": 14,
   "id": "a731ae75",
   "metadata": {
    "execution": {
     "iopub.execute_input": "2022-07-04T15:32:53.544031Z",
     "iopub.status.busy": "2022-07-04T15:32:53.543641Z",
     "iopub.status.idle": "2022-07-04T15:32:53.549592Z",
     "shell.execute_reply": "2022-07-04T15:32:53.548508Z"
    },
    "papermill": {
     "duration": 0.040976,
     "end_time": "2022-07-04T15:32:53.552033",
     "exception": false,
     "start_time": "2022-07-04T15:32:53.511057",
     "status": "completed"
    },
    "tags": []
   },
   "outputs": [],
   "source": [
    "X1 = X1.drop(index = outliers, axis = 0)"
   ]
  },
  {
   "cell_type": "code",
   "execution_count": 15,
   "id": "21995f6a",
   "metadata": {
    "execution": {
     "iopub.execute_input": "2022-07-04T15:32:53.614916Z",
     "iopub.status.busy": "2022-07-04T15:32:53.614531Z",
     "iopub.status.idle": "2022-07-04T15:32:53.620386Z",
     "shell.execute_reply": "2022-07-04T15:32:53.619538Z"
    },
    "papermill": {
     "duration": 0.039837,
     "end_time": "2022-07-04T15:32:53.622527",
     "exception": false,
     "start_time": "2022-07-04T15:32:53.582690",
     "status": "completed"
    },
    "tags": []
   },
   "outputs": [],
   "source": [
    "Y = Y.drop(index = outliers, axis = 0)"
   ]
  },
  {
   "cell_type": "markdown",
   "id": "e3e99479",
   "metadata": {
    "papermill": {
     "duration": 0.030307,
     "end_time": "2022-07-04T15:32:53.683740",
     "exception": false,
     "start_time": "2022-07-04T15:32:53.653433",
     "status": "completed"
    },
    "tags": []
   },
   "source": [
    "Now check the correlation of categorical features with \"Survived\" using ANOVA test"
   ]
  },
  {
   "cell_type": "code",
   "execution_count": 16,
   "id": "75dad1fb",
   "metadata": {
    "execution": {
     "iopub.execute_input": "2022-07-04T15:32:53.748494Z",
     "iopub.status.busy": "2022-07-04T15:32:53.747581Z",
     "iopub.status.idle": "2022-07-04T15:32:55.262460Z",
     "shell.execute_reply": "2022-07-04T15:32:55.261149Z"
    },
    "papermill": {
     "duration": 1.552323,
     "end_time": "2022-07-04T15:32:55.267684",
     "exception": false,
     "start_time": "2022-07-04T15:32:53.715361",
     "status": "completed"
    },
    "tags": []
   },
   "outputs": [
    {
     "name": "stdout",
     "output_type": "stream",
     "text": [
      "Survived ~Name --> nan\n",
      "Survived ~Sex --> 0.0\n",
      "Survived ~Ticket --> 0.0\n",
      "Survived ~Cabin --> 0.0\n",
      "Survived ~Embarked --> 0.0\n"
     ]
    }
   ],
   "source": [
    "for i in cat:\n",
    "    from statsmodels.formula.api import ols\n",
    "    rel = \"Survived ~\" +str(i)\n",
    "    model = ols(rel,A).fit()\n",
    "    from statsmodels.stats.anova import anova_lm\n",
    "    anova_results = anova_lm(model)\n",
    "    print(rel, \"-->\", round(anova_results.iloc[0,4],4))"
   ]
  },
  {
   "cell_type": "markdown",
   "id": "64f4c928",
   "metadata": {
    "papermill": {
     "duration": 0.043144,
     "end_time": "2022-07-04T15:32:55.367720",
     "exception": false,
     "start_time": "2022-07-04T15:32:55.324576",
     "status": "completed"
    },
    "tags": []
   },
   "source": [
    "No need to drop features based on categorical columns"
   ]
  },
  {
   "cell_type": "code",
   "execution_count": 17,
   "id": "b74756a4",
   "metadata": {
    "execution": {
     "iopub.execute_input": "2022-07-04T15:32:55.431627Z",
     "iopub.status.busy": "2022-07-04T15:32:55.431209Z",
     "iopub.status.idle": "2022-07-04T15:32:55.435840Z",
     "shell.execute_reply": "2022-07-04T15:32:55.434991Z"
    },
    "papermill": {
     "duration": 0.039048,
     "end_time": "2022-07-04T15:32:55.438054",
     "exception": false,
     "start_time": "2022-07-04T15:32:55.399006",
     "status": "completed"
    },
    "tags": []
   },
   "outputs": [],
   "source": [
    "cat.remove(\"Name\")"
   ]
  },
  {
   "cell_type": "markdown",
   "id": "22023d04",
   "metadata": {
    "papermill": {
     "duration": 0.030199,
     "end_time": "2022-07-04T15:32:55.499360",
     "exception": false,
     "start_time": "2022-07-04T15:32:55.469161",
     "status": "completed"
    },
    "tags": []
   },
   "source": [
    "One Hot Encoding"
   ]
  },
  {
   "cell_type": "code",
   "execution_count": 18,
   "id": "8865e702",
   "metadata": {
    "execution": {
     "iopub.execute_input": "2022-07-04T15:32:55.562767Z",
     "iopub.status.busy": "2022-07-04T15:32:55.562250Z",
     "iopub.status.idle": "2022-07-04T15:32:55.579932Z",
     "shell.execute_reply": "2022-07-04T15:32:55.578636Z"
    },
    "papermill": {
     "duration": 0.052142,
     "end_time": "2022-07-04T15:32:55.582402",
     "exception": false,
     "start_time": "2022-07-04T15:32:55.530260",
     "status": "completed"
    },
    "tags": []
   },
   "outputs": [],
   "source": [
    "X2 = pd.get_dummies(X[cat])"
   ]
  },
  {
   "cell_type": "code",
   "execution_count": 19,
   "id": "7d3a93d7",
   "metadata": {
    "execution": {
     "iopub.execute_input": "2022-07-04T15:32:55.646310Z",
     "iopub.status.busy": "2022-07-04T15:32:55.645592Z",
     "iopub.status.idle": "2022-07-04T15:32:55.658718Z",
     "shell.execute_reply": "2022-07-04T15:32:55.657521Z"
    },
    "papermill": {
     "duration": 0.047608,
     "end_time": "2022-07-04T15:32:55.661224",
     "exception": false,
     "start_time": "2022-07-04T15:32:55.613616",
     "status": "completed"
    },
    "tags": []
   },
   "outputs": [],
   "source": [
    "Xnew = X1.join(X2)"
   ]
  },
  {
   "cell_type": "code",
   "execution_count": 20,
   "id": "ee9df4f1",
   "metadata": {
    "execution": {
     "iopub.execute_input": "2022-07-04T15:32:55.724914Z",
     "iopub.status.busy": "2022-07-04T15:32:55.724471Z",
     "iopub.status.idle": "2022-07-04T15:32:55.745715Z",
     "shell.execute_reply": "2022-07-04T15:32:55.744830Z"
    },
    "papermill": {
     "duration": 0.055789,
     "end_time": "2022-07-04T15:32:55.747948",
     "exception": false,
     "start_time": "2022-07-04T15:32:55.692159",
     "status": "completed"
    },
    "tags": []
   },
   "outputs": [
    {
     "data": {
      "text/html": [
       "<div>\n",
       "<style scoped>\n",
       "    .dataframe tbody tr th:only-of-type {\n",
       "        vertical-align: middle;\n",
       "    }\n",
       "\n",
       "    .dataframe tbody tr th {\n",
       "        vertical-align: top;\n",
       "    }\n",
       "\n",
       "    .dataframe thead th {\n",
       "        text-align: right;\n",
       "    }\n",
       "</style>\n",
       "<table border=\"1\" class=\"dataframe\">\n",
       "  <thead>\n",
       "    <tr style=\"text-align: right;\">\n",
       "      <th></th>\n",
       "      <th>Fare</th>\n",
       "      <th>Sex_female</th>\n",
       "      <th>Sex_male</th>\n",
       "      <th>Ticket_110152</th>\n",
       "      <th>Ticket_110413</th>\n",
       "      <th>Ticket_110465</th>\n",
       "      <th>Ticket_110564</th>\n",
       "      <th>Ticket_110813</th>\n",
       "      <th>Ticket_111240</th>\n",
       "      <th>Ticket_111320</th>\n",
       "      <th>...</th>\n",
       "      <th>Cabin_F G73</th>\n",
       "      <th>Cabin_F2</th>\n",
       "      <th>Cabin_F33</th>\n",
       "      <th>Cabin_F38</th>\n",
       "      <th>Cabin_F4</th>\n",
       "      <th>Cabin_G6</th>\n",
       "      <th>Cabin_T</th>\n",
       "      <th>Embarked_C</th>\n",
       "      <th>Embarked_Q</th>\n",
       "      <th>Embarked_S</th>\n",
       "    </tr>\n",
       "  </thead>\n",
       "  <tbody>\n",
       "    <tr>\n",
       "      <th>0</th>\n",
       "      <td>-0.502445</td>\n",
       "      <td>0</td>\n",
       "      <td>1</td>\n",
       "      <td>0</td>\n",
       "      <td>0</td>\n",
       "      <td>0</td>\n",
       "      <td>0</td>\n",
       "      <td>0</td>\n",
       "      <td>0</td>\n",
       "      <td>0</td>\n",
       "      <td>...</td>\n",
       "      <td>0</td>\n",
       "      <td>0</td>\n",
       "      <td>0</td>\n",
       "      <td>0</td>\n",
       "      <td>0</td>\n",
       "      <td>0</td>\n",
       "      <td>0</td>\n",
       "      <td>0</td>\n",
       "      <td>0</td>\n",
       "      <td>1</td>\n",
       "    </tr>\n",
       "    <tr>\n",
       "      <th>1</th>\n",
       "      <td>0.786845</td>\n",
       "      <td>1</td>\n",
       "      <td>0</td>\n",
       "      <td>0</td>\n",
       "      <td>0</td>\n",
       "      <td>0</td>\n",
       "      <td>0</td>\n",
       "      <td>0</td>\n",
       "      <td>0</td>\n",
       "      <td>0</td>\n",
       "      <td>...</td>\n",
       "      <td>0</td>\n",
       "      <td>0</td>\n",
       "      <td>0</td>\n",
       "      <td>0</td>\n",
       "      <td>0</td>\n",
       "      <td>0</td>\n",
       "      <td>0</td>\n",
       "      <td>1</td>\n",
       "      <td>0</td>\n",
       "      <td>0</td>\n",
       "    </tr>\n",
       "    <tr>\n",
       "      <th>2</th>\n",
       "      <td>-0.488854</td>\n",
       "      <td>1</td>\n",
       "      <td>0</td>\n",
       "      <td>0</td>\n",
       "      <td>0</td>\n",
       "      <td>0</td>\n",
       "      <td>0</td>\n",
       "      <td>0</td>\n",
       "      <td>0</td>\n",
       "      <td>0</td>\n",
       "      <td>...</td>\n",
       "      <td>0</td>\n",
       "      <td>0</td>\n",
       "      <td>0</td>\n",
       "      <td>0</td>\n",
       "      <td>0</td>\n",
       "      <td>0</td>\n",
       "      <td>0</td>\n",
       "      <td>0</td>\n",
       "      <td>0</td>\n",
       "      <td>1</td>\n",
       "    </tr>\n",
       "    <tr>\n",
       "      <th>3</th>\n",
       "      <td>0.420730</td>\n",
       "      <td>1</td>\n",
       "      <td>0</td>\n",
       "      <td>0</td>\n",
       "      <td>0</td>\n",
       "      <td>0</td>\n",
       "      <td>0</td>\n",
       "      <td>0</td>\n",
       "      <td>0</td>\n",
       "      <td>0</td>\n",
       "      <td>...</td>\n",
       "      <td>0</td>\n",
       "      <td>0</td>\n",
       "      <td>0</td>\n",
       "      <td>0</td>\n",
       "      <td>0</td>\n",
       "      <td>0</td>\n",
       "      <td>0</td>\n",
       "      <td>0</td>\n",
       "      <td>0</td>\n",
       "      <td>1</td>\n",
       "    </tr>\n",
       "    <tr>\n",
       "      <th>4</th>\n",
       "      <td>-0.486337</td>\n",
       "      <td>0</td>\n",
       "      <td>1</td>\n",
       "      <td>0</td>\n",
       "      <td>0</td>\n",
       "      <td>0</td>\n",
       "      <td>0</td>\n",
       "      <td>0</td>\n",
       "      <td>0</td>\n",
       "      <td>0</td>\n",
       "      <td>...</td>\n",
       "      <td>0</td>\n",
       "      <td>0</td>\n",
       "      <td>0</td>\n",
       "      <td>0</td>\n",
       "      <td>0</td>\n",
       "      <td>0</td>\n",
       "      <td>0</td>\n",
       "      <td>0</td>\n",
       "      <td>0</td>\n",
       "      <td>1</td>\n",
       "    </tr>\n",
       "  </tbody>\n",
       "</table>\n",
       "<p>5 rows × 834 columns</p>\n",
       "</div>"
      ],
      "text/plain": [
       "       Fare  Sex_female  Sex_male  Ticket_110152  Ticket_110413  \\\n",
       "0 -0.502445           0         1              0              0   \n",
       "1  0.786845           1         0              0              0   \n",
       "2 -0.488854           1         0              0              0   \n",
       "3  0.420730           1         0              0              0   \n",
       "4 -0.486337           0         1              0              0   \n",
       "\n",
       "   Ticket_110465  Ticket_110564  Ticket_110813  Ticket_111240  Ticket_111320  \\\n",
       "0              0              0              0              0              0   \n",
       "1              0              0              0              0              0   \n",
       "2              0              0              0              0              0   \n",
       "3              0              0              0              0              0   \n",
       "4              0              0              0              0              0   \n",
       "\n",
       "   ...  Cabin_F G73  Cabin_F2  Cabin_F33  Cabin_F38  Cabin_F4  Cabin_G6  \\\n",
       "0  ...            0         0          0          0         0         0   \n",
       "1  ...            0         0          0          0         0         0   \n",
       "2  ...            0         0          0          0         0         0   \n",
       "3  ...            0         0          0          0         0         0   \n",
       "4  ...            0         0          0          0         0         0   \n",
       "\n",
       "   Cabin_T  Embarked_C  Embarked_Q  Embarked_S  \n",
       "0        0           0           0           1  \n",
       "1        0           1           0           0  \n",
       "2        0           0           0           1  \n",
       "3        0           0           0           1  \n",
       "4        0           0           0           1  \n",
       "\n",
       "[5 rows x 834 columns]"
      ]
     },
     "execution_count": 20,
     "metadata": {},
     "output_type": "execute_result"
    }
   ],
   "source": [
    "Xnew.head()"
   ]
  },
  {
   "cell_type": "code",
   "execution_count": 21,
   "id": "fc4ed345",
   "metadata": {
    "execution": {
     "iopub.execute_input": "2022-07-04T15:32:55.812643Z",
     "iopub.status.busy": "2022-07-04T15:32:55.811962Z",
     "iopub.status.idle": "2022-07-04T15:32:55.817416Z",
     "shell.execute_reply": "2022-07-04T15:32:55.816639Z"
    },
    "papermill": {
     "duration": 0.040141,
     "end_time": "2022-07-04T15:32:55.819457",
     "exception": false,
     "start_time": "2022-07-04T15:32:55.779316",
     "status": "completed"
    },
    "tags": []
   },
   "outputs": [
    {
     "data": {
      "text/plain": [
       "(871, 834)"
      ]
     },
     "execution_count": 21,
     "metadata": {},
     "output_type": "execute_result"
    }
   ],
   "source": [
    "Xnew.shape"
   ]
  },
  {
   "cell_type": "code",
   "execution_count": 22,
   "id": "4e30e83a",
   "metadata": {
    "execution": {
     "iopub.execute_input": "2022-07-04T15:32:55.884025Z",
     "iopub.status.busy": "2022-07-04T15:32:55.883594Z",
     "iopub.status.idle": "2022-07-04T15:32:55.890108Z",
     "shell.execute_reply": "2022-07-04T15:32:55.889272Z"
    },
    "papermill": {
     "duration": 0.041283,
     "end_time": "2022-07-04T15:32:55.892229",
     "exception": false,
     "start_time": "2022-07-04T15:32:55.850946",
     "status": "completed"
    },
    "tags": []
   },
   "outputs": [
    {
     "data": {
      "text/plain": [
       "(871, 1)"
      ]
     },
     "execution_count": 22,
     "metadata": {},
     "output_type": "execute_result"
    }
   ],
   "source": [
    "Y.shape"
   ]
  },
  {
   "cell_type": "code",
   "execution_count": 23,
   "id": "6221faf8",
   "metadata": {
    "execution": {
     "iopub.execute_input": "2022-07-04T15:32:55.957702Z",
     "iopub.status.busy": "2022-07-04T15:32:55.957097Z",
     "iopub.status.idle": "2022-07-04T15:32:56.035929Z",
     "shell.execute_reply": "2022-07-04T15:32:56.034863Z"
    },
    "papermill": {
     "duration": 0.114414,
     "end_time": "2022-07-04T15:32:56.038476",
     "exception": false,
     "start_time": "2022-07-04T15:32:55.924062",
     "status": "completed"
    },
    "tags": []
   },
   "outputs": [],
   "source": [
    "from sklearn.model_selection import train_test_split\n",
    "xtrain,xtest,ytrain,ytest = train_test_split(Xnew,Y,test_size= 0.2,random_state=21)"
   ]
  },
  {
   "cell_type": "code",
   "execution_count": 24,
   "id": "560a7469",
   "metadata": {
    "execution": {
     "iopub.execute_input": "2022-07-04T15:32:56.107728Z",
     "iopub.status.busy": "2022-07-04T15:32:56.107334Z",
     "iopub.status.idle": "2022-07-04T15:32:56.112702Z",
     "shell.execute_reply": "2022-07-04T15:32:56.111543Z"
    },
    "papermill": {
     "duration": 0.044392,
     "end_time": "2022-07-04T15:32:56.114973",
     "exception": false,
     "start_time": "2022-07-04T15:32:56.070581",
     "status": "completed"
    },
    "tags": []
   },
   "outputs": [],
   "source": [
    "Xnew.index = range(0,len(Xnew),1)"
   ]
  },
  {
   "cell_type": "code",
   "execution_count": 25,
   "id": "68e188b1",
   "metadata": {
    "execution": {
     "iopub.execute_input": "2022-07-04T15:32:56.180546Z",
     "iopub.status.busy": "2022-07-04T15:32:56.179883Z",
     "iopub.status.idle": "2022-07-04T15:32:56.184508Z",
     "shell.execute_reply": "2022-07-04T15:32:56.183663Z"
    },
    "papermill": {
     "duration": 0.040178,
     "end_time": "2022-07-04T15:32:56.186776",
     "exception": false,
     "start_time": "2022-07-04T15:32:56.146598",
     "status": "completed"
    },
    "tags": []
   },
   "outputs": [],
   "source": [
    "Y.index = range(0,len(Xnew),1)"
   ]
  },
  {
   "cell_type": "code",
   "execution_count": 26,
   "id": "54dd8b9e",
   "metadata": {
    "execution": {
     "iopub.execute_input": "2022-07-04T15:32:56.252043Z",
     "iopub.status.busy": "2022-07-04T15:32:56.251395Z",
     "iopub.status.idle": "2022-07-04T15:32:56.774383Z",
     "shell.execute_reply": "2022-07-04T15:32:56.773237Z"
    },
    "papermill": {
     "duration": 0.55963,
     "end_time": "2022-07-04T15:32:56.777841",
     "exception": false,
     "start_time": "2022-07-04T15:32:56.218211",
     "status": "completed"
    },
    "tags": []
   },
   "outputs": [
    {
     "name": "stdout",
     "output_type": "stream",
     "text": [
      "Survived ~Sex -->  0.0\n",
      "Survived ~Ticket -->  0.0\n",
      "Survived ~Cabin -->  0.0\n",
      "Survived ~Embarked -->  0.0\n"
     ]
    }
   ],
   "source": [
    "for i in cat:\n",
    "    from statsmodels.formula.api import ols\n",
    "    rel = \"Survived ~\" + str(i)\n",
    "    model = ols(rel,A).fit()\n",
    "    from statsmodels.stats.anova import anova_lm\n",
    "    anova_results = anova_lm(model)\n",
    "    print(rel, \"--> \",round(anova_results.iloc[0,4],4))"
   ]
  },
  {
   "cell_type": "code",
   "execution_count": 27,
   "id": "5355bbb2",
   "metadata": {
    "execution": {
     "iopub.execute_input": "2022-07-04T15:32:56.883030Z",
     "iopub.status.busy": "2022-07-04T15:32:56.882572Z",
     "iopub.status.idle": "2022-07-04T15:32:58.546995Z",
     "shell.execute_reply": "2022-07-04T15:32:58.546040Z"
    },
    "papermill": {
     "duration": 1.718193,
     "end_time": "2022-07-04T15:32:58.555184",
     "exception": false,
     "start_time": "2022-07-04T15:32:56.836991",
     "status": "completed"
    },
    "tags": []
   },
   "outputs": [
    {
     "data": {
      "text/html": [
       "<table class=\"simpletable\">\n",
       "<caption>OLS Regression Results</caption>\n",
       "<tr>\n",
       "  <th>Dep. Variable:</th>        <td>Survived</td>     <th>  R-squared:         </th> <td>   0.919</td>\n",
       "</tr>\n",
       "<tr>\n",
       "  <th>Model:</th>                   <td>OLS</td>       <th>  Adj. R-squared:    </th> <td>   0.528</td>\n",
       "</tr>\n",
       "<tr>\n",
       "  <th>Method:</th>             <td>Least Squares</td>  <th>  F-statistic:       </th> <td>   2.352</td>\n",
       "</tr>\n",
       "<tr>\n",
       "  <th>Date:</th>             <td>Mon, 04 Jul 2022</td> <th>  Prob (F-statistic):</th> <td>2.97e-08</td>\n",
       "</tr>\n",
       "<tr>\n",
       "  <th>Time:</th>                 <td>22:08:42</td>     <th>  Log-Likelihood:    </th> <td>  394.17</td>\n",
       "</tr>\n",
       "<tr>\n",
       "  <th>No. Observations:</th>      <td>   696</td>      <th>  AIC:               </th> <td>   365.7</td>\n",
       "</tr>\n",
       "<tr>\n",
       "  <th>Df Residuals:</th>          <td>   119</td>      <th>  BIC:               </th> <td>   2988.</td>\n",
       "</tr>\n",
       "<tr>\n",
       "  <th>Df Model:</th>              <td>   576</td>      <th>                     </th>     <td> </td>   \n",
       "</tr>\n",
       "<tr>\n",
       "  <th>Covariance Type:</th>      <td>nonrobust</td>    <th>                     </th>     <td> </td>   \n",
       "</tr>\n",
       "</table>\n",
       "<table class=\"simpletable\">\n",
       "<tr>\n",
       "              <td></td>                 <th>coef</th>     <th>std err</th>      <th>t</th>      <th>P>|t|</th>  <th>[0.025</th>    <th>0.975]</th>  \n",
       "</tr>\n",
       "<tr>\n",
       "  <th>const</th>                     <td>    0.3310</td> <td>    6.041</td> <td>    0.055</td> <td> 0.956</td> <td>  -11.631</td> <td>   12.293</td>\n",
       "</tr>\n",
       "<tr>\n",
       "  <th>Fare</th>                      <td> -1.15e-10</td> <td>   37.084</td> <td> -3.1e-12</td> <td> 1.000</td> <td>  -73.430</td> <td>   73.430</td>\n",
       "</tr>\n",
       "<tr>\n",
       "  <th>Sex_female</th>                <td>    0.3348</td> <td>    3.021</td> <td>    0.111</td> <td> 0.912</td> <td>   -5.646</td> <td>    6.316</td>\n",
       "</tr>\n",
       "<tr>\n",
       "  <th>Sex_male</th>                  <td>   -0.0038</td> <td>    3.021</td> <td>   -0.001</td> <td> 0.999</td> <td>   -5.985</td> <td>    5.977</td>\n",
       "</tr>\n",
       "<tr>\n",
       "  <th>Ticket_110152</th>             <td>    0.1811</td> <td>   20.272</td> <td>    0.009</td> <td> 0.993</td> <td>  -39.960</td> <td>   40.322</td>\n",
       "</tr>\n",
       "<tr>\n",
       "  <th>Ticket_110413</th>             <td>   -0.0295</td> <td>   12.647</td> <td>   -0.002</td> <td> 0.998</td> <td>  -25.071</td> <td>   25.012</td>\n",
       "</tr>\n",
       "<tr>\n",
       "  <th>Ticket_110465</th>             <td>   -0.2598</td> <td>    3.102</td> <td>   -0.084</td> <td> 0.933</td> <td>   -6.402</td> <td>    5.882</td>\n",
       "</tr>\n",
       "<tr>\n",
       "  <th>Ticket_110564</th>             <td>-1.264e-11</td> <td> 2.21e-09</td> <td>   -0.006</td> <td> 0.995</td> <td>-4.38e-09</td> <td> 4.36e-09</td>\n",
       "</tr>\n",
       "<tr>\n",
       "  <th>Ticket_110813</th>             <td>    0.0950</td> <td>    7.766</td> <td>    0.012</td> <td> 0.990</td> <td>  -15.282</td> <td>   15.472</td>\n",
       "</tr>\n",
       "<tr>\n",
       "  <th>Ticket_111240</th>             <td>   -0.1949</td> <td>    4.586</td> <td>   -0.042</td> <td> 0.966</td> <td>   -9.276</td> <td>    8.887</td>\n",
       "</tr>\n",
       "<tr>\n",
       "  <th>Ticket_111320</th>             <td>   -0.1949</td> <td>    2.722</td> <td>   -0.072</td> <td> 0.943</td> <td>   -5.584</td> <td>    5.194</td>\n",
       "</tr>\n",
       "<tr>\n",
       "  <th>Ticket_111361</th>             <td>    0.0950</td> <td>    1.327</td> <td>    0.072</td> <td> 0.943</td> <td>   -2.532</td> <td>    2.722</td>\n",
       "</tr>\n",
       "<tr>\n",
       "  <th>Ticket_111369</th>             <td>    0.2643</td> <td>    9.131</td> <td>    0.029</td> <td> 0.977</td> <td>  -17.816</td> <td>   18.345</td>\n",
       "</tr>\n",
       "<tr>\n",
       "  <th>Ticket_111426</th>             <td>    0.7433</td> <td>    2.494</td> <td>    0.298</td> <td> 0.766</td> <td>   -4.195</td> <td>    5.681</td>\n",
       "</tr>\n",
       "<tr>\n",
       "  <th>Ticket_111427</th>             <td>    0.8249</td> <td>    8.957</td> <td>    0.092</td> <td> 0.927</td> <td>  -16.911</td> <td>   18.561</td>\n",
       "</tr>\n",
       "<tr>\n",
       "  <th>Ticket_111428</th>             <td>    0.8249</td> <td>    8.957</td> <td>    0.092</td> <td> 0.927</td> <td>  -16.911</td> <td>   18.561</td>\n",
       "</tr>\n",
       "<tr>\n",
       "  <th>Ticket_112050</th>             <td>   -0.1949</td> <td>   17.091</td> <td>   -0.011</td> <td> 0.991</td> <td>  -34.037</td> <td>   33.647</td>\n",
       "</tr>\n",
       "<tr>\n",
       "  <th>Ticket_112052</th>             <td>   -0.1751</td> <td>   10.878</td> <td>   -0.016</td> <td> 0.987</td> <td>  -21.716</td> <td>   21.365</td>\n",
       "</tr>\n",
       "<tr>\n",
       "  <th>Ticket_112053</th>             <td>    0.1358</td> <td>    5.892</td> <td>    0.023</td> <td> 0.982</td> <td>  -11.532</td> <td>   11.803</td>\n",
       "</tr>\n",
       "<tr>\n",
       "  <th>Ticket_112058</th>             <td>   -0.1949</td> <td>   17.091</td> <td>   -0.011</td> <td> 0.991</td> <td>  -34.037</td> <td>   33.647</td>\n",
       "</tr>\n",
       "<tr>\n",
       "  <th>Ticket_112059</th>             <td>   -0.1949</td> <td>   17.091</td> <td>   -0.011</td> <td> 0.991</td> <td>  -34.037</td> <td>   33.647</td>\n",
       "</tr>\n",
       "<tr>\n",
       "  <th>Ticket_112277</th>             <td>    0.2643</td> <td>    8.758</td> <td>    0.030</td> <td> 0.976</td> <td>  -17.077</td> <td>   17.606</td>\n",
       "</tr>\n",
       "<tr>\n",
       "  <th>Ticket_112379</th>             <td>   -0.2567</td> <td>   12.220</td> <td>   -0.021</td> <td> 0.983</td> <td>  -24.455</td> <td>   23.941</td>\n",
       "</tr>\n",
       "<tr>\n",
       "  <th>Ticket_113028</th>             <td>   -0.1299</td> <td>    5.277</td> <td>   -0.025</td> <td> 0.980</td> <td>  -10.578</td> <td>   10.318</td>\n",
       "</tr>\n",
       "<tr>\n",
       "  <th>Ticket_113043</th>             <td>   -0.1299</td> <td>    3.823</td> <td>   -0.034</td> <td> 0.973</td> <td>   -7.699</td> <td>    7.439</td>\n",
       "</tr>\n",
       "<tr>\n",
       "  <th>Ticket_113050</th>             <td>   -0.1949</td> <td>    7.180</td> <td>   -0.027</td> <td> 0.978</td> <td>  -14.412</td> <td>   14.022</td>\n",
       "</tr>\n",
       "<tr>\n",
       "  <th>Ticket_113051</th>             <td>   -0.2357</td> <td>    9.971</td> <td>   -0.024</td> <td> 0.981</td> <td>  -19.979</td> <td>   19.508</td>\n",
       "</tr>\n",
       "<tr>\n",
       "  <th>Ticket_113055</th>             <td>-4.535e-16</td> <td> 1.71e-13</td> <td>   -0.003</td> <td> 0.998</td> <td>-3.39e-13</td> <td> 3.38e-13</td>\n",
       "</tr>\n",
       "<tr>\n",
       "  <th>Ticket_113056</th>             <td>   -0.1949</td> <td>    7.385</td> <td>   -0.026</td> <td> 0.979</td> <td>  -14.818</td> <td>   14.429</td>\n",
       "</tr>\n",
       "<tr>\n",
       "  <th>Ticket_113059</th>             <td>   -0.1751</td> <td>   24.297</td> <td>   -0.007</td> <td> 0.994</td> <td>  -48.286</td> <td>   47.936</td>\n",
       "</tr>\n",
       "<tr>\n",
       "  <th>Ticket_113501</th>             <td>   -0.1949</td> <td>    5.892</td> <td>   -0.033</td> <td> 0.974</td> <td>  -11.862</td> <td>   11.473</td>\n",
       "</tr>\n",
       "<tr>\n",
       "  <th>Ticket_113503</th>             <td>-2.402e-15</td> <td> 3.73e-13</td> <td>   -0.006</td> <td> 0.995</td> <td>-7.41e-13</td> <td> 7.36e-13</td>\n",
       "</tr>\n",
       "<tr>\n",
       "  <th>Ticket_113505</th>             <td>    0.1358</td> <td>    3.447</td> <td>    0.039</td> <td> 0.969</td> <td>   -6.690</td> <td>    6.962</td>\n",
       "</tr>\n",
       "<tr>\n",
       "  <th>Ticket_113509</th>             <td>   -0.2357</td> <td>    2.814</td> <td>   -0.084</td> <td> 0.933</td> <td>   -5.808</td> <td>    5.337</td>\n",
       "</tr>\n",
       "<tr>\n",
       "  <th>Ticket_113510</th>             <td>   -0.1949</td> <td>    4.027</td> <td>   -0.048</td> <td> 0.961</td> <td>   -8.168</td> <td>    7.779</td>\n",
       "</tr>\n",
       "<tr>\n",
       "  <th>Ticket_113514</th>             <td>   -0.1949</td> <td>    7.180</td> <td>   -0.027</td> <td> 0.978</td> <td>  -14.412</td> <td>   14.022</td>\n",
       "</tr>\n",
       "<tr>\n",
       "  <th>Ticket_113572</th>             <td>    0.1358</td> <td>   12.777</td> <td>    0.011</td> <td> 0.992</td> <td>  -25.165</td> <td>   25.436</td>\n",
       "</tr>\n",
       "<tr>\n",
       "  <th>Ticket_113760</th>             <td>    0.7120</td> <td>   78.728</td> <td>    0.009</td> <td> 0.993</td> <td> -155.177</td> <td>  156.601</td>\n",
       "</tr>\n",
       "<tr>\n",
       "  <th>Ticket_113767</th>             <td> 5.439e-16</td> <td> 4.95e-16</td> <td>    1.100</td> <td> 0.274</td> <td>-4.36e-16</td> <td> 1.52e-15</td>\n",
       "</tr>\n",
       "<tr>\n",
       "  <th>Ticket_113773</th>             <td>   -0.1949</td> <td>    2.739</td> <td>   -0.071</td> <td> 0.943</td> <td>   -5.618</td> <td>    5.229</td>\n",
       "</tr>\n",
       "<tr>\n",
       "  <th>Ticket_113776</th>             <td>   -0.0295</td> <td>    7.775</td> <td>   -0.004</td> <td> 0.997</td> <td>  -15.425</td> <td>   15.366</td>\n",
       "</tr>\n",
       "<tr>\n",
       "  <th>Ticket_113781</th>             <td>    0.4863</td> <td>  102.286</td> <td>    0.005</td> <td> 0.996</td> <td> -202.050</td> <td>  203.023</td>\n",
       "</tr>\n",
       "<tr>\n",
       "  <th>Ticket_113783</th>             <td>    0.1358</td> <td>    7.180</td> <td>    0.019</td> <td> 0.985</td> <td>  -14.081</td> <td>   14.353</td>\n",
       "</tr>\n",
       "<tr>\n",
       "  <th>Ticket_113784</th>             <td>   -0.1949</td> <td>    3.840</td> <td>   -0.051</td> <td> 0.960</td> <td>   -7.799</td> <td>    7.409</td>\n",
       "</tr>\n",
       "<tr>\n",
       "  <th>Ticket_113786</th>             <td> 7.166e-16</td> <td> 3.59e-16</td> <td>    1.995</td> <td> 0.048</td> <td> 5.48e-18</td> <td> 1.43e-15</td>\n",
       "</tr>\n",
       "<tr>\n",
       "  <th>Ticket_113787</th>             <td>   -0.1949</td> <td>    5.706</td> <td>   -0.034</td> <td> 0.973</td> <td>  -11.493</td> <td>   11.103</td>\n",
       "</tr>\n",
       "<tr>\n",
       "  <th>Ticket_113788</th>             <td> 3.298e-16</td> <td> 3.97e-16</td> <td>    0.832</td> <td> 0.407</td> <td>-4.56e-16</td> <td> 1.12e-15</td>\n",
       "</tr>\n",
       "<tr>\n",
       "  <th>Ticket_113789</th>             <td>    0.1556</td> <td>   27.955</td> <td>    0.006</td> <td> 0.996</td> <td>  -55.198</td> <td>   55.509</td>\n",
       "</tr>\n",
       "<tr>\n",
       "  <th>Ticket_113792</th>             <td>   -0.1751</td> <td>    8.957</td> <td>   -0.020</td> <td> 0.984</td> <td>  -17.911</td> <td>   17.561</td>\n",
       "</tr>\n",
       "<tr>\n",
       "  <th>Ticket_113794</th>             <td>    0.8249</td> <td>    8.957</td> <td>    0.092</td> <td> 0.927</td> <td>  -16.911</td> <td>   18.561</td>\n",
       "</tr>\n",
       "<tr>\n",
       "  <th>Ticket_113796</th>             <td>   -0.1751</td> <td>   20.788</td> <td>   -0.008</td> <td> 0.993</td> <td>  -41.338</td> <td>   40.988</td>\n",
       "</tr>\n",
       "<tr>\n",
       "  <th>Ticket_113798</th>             <td>   -0.1751</td> <td>   12.278</td> <td>   -0.014</td> <td> 0.989</td> <td>  -24.487</td> <td>   24.137</td>\n",
       "</tr>\n",
       "<tr>\n",
       "  <th>Ticket_113800</th>             <td>-5.645e-17</td> <td> 3.92e-16</td> <td>   -0.144</td> <td> 0.886</td> <td>-8.33e-16</td> <td>  7.2e-16</td>\n",
       "</tr>\n",
       "<tr>\n",
       "  <th>Ticket_113803</th>             <td>   -0.0295</td> <td>    2.737</td> <td>   -0.011</td> <td> 0.991</td> <td>   -5.448</td> <td>    5.389</td>\n",
       "</tr>\n",
       "<tr>\n",
       "  <th>Ticket_113804</th>             <td>    0.8249</td> <td>   11.905</td> <td>    0.069</td> <td> 0.945</td> <td>  -22.748</td> <td>   24.398</td>\n",
       "</tr>\n",
       "<tr>\n",
       "  <th>Ticket_113806</th>             <td>    0.2205</td> <td>    2.737</td> <td>    0.081</td> <td> 0.936</td> <td>   -5.198</td> <td>    5.639</td>\n",
       "</tr>\n",
       "<tr>\n",
       "  <th>Ticket_113807</th>             <td>   -0.1751</td> <td>    8.957</td> <td>   -0.020</td> <td> 0.984</td> <td>  -17.911</td> <td>   17.561</td>\n",
       "</tr>\n",
       "<tr>\n",
       "  <th>Ticket_11668</th>              <td>   -0.3444</td> <td>    4.813</td> <td>   -0.072</td> <td> 0.943</td> <td>   -9.874</td> <td>    9.185</td>\n",
       "</tr>\n",
       "<tr>\n",
       "  <th>Ticket_11751</th>              <td>    0.2205</td> <td>    2.533</td> <td>    0.087</td> <td> 0.931</td> <td>   -4.795</td> <td>    5.236</td>\n",
       "</tr>\n",
       "<tr>\n",
       "  <th>Ticket_11752</th>              <td>    0.1358</td> <td>    7.280</td> <td>    0.019</td> <td> 0.985</td> <td>  -14.278</td> <td>   14.550</td>\n",
       "</tr>\n",
       "<tr>\n",
       "  <th>Ticket_11753</th>              <td> -5.73e-17</td> <td> 3.74e-16</td> <td>   -0.153</td> <td> 0.878</td> <td>-7.97e-16</td> <td> 6.82e-16</td>\n",
       "</tr>\n",
       "<tr>\n",
       "  <th>Ticket_11755</th>              <td>    0.0950</td> <td>    5.548</td> <td>    0.017</td> <td> 0.986</td> <td>  -10.891</td> <td>   11.081</td>\n",
       "</tr>\n",
       "<tr>\n",
       "  <th>Ticket_11765</th>              <td>    0.2643</td> <td>    0.404</td> <td>    0.654</td> <td> 0.515</td> <td>   -0.536</td> <td>    1.065</td>\n",
       "</tr>\n",
       "<tr>\n",
       "  <th>Ticket_11767</th>              <td>    0.1266</td> <td>   14.289</td> <td>    0.009</td> <td> 0.993</td> <td>  -28.168</td> <td>   28.421</td>\n",
       "</tr>\n",
       "<tr>\n",
       "  <th>Ticket_11769</th>              <td>    0.1358</td> <td>    2.135</td> <td>    0.064</td> <td> 0.949</td> <td>   -4.093</td> <td>    4.364</td>\n",
       "</tr>\n",
       "<tr>\n",
       "  <th>Ticket_11771</th>              <td>   -0.2357</td> <td>    9.243</td> <td>   -0.025</td> <td> 0.980</td> <td>  -18.538</td> <td>   18.066</td>\n",
       "</tr>\n",
       "<tr>\n",
       "  <th>Ticket_11774</th>              <td>    0.2643</td> <td>    9.243</td> <td>    0.029</td> <td> 0.977</td> <td>  -18.038</td> <td>   18.566</td>\n",
       "</tr>\n",
       "<tr>\n",
       "  <th>Ticket_11813</th>              <td> 6.758e-16</td> <td> 3.59e-16</td> <td>    1.883</td> <td> 0.062</td> <td> -3.5e-17</td> <td> 1.39e-15</td>\n",
       "</tr>\n",
       "<tr>\n",
       "  <th>Ticket_11967</th>              <td>    0.1796</td> <td>   13.674</td> <td>    0.013</td> <td> 0.990</td> <td>  -26.897</td> <td>   27.256</td>\n",
       "</tr>\n",
       "<tr>\n",
       "  <th>Ticket_12233</th>              <td>   -0.1751</td> <td>    1.213</td> <td>   -0.144</td> <td> 0.885</td> <td>   -2.577</td> <td>    2.227</td>\n",
       "</tr>\n",
       "<tr>\n",
       "  <th>Ticket_12460</th>              <td>   -0.2370</td> <td>    1.468</td> <td>   -0.161</td> <td> 0.872</td> <td>   -3.143</td> <td>    2.669</td>\n",
       "</tr>\n",
       "<tr>\n",
       "  <th>Ticket_12749</th>              <td>    0.1811</td> <td>   23.756</td> <td>    0.008</td> <td> 0.994</td> <td>  -46.859</td> <td>   47.221</td>\n",
       "</tr>\n",
       "<tr>\n",
       "  <th>Ticket_13049</th>              <td>-4.917e-16</td> <td> 4.06e-16</td> <td>   -1.211</td> <td> 0.228</td> <td> -1.3e-15</td> <td> 3.12e-16</td>\n",
       "</tr>\n",
       "<tr>\n",
       "  <th>Ticket_13213</th>              <td>    0.2643</td> <td>    7.078</td> <td>    0.037</td> <td> 0.970</td> <td>  -13.751</td> <td>   14.280</td>\n",
       "</tr>\n",
       "<tr>\n",
       "  <th>Ticket_13214</th>              <td>    0.2643</td> <td>    8.944</td> <td>    0.030</td> <td> 0.976</td> <td>  -17.447</td> <td>   17.975</td>\n",
       "</tr>\n",
       "<tr>\n",
       "  <th>Ticket_13502</th>              <td>    0.2037</td> <td>   18.022</td> <td>    0.011</td> <td> 0.991</td> <td>  -35.483</td> <td>   35.890</td>\n",
       "</tr>\n",
       "<tr>\n",
       "  <th>Ticket_13507</th>              <td>    0.1358</td> <td>    3.783</td> <td>    0.036</td> <td> 0.971</td> <td>   -7.355</td> <td>    7.627</td>\n",
       "</tr>\n",
       "<tr>\n",
       "  <th>Ticket_13509</th>              <td>   -0.1949</td> <td>    7.180</td> <td>   -0.027</td> <td> 0.978</td> <td>  -14.412</td> <td>   14.022</td>\n",
       "</tr>\n",
       "<tr>\n",
       "  <th>Ticket_13567</th>              <td>    0.2643</td> <td>    9.240</td> <td>    0.029</td> <td> 0.977</td> <td>  -18.032</td> <td>   18.561</td>\n",
       "</tr>\n",
       "<tr>\n",
       "  <th>Ticket_13568</th>              <td>    0.0950</td> <td>    1.857</td> <td>    0.051</td> <td> 0.959</td> <td>   -3.582</td> <td>    3.772</td>\n",
       "</tr>\n",
       "<tr>\n",
       "  <th>Ticket_14311</th>              <td>    0.4244</td> <td>    1.468</td> <td>    0.289</td> <td> 0.773</td> <td>   -2.482</td> <td>    3.331</td>\n",
       "</tr>\n",
       "<tr>\n",
       "  <th>Ticket_14312</th>              <td>    0.4244</td> <td>    1.468</td> <td>    0.289</td> <td> 0.773</td> <td>   -2.482</td> <td>    3.331</td>\n",
       "</tr>\n",
       "<tr>\n",
       "  <th>Ticket_14313</th>              <td>    0.4244</td> <td>    1.468</td> <td>    0.289</td> <td> 0.773</td> <td>   -2.482</td> <td>    3.331</td>\n",
       "</tr>\n",
       "<tr>\n",
       "  <th>Ticket_14973</th>              <td>   -0.1751</td> <td>    4.874</td> <td>   -0.036</td> <td> 0.971</td> <td>   -9.826</td> <td>    9.476</td>\n",
       "</tr>\n",
       "<tr>\n",
       "  <th>Ticket_1601</th>               <td>    0.6249</td> <td>   31.311</td> <td>    0.020</td> <td> 0.984</td> <td>  -61.374</td> <td>   62.624</td>\n",
       "</tr>\n",
       "<tr>\n",
       "  <th>Ticket_16966</th>              <td>    0.1266</td> <td>   39.846</td> <td>    0.003</td> <td> 0.997</td> <td>  -78.772</td> <td>   79.026</td>\n",
       "</tr>\n",
       "<tr>\n",
       "  <th>Ticket_16988</th>              <td>    0.3051</td> <td>    5.892</td> <td>    0.052</td> <td> 0.959</td> <td>  -11.362</td> <td>   11.973</td>\n",
       "</tr>\n",
       "<tr>\n",
       "  <th>Ticket_17421</th>              <td>    0.2395</td> <td>   28.090</td> <td>    0.009</td> <td> 0.993</td> <td>  -55.382</td> <td>   55.861</td>\n",
       "</tr>\n",
       "<tr>\n",
       "  <th>Ticket_17453</th>              <td>    0.0950</td> <td>   12.937</td> <td>    0.007</td> <td> 0.994</td> <td>  -25.522</td> <td>   25.712</td>\n",
       "</tr>\n",
       "<tr>\n",
       "  <th>Ticket_17463</th>              <td> 2.337e-16</td> <td> 3.63e-16</td> <td>    0.644</td> <td> 0.521</td> <td>-4.85e-16</td> <td> 9.52e-16</td>\n",
       "</tr>\n",
       "<tr>\n",
       "  <th>Ticket_17464</th>              <td>    0.1358</td> <td>    2.278</td> <td>    0.060</td> <td> 0.953</td> <td>   -4.375</td> <td>    4.647</td>\n",
       "</tr>\n",
       "<tr>\n",
       "  <th>Ticket_17465</th>              <td>    0.0905</td> <td>    4.946</td> <td>    0.018</td> <td> 0.985</td> <td>   -9.703</td> <td>    9.884</td>\n",
       "</tr>\n",
       "<tr>\n",
       "  <th>Ticket_17466</th>              <td>    0.0905</td> <td>    4.946</td> <td>    0.018</td> <td> 0.985</td> <td>   -9.703</td> <td>    9.884</td>\n",
       "</tr>\n",
       "<tr>\n",
       "  <th>Ticket_17474</th>              <td>    0.2205</td> <td>    4.192</td> <td>    0.053</td> <td> 0.958</td> <td>   -8.080</td> <td>    8.520</td>\n",
       "</tr>\n",
       "<tr>\n",
       "  <th>Ticket_17764</th>              <td>   -0.2357</td> <td>    8.871</td> <td>   -0.027</td> <td> 0.979</td> <td>  -17.802</td> <td>   17.330</td>\n",
       "</tr>\n",
       "<tr>\n",
       "  <th>Ticket_19877</th>              <td>    0.4863</td> <td>   48.003</td> <td>    0.010</td> <td> 0.992</td> <td>  -94.565</td> <td>   95.537</td>\n",
       "</tr>\n",
       "<tr>\n",
       "  <th>Ticket_19928</th>              <td>   -0.0605</td> <td>   18.339</td> <td>   -0.003</td> <td> 0.997</td> <td>  -36.373</td> <td>   36.252</td>\n",
       "</tr>\n",
       "<tr>\n",
       "  <th>Ticket_19943</th>              <td>    0.2205</td> <td>   16.511</td> <td>    0.013</td> <td> 0.989</td> <td>  -32.472</td> <td>   32.913</td>\n",
       "</tr>\n",
       "<tr>\n",
       "  <th>Ticket_19947</th>              <td>    0.3051</td> <td>    3.840</td> <td>    0.079</td> <td> 0.937</td> <td>   -7.299</td> <td>    7.909</td>\n",
       "</tr>\n",
       "<tr>\n",
       "  <th>Ticket_19950</th>              <td> 2.495e-16</td> <td> 3.73e-16</td> <td>    0.669</td> <td> 0.505</td> <td>-4.89e-16</td> <td> 9.88e-16</td>\n",
       "</tr>\n",
       "<tr>\n",
       "  <th>Ticket_19952</th>              <td>    0.3051</td> <td>    7.180</td> <td>    0.042</td> <td> 0.966</td> <td>  -13.912</td> <td>   14.522</td>\n",
       "</tr>\n",
       "<tr>\n",
       "  <th>Ticket_19972</th>              <td>   -0.1751</td> <td>   10.878</td> <td>   -0.016</td> <td> 0.987</td> <td>  -21.716</td> <td>   21.365</td>\n",
       "</tr>\n",
       "<tr>\n",
       "  <th>Ticket_19988</th>              <td>    0.3051</td> <td>    5.706</td> <td>    0.053</td> <td> 0.957</td> <td>  -10.993</td> <td>   11.603</td>\n",
       "</tr>\n",
       "<tr>\n",
       "  <th>Ticket_19996</th>              <td>    0.3051</td> <td>    2.329</td> <td>    0.131</td> <td> 0.896</td> <td>   -4.307</td> <td>    4.917</td>\n",
       "</tr>\n",
       "<tr>\n",
       "  <th>Ticket_2003</th>               <td>    0.4863</td> <td>    8.547</td> <td>    0.057</td> <td> 0.955</td> <td>  -16.437</td> <td>   17.410</td>\n",
       "</tr>\n",
       "<tr>\n",
       "  <th>Ticket_211536</th>             <td>   -0.1751</td> <td>    1.213</td> <td>   -0.144</td> <td> 0.885</td> <td>   -2.577</td> <td>    2.227</td>\n",
       "</tr>\n",
       "<tr>\n",
       "  <th>Ticket_21440</th>              <td>   -0.1751</td> <td>    4.874</td> <td>   -0.036</td> <td> 0.971</td> <td>   -9.826</td> <td>    9.476</td>\n",
       "</tr>\n",
       "<tr>\n",
       "  <th>Ticket_218629</th>             <td>   -0.1751</td> <td>    0.860</td> <td>   -0.204</td> <td> 0.839</td> <td>   -1.878</td> <td>    1.528</td>\n",
       "</tr>\n",
       "<tr>\n",
       "  <th>Ticket_219533</th>             <td>-4.087e-16</td> <td> 4.05e-16</td> <td>   -1.010</td> <td> 0.314</td> <td>-1.21e-15</td> <td> 3.92e-16</td>\n",
       "</tr>\n",
       "<tr>\n",
       "  <th>Ticket_220367</th>             <td> 7.794e-17</td> <td> 4.06e-16</td> <td>    0.192</td> <td> 0.848</td> <td>-7.26e-16</td> <td> 8.82e-16</td>\n",
       "</tr>\n",
       "<tr>\n",
       "  <th>Ticket_220845</th>             <td>    0.4863</td> <td>   37.662</td> <td>    0.013</td> <td> 0.990</td> <td>  -74.088</td> <td>   75.061</td>\n",
       "</tr>\n",
       "<tr>\n",
       "  <th>Ticket_2223</th>               <td>   -0.1751</td> <td>    4.688</td> <td>   -0.037</td> <td> 0.970</td> <td>   -9.457</td> <td>    9.107</td>\n",
       "</tr>\n",
       "<tr>\n",
       "  <th>Ticket_223596</th>             <td>  1.44e-16</td> <td> 4.04e-16</td> <td>    0.357</td> <td> 0.722</td> <td>-6.55e-16</td> <td> 9.43e-16</td>\n",
       "</tr>\n",
       "<tr>\n",
       "  <th>Ticket_226593</th>             <td>    0.0215</td> <td>    3.285</td> <td>    0.007</td> <td> 0.995</td> <td>   -6.483</td> <td>    6.526</td>\n",
       "</tr>\n",
       "<tr>\n",
       "  <th>Ticket_226875</th>             <td>    0.4863</td> <td>    8.547</td> <td>    0.057</td> <td> 0.955</td> <td>  -16.437</td> <td>   17.410</td>\n",
       "</tr>\n",
       "<tr>\n",
       "  <th>Ticket_228414</th>             <td>    0.4863</td> <td>    8.547</td> <td>    0.057</td> <td> 0.955</td> <td>  -16.437</td> <td>   17.410</td>\n",
       "</tr>\n",
       "<tr>\n",
       "  <th>Ticket_229236</th>             <td>   -0.1751</td> <td>    1.213</td> <td>   -0.144</td> <td> 0.885</td> <td>   -2.577</td> <td>    2.227</td>\n",
       "</tr>\n",
       "<tr>\n",
       "  <th>Ticket_230080</th>             <td>    0.1385</td> <td>    7.384</td> <td>    0.019</td> <td> 0.985</td> <td>  -14.483</td> <td>   14.760</td>\n",
       "</tr>\n",
       "<tr>\n",
       "  <th>Ticket_230136</th>             <td>    0.1358</td> <td>    2.535</td> <td>    0.054</td> <td> 0.957</td> <td>   -4.885</td> <td>    5.156</td>\n",
       "</tr>\n",
       "<tr>\n",
       "  <th>Ticket_230433</th>             <td>    0.4863</td> <td>    8.547</td> <td>    0.057</td> <td> 0.955</td> <td>  -16.437</td> <td>   17.410</td>\n",
       "</tr>\n",
       "<tr>\n",
       "  <th>Ticket_230434</th>             <td>    0.4863</td> <td>    1.214</td> <td>    0.401</td> <td> 0.689</td> <td>   -1.917</td> <td>    2.889</td>\n",
       "</tr>\n",
       "<tr>\n",
       "  <th>Ticket_231919</th>             <td>    0.4863</td> <td>    6.305</td> <td>    0.077</td> <td> 0.939</td> <td>  -11.998</td> <td>   12.970</td>\n",
       "</tr>\n",
       "<tr>\n",
       "  <th>Ticket_231945</th>             <td>   -0.1751</td> <td>    2.311</td> <td>   -0.076</td> <td> 0.940</td> <td>   -4.750</td> <td>    4.400</td>\n",
       "</tr>\n",
       "<tr>\n",
       "  <th>Ticket_233639</th>             <td> 7.636e-18</td> <td> 4.15e-16</td> <td>    0.018</td> <td> 0.985</td> <td>-8.14e-16</td> <td> 8.29e-16</td>\n",
       "</tr>\n",
       "<tr>\n",
       "  <th>Ticket_233866</th>             <td>   -0.1751</td> <td>    1.213</td> <td>   -0.144</td> <td> 0.885</td> <td>   -2.577</td> <td>    2.227</td>\n",
       "</tr>\n",
       "<tr>\n",
       "  <th>Ticket_234360</th>             <td>   -0.1751</td> <td>    1.213</td> <td>   -0.144</td> <td> 0.885</td> <td>   -2.577</td> <td>    2.227</td>\n",
       "</tr>\n",
       "<tr>\n",
       "  <th>Ticket_234604</th>             <td>-4.212e-16</td> <td> 3.68e-16</td> <td>   -1.145</td> <td> 0.255</td> <td>-1.15e-15</td> <td> 3.07e-16</td>\n",
       "</tr>\n",
       "<tr>\n",
       "  <th>Ticket_234686</th>             <td>   -0.1751</td> <td>    1.213</td> <td>   -0.144</td> <td> 0.885</td> <td>   -2.577</td> <td>    2.227</td>\n",
       "</tr>\n",
       "<tr>\n",
       "  <th>Ticket_234818</th>             <td>    0.4244</td> <td>    2.031</td> <td>    0.209</td> <td> 0.835</td> <td>   -3.598</td> <td>    4.447</td>\n",
       "</tr>\n",
       "<tr>\n",
       "  <th>Ticket_236171</th>             <td>   -0.1751</td> <td>    1.213</td> <td>   -0.144</td> <td> 0.885</td> <td>   -2.577</td> <td>    2.227</td>\n",
       "</tr>\n",
       "<tr>\n",
       "  <th>Ticket_236852</th>             <td>    0.4863</td> <td>    1.214</td> <td>    0.401</td> <td> 0.689</td> <td>   -1.917</td> <td>    2.889</td>\n",
       "</tr>\n",
       "<tr>\n",
       "  <th>Ticket_236853</th>             <td> 6.097e-16</td> <td> 3.78e-16</td> <td>    1.613</td> <td> 0.109</td> <td>-1.39e-16</td> <td> 1.36e-15</td>\n",
       "</tr>\n",
       "<tr>\n",
       "  <th>Ticket_237442</th>             <td>   -0.1751</td> <td>    0.860</td> <td>   -0.204</td> <td> 0.839</td> <td>   -1.878</td> <td>    1.528</td>\n",
       "</tr>\n",
       "<tr>\n",
       "  <th>Ticket_237565</th>             <td>   -0.1751</td> <td>    0.466</td> <td>   -0.376</td> <td> 0.708</td> <td>   -1.097</td> <td>    0.747</td>\n",
       "</tr>\n",
       "<tr>\n",
       "  <th>Ticket_237668</th>             <td>    0.4863</td> <td>    1.214</td> <td>    0.401</td> <td> 0.689</td> <td>   -1.917</td> <td>    2.889</td>\n",
       "</tr>\n",
       "<tr>\n",
       "  <th>Ticket_237671</th>             <td>   -0.5137</td> <td>    1.214</td> <td>   -0.423</td> <td> 0.673</td> <td>   -2.917</td> <td>    1.889</td>\n",
       "</tr>\n",
       "<tr>\n",
       "  <th>Ticket_237736</th>             <td>-5.468e-16</td> <td> 4.25e-16</td> <td>   -1.287</td> <td> 0.201</td> <td>-1.39e-15</td> <td> 2.94e-16</td>\n",
       "</tr>\n",
       "<tr>\n",
       "  <th>Ticket_237789</th>             <td>    0.4863</td> <td>   11.532</td> <td>    0.042</td> <td> 0.966</td> <td>  -22.348</td> <td>   23.320</td>\n",
       "</tr>\n",
       "<tr>\n",
       "  <th>Ticket_237798</th>             <td>    0.8249</td> <td>    1.213</td> <td>    0.680</td> <td> 0.498</td> <td>   -1.577</td> <td>    3.227</td>\n",
       "</tr>\n",
       "<tr>\n",
       "  <th>Ticket_239853</th>             <td>   -0.1751</td> <td>   10.878</td> <td>   -0.016</td> <td> 0.987</td> <td>  -21.716</td> <td>   21.365</td>\n",
       "</tr>\n",
       "<tr>\n",
       "  <th>Ticket_239854</th>             <td>   -0.1751</td> <td>   10.878</td> <td>   -0.016</td> <td> 0.987</td> <td>  -21.716</td> <td>   21.365</td>\n",
       "</tr>\n",
       "<tr>\n",
       "  <th>Ticket_239855</th>             <td>   -0.1751</td> <td>   10.878</td> <td>   -0.016</td> <td> 0.987</td> <td>  -21.716</td> <td>   21.365</td>\n",
       "</tr>\n",
       "<tr>\n",
       "  <th>Ticket_239856</th>             <td>-8.069e-16</td> <td> 4.18e-16</td> <td>   -1.929</td> <td> 0.056</td> <td>-1.64e-15</td> <td> 2.13e-17</td>\n",
       "</tr>\n",
       "<tr>\n",
       "  <th>Ticket_239865</th>             <td>   -0.1751</td> <td>    8.543</td> <td>   -0.020</td> <td> 0.984</td> <td>  -17.092</td> <td>   16.742</td>\n",
       "</tr>\n",
       "<tr>\n",
       "  <th>Ticket_240929</th>             <td>    0.4863</td> <td>    1.467</td> <td>    0.332</td> <td> 0.741</td> <td>   -2.418</td> <td>    3.390</td>\n",
       "</tr>\n",
       "<tr>\n",
       "  <th>Ticket_24160</th>              <td> 2.556e-17</td> <td>  4.3e-16</td> <td>    0.059</td> <td> 0.953</td> <td>-8.26e-16</td> <td> 8.77e-16</td>\n",
       "</tr>\n",
       "<tr>\n",
       "  <th>Ticket_243847</th>             <td>    0.1556</td> <td>    9.290</td> <td>    0.017</td> <td> 0.987</td> <td>  -18.239</td> <td>   18.550</td>\n",
       "</tr>\n",
       "<tr>\n",
       "  <th>Ticket_243880</th>             <td>    0.4863</td> <td>    1.214</td> <td>    0.401</td> <td> 0.689</td> <td>   -1.917</td> <td>    2.889</td>\n",
       "</tr>\n",
       "<tr>\n",
       "  <th>Ticket_244252</th>             <td>   -0.1751</td> <td>    8.547</td> <td>   -0.020</td> <td> 0.984</td> <td>  -17.098</td> <td>   16.748</td>\n",
       "</tr>\n",
       "<tr>\n",
       "  <th>Ticket_244270</th>             <td>    0.8249</td> <td>    1.213</td> <td>    0.680</td> <td> 0.498</td> <td>   -1.577</td> <td>    3.227</td>\n",
       "</tr>\n",
       "<tr>\n",
       "  <th>Ticket_244278</th>             <td>   -0.1751</td> <td>    3.051</td> <td>   -0.057</td> <td> 0.954</td> <td>   -6.217</td> <td>    5.867</td>\n",
       "</tr>\n",
       "<tr>\n",
       "  <th>Ticket_244310</th>             <td>-2.016e-16</td> <td> 3.53e-16</td> <td>   -0.571</td> <td> 0.569</td> <td>   -9e-16</td> <td> 4.97e-16</td>\n",
       "</tr>\n",
       "<tr>\n",
       "  <th>Ticket_244358</th>             <td>   -0.1751</td> <td>    8.547</td> <td>   -0.020</td> <td> 0.984</td> <td>  -17.098</td> <td>   16.748</td>\n",
       "</tr>\n",
       "<tr>\n",
       "  <th>Ticket_244361</th>             <td>   -0.1751</td> <td>    1.213</td> <td>   -0.144</td> <td> 0.885</td> <td>   -2.577</td> <td>    2.227</td>\n",
       "</tr>\n",
       "<tr>\n",
       "  <th>Ticket_244367</th>             <td>    0.4863</td> <td>    8.547</td> <td>    0.057</td> <td> 0.955</td> <td>  -16.437</td> <td>   17.410</td>\n",
       "</tr>\n",
       "<tr>\n",
       "  <th>Ticket_244373</th>             <td>    0.8249</td> <td>    1.213</td> <td>    0.680</td> <td> 0.498</td> <td>   -1.577</td> <td>    3.227</td>\n",
       "</tr>\n",
       "<tr>\n",
       "  <th>Ticket_248698</th>             <td>    0.3051</td> <td>   12.238</td> <td>    0.025</td> <td> 0.980</td> <td>  -23.927</td> <td>   24.537</td>\n",
       "</tr>\n",
       "<tr>\n",
       "  <th>Ticket_248706</th>             <td>    0.4863</td> <td>    1.124</td> <td>    0.432</td> <td> 0.666</td> <td>   -1.740</td> <td>    2.713</td>\n",
       "</tr>\n",
       "<tr>\n",
       "  <th>Ticket_248723</th>             <td>   -0.1751</td> <td>    1.213</td> <td>   -0.144</td> <td> 0.885</td> <td>   -2.577</td> <td>    2.227</td>\n",
       "</tr>\n",
       "<tr>\n",
       "  <th>Ticket_248727</th>             <td>    0.2658</td> <td>   13.768</td> <td>    0.019</td> <td> 0.985</td> <td>  -26.997</td> <td>   27.528</td>\n",
       "</tr>\n",
       "<tr>\n",
       "  <th>Ticket_248731</th>             <td>   -0.1751</td> <td>    0.860</td> <td>   -0.204</td> <td> 0.839</td> <td>   -1.878</td> <td>    1.528</td>\n",
       "</tr>\n",
       "<tr>\n",
       "  <th>Ticket_248733</th>             <td>    0.0905</td> <td>    7.540</td> <td>    0.012</td> <td> 0.990</td> <td>  -14.839</td> <td>   15.020</td>\n",
       "</tr>\n",
       "<tr>\n",
       "  <th>Ticket_248738</th>             <td>-5.903e-16</td> <td>    4e-16</td> <td>   -1.477</td> <td> 0.142</td> <td>-1.38e-15</td> <td> 2.01e-16</td>\n",
       "</tr>\n",
       "<tr>\n",
       "  <th>Ticket_248740</th>             <td>-2.163e-16</td> <td> 5.18e-16</td> <td>   -0.417</td> <td> 0.677</td> <td>-1.24e-15</td> <td>  8.1e-16</td>\n",
       "</tr>\n",
       "<tr>\n",
       "  <th>Ticket_248747</th>             <td> 4.213e-16</td> <td> 4.74e-16</td> <td>    0.890</td> <td> 0.375</td> <td>-5.16e-16</td> <td> 1.36e-15</td>\n",
       "</tr>\n",
       "<tr>\n",
       "  <th>Ticket_250643</th>             <td>-4.591e-16</td> <td> 5.82e-16</td> <td>   -0.788</td> <td> 0.432</td> <td>-1.61e-15</td> <td> 6.94e-16</td>\n",
       "</tr>\n",
       "<tr>\n",
       "  <th>Ticket_250644</th>             <td>    0.4863</td> <td>    3.695</td> <td>    0.132</td> <td> 0.896</td> <td>   -6.829</td> <td>    7.802</td>\n",
       "</tr>\n",
       "<tr>\n",
       "  <th>Ticket_250646</th>             <td>   -0.1751</td> <td>    1.213</td> <td>   -0.144</td> <td> 0.885</td> <td>   -2.577</td> <td>    2.227</td>\n",
       "</tr>\n",
       "<tr>\n",
       "  <th>Ticket_250647</th>             <td>   -0.1751</td> <td>    1.190</td> <td>   -0.147</td> <td> 0.883</td> <td>   -2.532</td> <td>    2.181</td>\n",
       "</tr>\n",
       "<tr>\n",
       "  <th>Ticket_250648</th>             <td>-1.022e-16</td> <td> 3.74e-16</td> <td>   -0.273</td> <td> 0.785</td> <td>-8.44e-16</td> <td> 6.39e-16</td>\n",
       "</tr>\n",
       "<tr>\n",
       "  <th>Ticket_250649</th>             <td>    0.6556</td> <td>    0.240</td> <td>    2.734</td> <td> 0.007</td> <td>    0.181</td> <td>    1.130</td>\n",
       "</tr>\n",
       "<tr>\n",
       "  <th>Ticket_250651</th>             <td>   -0.5137</td> <td>    8.547</td> <td>   -0.060</td> <td> 0.952</td> <td>  -17.437</td> <td>   16.410</td>\n",
       "</tr>\n",
       "<tr>\n",
       "  <th>Ticket_250652</th>             <td>    0.4863</td> <td>    1.214</td> <td>    0.401</td> <td> 0.689</td> <td>   -1.917</td> <td>    2.889</td>\n",
       "</tr>\n",
       "<tr>\n",
       "  <th>Ticket_250653</th>             <td>   -0.1751</td> <td>    1.213</td> <td>   -0.144</td> <td> 0.885</td> <td>   -2.577</td> <td>    2.227</td>\n",
       "</tr>\n",
       "<tr>\n",
       "  <th>Ticket_250655</th>             <td>   -0.1751</td> <td>    8.547</td> <td>   -0.020</td> <td> 0.984</td> <td>  -17.098</td> <td>   16.748</td>\n",
       "</tr>\n",
       "<tr>\n",
       "  <th>Ticket_2620</th>               <td> 1.331e-16</td> <td>  5.2e-16</td> <td>    0.256</td> <td> 0.799</td> <td>-8.97e-16</td> <td> 1.16e-15</td>\n",
       "</tr>\n",
       "<tr>\n",
       "  <th>Ticket_2623</th>               <td>   -0.2567</td> <td>   11.962</td> <td>   -0.021</td> <td> 0.983</td> <td>  -23.943</td> <td>   23.430</td>\n",
       "</tr>\n",
       "<tr>\n",
       "  <th>Ticket_2624</th>               <td>   -0.2567</td> <td>   11.962</td> <td>   -0.021</td> <td> 0.983</td> <td>  -23.943</td> <td>   23.430</td>\n",
       "</tr>\n",
       "<tr>\n",
       "  <th>Ticket_2625</th>               <td>    0.7433</td> <td>   10.998</td> <td>    0.068</td> <td> 0.946</td> <td>  -21.034</td> <td>   22.521</td>\n",
       "</tr>\n",
       "<tr>\n",
       "  <th>Ticket_2626</th>               <td>    0.4046</td> <td>   11.959</td> <td>    0.034</td> <td> 0.973</td> <td>  -23.276</td> <td>   24.085</td>\n",
       "</tr>\n",
       "<tr>\n",
       "  <th>Ticket_2627</th>               <td>   -0.4261</td> <td>    6.561</td> <td>   -0.065</td> <td> 0.948</td> <td>  -13.417</td> <td>   12.565</td>\n",
       "</tr>\n",
       "<tr>\n",
       "  <th>Ticket_2628</th>               <td>   -0.2567</td> <td>   11.962</td> <td>   -0.021</td> <td> 0.983</td> <td>  -23.943</td> <td>   23.430</td>\n",
       "</tr>\n",
       "<tr>\n",
       "  <th>Ticket_2629</th>               <td> 1.351e-16</td> <td> 4.27e-16</td> <td>    0.317</td> <td> 0.752</td> <td> -7.1e-16</td> <td>  9.8e-16</td>\n",
       "</tr>\n",
       "<tr>\n",
       "  <th>Ticket_2631</th>               <td> 5.786e-17</td> <td> 3.84e-16</td> <td>    0.150</td> <td> 0.881</td> <td>-7.03e-16</td> <td> 8.19e-16</td>\n",
       "</tr>\n",
       "<tr>\n",
       "  <th>Ticket_26360</th>              <td>    0.4863</td> <td>    8.547</td> <td>    0.057</td> <td> 0.955</td> <td>  -16.437</td> <td>   17.410</td>\n",
       "</tr>\n",
       "<tr>\n",
       "  <th>Ticket_2641</th>               <td>   -0.2567</td> <td>   11.959</td> <td>   -0.021</td> <td> 0.983</td> <td>  -23.937</td> <td>   23.423</td>\n",
       "</tr>\n",
       "<tr>\n",
       "  <th>Ticket_2647</th>               <td> 4.347e-16</td> <td> 3.38e-16</td> <td>    1.287</td> <td> 0.201</td> <td>-2.34e-16</td> <td>  1.1e-15</td>\n",
       "</tr>\n",
       "<tr>\n",
       "  <th>Ticket_2648</th>               <td>   -0.2567</td> <td>   14.360</td> <td>   -0.018</td> <td> 0.986</td> <td>  -28.691</td> <td>   28.178</td>\n",
       "</tr>\n",
       "<tr>\n",
       "  <th>Ticket_2649</th>               <td>-1.125e-16</td> <td> 4.28e-16</td> <td>   -0.263</td> <td> 0.793</td> <td>-9.61e-16</td> <td> 7.35e-16</td>\n",
       "</tr>\n",
       "<tr>\n",
       "  <th>Ticket_2650</th>               <td>    0.4046</td> <td>    5.978</td> <td>    0.068</td> <td> 0.946</td> <td>  -11.432</td> <td>   12.241</td>\n",
       "</tr>\n",
       "<tr>\n",
       "  <th>Ticket_2651</th>               <td>    0.5739</td> <td>    8.962</td> <td>    0.064</td> <td> 0.949</td> <td>  -17.171</td> <td>   18.319</td>\n",
       "</tr>\n",
       "<tr>\n",
       "  <th>Ticket_2653</th>               <td>    0.5739</td> <td>    5.603</td> <td>    0.102</td> <td> 0.919</td> <td>  -10.521</td> <td>   11.669</td>\n",
       "</tr>\n",
       "<tr>\n",
       "  <th>Ticket_2659</th>               <td>    0.0739</td> <td>    6.564</td> <td>    0.011</td> <td> 0.991</td> <td>  -12.923</td> <td>   13.071</td>\n",
       "</tr>\n",
       "<tr>\n",
       "  <th>Ticket_2661</th>               <td>    0.7433</td> <td>    5.973</td> <td>    0.124</td> <td> 0.901</td> <td>  -11.084</td> <td>   12.571</td>\n",
       "</tr>\n",
       "<tr>\n",
       "  <th>Ticket_2662</th>               <td>   -0.2567</td> <td>    1.211</td> <td>   -0.212</td> <td> 0.832</td> <td>   -2.654</td> <td>    2.141</td>\n",
       "</tr>\n",
       "<tr>\n",
       "  <th>Ticket_2663</th>               <td>    0.7433</td> <td>   11.959</td> <td>    0.062</td> <td> 0.951</td> <td>  -22.937</td> <td>   24.423</td>\n",
       "</tr>\n",
       "<tr>\n",
       "  <th>Ticket_2664</th>               <td>   -0.2567</td> <td>   11.962</td> <td>   -0.021</td> <td> 0.983</td> <td>  -23.943</td> <td>   23.430</td>\n",
       "</tr>\n",
       "<tr>\n",
       "  <th>Ticket_2665</th>               <td>   -0.5954</td> <td>    6.564</td> <td>   -0.091</td> <td> 0.928</td> <td>  -13.593</td> <td>   12.402</td>\n",
       "</tr>\n",
       "<tr>\n",
       "  <th>Ticket_2666</th>               <td>    0.4046</td> <td>    2.979</td> <td>    0.136</td> <td> 0.892</td> <td>   -5.494</td> <td>    6.304</td>\n",
       "</tr>\n",
       "<tr>\n",
       "  <th>Ticket_2667</th>               <td>    0.4046</td> <td>   11.962</td> <td>    0.034</td> <td> 0.973</td> <td>  -23.282</td> <td>   24.091</td>\n",
       "</tr>\n",
       "<tr>\n",
       "  <th>Ticket_2668</th>               <td>    0.4046</td> <td>    0.736</td> <td>    0.549</td> <td> 0.584</td> <td>   -1.053</td> <td>    1.863</td>\n",
       "</tr>\n",
       "<tr>\n",
       "  <th>Ticket_2669</th>               <td>   -0.2567</td> <td>   11.959</td> <td>   -0.021</td> <td> 0.983</td> <td>  -23.937</td> <td>   23.423</td>\n",
       "</tr>\n",
       "<tr>\n",
       "  <th>Ticket_26707</th>              <td>   -0.1751</td> <td>    8.547</td> <td>   -0.020</td> <td> 0.984</td> <td>  -17.098</td> <td>   16.748</td>\n",
       "</tr>\n",
       "<tr>\n",
       "  <th>Ticket_2671</th>               <td>   -0.2567</td> <td>   11.959</td> <td>   -0.021</td> <td> 0.983</td> <td>  -23.937</td> <td>   23.423</td>\n",
       "</tr>\n",
       "<tr>\n",
       "  <th>Ticket_2672</th>               <td>   -0.2567</td> <td>   11.962</td> <td>   -0.021</td> <td> 0.983</td> <td>  -23.943</td> <td>   23.430</td>\n",
       "</tr>\n",
       "<tr>\n",
       "  <th>Ticket_2674</th>               <td>   -0.2567</td> <td>   11.962</td> <td>   -0.021</td> <td> 0.983</td> <td>  -23.943</td> <td>   23.430</td>\n",
       "</tr>\n",
       "<tr>\n",
       "  <th>Ticket_2677</th>               <td>    0.7433</td> <td>   11.959</td> <td>    0.062</td> <td> 0.951</td> <td>  -22.937</td> <td>   24.423</td>\n",
       "</tr>\n",
       "<tr>\n",
       "  <th>Ticket_2678</th>               <td>   -0.5954</td> <td>    5.973</td> <td>   -0.100</td> <td> 0.921</td> <td>  -12.423</td> <td>   11.233</td>\n",
       "</tr>\n",
       "<tr>\n",
       "  <th>Ticket_2680</th>               <td> 2.791e-16</td> <td>  3.9e-16</td> <td>    0.715</td> <td> 0.476</td> <td>-4.94e-16</td> <td> 1.05e-15</td>\n",
       "</tr>\n",
       "<tr>\n",
       "  <th>Ticket_2683</th>               <td>   -0.2567</td> <td>   12.550</td> <td>   -0.020</td> <td> 0.984</td> <td>  -25.107</td> <td>   24.593</td>\n",
       "</tr>\n",
       "<tr>\n",
       "  <th>Ticket_2685</th>               <td>   -0.2567</td> <td>   11.959</td> <td>   -0.021</td> <td> 0.983</td> <td>  -23.937</td> <td>   23.423</td>\n",
       "</tr>\n",
       "<tr>\n",
       "  <th>Ticket_2686</th>               <td>   -0.2567</td> <td>   11.959</td> <td>   -0.021</td> <td> 0.983</td> <td>  -23.937</td> <td>   23.423</td>\n",
       "</tr>\n",
       "<tr>\n",
       "  <th>Ticket_2687</th>               <td>-5.321e-16</td> <td> 3.67e-16</td> <td>   -1.450</td> <td> 0.150</td> <td>-1.26e-15</td> <td> 1.95e-16</td>\n",
       "</tr>\n",
       "<tr>\n",
       "  <th>Ticket_2689</th>               <td>   -0.5954</td> <td>    6.565</td> <td>   -0.091</td> <td> 0.928</td> <td>  -13.595</td> <td>   12.404</td>\n",
       "</tr>\n",
       "<tr>\n",
       "  <th>Ticket_2690</th>               <td>   -0.2567</td> <td>   11.959</td> <td>   -0.021</td> <td> 0.983</td> <td>  -23.937</td> <td>   23.423</td>\n",
       "</tr>\n",
       "<tr>\n",
       "  <th>Ticket_2691</th>               <td>   -0.5954</td> <td>    6.564</td> <td>   -0.091</td> <td> 0.928</td> <td>  -13.593</td> <td>   12.402</td>\n",
       "</tr>\n",
       "<tr>\n",
       "  <th>Ticket_2693</th>               <td> 4.138e-16</td> <td> 3.38e-16</td> <td>    1.226</td> <td> 0.223</td> <td>-2.55e-16</td> <td> 1.08e-15</td>\n",
       "</tr>\n",
       "<tr>\n",
       "  <th>Ticket_2694</th>               <td>   -0.2567</td> <td>   11.962</td> <td>   -0.021</td> <td> 0.983</td> <td>  -23.943</td> <td>   23.430</td>\n",
       "</tr>\n",
       "<tr>\n",
       "  <th>Ticket_2695</th>               <td>   -0.2567</td> <td>   11.959</td> <td>   -0.021</td> <td> 0.983</td> <td>  -23.937</td> <td>   23.423</td>\n",
       "</tr>\n",
       "<tr>\n",
       "  <th>Ticket_2697</th>               <td>   -0.2567</td> <td>   11.959</td> <td>   -0.021</td> <td> 0.983</td> <td>  -23.937</td> <td>   23.423</td>\n",
       "</tr>\n",
       "<tr>\n",
       "  <th>Ticket_2699</th>               <td>    0.2433</td> <td>    3.332</td> <td>    0.073</td> <td> 0.942</td> <td>   -6.355</td> <td>    6.842</td>\n",
       "</tr>\n",
       "<tr>\n",
       "  <th>Ticket_2700</th>               <td>   -0.2567</td> <td>   11.959</td> <td>   -0.021</td> <td> 0.983</td> <td>  -23.937</td> <td>   23.423</td>\n",
       "</tr>\n",
       "<tr>\n",
       "  <th>Ticket_27042</th>              <td>    0.3051</td> <td>    5.892</td> <td>    0.052</td> <td> 0.959</td> <td>  -11.362</td> <td>   11.973</td>\n",
       "</tr>\n",
       "<tr>\n",
       "  <th>Ticket_27267</th>              <td>    0.0834</td> <td>    6.450</td> <td>    0.013</td> <td> 0.990</td> <td>  -12.689</td> <td>   12.856</td>\n",
       "</tr>\n",
       "<tr>\n",
       "  <th>Ticket_27849</th>              <td>    0.4863</td> <td>    1.214</td> <td>    0.401</td> <td> 0.689</td> <td>   -1.917</td> <td>    2.889</td>\n",
       "</tr>\n",
       "<tr>\n",
       "  <th>Ticket_28134</th>              <td> 2.577e-16</td> <td> 3.43e-16</td> <td>    0.752</td> <td> 0.453</td> <td>-4.21e-16</td> <td> 9.36e-16</td>\n",
       "</tr>\n",
       "<tr>\n",
       "  <th>Ticket_28206</th>              <td>   -0.1751</td> <td>    3.051</td> <td>   -0.057</td> <td> 0.954</td> <td>   -6.217</td> <td>    5.867</td>\n",
       "</tr>\n",
       "<tr>\n",
       "  <th>Ticket_28213</th>              <td> 1.567e-16</td> <td> 3.75e-16</td> <td>    0.418</td> <td> 0.676</td> <td>-5.85e-16</td> <td> 8.98e-16</td>\n",
       "</tr>\n",
       "<tr>\n",
       "  <th>Ticket_28220</th>              <td>    0.4863</td> <td>   13.398</td> <td>    0.036</td> <td> 0.971</td> <td>  -26.043</td> <td>   27.015</td>\n",
       "</tr>\n",
       "<tr>\n",
       "  <th>Ticket_28228</th>              <td>   -0.1751</td> <td>    1.213</td> <td>   -0.144</td> <td> 0.885</td> <td>   -2.577</td> <td>    2.227</td>\n",
       "</tr>\n",
       "<tr>\n",
       "  <th>Ticket_28403</th>              <td>   -0.1751</td> <td>    8.543</td> <td>   -0.020</td> <td> 0.984</td> <td>  -17.092</td> <td>   16.742</td>\n",
       "</tr>\n",
       "<tr>\n",
       "  <th>Ticket_28424</th>              <td>   -0.1751</td> <td>    1.213</td> <td>   -0.144</td> <td> 0.885</td> <td>   -2.577</td> <td>    2.227</td>\n",
       "</tr>\n",
       "<tr>\n",
       "  <th>Ticket_28425</th>              <td>   -0.1751</td> <td>    1.213</td> <td>   -0.144</td> <td> 0.885</td> <td>   -2.577</td> <td>    2.227</td>\n",
       "</tr>\n",
       "<tr>\n",
       "  <th>Ticket_28551</th>              <td>    0.3382</td> <td>    5.972</td> <td>    0.057</td> <td> 0.955</td> <td>  -11.488</td> <td>   12.164</td>\n",
       "</tr>\n",
       "<tr>\n",
       "  <th>Ticket_28664</th>              <td> 1.233e-16</td> <td> 3.13e-16</td> <td>    0.394</td> <td> 0.695</td> <td>-4.97e-16</td> <td> 7.43e-16</td>\n",
       "</tr>\n",
       "<tr>\n",
       "  <th>Ticket_28665</th>              <td>   -0.1751</td> <td>    3.051</td> <td>   -0.057</td> <td> 0.954</td> <td>   -6.217</td> <td>    5.867</td>\n",
       "</tr>\n",
       "<tr>\n",
       "  <th>Ticket_29011</th>              <td> 1.122e-17</td> <td> 3.78e-16</td> <td>    0.030</td> <td> 0.976</td> <td>-7.38e-16</td> <td>  7.6e-16</td>\n",
       "</tr>\n",
       "<tr>\n",
       "  <th>Ticket_2908</th>               <td>    0.6556</td> <td>    8.543</td> <td>    0.077</td> <td> 0.939</td> <td>  -16.261</td> <td>   17.572</td>\n",
       "</tr>\n",
       "<tr>\n",
       "  <th>Ticket_29103</th>              <td>    0.4863</td> <td>    6.309</td> <td>    0.077</td> <td> 0.939</td> <td>  -12.006</td> <td>   12.979</td>\n",
       "</tr>\n",
       "<tr>\n",
       "  <th>Ticket_29104</th>              <td>   -0.1751</td> <td>    2.311</td> <td>   -0.076</td> <td> 0.940</td> <td>   -4.750</td> <td>    4.400</td>\n",
       "</tr>\n",
       "<tr>\n",
       "  <th>Ticket_29105</th>              <td>-1.419e-16</td> <td>  3.9e-16</td> <td>   -0.363</td> <td> 0.717</td> <td>-9.15e-16</td> <td> 6.31e-16</td>\n",
       "</tr>\n",
       "<tr>\n",
       "  <th>Ticket_29106</th>              <td>    0.7120</td> <td>    3.133</td> <td>    0.227</td> <td> 0.821</td> <td>   -5.491</td> <td>    6.915</td>\n",
       "</tr>\n",
       "<tr>\n",
       "  <th>Ticket_29108</th>              <td>   -0.1751</td> <td>    2.311</td> <td>   -0.076</td> <td> 0.940</td> <td>   -4.750</td> <td>    4.400</td>\n",
       "</tr>\n",
       "<tr>\n",
       "  <th>Ticket_2926</th>               <td>    0.4863</td> <td>    8.547</td> <td>    0.057</td> <td> 0.955</td> <td>  -16.437</td> <td>   17.410</td>\n",
       "</tr>\n",
       "<tr>\n",
       "  <th>Ticket_29750</th>              <td>    0.1556</td> <td>   18.249</td> <td>    0.009</td> <td> 0.993</td> <td>  -35.978</td> <td>   36.289</td>\n",
       "</tr>\n",
       "<tr>\n",
       "  <th>Ticket_29751</th>              <td>   -0.1751</td> <td>    1.213</td> <td>   -0.144</td> <td> 0.885</td> <td>   -2.577</td> <td>    2.227</td>\n",
       "</tr>\n",
       "<tr>\n",
       "  <th>Ticket_3101264</th>            <td> 2.644e-16</td> <td> 3.48e-16</td> <td>    0.759</td> <td> 0.449</td> <td>-4.25e-16</td> <td> 9.54e-16</td>\n",
       "</tr>\n",
       "<tr>\n",
       "  <th>Ticket_3101265</th>            <td>    0.4863</td> <td>    5.287</td> <td>    0.092</td> <td> 0.927</td> <td>   -9.983</td> <td>   10.955</td>\n",
       "</tr>\n",
       "<tr>\n",
       "  <th>Ticket_3101267</th>            <td>   -0.1751</td> <td>    6.032</td> <td>   -0.029</td> <td> 0.977</td> <td>  -12.120</td> <td>   11.769</td>\n",
       "</tr>\n",
       "<tr>\n",
       "  <th>Ticket_3101276</th>            <td>   -0.1751</td> <td>    4.967</td> <td>   -0.035</td> <td> 0.972</td> <td>  -10.010</td> <td>    9.660</td>\n",
       "</tr>\n",
       "<tr>\n",
       "  <th>Ticket_3101277</th>            <td> 2.612e-16</td> <td>  4.1e-16</td> <td>    0.637</td> <td> 0.525</td> <td>-5.51e-16</td> <td> 1.07e-15</td>\n",
       "</tr>\n",
       "<tr>\n",
       "  <th>Ticket_3101278</th>            <td>    0.1556</td> <td>    0.990</td> <td>    0.157</td> <td> 0.875</td> <td>   -1.804</td> <td>    2.115</td>\n",
       "</tr>\n",
       "<tr>\n",
       "  <th>Ticket_3101281</th>            <td>    0.4863</td> <td>    4.967</td> <td>    0.098</td> <td> 0.922</td> <td>   -9.349</td> <td>   10.322</td>\n",
       "</tr>\n",
       "<tr>\n",
       "  <th>Ticket_3101295</th>            <td>   -0.2315</td> <td>   18.761</td> <td>   -0.012</td> <td> 0.990</td> <td>  -37.380</td> <td>   36.917</td>\n",
       "</tr>\n",
       "<tr>\n",
       "  <th>Ticket_3101296</th>            <td>   -0.1751</td> <td>    4.967</td> <td>   -0.035</td> <td> 0.972</td> <td>  -10.010</td> <td>    9.660</td>\n",
       "</tr>\n",
       "<tr>\n",
       "  <th>Ticket_3101298</th>            <td>    0.4863</td> <td>    1.731</td> <td>    0.281</td> <td> 0.779</td> <td>   -2.942</td> <td>    3.914</td>\n",
       "</tr>\n",
       "<tr>\n",
       "  <th>Ticket_31027</th>              <td>-3.537e-16</td> <td> 4.24e-16</td> <td>   -0.835</td> <td> 0.405</td> <td>-1.19e-15</td> <td> 4.85e-16</td>\n",
       "</tr>\n",
       "<tr>\n",
       "  <th>Ticket_31028</th>              <td>   -0.1751</td> <td>    3.051</td> <td>   -0.057</td> <td> 0.954</td> <td>   -6.217</td> <td>    5.867</td>\n",
       "</tr>\n",
       "<tr>\n",
       "  <th>Ticket_312991</th>             <td>    0.8249</td> <td>    5.079</td> <td>    0.162</td> <td> 0.871</td> <td>   -9.232</td> <td>   10.882</td>\n",
       "</tr>\n",
       "<tr>\n",
       "  <th>Ticket_312992</th>             <td>   -0.1751</td> <td>    5.079</td> <td>   -0.034</td> <td> 0.973</td> <td>  -10.232</td> <td>    9.882</td>\n",
       "</tr>\n",
       "<tr>\n",
       "  <th>Ticket_312993</th>             <td>   -0.1751</td> <td>    5.079</td> <td>   -0.034</td> <td> 0.973</td> <td>  -10.232</td> <td>    9.882</td>\n",
       "</tr>\n",
       "<tr>\n",
       "  <th>Ticket_31418</th>              <td>    0.4863</td> <td>    1.214</td> <td>    0.401</td> <td> 0.689</td> <td>   -1.917</td> <td>    2.889</td>\n",
       "</tr>\n",
       "<tr>\n",
       "  <th>Ticket_315037</th>             <td>   -0.1751</td> <td>    4.418</td> <td>   -0.040</td> <td> 0.968</td> <td>   -8.923</td> <td>    8.573</td>\n",
       "</tr>\n",
       "<tr>\n",
       "  <th>Ticket_315082</th>             <td>   -0.1751</td> <td>    5.004</td> <td>   -0.035</td> <td> 0.972</td> <td>  -10.084</td> <td>    9.734</td>\n",
       "</tr>\n",
       "<tr>\n",
       "  <th>Ticket_315084</th>             <td>   -0.5137</td> <td>    4.418</td> <td>   -0.116</td> <td> 0.908</td> <td>   -9.262</td> <td>    8.234</td>\n",
       "</tr>\n",
       "<tr>\n",
       "  <th>Ticket_315086</th>             <td>   -0.1751</td> <td>    4.418</td> <td>   -0.040</td> <td> 0.968</td> <td>   -8.923</td> <td>    8.573</td>\n",
       "</tr>\n",
       "<tr>\n",
       "  <th>Ticket_315088</th>             <td>   -0.1751</td> <td>    4.418</td> <td>   -0.040</td> <td> 0.968</td> <td>   -8.923</td> <td>    8.573</td>\n",
       "</tr>\n",
       "<tr>\n",
       "  <th>Ticket_315089</th>             <td>   -0.1751</td> <td>    4.418</td> <td>   -0.040</td> <td> 0.968</td> <td>   -8.923</td> <td>    8.573</td>\n",
       "</tr>\n",
       "<tr>\n",
       "  <th>Ticket_315090</th>             <td>   -0.1751</td> <td>    4.418</td> <td>   -0.040</td> <td> 0.968</td> <td>   -8.923</td> <td>    8.573</td>\n",
       "</tr>\n",
       "<tr>\n",
       "  <th>Ticket_315093</th>             <td>   -0.1751</td> <td>    4.418</td> <td>   -0.040</td> <td> 0.968</td> <td>   -8.923</td> <td>    8.573</td>\n",
       "</tr>\n",
       "<tr>\n",
       "  <th>Ticket_315094</th>             <td>   -0.1751</td> <td>    4.418</td> <td>   -0.040</td> <td> 0.968</td> <td>   -8.923</td> <td>    8.573</td>\n",
       "</tr>\n",
       "<tr>\n",
       "  <th>Ticket_315096</th>             <td>   -0.5137</td> <td>    4.418</td> <td>   -0.116</td> <td> 0.908</td> <td>   -9.262</td> <td>    8.234</td>\n",
       "</tr>\n",
       "<tr>\n",
       "  <th>Ticket_315097</th>             <td>   -0.1751</td> <td>    4.418</td> <td>   -0.040</td> <td> 0.968</td> <td>   -8.923</td> <td>    8.573</td>\n",
       "</tr>\n",
       "<tr>\n",
       "  <th>Ticket_315098</th>             <td>    0.8249</td> <td>    4.418</td> <td>    0.187</td> <td> 0.852</td> <td>   -7.923</td> <td>    9.573</td>\n",
       "</tr>\n",
       "<tr>\n",
       "  <th>Ticket_315151</th>             <td>   -0.1751</td> <td>    4.418</td> <td>   -0.040</td> <td> 0.968</td> <td>   -8.923</td> <td>    8.573</td>\n",
       "</tr>\n",
       "<tr>\n",
       "  <th>Ticket_315153</th>             <td>    0.4863</td> <td>    5.582</td> <td>    0.087</td> <td> 0.931</td> <td>  -10.567</td> <td>   11.540</td>\n",
       "</tr>\n",
       "<tr>\n",
       "  <th>Ticket_323592</th>             <td>   -0.1751</td> <td>    5.470</td> <td>   -0.032</td> <td> 0.975</td> <td>  -11.006</td> <td>   10.656</td>\n",
       "</tr>\n",
       "<tr>\n",
       "  <th>Ticket_323951</th>             <td>   -0.1751</td> <td>    4.874</td> <td>   -0.036</td> <td> 0.971</td> <td>   -9.826</td> <td>    9.476</td>\n",
       "</tr>\n",
       "<tr>\n",
       "  <th>Ticket_324669</th>             <td> 1.328e-16</td> <td> 3.83e-16</td> <td>    0.347</td> <td> 0.729</td> <td>-6.25e-16</td> <td> 8.91e-16</td>\n",
       "</tr>\n",
       "<tr>\n",
       "  <th>Ticket_330877</th>             <td>   -0.2370</td> <td>    0.960</td> <td>   -0.247</td> <td> 0.805</td> <td>   -2.138</td> <td>    1.664</td>\n",
       "</tr>\n",
       "<tr>\n",
       "  <th>Ticket_330909</th>             <td>   -0.5756</td> <td>    1.556</td> <td>   -0.370</td> <td> 0.712</td> <td>   -3.656</td> <td>    2.505</td>\n",
       "</tr>\n",
       "<tr>\n",
       "  <th>Ticket_330919</th>             <td>    0.4244</td> <td>    1.410</td> <td>    0.301</td> <td> 0.764</td> <td>   -2.368</td> <td>    3.217</td>\n",
       "</tr>\n",
       "<tr>\n",
       "  <th>Ticket_330923</th>             <td>-5.703e-16</td> <td> 3.24e-16</td> <td>   -1.758</td> <td> 0.081</td> <td>-1.21e-15</td> <td>  7.2e-17</td>\n",
       "</tr>\n",
       "<tr>\n",
       "  <th>Ticket_330931</th>             <td>    0.4244</td> <td>    1.374</td> <td>    0.309</td> <td> 0.758</td> <td>   -2.296</td> <td>    3.145</td>\n",
       "</tr>\n",
       "<tr>\n",
       "  <th>Ticket_330932</th>             <td>    0.4244</td> <td>    1.440</td> <td>    0.295</td> <td> 0.769</td> <td>   -2.428</td> <td>    3.277</td>\n",
       "</tr>\n",
       "<tr>\n",
       "  <th>Ticket_330935</th>             <td>   -0.5756</td> <td>    1.188</td> <td>   -0.485</td> <td> 0.629</td> <td>   -2.927</td> <td>    1.776</td>\n",
       "</tr>\n",
       "<tr>\n",
       "  <th>Ticket_330958</th>             <td>    0.4244</td> <td>    1.374</td> <td>    0.309</td> <td> 0.758</td> <td>   -2.296</td> <td>    3.145</td>\n",
       "</tr>\n",
       "<tr>\n",
       "  <th>Ticket_330959</th>             <td>    0.4244</td> <td>    1.374</td> <td>    0.309</td> <td> 0.758</td> <td>   -2.296</td> <td>    3.145</td>\n",
       "</tr>\n",
       "<tr>\n",
       "  <th>Ticket_330979</th>             <td>   -0.2370</td> <td>    1.410</td> <td>   -0.168</td> <td> 0.867</td> <td>   -3.029</td> <td>    2.555</td>\n",
       "</tr>\n",
       "<tr>\n",
       "  <th>Ticket_330980</th>             <td>    0.4244</td> <td>    1.374</td> <td>    0.309</td> <td> 0.758</td> <td>   -2.296</td> <td>    3.145</td>\n",
       "</tr>\n",
       "<tr>\n",
       "  <th>Ticket_334912</th>             <td> 4.206e-16</td> <td> 4.57e-16</td> <td>    0.920</td> <td> 0.359</td> <td>-4.84e-16</td> <td> 1.33e-15</td>\n",
       "</tr>\n",
       "<tr>\n",
       "  <th>Ticket_335097</th>             <td>   -0.2370</td> <td>    1.468</td> <td>   -0.161</td> <td> 0.872</td> <td>   -3.143</td> <td>    2.669</td>\n",
       "</tr>\n",
       "<tr>\n",
       "  <th>Ticket_335677</th>             <td>    0.4244</td> <td>    1.468</td> <td>    0.289</td> <td> 0.773</td> <td>   -2.482</td> <td>    3.331</td>\n",
       "</tr>\n",
       "<tr>\n",
       "  <th>Ticket_33638</th>              <td>-3.259e-16</td> <td> 4.31e-16</td> <td>   -0.757</td> <td> 0.451</td> <td>-1.18e-15</td> <td> 5.27e-16</td>\n",
       "</tr>\n",
       "<tr>\n",
       "  <th>Ticket_336439</th>             <td> 2.685e-16</td> <td> 3.69e-16</td> <td>    0.727</td> <td> 0.469</td> <td>-4.63e-16</td> <td>    1e-15</td>\n",
       "</tr>\n",
       "<tr>\n",
       "  <th>Ticket_3411</th>               <td>   -0.2567</td> <td>   10.852</td> <td>   -0.024</td> <td> 0.981</td> <td>  -21.745</td> <td>   21.231</td>\n",
       "</tr>\n",
       "<tr>\n",
       "  <th>Ticket_341826</th>             <td>   -0.1751</td> <td>    4.874</td> <td>   -0.036</td> <td> 0.971</td> <td>   -9.826</td> <td>    9.476</td>\n",
       "</tr>\n",
       "<tr>\n",
       "  <th>Ticket_34218</th>              <td>    0.0834</td> <td>    8.316</td> <td>    0.010</td> <td> 0.992</td> <td>  -16.383</td> <td>   16.549</td>\n",
       "</tr>\n",
       "<tr>\n",
       "  <th>Ticket_342826</th>             <td>   -0.1751</td> <td>    4.874</td> <td>   -0.036</td> <td> 0.971</td> <td>   -9.826</td> <td>    9.476</td>\n",
       "</tr>\n",
       "<tr>\n",
       "  <th>Ticket_343095</th>             <td>   -0.5137</td> <td>    4.874</td> <td>   -0.105</td> <td> 0.916</td> <td>  -10.165</td> <td>    9.138</td>\n",
       "</tr>\n",
       "<tr>\n",
       "  <th>Ticket_343120</th>             <td> 4.596e-17</td> <td> 4.24e-16</td> <td>    0.109</td> <td> 0.914</td> <td>-7.93e-16</td> <td> 8.85e-16</td>\n",
       "</tr>\n",
       "<tr>\n",
       "  <th>Ticket_343275</th>             <td>   -0.1751</td> <td>    4.874</td> <td>   -0.036</td> <td> 0.971</td> <td>   -9.826</td> <td>    9.476</td>\n",
       "</tr>\n",
       "<tr>\n",
       "  <th>Ticket_343276</th>             <td>   -0.1751</td> <td>    4.874</td> <td>   -0.036</td> <td> 0.971</td> <td>   -9.826</td> <td>    9.476</td>\n",
       "</tr>\n",
       "<tr>\n",
       "  <th>Ticket_345364</th>             <td>   -0.1751</td> <td>    6.225</td> <td>   -0.028</td> <td> 0.978</td> <td>  -12.501</td> <td>   12.151</td>\n",
       "</tr>\n",
       "<tr>\n",
       "  <th>Ticket_345572</th>             <td>    0.4863</td> <td>    2.145</td> <td>    0.227</td> <td> 0.821</td> <td>   -3.761</td> <td>    4.734</td>\n",
       "</tr>\n",
       "<tr>\n",
       "  <th>Ticket_345763</th>             <td>   -0.5137</td> <td>    2.588</td> <td>   -0.198</td> <td> 0.843</td> <td>   -5.639</td> <td>    4.612</td>\n",
       "</tr>\n",
       "<tr>\n",
       "  <th>Ticket_345764</th>             <td>   -0.3444</td> <td>    2.578</td> <td>   -0.134</td> <td> 0.894</td> <td>   -5.448</td> <td>    4.759</td>\n",
       "</tr>\n",
       "<tr>\n",
       "  <th>Ticket_345765</th>             <td>   -0.1751</td> <td>    4.167</td> <td>   -0.042</td> <td> 0.967</td> <td>   -8.425</td> <td>    8.075</td>\n",
       "</tr>\n",
       "<tr>\n",
       "  <th>Ticket_345767</th>             <td> 2.634e-16</td> <td> 3.75e-16</td> <td>    0.702</td> <td> 0.484</td> <td> -4.8e-16</td> <td> 1.01e-15</td>\n",
       "</tr>\n",
       "<tr>\n",
       "  <th>Ticket_345769</th>             <td>   -0.1751</td> <td>    3.795</td> <td>   -0.046</td> <td> 0.963</td> <td>   -7.689</td> <td>    7.338</td>\n",
       "</tr>\n",
       "<tr>\n",
       "  <th>Ticket_345770</th>             <td>   -0.1751</td> <td>    3.795</td> <td>   -0.046</td> <td> 0.963</td> <td>   -7.689</td> <td>    7.338</td>\n",
       "</tr>\n",
       "<tr>\n",
       "  <th>Ticket_345773</th>             <td>   -0.3444</td> <td>    7.163</td> <td>   -0.048</td> <td> 0.962</td> <td>  -14.527</td> <td>   13.838</td>\n",
       "</tr>\n",
       "<tr>\n",
       "  <th>Ticket_345774</th>             <td>    0.8249</td> <td>    3.795</td> <td>    0.217</td> <td> 0.828</td> <td>   -6.689</td> <td>    8.338</td>\n",
       "</tr>\n",
       "<tr>\n",
       "  <th>Ticket_345777</th>             <td>   -0.1751</td> <td>    3.795</td> <td>   -0.046</td> <td> 0.963</td> <td>   -7.689</td> <td>    7.338</td>\n",
       "</tr>\n",
       "<tr>\n",
       "  <th>Ticket_345778</th>             <td>   -0.1751</td> <td>    3.795</td> <td>   -0.046</td> <td> 0.963</td> <td>   -7.689</td> <td>    7.338</td>\n",
       "</tr>\n",
       "<tr>\n",
       "  <th>Ticket_345779</th>             <td>    0.8249</td> <td>    3.795</td> <td>    0.217</td> <td> 0.828</td> <td>   -6.689</td> <td>    8.338</td>\n",
       "</tr>\n",
       "<tr>\n",
       "  <th>Ticket_345780</th>             <td>   -0.1751</td> <td>    3.795</td> <td>   -0.046</td> <td> 0.963</td> <td>   -7.689</td> <td>    7.338</td>\n",
       "</tr>\n",
       "<tr>\n",
       "  <th>Ticket_345781</th>             <td>   -0.1751</td> <td>    3.795</td> <td>   -0.046</td> <td> 0.963</td> <td>   -7.689</td> <td>    7.338</td>\n",
       "</tr>\n",
       "<tr>\n",
       "  <th>Ticket_345783</th>             <td>   -0.1751</td> <td>    3.795</td> <td>   -0.046</td> <td> 0.963</td> <td>   -7.689</td> <td>    7.338</td>\n",
       "</tr>\n",
       "<tr>\n",
       "  <th>Ticket_3460</th>               <td> 2.907e-17</td> <td> 3.33e-16</td> <td>    0.087</td> <td> 0.931</td> <td> -6.3e-16</td> <td> 6.88e-16</td>\n",
       "</tr>\n",
       "<tr>\n",
       "  <th>Ticket_347054</th>             <td>   -0.5761</td> <td>   10.343</td> <td>   -0.056</td> <td> 0.956</td> <td>  -21.057</td> <td>   19.905</td>\n",
       "</tr>\n",
       "<tr>\n",
       "  <th>Ticket_347060</th>             <td>   -0.1751</td> <td>    5.079</td> <td>   -0.034</td> <td> 0.973</td> <td>  -10.232</td> <td>    9.882</td>\n",
       "</tr>\n",
       "<tr>\n",
       "  <th>Ticket_347061</th>             <td> 1.636e-18</td> <td>  3.5e-16</td> <td>    0.005</td> <td> 0.996</td> <td>-6.91e-16</td> <td> 6.95e-16</td>\n",
       "</tr>\n",
       "<tr>\n",
       "  <th>Ticket_347062</th>             <td>   -0.1751</td> <td>    5.079</td> <td>   -0.034</td> <td> 0.973</td> <td>  -10.232</td> <td>    9.882</td>\n",
       "</tr>\n",
       "<tr>\n",
       "  <th>Ticket_347063</th>             <td>   -0.1751</td> <td>    5.079</td> <td>   -0.034</td> <td> 0.973</td> <td>  -10.232</td> <td>    9.882</td>\n",
       "</tr>\n",
       "<tr>\n",
       "  <th>Ticket_347064</th>             <td>   -0.1751</td> <td>    5.097</td> <td>   -0.034</td> <td> 0.973</td> <td>  -10.269</td> <td>    9.918</td>\n",
       "</tr>\n",
       "<tr>\n",
       "  <th>Ticket_347067</th>             <td>   -0.1751</td> <td>    5.079</td> <td>   -0.034</td> <td> 0.973</td> <td>  -10.232</td> <td>    9.882</td>\n",
       "</tr>\n",
       "<tr>\n",
       "  <th>Ticket_347068</th>             <td>   -0.1751</td> <td>    5.079</td> <td>   -0.034</td> <td> 0.973</td> <td>  -10.232</td> <td>    9.882</td>\n",
       "</tr>\n",
       "<tr>\n",
       "  <th>Ticket_347069</th>             <td>   -0.1751</td> <td>    5.079</td> <td>   -0.034</td> <td> 0.973</td> <td>  -10.232</td> <td>    9.882</td>\n",
       "</tr>\n",
       "<tr>\n",
       "  <th>Ticket_347071</th>             <td>   -0.5137</td> <td>    5.079</td> <td>   -0.101</td> <td> 0.920</td> <td>  -10.571</td> <td>    9.543</td>\n",
       "</tr>\n",
       "<tr>\n",
       "  <th>Ticket_347073</th>             <td>-2.447e-16</td> <td> 3.56e-16</td> <td>   -0.687</td> <td> 0.494</td> <td> -9.5e-16</td> <td> 4.61e-16</td>\n",
       "</tr>\n",
       "<tr>\n",
       "  <th>Ticket_347074</th>             <td>   -0.1751</td> <td>    5.079</td> <td>   -0.034</td> <td> 0.973</td> <td>  -10.232</td> <td>    9.882</td>\n",
       "</tr>\n",
       "<tr>\n",
       "  <th>Ticket_347076</th>             <td> 7.969e-16</td> <td> 3.22e-16</td> <td>    2.475</td> <td> 0.015</td> <td> 1.59e-16</td> <td> 1.43e-15</td>\n",
       "</tr>\n",
       "<tr>\n",
       "  <th>Ticket_347077</th>             <td>    0.3787</td> <td>   12.564</td> <td>    0.030</td> <td> 0.976</td> <td>  -24.500</td> <td>   25.257</td>\n",
       "</tr>\n",
       "<tr>\n",
       "  <th>Ticket_347078</th>             <td>   -0.1751</td> <td>    5.097</td> <td>   -0.034</td> <td> 0.973</td> <td>  -10.269</td> <td>    9.918</td>\n",
       "</tr>\n",
       "<tr>\n",
       "  <th>Ticket_347080</th>             <td>   -0.5137</td> <td>    0.356</td> <td>   -1.444</td> <td> 0.151</td> <td>   -1.218</td> <td>    0.191</td>\n",
       "</tr>\n",
       "<tr>\n",
       "  <th>Ticket_347081</th>             <td>    0.4863</td> <td>    5.098</td> <td>    0.095</td> <td> 0.924</td> <td>   -9.608</td> <td>   10.580</td>\n",
       "</tr>\n",
       "<tr>\n",
       "  <th>Ticket_347082</th>             <td>   -0.4009</td> <td>   12.480</td> <td>   -0.032</td> <td> 0.974</td> <td>  -25.112</td> <td>   24.310</td>\n",
       "</tr>\n",
       "<tr>\n",
       "  <th>Ticket_347083</th>             <td>    0.8249</td> <td>    5.079</td> <td>    0.162</td> <td> 0.871</td> <td>   -9.232</td> <td>   10.882</td>\n",
       "</tr>\n",
       "<tr>\n",
       "  <th>Ticket_347085</th>             <td>    0.4863</td> <td>    5.079</td> <td>    0.096</td> <td> 0.924</td> <td>   -9.571</td> <td>   10.543</td>\n",
       "</tr>\n",
       "<tr>\n",
       "  <th>Ticket_347087</th>             <td>   -0.5137</td> <td>    5.079</td> <td>   -0.101</td> <td> 0.920</td> <td>  -10.571</td> <td>    9.543</td>\n",
       "</tr>\n",
       "<tr>\n",
       "  <th>Ticket_347088</th>             <td>   -0.3444</td> <td>    9.960</td> <td>   -0.035</td> <td> 0.972</td> <td>  -20.066</td> <td>   19.377</td>\n",
       "</tr>\n",
       "<tr>\n",
       "  <th>Ticket_347089</th>             <td>-6.354e-16</td> <td> 3.29e-16</td> <td>   -1.934</td> <td> 0.055</td> <td>-1.29e-15</td> <td> 1.51e-17</td>\n",
       "</tr>\n",
       "<tr>\n",
       "  <th>Ticket_3474</th>               <td>   -0.1751</td> <td>    4.995</td> <td>   -0.035</td> <td> 0.972</td> <td>  -10.066</td> <td>    9.716</td>\n",
       "</tr>\n",
       "<tr>\n",
       "  <th>Ticket_347464</th>             <td> 2.034e-16</td> <td> 3.96e-16</td> <td>    0.513</td> <td> 0.609</td> <td>-5.81e-16</td> <td> 9.88e-16</td>\n",
       "</tr>\n",
       "<tr>\n",
       "  <th>Ticket_347466</th>             <td>   -0.1751</td> <td>    5.020</td> <td>   -0.035</td> <td> 0.972</td> <td>  -10.115</td> <td>    9.765</td>\n",
       "</tr>\n",
       "<tr>\n",
       "  <th>Ticket_347468</th>             <td>   -0.1751</td> <td>    5.020</td> <td>   -0.035</td> <td> 0.972</td> <td>  -10.115</td> <td>    9.765</td>\n",
       "</tr>\n",
       "<tr>\n",
       "  <th>Ticket_347470</th>             <td>    0.4863</td> <td>    5.020</td> <td>    0.097</td> <td> 0.923</td> <td>   -9.454</td> <td>   10.426</td>\n",
       "</tr>\n",
       "<tr>\n",
       "  <th>Ticket_347742</th>             <td>    0.6556</td> <td>    2.571</td> <td>    0.255</td> <td> 0.799</td> <td>   -4.436</td> <td>    5.747</td>\n",
       "</tr>\n",
       "<tr>\n",
       "  <th>Ticket_347743</th>             <td>   -0.1751</td> <td>    5.616</td> <td>   -0.031</td> <td> 0.975</td> <td>  -11.295</td> <td>   10.945</td>\n",
       "</tr>\n",
       "<tr>\n",
       "  <th>Ticket_348121</th>             <td>   -0.1949</td> <td>   14.235</td> <td>   -0.014</td> <td> 0.989</td> <td>  -28.382</td> <td>   27.992</td>\n",
       "</tr>\n",
       "<tr>\n",
       "  <th>Ticket_348123</th>             <td>   -0.1299</td> <td>    9.493</td> <td>   -0.014</td> <td> 0.989</td> <td>  -18.926</td> <td>   18.667</td>\n",
       "</tr>\n",
       "<tr>\n",
       "  <th>Ticket_348124</th>             <td>   -0.1299</td> <td>    9.493</td> <td>   -0.014</td> <td> 0.989</td> <td>  -18.926</td> <td>   18.667</td>\n",
       "</tr>\n",
       "<tr>\n",
       "  <th>Ticket_349201</th>             <td>   -0.1751</td> <td>    4.989</td> <td>   -0.035</td> <td> 0.972</td> <td>  -10.053</td> <td>    9.703</td>\n",
       "</tr>\n",
       "<tr>\n",
       "  <th>Ticket_349203</th>             <td>   -0.1751</td> <td>    4.989</td> <td>   -0.035</td> <td> 0.972</td> <td>  -10.053</td> <td>    9.703</td>\n",
       "</tr>\n",
       "<tr>\n",
       "  <th>Ticket_349204</th>             <td>   -0.1751</td> <td>    4.989</td> <td>   -0.035</td> <td> 0.972</td> <td>  -10.053</td> <td>    9.703</td>\n",
       "</tr>\n",
       "<tr>\n",
       "  <th>Ticket_349205</th>             <td>   -0.1751</td> <td>    4.989</td> <td>   -0.035</td> <td> 0.972</td> <td>  -10.053</td> <td>    9.703</td>\n",
       "</tr>\n",
       "<tr>\n",
       "  <th>Ticket_349206</th>             <td>   -0.1751</td> <td>    4.989</td> <td>   -0.035</td> <td> 0.972</td> <td>  -10.053</td> <td>    9.703</td>\n",
       "</tr>\n",
       "<tr>\n",
       "  <th>Ticket_349207</th>             <td> 4.296e-16</td> <td> 3.78e-16</td> <td>    1.137</td> <td> 0.258</td> <td>-3.18e-16</td> <td> 1.18e-15</td>\n",
       "</tr>\n",
       "<tr>\n",
       "  <th>Ticket_349208</th>             <td>   -0.1751</td> <td>    4.989</td> <td>   -0.035</td> <td> 0.972</td> <td>  -10.053</td> <td>    9.703</td>\n",
       "</tr>\n",
       "<tr>\n",
       "  <th>Ticket_349209</th>             <td>   -0.1751</td> <td>    5.287</td> <td>   -0.033</td> <td> 0.974</td> <td>  -10.644</td> <td>   10.293</td>\n",
       "</tr>\n",
       "<tr>\n",
       "  <th>Ticket_349210</th>             <td>   -0.1751</td> <td>    5.287</td> <td>   -0.033</td> <td> 0.974</td> <td>  -10.644</td> <td>   10.293</td>\n",
       "</tr>\n",
       "<tr>\n",
       "  <th>Ticket_349212</th>             <td> 3.937e-16</td> <td> 3.63e-16</td> <td>    1.086</td> <td> 0.280</td> <td>-3.24e-16</td> <td> 1.11e-15</td>\n",
       "</tr>\n",
       "<tr>\n",
       "  <th>Ticket_349213</th>             <td>   -0.2567</td> <td>   11.461</td> <td>   -0.022</td> <td> 0.982</td> <td>  -22.952</td> <td>   22.438</td>\n",
       "</tr>\n",
       "<tr>\n",
       "  <th>Ticket_349214</th>             <td>   -0.1751</td> <td>    4.989</td> <td>   -0.035</td> <td> 0.972</td> <td>  -10.053</td> <td>    9.703</td>\n",
       "</tr>\n",
       "<tr>\n",
       "  <th>Ticket_349215</th>             <td>   -0.1751</td> <td>    4.989</td> <td>   -0.035</td> <td> 0.972</td> <td>  -10.053</td> <td>    9.703</td>\n",
       "</tr>\n",
       "<tr>\n",
       "  <th>Ticket_349216</th>             <td>   -0.1751</td> <td>    4.989</td> <td>   -0.035</td> <td> 0.972</td> <td>  -10.053</td> <td>    9.703</td>\n",
       "</tr>\n",
       "<tr>\n",
       "  <th>Ticket_349217</th>             <td>   -0.1751</td> <td>    4.989</td> <td>   -0.035</td> <td> 0.972</td> <td>  -10.053</td> <td>    9.703</td>\n",
       "</tr>\n",
       "<tr>\n",
       "  <th>Ticket_349218</th>             <td> 5.283e-16</td> <td> 3.43e-16</td> <td>    1.539</td> <td> 0.127</td> <td>-1.52e-16</td> <td> 1.21e-15</td>\n",
       "</tr>\n",
       "<tr>\n",
       "  <th>Ticket_349219</th>             <td>   -0.1751</td> <td>    4.989</td> <td>   -0.035</td> <td> 0.972</td> <td>  -10.053</td> <td>    9.703</td>\n",
       "</tr>\n",
       "<tr>\n",
       "  <th>Ticket_349221</th>             <td>   -0.1751</td> <td>    4.989</td> <td>   -0.035</td> <td> 0.972</td> <td>  -10.053</td> <td>    9.703</td>\n",
       "</tr>\n",
       "<tr>\n",
       "  <th>Ticket_349222</th>             <td>   -0.1751</td> <td>    4.989</td> <td>   -0.035</td> <td> 0.972</td> <td>  -10.053</td> <td>    9.703</td>\n",
       "</tr>\n",
       "<tr>\n",
       "  <th>Ticket_349223</th>             <td>   -0.1751</td> <td>    4.989</td> <td>   -0.035</td> <td> 0.972</td> <td>  -10.053</td> <td>    9.703</td>\n",
       "</tr>\n",
       "<tr>\n",
       "  <th>Ticket_349224</th>             <td>-2.524e-16</td> <td> 3.81e-16</td> <td>   -0.662</td> <td> 0.509</td> <td>-1.01e-15</td> <td> 5.03e-16</td>\n",
       "</tr>\n",
       "<tr>\n",
       "  <th>Ticket_349225</th>             <td>   -0.1751</td> <td>    4.989</td> <td>   -0.035</td> <td> 0.972</td> <td>  -10.053</td> <td>    9.703</td>\n",
       "</tr>\n",
       "<tr>\n",
       "  <th>Ticket_349227</th>             <td>   -0.1751</td> <td>    4.989</td> <td>   -0.035</td> <td> 0.972</td> <td>  -10.053</td> <td>    9.703</td>\n",
       "</tr>\n",
       "<tr>\n",
       "  <th>Ticket_349228</th>             <td>   -0.1751</td> <td>    3.296</td> <td>   -0.053</td> <td> 0.958</td> <td>   -6.701</td> <td>    6.351</td>\n",
       "</tr>\n",
       "<tr>\n",
       "  <th>Ticket_349231</th>             <td>   -0.1751</td> <td>    4.989</td> <td>   -0.035</td> <td> 0.972</td> <td>  -10.053</td> <td>    9.703</td>\n",
       "</tr>\n",
       "<tr>\n",
       "  <th>Ticket_349233</th>             <td>-2.875e-16</td> <td> 3.24e-16</td> <td>   -0.888</td> <td> 0.376</td> <td>-9.28e-16</td> <td> 3.54e-16</td>\n",
       "</tr>\n",
       "<tr>\n",
       "  <th>Ticket_349234</th>             <td>   -0.1751</td> <td>    4.989</td> <td>   -0.035</td> <td> 0.972</td> <td>  -10.053</td> <td>    9.703</td>\n",
       "</tr>\n",
       "<tr>\n",
       "  <th>Ticket_349236</th>             <td>   -0.5137</td> <td>    4.278</td> <td>   -0.120</td> <td> 0.905</td> <td>   -8.985</td> <td>    7.958</td>\n",
       "</tr>\n",
       "<tr>\n",
       "  <th>Ticket_349237</th>             <td>   -0.3444</td> <td>    2.429</td> <td>   -0.142</td> <td> 0.887</td> <td>   -5.154</td> <td>    4.465</td>\n",
       "</tr>\n",
       "<tr>\n",
       "  <th>Ticket_349239</th>             <td>   -0.2567</td> <td>   10.889</td> <td>   -0.024</td> <td> 0.981</td> <td>  -21.819</td> <td>   21.305</td>\n",
       "</tr>\n",
       "<tr>\n",
       "  <th>Ticket_349240</th>             <td>-1.694e-16</td> <td> 3.18e-16</td> <td>   -0.532</td> <td> 0.596</td> <td>   -8e-16</td> <td> 4.61e-16</td>\n",
       "</tr>\n",
       "<tr>\n",
       "  <th>Ticket_349241</th>             <td>   -0.2567</td> <td>   11.461</td> <td>   -0.022</td> <td> 0.982</td> <td>  -22.952</td> <td>   22.438</td>\n",
       "</tr>\n",
       "<tr>\n",
       "  <th>Ticket_349242</th>             <td>   -0.1751</td> <td>    4.989</td> <td>   -0.035</td> <td> 0.972</td> <td>  -10.053</td> <td>    9.703</td>\n",
       "</tr>\n",
       "<tr>\n",
       "  <th>Ticket_349243</th>             <td>   -0.1751</td> <td>    4.989</td> <td>   -0.035</td> <td> 0.972</td> <td>  -10.053</td> <td>    9.703</td>\n",
       "</tr>\n",
       "<tr>\n",
       "  <th>Ticket_349244</th>             <td>    0.4863</td> <td>    4.402</td> <td>    0.110</td> <td> 0.912</td> <td>   -8.231</td> <td>    9.204</td>\n",
       "</tr>\n",
       "<tr>\n",
       "  <th>Ticket_349245</th>             <td>   -0.5137</td> <td>    4.989</td> <td>   -0.103</td> <td> 0.918</td> <td>  -10.392</td> <td>    9.365</td>\n",
       "</tr>\n",
       "<tr>\n",
       "  <th>Ticket_349246</th>             <td>   -0.1751</td> <td>    4.989</td> <td>   -0.035</td> <td> 0.972</td> <td>  -10.053</td> <td>    9.703</td>\n",
       "</tr>\n",
       "<tr>\n",
       "  <th>Ticket_349247</th>             <td>   -0.1751</td> <td>    4.989</td> <td>   -0.035</td> <td> 0.972</td> <td>  -10.053</td> <td>    9.703</td>\n",
       "</tr>\n",
       "<tr>\n",
       "  <th>Ticket_349248</th>             <td>   -0.1751</td> <td>    4.989</td> <td>   -0.035</td> <td> 0.972</td> <td>  -10.053</td> <td>    9.703</td>\n",
       "</tr>\n",
       "<tr>\n",
       "  <th>Ticket_349249</th>             <td>   -0.1751</td> <td>    4.989</td> <td>   -0.035</td> <td> 0.972</td> <td>  -10.053</td> <td>    9.703</td>\n",
       "</tr>\n",
       "<tr>\n",
       "  <th>Ticket_349251</th>             <td>   -0.1751</td> <td>    4.989</td> <td>   -0.035</td> <td> 0.972</td> <td>  -10.053</td> <td>    9.703</td>\n",
       "</tr>\n",
       "<tr>\n",
       "  <th>Ticket_349252</th>             <td>   -0.1751</td> <td>    4.989</td> <td>   -0.035</td> <td> 0.972</td> <td>  -10.053</td> <td>    9.703</td>\n",
       "</tr>\n",
       "<tr>\n",
       "  <th>Ticket_349253</th>             <td>   -0.2567</td> <td>   11.461</td> <td>   -0.022</td> <td> 0.982</td> <td>  -22.952</td> <td>   22.438</td>\n",
       "</tr>\n",
       "<tr>\n",
       "  <th>Ticket_349254</th>             <td>   -0.2567</td> <td>   11.461</td> <td>   -0.022</td> <td> 0.982</td> <td>  -22.952</td> <td>   22.438</td>\n",
       "</tr>\n",
       "<tr>\n",
       "  <th>Ticket_349256</th>             <td>    0.4046</td> <td>    7.342</td> <td>    0.055</td> <td> 0.956</td> <td>  -14.133</td> <td>   14.942</td>\n",
       "</tr>\n",
       "<tr>\n",
       "  <th>Ticket_349257</th>             <td>-1.532e-17</td> <td> 3.25e-16</td> <td>   -0.047</td> <td> 0.963</td> <td> -6.6e-16</td> <td> 6.29e-16</td>\n",
       "</tr>\n",
       "<tr>\n",
       "  <th>Ticket_349909</th>             <td>   -0.4291</td> <td>    4.866</td> <td>   -0.088</td> <td> 0.930</td> <td>  -10.064</td> <td>    9.206</td>\n",
       "</tr>\n",
       "<tr>\n",
       "  <th>Ticket_349910</th>             <td>   -0.1751</td> <td>    0.809</td> <td>   -0.217</td> <td> 0.829</td> <td>   -1.776</td> <td>    1.426</td>\n",
       "</tr>\n",
       "<tr>\n",
       "  <th>Ticket_349912</th>             <td>   -0.1751</td> <td>    5.079</td> <td>   -0.034</td> <td> 0.973</td> <td>  -10.232</td> <td>    9.882</td>\n",
       "</tr>\n",
       "<tr>\n",
       "  <th>Ticket_350025</th>             <td>   -0.1751</td> <td>    5.020</td> <td>   -0.035</td> <td> 0.972</td> <td>  -10.115</td> <td>    9.765</td>\n",
       "</tr>\n",
       "<tr>\n",
       "  <th>Ticket_350026</th>             <td>   -0.1751</td> <td>    0.474</td> <td>   -0.369</td> <td> 0.713</td> <td>   -1.115</td> <td>    0.764</td>\n",
       "</tr>\n",
       "<tr>\n",
       "  <th>Ticket_350029</th>             <td> 6.782e-17</td> <td>  3.3e-16</td> <td>    0.206</td> <td> 0.837</td> <td>-5.85e-16</td> <td> 7.21e-16</td>\n",
       "</tr>\n",
       "<tr>\n",
       "  <th>Ticket_350034</th>             <td> -4.47e-16</td> <td> 3.48e-16</td> <td>   -1.285</td> <td> 0.201</td> <td>-1.14e-15</td> <td> 2.42e-16</td>\n",
       "</tr>\n",
       "<tr>\n",
       "  <th>Ticket_350035</th>             <td>   -0.1751</td> <td>    5.063</td> <td>   -0.035</td> <td> 0.972</td> <td>  -10.201</td> <td>    9.851</td>\n",
       "</tr>\n",
       "<tr>\n",
       "  <th>Ticket_350036</th>             <td>   -0.1751</td> <td>    5.063</td> <td>   -0.035</td> <td> 0.972</td> <td>  -10.201</td> <td>    9.851</td>\n",
       "</tr>\n",
       "<tr>\n",
       "  <th>Ticket_350042</th>             <td>   -0.1751</td> <td>    5.063</td> <td>   -0.035</td> <td> 0.972</td> <td>  -10.201</td> <td>    9.851</td>\n",
       "</tr>\n",
       "<tr>\n",
       "  <th>Ticket_350043</th>             <td>    0.8249</td> <td>    5.063</td> <td>    0.163</td> <td> 0.871</td> <td>   -9.201</td> <td>   10.851</td>\n",
       "</tr>\n",
       "<tr>\n",
       "  <th>Ticket_350046</th>             <td>    0.4863</td> <td>    5.020</td> <td>    0.097</td> <td> 0.923</td> <td>   -9.454</td> <td>   10.426</td>\n",
       "</tr>\n",
       "<tr>\n",
       "  <th>Ticket_350047</th>             <td>   -0.1751</td> <td>    5.020</td> <td>   -0.035</td> <td> 0.972</td> <td>  -10.115</td> <td>    9.765</td>\n",
       "</tr>\n",
       "<tr>\n",
       "  <th>Ticket_350048</th>             <td>   -0.1751</td> <td>    5.616</td> <td>   -0.031</td> <td> 0.975</td> <td>  -11.295</td> <td>   10.945</td>\n",
       "</tr>\n",
       "<tr>\n",
       "  <th>Ticket_350050</th>             <td>   -0.1751</td> <td>    5.020</td> <td>   -0.035</td> <td> 0.972</td> <td>  -10.115</td> <td>    9.765</td>\n",
       "</tr>\n",
       "<tr>\n",
       "  <th>Ticket_350052</th>             <td>   -0.1751</td> <td>    5.063</td> <td>   -0.035</td> <td> 0.972</td> <td>  -10.201</td> <td>    9.851</td>\n",
       "</tr>\n",
       "<tr>\n",
       "  <th>Ticket_350060</th>             <td>   -0.1751</td> <td>    5.268</td> <td>   -0.033</td> <td> 0.974</td> <td>  -10.607</td> <td>   10.257</td>\n",
       "</tr>\n",
       "<tr>\n",
       "  <th>Ticket_350404</th>             <td>-1.008e-16</td> <td> 3.04e-16</td> <td>   -0.332</td> <td> 0.741</td> <td>-7.02e-16</td> <td> 5.01e-16</td>\n",
       "</tr>\n",
       "<tr>\n",
       "  <th>Ticket_350406</th>             <td>   -0.5137</td> <td>    5.020</td> <td>   -0.102</td> <td> 0.919</td> <td>  -10.454</td> <td>    9.426</td>\n",
       "</tr>\n",
       "<tr>\n",
       "  <th>Ticket_350407</th>             <td>   -0.5137</td> <td>    5.020</td> <td>   -0.102</td> <td> 0.919</td> <td>  -10.454</td> <td>    9.426</td>\n",
       "</tr>\n",
       "<tr>\n",
       "  <th>Ticket_350417</th>             <td>-1.316e-16</td> <td> 2.74e-16</td> <td>   -0.480</td> <td> 0.632</td> <td>-6.74e-16</td> <td> 4.11e-16</td>\n",
       "</tr>\n",
       "<tr>\n",
       "  <th>Ticket_35273</th>              <td>   -0.0938</td> <td>   29.281</td> <td>   -0.003</td> <td> 0.997</td> <td>  -58.072</td> <td>   57.885</td>\n",
       "</tr>\n",
       "<tr>\n",
       "  <th>Ticket_35281</th>              <td>   -0.1949</td> <td>   11.765</td> <td>   -0.017</td> <td> 0.987</td> <td>  -23.490</td> <td>   23.101</td>\n",
       "</tr>\n",
       "<tr>\n",
       "  <th>Ticket_35851</th>              <td>    0.4244</td> <td>    1.480</td> <td>    0.287</td> <td> 0.775</td> <td>   -2.506</td> <td>    3.355</td>\n",
       "</tr>\n",
       "<tr>\n",
       "  <th>Ticket_35852</th>              <td>    0.4244</td> <td>    1.480</td> <td>    0.287</td> <td> 0.775</td> <td>   -2.506</td> <td>    3.355</td>\n",
       "</tr>\n",
       "<tr>\n",
       "  <th>Ticket_358585</th>             <td>   -0.1751</td> <td>    0.335</td> <td>   -0.522</td> <td> 0.602</td> <td>   -0.839</td> <td>    0.489</td>\n",
       "</tr>\n",
       "<tr>\n",
       "  <th>Ticket_36209</th>              <td>   -0.2370</td> <td>    1.486</td> <td>   -0.159</td> <td> 0.874</td> <td>   -3.179</td> <td>    2.705</td>\n",
       "</tr>\n",
       "<tr>\n",
       "  <th>Ticket_362316</th>             <td>-4.724e-16</td> <td> 3.55e-16</td> <td>   -1.331</td> <td> 0.186</td> <td>-1.18e-15</td> <td> 2.31e-16</td>\n",
       "</tr>\n",
       "<tr>\n",
       "  <th>Ticket_363291</th>             <td>    0.3787</td> <td>    4.456</td> <td>    0.085</td> <td> 0.932</td> <td>   -8.445</td> <td>    9.203</td>\n",
       "</tr>\n",
       "<tr>\n",
       "  <th>Ticket_363294</th>             <td>   -0.1751</td> <td>    4.874</td> <td>   -0.036</td> <td> 0.971</td> <td>   -9.826</td> <td>    9.476</td>\n",
       "</tr>\n",
       "<tr>\n",
       "  <th>Ticket_363592</th>             <td>   -0.1751</td> <td>    4.874</td> <td>   -0.036</td> <td> 0.971</td> <td>   -9.826</td> <td>    9.476</td>\n",
       "</tr>\n",
       "<tr>\n",
       "  <th>Ticket_364498</th>             <td>   -0.1751</td> <td>    0.335</td> <td>   -0.522</td> <td> 0.602</td> <td>   -0.839</td> <td>    0.489</td>\n",
       "</tr>\n",
       "<tr>\n",
       "  <th>Ticket_364499</th>             <td>   -0.1751</td> <td>    4.874</td> <td>   -0.036</td> <td> 0.971</td> <td>   -9.826</td> <td>    9.476</td>\n",
       "</tr>\n",
       "<tr>\n",
       "  <th>Ticket_364500</th>             <td>-8.548e-17</td> <td> 3.19e-16</td> <td>   -0.268</td> <td> 0.789</td> <td>-7.17e-16</td> <td> 5.46e-16</td>\n",
       "</tr>\n",
       "<tr>\n",
       "  <th>Ticket_364506</th>             <td>   -0.1751</td> <td>    4.874</td> <td>   -0.036</td> <td> 0.971</td> <td>   -9.826</td> <td>    9.476</td>\n",
       "</tr>\n",
       "<tr>\n",
       "  <th>Ticket_364511</th>             <td>   -0.1751</td> <td>    4.874</td> <td>   -0.036</td> <td> 0.971</td> <td>   -9.826</td> <td>    9.476</td>\n",
       "</tr>\n",
       "<tr>\n",
       "  <th>Ticket_364512</th>             <td> 6.475e-16</td> <td> 3.16e-16</td> <td>    2.049</td> <td> 0.043</td> <td> 2.17e-17</td> <td> 1.27e-15</td>\n",
       "</tr>\n",
       "<tr>\n",
       "  <th>Ticket_364516</th>             <td>    0.4863</td> <td>    1.577</td> <td>    0.308</td> <td> 0.758</td> <td>   -2.636</td> <td>    3.608</td>\n",
       "</tr>\n",
       "<tr>\n",
       "  <th>Ticket_364846</th>             <td>   -0.5756</td> <td>    1.468</td> <td>   -0.392</td> <td> 0.696</td> <td>   -3.482</td> <td>    2.331</td>\n",
       "</tr>\n",
       "<tr>\n",
       "  <th>Ticket_364848</th>             <td>   -0.5756</td> <td>    1.468</td> <td>   -0.392</td> <td> 0.696</td> <td>   -3.482</td> <td>    2.331</td>\n",
       "</tr>\n",
       "<tr>\n",
       "  <th>Ticket_364849</th>             <td>   -0.4063</td> <td>    4.363</td> <td>   -0.093</td> <td> 0.926</td> <td>   -9.045</td> <td>    8.233</td>\n",
       "</tr>\n",
       "<tr>\n",
       "  <th>Ticket_364850</th>             <td>   -0.5756</td> <td>    1.468</td> <td>   -0.392</td> <td> 0.696</td> <td>   -3.482</td> <td>    2.331</td>\n",
       "</tr>\n",
       "<tr>\n",
       "  <th>Ticket_364851</th>             <td>   -0.2370</td> <td>    1.468</td> <td>   -0.161</td> <td> 0.872</td> <td>   -3.143</td> <td>    2.669</td>\n",
       "</tr>\n",
       "<tr>\n",
       "  <th>Ticket_365222</th>             <td>   -0.2370</td> <td>    2.202</td> <td>   -0.108</td> <td> 0.914</td> <td>   -4.597</td> <td>    4.123</td>\n",
       "</tr>\n",
       "<tr>\n",
       "  <th>Ticket_365226</th>             <td>   -0.5756</td> <td>    2.202</td> <td>   -0.261</td> <td> 0.794</td> <td>   -4.935</td> <td>    3.784</td>\n",
       "</tr>\n",
       "<tr>\n",
       "  <th>Ticket_36568</th>              <td>-2.107e-16</td> <td> 3.52e-16</td> <td>   -0.599</td> <td> 0.551</td> <td>-9.08e-16</td> <td> 4.86e-16</td>\n",
       "</tr>\n",
       "<tr>\n",
       "  <th>Ticket_367226</th>             <td>    0.5937</td> <td>   10.146</td> <td>    0.059</td> <td> 0.953</td> <td>  -19.496</td> <td>   20.684</td>\n",
       "</tr>\n",
       "<tr>\n",
       "  <th>Ticket_367228</th>             <td>    0.7630</td> <td>    1.468</td> <td>    0.520</td> <td> 0.604</td> <td>   -2.143</td> <td>    3.669</td>\n",
       "</tr>\n",
       "<tr>\n",
       "  <th>Ticket_367229</th>             <td>-3.424e-16</td> <td> 2.94e-16</td> <td>   -1.164</td> <td> 0.247</td> <td>-9.25e-16</td> <td>  2.4e-16</td>\n",
       "</tr>\n",
       "<tr>\n",
       "  <th>Ticket_367230</th>             <td>    0.4244</td> <td>    4.369</td> <td>    0.097</td> <td> 0.923</td> <td>   -8.227</td> <td>    9.075</td>\n",
       "</tr>\n",
       "<tr>\n",
       "  <th>Ticket_367231</th>             <td>    0.4244</td> <td>    1.468</td> <td>    0.289</td> <td> 0.773</td> <td>   -2.482</td> <td>    3.331</td>\n",
       "</tr>\n",
       "<tr>\n",
       "  <th>Ticket_367232</th>             <td>   -0.2370</td> <td>    1.468</td> <td>   -0.161</td> <td> 0.872</td> <td>   -3.143</td> <td>    2.669</td>\n",
       "</tr>\n",
       "<tr>\n",
       "  <th>Ticket_367655</th>             <td>-5.462e-17</td> <td> 2.87e-16</td> <td>   -0.190</td> <td> 0.849</td> <td>-6.23e-16</td> <td> 5.14e-16</td>\n",
       "</tr>\n",
       "<tr>\n",
       "  <th>Ticket_368323</th>             <td>   -0.2370</td> <td>    2.054</td> <td>   -0.115</td> <td> 0.908</td> <td>   -4.304</td> <td>    3.831</td>\n",
       "</tr>\n",
       "<tr>\n",
       "  <th>Ticket_36864</th>              <td>-3.021e-18</td> <td>  2.6e-16</td> <td>   -0.012</td> <td> 0.991</td> <td>-5.19e-16</td> <td> 5.13e-16</td>\n",
       "</tr>\n",
       "<tr>\n",
       "  <th>Ticket_36865</th>              <td>   -0.2370</td> <td>    1.477</td> <td>   -0.160</td> <td> 0.873</td> <td>   -3.161</td> <td>    2.687</td>\n",
       "</tr>\n",
       "<tr>\n",
       "  <th>Ticket_36866</th>              <td> 2.945e-16</td> <td>  2.8e-16</td> <td>    1.052</td> <td> 0.295</td> <td> -2.6e-16</td> <td> 8.49e-16</td>\n",
       "</tr>\n",
       "<tr>\n",
       "  <th>Ticket_368703</th>             <td>   -0.2370</td> <td>    1.468</td> <td>   -0.161</td> <td> 0.872</td> <td>   -3.143</td> <td>    2.669</td>\n",
       "</tr>\n",
       "<tr>\n",
       "  <th>Ticket_36928</th>              <td>    0.1358</td> <td>   44.461</td> <td>    0.003</td> <td> 0.998</td> <td>  -87.902</td> <td>   88.173</td>\n",
       "</tr>\n",
       "<tr>\n",
       "  <th>Ticket_36947</th>              <td>    0.0950</td> <td>    8.891</td> <td>    0.011</td> <td> 0.991</td> <td>  -17.510</td> <td>   17.700</td>\n",
       "</tr>\n",
       "<tr>\n",
       "  <th>Ticket_36963</th>              <td>   -0.1949</td> <td>    5.026</td> <td>   -0.039</td> <td> 0.969</td> <td>  -10.148</td> <td>    9.758</td>\n",
       "</tr>\n",
       "<tr>\n",
       "  <th>Ticket_36967</th>              <td>   -0.1949</td> <td>    4.392</td> <td>   -0.044</td> <td> 0.965</td> <td>   -8.892</td> <td>    8.502</td>\n",
       "</tr>\n",
       "<tr>\n",
       "  <th>Ticket_36973</th>              <td>   -0.0295</td> <td>   14.075</td> <td>   -0.002</td> <td> 0.998</td> <td>  -27.899</td> <td>   27.840</td>\n",
       "</tr>\n",
       "<tr>\n",
       "  <th>Ticket_370129</th>             <td>   -0.5137</td> <td>    4.232</td> <td>   -0.121</td> <td> 0.904</td> <td>   -8.894</td> <td>    7.866</td>\n",
       "</tr>\n",
       "<tr>\n",
       "  <th>Ticket_370365</th>             <td>    0.0937</td> <td>    4.363</td> <td>    0.021</td> <td> 0.983</td> <td>   -8.545</td> <td>    8.733</td>\n",
       "</tr>\n",
       "<tr>\n",
       "  <th>Ticket_370369</th>             <td>   -0.2370</td> <td>    1.468</td> <td>   -0.161</td> <td> 0.872</td> <td>   -3.143</td> <td>    2.669</td>\n",
       "</tr>\n",
       "<tr>\n",
       "  <th>Ticket_370370</th>             <td> 5.714e-18</td> <td> 2.71e-16</td> <td>    0.021</td> <td> 0.983</td> <td> -5.3e-16</td> <td> 5.42e-16</td>\n",
       "</tr>\n",
       "<tr>\n",
       "  <th>Ticket_370371</th>             <td>   -0.2370</td> <td>    4.369</td> <td>   -0.054</td> <td> 0.957</td> <td>   -8.888</td> <td>    8.414</td>\n",
       "</tr>\n",
       "<tr>\n",
       "  <th>Ticket_370372</th>             <td> 2.369e-16</td> <td> 3.75e-16</td> <td>    0.632</td> <td> 0.529</td> <td>-5.06e-16</td> <td> 9.79e-16</td>\n",
       "</tr>\n",
       "<tr>\n",
       "  <th>Ticket_370373</th>             <td>    0.4244</td> <td>    1.468</td> <td>    0.289</td> <td> 0.773</td> <td>   -2.482</td> <td>    3.331</td>\n",
       "</tr>\n",
       "<tr>\n",
       "  <th>Ticket_370375</th>             <td>    0.4244</td> <td>    1.468</td> <td>    0.289</td> <td> 0.773</td> <td>   -2.482</td> <td>    3.331</td>\n",
       "</tr>\n",
       "<tr>\n",
       "  <th>Ticket_370376</th>             <td>   -0.2370</td> <td>    1.468</td> <td>   -0.161</td> <td> 0.872</td> <td>   -3.143</td> <td>    2.669</td>\n",
       "</tr>\n",
       "<tr>\n",
       "  <th>Ticket_370377</th>             <td> 1.034e-16</td> <td> 2.66e-16</td> <td>    0.389</td> <td> 0.698</td> <td>-4.23e-16</td> <td>  6.3e-16</td>\n",
       "</tr>\n",
       "<tr>\n",
       "  <th>Ticket_371060</th>             <td>   -0.2370</td> <td>    1.468</td> <td>   -0.161</td> <td> 0.872</td> <td>   -3.143</td> <td>    2.669</td>\n",
       "</tr>\n",
       "<tr>\n",
       "  <th>Ticket_371110</th>             <td>   -0.0165</td> <td>   10.817</td> <td>   -0.002</td> <td> 0.999</td> <td>  -21.435</td> <td>   21.402</td>\n",
       "</tr>\n",
       "<tr>\n",
       "  <th>Ticket_371362</th>             <td> 8.663e-17</td> <td> 2.98e-16</td> <td>    0.291</td> <td> 0.772</td> <td>-5.04e-16</td> <td> 6.77e-16</td>\n",
       "</tr>\n",
       "<tr>\n",
       "  <th>Ticket_372622</th>             <td>   -0.2370</td> <td>    1.468</td> <td>   -0.161</td> <td> 0.872</td> <td>   -3.143</td> <td>    2.669</td>\n",
       "</tr>\n",
       "<tr>\n",
       "  <th>Ticket_373450</th>             <td>-1.388e-17</td> <td> 3.22e-16</td> <td>   -0.043</td> <td> 0.966</td> <td>-6.51e-16</td> <td> 6.23e-16</td>\n",
       "</tr>\n",
       "<tr>\n",
       "  <th>Ticket_374746</th>             <td>-4.286e-17</td> <td> 2.37e-16</td> <td>   -0.181</td> <td> 0.857</td> <td>-5.12e-16</td> <td> 4.26e-16</td>\n",
       "</tr>\n",
       "<tr>\n",
       "  <th>Ticket_374887</th>             <td>   -0.1751</td> <td>    5.470</td> <td>   -0.032</td> <td> 0.975</td> <td>  -11.006</td> <td>   10.656</td>\n",
       "</tr>\n",
       "<tr>\n",
       "  <th>Ticket_374910</th>             <td> 2.733e-16</td> <td> 3.33e-16</td> <td>    0.820</td> <td> 0.414</td> <td>-3.86e-16</td> <td> 9.33e-16</td>\n",
       "</tr>\n",
       "<tr>\n",
       "  <th>Ticket_376564</th>             <td>   -0.1751</td> <td>    1.195</td> <td>   -0.147</td> <td> 0.884</td> <td>   -2.542</td> <td>    2.191</td>\n",
       "</tr>\n",
       "<tr>\n",
       "  <th>Ticket_376566</th>             <td>   -0.1751</td> <td>    1.195</td> <td>   -0.147</td> <td> 0.884</td> <td>   -2.542</td> <td>    2.191</td>\n",
       "</tr>\n",
       "<tr>\n",
       "  <th>Ticket_382649</th>             <td>-9.895e-18</td> <td> 3.33e-16</td> <td>   -0.030</td> <td> 0.976</td> <td>-6.69e-16</td> <td> 6.49e-16</td>\n",
       "</tr>\n",
       "<tr>\n",
       "  <th>Ticket_382651</th>             <td>-1.051e-17</td> <td> 2.56e-16</td> <td>   -0.041</td> <td> 0.967</td> <td>-5.18e-16</td> <td> 4.97e-16</td>\n",
       "</tr>\n",
       "<tr>\n",
       "  <th>Ticket_382652</th>             <td>   -0.3216</td> <td>   14.531</td> <td>   -0.022</td> <td> 0.982</td> <td>  -29.094</td> <td>   28.451</td>\n",
       "</tr>\n",
       "<tr>\n",
       "  <th>Ticket_383121</th>             <td>   -0.2258</td> <td>   12.370</td> <td>   -0.018</td> <td> 0.985</td> <td>  -24.719</td> <td>   24.268</td>\n",
       "</tr>\n",
       "<tr>\n",
       "  <th>Ticket_384461</th>             <td>   -0.2370</td> <td>    1.468</td> <td>   -0.161</td> <td> 0.872</td> <td>   -3.143</td> <td>    2.669</td>\n",
       "</tr>\n",
       "<tr>\n",
       "  <th>Ticket_386525</th>             <td> 1.795e-16</td> <td> 3.16e-16</td> <td>    0.568</td> <td> 0.571</td> <td>-4.46e-16</td> <td> 8.05e-16</td>\n",
       "</tr>\n",
       "<tr>\n",
       "  <th>Ticket_392091</th>             <td>    0.4863</td> <td>    3.906</td> <td>    0.124</td> <td> 0.901</td> <td>   -7.249</td> <td>    8.221</td>\n",
       "</tr>\n",
       "<tr>\n",
       "  <th>Ticket_392092</th>             <td>   -0.1751</td> <td>    4.874</td> <td>   -0.036</td> <td> 0.971</td> <td>   -9.826</td> <td>    9.476</td>\n",
       "</tr>\n",
       "<tr>\n",
       "  <th>Ticket_392096</th>             <td>    0.2205</td> <td>   12.433</td> <td>    0.018</td> <td> 0.986</td> <td>  -24.399</td> <td>   24.840</td>\n",
       "</tr>\n",
       "<tr>\n",
       "  <th>Ticket_394140</th>             <td>   -0.2370</td> <td>    2.122</td> <td>   -0.112</td> <td> 0.911</td> <td>   -4.438</td> <td>    3.964</td>\n",
       "</tr>\n",
       "<tr>\n",
       "  <th>Ticket_4133</th>               <td>   -0.4009</td> <td>    8.144</td> <td>   -0.049</td> <td> 0.961</td> <td>  -16.527</td> <td>   15.726</td>\n",
       "</tr>\n",
       "<tr>\n",
       "  <th>Ticket_4134</th>               <td>    0.4863</td> <td>    3.730</td> <td>    0.130</td> <td> 0.896</td> <td>   -6.899</td> <td>    7.871</td>\n",
       "</tr>\n",
       "<tr>\n",
       "  <th>Ticket_4135</th>               <td>   -0.5137</td> <td>    3.730</td> <td>   -0.138</td> <td> 0.891</td> <td>   -7.899</td> <td>    6.871</td>\n",
       "</tr>\n",
       "<tr>\n",
       "  <th>Ticket_4136</th>               <td>   -0.5137</td> <td>    3.553</td> <td>   -0.145</td> <td> 0.885</td> <td>   -7.549</td> <td>    6.522</td>\n",
       "</tr>\n",
       "<tr>\n",
       "  <th>Ticket_4137</th>               <td>-1.428e-16</td> <td> 2.72e-16</td> <td>   -0.524</td> <td> 0.601</td> <td>-6.82e-16</td> <td> 3.96e-16</td>\n",
       "</tr>\n",
       "<tr>\n",
       "  <th>Ticket_4138</th>               <td>    0.4863</td> <td>    3.541</td> <td>    0.137</td> <td> 0.891</td> <td>   -6.525</td> <td>    7.497</td>\n",
       "</tr>\n",
       "<tr>\n",
       "  <th>Ticket_4579</th>               <td> 6.386e-17</td> <td> 2.99e-16</td> <td>    0.213</td> <td> 0.831</td> <td>-5.29e-16</td> <td> 6.56e-16</td>\n",
       "</tr>\n",
       "<tr>\n",
       "  <th>Ticket_54636</th>              <td>   -0.1751</td> <td>    1.195</td> <td>   -0.147</td> <td> 0.884</td> <td>   -2.542</td> <td>    2.191</td>\n",
       "</tr>\n",
       "<tr>\n",
       "  <th>Ticket_5727</th>               <td> 8.091e-17</td> <td> 3.06e-16</td> <td>    0.264</td> <td> 0.792</td> <td>-5.25e-16</td> <td> 6.87e-16</td>\n",
       "</tr>\n",
       "<tr>\n",
       "  <th>Ticket_65303</th>              <td>   -0.1751</td> <td>    4.049</td> <td>   -0.043</td> <td> 0.966</td> <td>   -8.192</td> <td>    7.842</td>\n",
       "</tr>\n",
       "<tr>\n",
       "  <th>Ticket_65304</th>              <td>  1.35e-16</td> <td> 2.52e-16</td> <td>    0.535</td> <td> 0.593</td> <td>-3.64e-16</td> <td> 6.34e-16</td>\n",
       "</tr>\n",
       "<tr>\n",
       "  <th>Ticket_65306</th>              <td>    0.8249</td> <td>    4.827</td> <td>    0.171</td> <td> 0.865</td> <td>   -8.734</td> <td>   10.384</td>\n",
       "</tr>\n",
       "<tr>\n",
       "  <th>Ticket_6563</th>               <td> 3.055e-16</td> <td>  3.4e-16</td> <td>    0.899</td> <td> 0.371</td> <td>-3.68e-16</td> <td> 9.79e-16</td>\n",
       "</tr>\n",
       "<tr>\n",
       "  <th>Ticket_693</th>                <td>   -0.1751</td> <td>    8.547</td> <td>   -0.020</td> <td> 0.984</td> <td>  -17.098</td> <td>   16.748</td>\n",
       "</tr>\n",
       "<tr>\n",
       "  <th>Ticket_695</th>                <td>-7.998e-17</td> <td> 2.82e-16</td> <td>   -0.284</td> <td> 0.777</td> <td>-6.39e-16</td> <td> 4.79e-16</td>\n",
       "</tr>\n",
       "<tr>\n",
       "  <th>Ticket_7267</th>               <td>   -0.1751</td> <td>    3.999</td> <td>   -0.044</td> <td> 0.965</td> <td>   -8.094</td> <td>    7.744</td>\n",
       "</tr>\n",
       "<tr>\n",
       "  <th>Ticket_7534</th>               <td>   -0.1751</td> <td>    3.764</td> <td>   -0.047</td> <td> 0.963</td> <td>   -7.628</td> <td>    7.278</td>\n",
       "</tr>\n",
       "<tr>\n",
       "  <th>Ticket_7540</th>               <td>   -0.1751</td> <td>    4.424</td> <td>   -0.040</td> <td> 0.968</td> <td>   -8.935</td> <td>    8.585</td>\n",
       "</tr>\n",
       "<tr>\n",
       "  <th>Ticket_7545</th>               <td>   -0.1751</td> <td>    3.807</td> <td>   -0.046</td> <td> 0.963</td> <td>   -7.713</td> <td>    7.363</td>\n",
       "</tr>\n",
       "<tr>\n",
       "  <th>Ticket_7546</th>               <td>   -0.5137</td> <td>    3.813</td> <td>   -0.135</td> <td> 0.893</td> <td>   -8.064</td> <td>    7.037</td>\n",
       "</tr>\n",
       "<tr>\n",
       "  <th>Ticket_7552</th>               <td>   -0.5137</td> <td>    3.039</td> <td>   -0.169</td> <td> 0.866</td> <td>   -6.532</td> <td>    5.504</td>\n",
       "</tr>\n",
       "<tr>\n",
       "  <th>Ticket_7553</th>               <td>   -0.5137</td> <td>    3.544</td> <td>   -0.145</td> <td> 0.885</td> <td>   -7.531</td> <td>    6.503</td>\n",
       "</tr>\n",
       "<tr>\n",
       "  <th>Ticket_7598</th>               <td>    0.8249</td> <td>    4.874</td> <td>    0.169</td> <td> 0.866</td> <td>   -8.826</td> <td>   10.476</td>\n",
       "</tr>\n",
       "<tr>\n",
       "  <th>Ticket_8471</th>               <td>   -0.1751</td> <td>    4.641</td> <td>   -0.038</td> <td> 0.970</td> <td>   -9.365</td> <td>    9.015</td>\n",
       "</tr>\n",
       "<tr>\n",
       "  <th>Ticket_8475</th>               <td> 4.543e-16</td> <td> 2.97e-16</td> <td>    1.529</td> <td> 0.129</td> <td>-1.34e-16</td> <td> 1.04e-15</td>\n",
       "</tr>\n",
       "<tr>\n",
       "  <th>Ticket_9234</th>               <td>    0.4244</td> <td>    1.468</td> <td>    0.289</td> <td> 0.773</td> <td>   -2.482</td> <td>    3.331</td>\n",
       "</tr>\n",
       "<tr>\n",
       "  <th>Ticket_A./5. 2152</th>         <td>   -0.1751</td> <td>    4.874</td> <td>   -0.036</td> <td> 0.971</td> <td>   -9.826</td> <td>    9.476</td>\n",
       "</tr>\n",
       "<tr>\n",
       "  <th>Ticket_A./5. 3235</th>         <td>   -0.1751</td> <td>    4.874</td> <td>   -0.036</td> <td> 0.971</td> <td>   -9.826</td> <td>    9.476</td>\n",
       "</tr>\n",
       "<tr>\n",
       "  <th>Ticket_A.5. 11206</th>         <td>-8.115e-17</td> <td>  2.6e-16</td> <td>   -0.312</td> <td> 0.756</td> <td>-5.97e-16</td> <td> 4.34e-16</td>\n",
       "</tr>\n",
       "<tr>\n",
       "  <th>Ticket_A.5. 18509</th>         <td> 5.754e-16</td> <td>  3.1e-16</td> <td>    1.855</td> <td> 0.066</td> <td>-3.87e-17</td> <td> 1.19e-15</td>\n",
       "</tr>\n",
       "<tr>\n",
       "  <th>Ticket_A/4 45380</th>          <td>   -0.1751</td> <td>    4.874</td> <td>   -0.036</td> <td> 0.971</td> <td>   -9.826</td> <td>    9.476</td>\n",
       "</tr>\n",
       "<tr>\n",
       "  <th>Ticket_A/4 48871</th>          <td>   -0.1751</td> <td>    7.167</td> <td>   -0.024</td> <td> 0.981</td> <td>  -14.366</td> <td>   14.015</td>\n",
       "</tr>\n",
       "<tr>\n",
       "  <th>Ticket_A/4. 20589</th>         <td>   -0.1751</td> <td>    4.874</td> <td>   -0.036</td> <td> 0.971</td> <td>   -9.826</td> <td>    9.476</td>\n",
       "</tr>\n",
       "<tr>\n",
       "  <th>Ticket_A/4. 34244</th>         <td>   -0.1751</td> <td>    5.470</td> <td>   -0.032</td> <td> 0.975</td> <td>  -11.006</td> <td>   10.656</td>\n",
       "</tr>\n",
       "<tr>\n",
       "  <th>Ticket_A/4. 39886</th>         <td>   -0.1751</td> <td>    5.060</td> <td>   -0.035</td> <td> 0.972</td> <td>  -10.195</td> <td>    9.845</td>\n",
       "</tr>\n",
       "<tr>\n",
       "  <th>Ticket_A/5 21171</th>          <td>   -0.1751</td> <td>    5.470</td> <td>   -0.032</td> <td> 0.975</td> <td>  -11.006</td> <td>   10.656</td>\n",
       "</tr>\n",
       "<tr>\n",
       "  <th>Ticket_A/5 21172</th>          <td>   -0.1751</td> <td>    5.470</td> <td>   -0.032</td> <td> 0.975</td> <td>  -11.006</td> <td>   10.656</td>\n",
       "</tr>\n",
       "<tr>\n",
       "  <th>Ticket_A/5 21173</th>          <td> 1.746e-16</td> <td> 3.16e-16</td> <td>    0.553</td> <td> 0.581</td> <td> -4.5e-16</td> <td>    8e-16</td>\n",
       "</tr>\n",
       "<tr>\n",
       "  <th>Ticket_A/5 21174</th>          <td>-7.291e-17</td> <td> 2.45e-16</td> <td>   -0.297</td> <td> 0.767</td> <td>-5.59e-16</td> <td> 4.13e-16</td>\n",
       "</tr>\n",
       "<tr>\n",
       "  <th>Ticket_A/5 2466</th>           <td>   -0.1751</td> <td>    4.874</td> <td>   -0.036</td> <td> 0.971</td> <td>   -9.826</td> <td>    9.476</td>\n",
       "</tr>\n",
       "<tr>\n",
       "  <th>Ticket_A/5 2817</th>           <td> 4.948e-16</td> <td> 3.26e-16</td> <td>    1.519</td> <td> 0.131</td> <td> -1.5e-16</td> <td> 1.14e-15</td>\n",
       "</tr>\n",
       "<tr>\n",
       "  <th>Ticket_A/5 3536</th>           <td>   -0.1751</td> <td>    4.874</td> <td>   -0.036</td> <td> 0.971</td> <td>   -9.826</td> <td>    9.476</td>\n",
       "</tr>\n",
       "<tr>\n",
       "  <th>Ticket_A/5 3540</th>           <td>    0.8249</td> <td>    4.874</td> <td>    0.169</td> <td> 0.866</td> <td>   -8.826</td> <td>   10.476</td>\n",
       "</tr>\n",
       "<tr>\n",
       "  <th>Ticket_A/5 3594</th>           <td>   -0.1751</td> <td>    4.874</td> <td>   -0.036</td> <td> 0.971</td> <td>   -9.826</td> <td>    9.476</td>\n",
       "</tr>\n",
       "<tr>\n",
       "  <th>Ticket_A/5 3902</th>           <td>   -0.1751</td> <td>    5.470</td> <td>   -0.032</td> <td> 0.975</td> <td>  -11.006</td> <td>   10.656</td>\n",
       "</tr>\n",
       "<tr>\n",
       "  <th>Ticket_A/5. 10482</th>         <td>    0.8249</td> <td>    4.874</td> <td>    0.169</td> <td> 0.866</td> <td>   -8.826</td> <td>   10.476</td>\n",
       "</tr>\n",
       "<tr>\n",
       "  <th>Ticket_A/5. 13032</th>         <td>   -0.2370</td> <td>    1.480</td> <td>   -0.160</td> <td> 0.873</td> <td>   -3.167</td> <td>    2.693</td>\n",
       "</tr>\n",
       "<tr>\n",
       "  <th>Ticket_A/5. 2151</th>          <td>   -0.1751</td> <td>    4.874</td> <td>   -0.036</td> <td> 0.971</td> <td>   -9.826</td> <td>    9.476</td>\n",
       "</tr>\n",
       "<tr>\n",
       "  <th>Ticket_A/5. 3336</th>          <td>   -0.3444</td> <td>    1.172</td> <td>   -0.294</td> <td> 0.769</td> <td>   -2.665</td> <td>    1.976</td>\n",
       "</tr>\n",
       "<tr>\n",
       "  <th>Ticket_A/5. 3337</th>          <td>   -0.5137</td> <td>    0.338</td> <td>   -1.522</td> <td> 0.131</td> <td>   -1.182</td> <td>    0.155</td>\n",
       "</tr>\n",
       "<tr>\n",
       "  <th>Ticket_A/5. 851</th>           <td>   -0.1751</td> <td>    0.335</td> <td>   -0.522</td> <td> 0.602</td> <td>   -0.839</td> <td>    0.489</td>\n",
       "</tr>\n",
       "<tr>\n",
       "  <th>Ticket_A/S 2816</th>           <td>   -0.1751</td> <td>    4.874</td> <td>   -0.036</td> <td> 0.971</td> <td>   -9.826</td> <td>    9.476</td>\n",
       "</tr>\n",
       "<tr>\n",
       "  <th>Ticket_A4. 54510</th>          <td>   -0.1751</td> <td>    4.874</td> <td>   -0.036</td> <td> 0.971</td> <td>   -9.826</td> <td>    9.476</td>\n",
       "</tr>\n",
       "<tr>\n",
       "  <th>Ticket_C 17369</th>            <td>    0.8249</td> <td>    5.551</td> <td>    0.149</td> <td> 0.882</td> <td>  -10.166</td> <td>   11.816</td>\n",
       "</tr>\n",
       "<tr>\n",
       "  <th>Ticket_C 4001</th>             <td>   -0.1751</td> <td>    5.955</td> <td>   -0.029</td> <td> 0.977</td> <td>  -11.966</td> <td>   11.616</td>\n",
       "</tr>\n",
       "<tr>\n",
       "  <th>Ticket_C 7075</th>             <td>   -0.1751</td> <td>    6.066</td> <td>   -0.029</td> <td> 0.977</td> <td>  -12.187</td> <td>   11.837</td>\n",
       "</tr>\n",
       "<tr>\n",
       "  <th>Ticket_C 7076</th>             <td>   -0.1751</td> <td>    5.470</td> <td>   -0.032</td> <td> 0.975</td> <td>  -11.006</td> <td>   10.656</td>\n",
       "</tr>\n",
       "<tr>\n",
       "  <th>Ticket_C 7077</th>             <td>-2.169e-16</td> <td> 3.35e-16</td> <td>   -0.648</td> <td> 0.518</td> <td> -8.8e-16</td> <td> 4.46e-16</td>\n",
       "</tr>\n",
       "<tr>\n",
       "  <th>Ticket_C.A. 17248</th>         <td>   -0.1751</td> <td>    3.051</td> <td>   -0.057</td> <td> 0.954</td> <td>   -6.217</td> <td>    5.867</td>\n",
       "</tr>\n",
       "<tr>\n",
       "  <th>Ticket_C.A. 18723</th>         <td>   -0.1751</td> <td>    3.051</td> <td>   -0.057</td> <td> 0.954</td> <td>   -6.217</td> <td>    5.867</td>\n",
       "</tr>\n",
       "<tr>\n",
       "  <th>Ticket_C.A. 2315</th>          <td>    0.3249</td> <td>    4.496</td> <td>    0.072</td> <td> 0.943</td> <td>   -8.577</td> <td>    9.227</td>\n",
       "</tr>\n",
       "<tr>\n",
       "  <th>Ticket_C.A. 24579</th>         <td>   -0.1751</td> <td>    3.051</td> <td>   -0.057</td> <td> 0.954</td> <td>   -6.217</td> <td>    5.867</td>\n",
       "</tr>\n",
       "<tr>\n",
       "  <th>Ticket_C.A. 24580</th>         <td>   -0.1751</td> <td>    3.051</td> <td>   -0.057</td> <td> 0.954</td> <td>   -6.217</td> <td>    5.867</td>\n",
       "</tr>\n",
       "<tr>\n",
       "  <th>Ticket_C.A. 2673</th>          <td>    0.1556</td> <td>    4.253</td> <td>    0.037</td> <td> 0.971</td> <td>   -8.266</td> <td>    8.578</td>\n",
       "</tr>\n",
       "<tr>\n",
       "  <th>Ticket_C.A. 29178</th>         <td>-3.131e-17</td> <td> 2.84e-16</td> <td>   -0.110</td> <td> 0.912</td> <td>-5.93e-16</td> <td> 5.31e-16</td>\n",
       "</tr>\n",
       "<tr>\n",
       "  <th>Ticket_C.A. 29395</th>         <td>-1.492e-16</td> <td> 3.12e-16</td> <td>   -0.479</td> <td> 0.633</td> <td>-7.67e-16</td> <td> 4.68e-16</td>\n",
       "</tr>\n",
       "<tr>\n",
       "  <th>Ticket_C.A. 29566</th>         <td>   -0.1751</td> <td>    3.051</td> <td>   -0.057</td> <td> 0.954</td> <td>   -6.217</td> <td>    5.867</td>\n",
       "</tr>\n",
       "<tr>\n",
       "  <th>Ticket_C.A. 31026</th>         <td>    0.4863</td> <td>    3.052</td> <td>    0.159</td> <td> 0.874</td> <td>   -5.556</td> <td>    6.529</td>\n",
       "</tr>\n",
       "<tr>\n",
       "  <th>Ticket_C.A. 31921</th>         <td>    0.1556</td> <td>    8.730</td> <td>    0.018</td> <td> 0.986</td> <td>  -17.131</td> <td>   17.442</td>\n",
       "</tr>\n",
       "<tr>\n",
       "  <th>Ticket_C.A. 33111</th>         <td>   -0.1751</td> <td>    3.051</td> <td>   -0.057</td> <td> 0.954</td> <td>   -6.217</td> <td>    5.867</td>\n",
       "</tr>\n",
       "<tr>\n",
       "  <th>Ticket_C.A. 33112</th>         <td>   -0.1751</td> <td>   16.570</td> <td>   -0.011</td> <td> 0.992</td> <td>  -32.986</td> <td>   32.636</td>\n",
       "</tr>\n",
       "<tr>\n",
       "  <th>Ticket_C.A. 33595</th>         <td>    0.4863</td> <td>    0.948</td> <td>    0.513</td> <td> 0.609</td> <td>   -1.390</td> <td>    2.363</td>\n",
       "</tr>\n",
       "<tr>\n",
       "  <th>Ticket_C.A. 34260</th>         <td>    0.0905</td> <td>    9.406</td> <td>    0.010</td> <td> 0.992</td> <td>  -18.534</td> <td>   18.715</td>\n",
       "</tr>\n",
       "<tr>\n",
       "  <th>Ticket_C.A. 34651</th>         <td>    0.1556</td> <td>    9.850</td> <td>    0.016</td> <td> 0.987</td> <td>  -19.348</td> <td>   19.659</td>\n",
       "</tr>\n",
       "<tr>\n",
       "  <th>Ticket_C.A. 37671</th>         <td>    0.8249</td> <td>    1.052</td> <td>    0.784</td> <td> 0.435</td> <td>   -1.259</td> <td>    2.909</td>\n",
       "</tr>\n",
       "<tr>\n",
       "  <th>Ticket_C.A. 5547</th>          <td>   -0.1751</td> <td>    5.246</td> <td>   -0.033</td> <td> 0.973</td> <td>  -10.564</td> <td>   10.213</td>\n",
       "</tr>\n",
       "<tr>\n",
       "  <th>Ticket_C.A. 6212</th>          <td>   -0.1751</td> <td>    0.521</td> <td>   -0.336</td> <td> 0.737</td> <td>   -1.207</td> <td>    0.856</td>\n",
       "</tr>\n",
       "<tr>\n",
       "  <th>Ticket_C.A./SOTON 34068</th>   <td>-7.596e-17</td> <td>  2.6e-16</td> <td>   -0.292</td> <td> 0.771</td> <td>-5.91e-16</td> <td> 4.39e-16</td>\n",
       "</tr>\n",
       "<tr>\n",
       "  <th>Ticket_CA 2144</th>            <td>   -0.2428</td> <td>   24.146</td> <td>   -0.010</td> <td> 0.992</td> <td>  -48.055</td> <td>   47.569</td>\n",
       "</tr>\n",
       "<tr>\n",
       "  <th>Ticket_CA. 2314</th>           <td>    0.4863</td> <td>    5.247</td> <td>    0.093</td> <td> 0.926</td> <td>   -9.903</td> <td>   10.875</td>\n",
       "</tr>\n",
       "<tr>\n",
       "  <th>Ticket_CA. 2343</th>           <td>   -0.3444</td> <td>   41.058</td> <td>   -0.008</td> <td> 0.993</td> <td>  -81.644</td> <td>   80.955</td>\n",
       "</tr>\n",
       "<tr>\n",
       "  <th>Ticket_F.C. 12750</th>         <td>   -0.1949</td> <td>    2.329</td> <td>   -0.084</td> <td> 0.933</td> <td>   -4.807</td> <td>    4.417</td>\n",
       "</tr>\n",
       "<tr>\n",
       "  <th>Ticket_F.C.C. 13528</th>       <td>    0.4863</td> <td>    4.818</td> <td>    0.101</td> <td> 0.920</td> <td>   -9.055</td> <td>   10.027</td>\n",
       "</tr>\n",
       "<tr>\n",
       "  <th>Ticket_F.C.C. 13529</th>       <td>   -0.1751</td> <td>    8.733</td> <td>   -0.020</td> <td> 0.984</td> <td>  -17.468</td> <td>   17.117</td>\n",
       "</tr>\n",
       "<tr>\n",
       "  <th>Ticket_F.C.C. 13531</th>       <td>  4.14e-16</td> <td> 2.44e-16</td> <td>    1.694</td> <td> 0.093</td> <td>-6.99e-17</td> <td> 8.98e-16</td>\n",
       "</tr>\n",
       "<tr>\n",
       "  <th>Ticket_Fa 265302</th>          <td>   -0.1751</td> <td>    5.423</td> <td>   -0.032</td> <td> 0.974</td> <td>  -10.914</td> <td>   10.564</td>\n",
       "</tr>\n",
       "<tr>\n",
       "  <th>Ticket_LINE</th>               <td>    0.1582</td> <td>   10.875</td> <td>    0.015</td> <td> 0.988</td> <td>  -21.376</td> <td>   21.692</td>\n",
       "</tr>\n",
       "<tr>\n",
       "  <th>Ticket_P/PP 3381</th>          <td>    0.0739</td> <td>    0.614</td> <td>    0.120</td> <td> 0.904</td> <td>   -1.143</td> <td>    1.291</td>\n",
       "</tr>\n",
       "<tr>\n",
       "  <th>Ticket_PC 17318</th>           <td> 2.499e-16</td> <td> 2.14e-16</td> <td>    1.170</td> <td> 0.244</td> <td>-1.73e-16</td> <td> 6.73e-16</td>\n",
       "</tr>\n",
       "<tr>\n",
       "  <th>Ticket_PC 17473</th>           <td>    0.2034</td> <td>    4.882</td> <td>    0.042</td> <td> 0.967</td> <td>   -9.463</td> <td>    9.870</td>\n",
       "</tr>\n",
       "<tr>\n",
       "  <th>Ticket_PC 17474</th>           <td>    0.2034</td> <td>    4.807</td> <td>    0.042</td> <td> 0.966</td> <td>   -9.316</td> <td>    9.722</td>\n",
       "</tr>\n",
       "<tr>\n",
       "  <th>Ticket_PC 17475</th>           <td>    0.2034</td> <td>    4.857</td> <td>    0.042</td> <td> 0.967</td> <td>   -9.414</td> <td>    9.821</td>\n",
       "</tr>\n",
       "<tr>\n",
       "  <th>Ticket_PC 17476</th>           <td>    0.2034</td> <td>    4.857</td> <td>    0.042</td> <td> 0.967</td> <td>   -9.414</td> <td>    9.821</td>\n",
       "</tr>\n",
       "<tr>\n",
       "  <th>Ticket_PC 17477</th>           <td>    0.0950</td> <td>    5.545</td> <td>    0.017</td> <td> 0.986</td> <td>  -10.885</td> <td>   11.075</td>\n",
       "</tr>\n",
       "<tr>\n",
       "  <th>Ticket_PC 17482</th>           <td>    0.0950</td> <td>    1.855</td> <td>    0.051</td> <td> 0.959</td> <td>   -3.579</td> <td>    3.769</td>\n",
       "</tr>\n",
       "<tr>\n",
       "  <th>Ticket_PC 17483</th>           <td> 2.001e-16</td> <td> 2.24e-16</td> <td>    0.895</td> <td> 0.372</td> <td>-2.42e-16</td> <td> 6.43e-16</td>\n",
       "</tr>\n",
       "<tr>\n",
       "  <th>Ticket_PC 17485</th>           <td>    0.2395</td> <td>    1.242</td> <td>    0.193</td> <td> 0.847</td> <td>   -2.220</td> <td>    2.699</td>\n",
       "</tr>\n",
       "<tr>\n",
       "  <th>Ticket_PC 17558</th>           <td>-2.441e-16</td> <td> 1.86e-16</td> <td>   -1.309</td> <td> 0.193</td> <td>-6.13e-16</td> <td> 1.25e-16</td>\n",
       "</tr>\n",
       "<tr>\n",
       "  <th>Ticket_PC 17569</th>           <td>    0.1266</td> <td>   45.830</td> <td>    0.003</td> <td> 0.998</td> <td>  -90.621</td> <td>   90.874</td>\n",
       "</tr>\n",
       "<tr>\n",
       "  <th>Ticket_PC 17572</th>           <td>    0.2960</td> <td>   11.089</td> <td>    0.027</td> <td> 0.979</td> <td>  -21.662</td> <td>   22.254</td>\n",
       "</tr>\n",
       "<tr>\n",
       "  <th>Ticket_PC 17582</th>           <td>   -0.0394</td> <td>   53.604</td> <td>   -0.001</td> <td> 0.999</td> <td> -106.182</td> <td>  106.103</td>\n",
       "</tr>\n",
       "<tr>\n",
       "  <th>Ticket_PC 17585</th>           <td>    0.4046</td> <td>   41.786</td> <td>    0.010</td> <td> 0.992</td> <td>  -82.335</td> <td>   83.145</td>\n",
       "</tr>\n",
       "<tr>\n",
       "  <th>Ticket_PC 17590</th>           <td>   -0.1949</td> <td>    1.770</td> <td>   -0.110</td> <td> 0.912</td> <td>   -3.699</td> <td>    3.309</td>\n",
       "</tr>\n",
       "<tr>\n",
       "  <th>Ticket_PC 17592</th>           <td>-1.389e-16</td> <td> 2.22e-16</td> <td>   -0.627</td> <td> 0.532</td> <td>-5.77e-16</td> <td>    3e-16</td>\n",
       "</tr>\n",
       "<tr>\n",
       "  <th>Ticket_PC 17593</th>           <td>   -0.2357</td> <td>    9.240</td> <td>   -0.026</td> <td> 0.980</td> <td>  -18.532</td> <td>   18.061</td>\n",
       "</tr>\n",
       "<tr>\n",
       "  <th>Ticket_PC 17595</th>           <td>   -0.4050</td> <td>    9.612</td> <td>   -0.042</td> <td> 0.966</td> <td>  -19.437</td> <td>   18.627</td>\n",
       "</tr>\n",
       "<tr>\n",
       "  <th>Ticket_PC 17596</th>           <td>   -0.2357</td> <td>    9.243</td> <td>   -0.025</td> <td> 0.980</td> <td>  -18.538</td> <td>   18.066</td>\n",
       "</tr>\n",
       "<tr>\n",
       "  <th>Ticket_PC 17597</th>           <td>   -0.2567</td> <td>   28.480</td> <td>   -0.009</td> <td> 0.993</td> <td>  -56.650</td> <td>   56.136</td>\n",
       "</tr>\n",
       "<tr>\n",
       "  <th>Ticket_PC 17599</th>           <td>    0.0950</td> <td>    6.285</td> <td>    0.015</td> <td> 0.988</td> <td>  -12.350</td> <td>   12.540</td>\n",
       "</tr>\n",
       "<tr>\n",
       "  <th>Ticket_PC 17600</th>           <td>   -0.2567</td> <td>    5.577</td> <td>   -0.046</td> <td> 0.963</td> <td>  -11.300</td> <td>   10.787</td>\n",
       "</tr>\n",
       "<tr>\n",
       "  <th>Ticket_PC 17601</th>           <td>   -0.2567</td> <td>    3.362</td> <td>   -0.076</td> <td> 0.939</td> <td>   -6.915</td> <td>    6.401</td>\n",
       "</tr>\n",
       "<tr>\n",
       "  <th>Ticket_PC 17603</th>           <td>    0.4046</td> <td>   27.002</td> <td>    0.015</td> <td> 0.988</td> <td>  -53.063</td> <td>   53.872</td>\n",
       "</tr>\n",
       "<tr>\n",
       "  <th>Ticket_PC 17604</th>           <td>    0.0739</td> <td>   44.003</td> <td>    0.002</td> <td> 0.999</td> <td>  -87.057</td> <td>   87.205</td>\n",
       "</tr>\n",
       "<tr>\n",
       "  <th>Ticket_PC 17605</th>           <td>   -0.2567</td> <td>    3.362</td> <td>   -0.076</td> <td> 0.939</td> <td>   -6.915</td> <td>    6.401</td>\n",
       "</tr>\n",
       "<tr>\n",
       "  <th>Ticket_PC 17608</th>           <td> 2.324e-17</td> <td> 1.88e-16</td> <td>    0.124</td> <td> 0.902</td> <td>-3.49e-16</td> <td> 3.95e-16</td>\n",
       "</tr>\n",
       "<tr>\n",
       "  <th>Ticket_PC 17609</th>           <td>   -0.2567</td> <td>   19.614</td> <td>   -0.013</td> <td> 0.990</td> <td>  -39.094</td> <td>   38.581</td>\n",
       "</tr>\n",
       "<tr>\n",
       "  <th>Ticket_PC 17610</th>           <td>    0.0950</td> <td>    9.982</td> <td>    0.010</td> <td> 0.992</td> <td>  -19.670</td> <td>   19.860</td>\n",
       "</tr>\n",
       "<tr>\n",
       "  <th>Ticket_PC 17611</th>           <td>    0.8249</td> <td>   88.921</td> <td>    0.009</td> <td> 0.993</td> <td> -175.247</td> <td>  176.896</td>\n",
       "</tr>\n",
       "<tr>\n",
       "  <th>Ticket_PC 17612</th>           <td>   -0.2567</td> <td>    3.362</td> <td>   -0.076</td> <td> 0.939</td> <td>   -6.915</td> <td>    6.401</td>\n",
       "</tr>\n",
       "<tr>\n",
       "  <th>Ticket_PC 17754</th>           <td>   -0.2357</td> <td>    7.394</td> <td>   -0.032</td> <td> 0.975</td> <td>  -14.876</td> <td>   14.405</td>\n",
       "</tr>\n",
       "<tr>\n",
       "  <th>Ticket_PC 17755</th>           <td> 1.064e-17</td> <td> 1.82e-16</td> <td>    0.058</td> <td> 0.954</td> <td> -3.5e-16</td> <td> 3.71e-16</td>\n",
       "</tr>\n",
       "<tr>\n",
       "  <th>Ticket_PC 17756</th>           <td>    0.0950</td> <td>   10.718</td> <td>    0.009</td> <td> 0.993</td> <td>  -21.127</td> <td>   21.317</td>\n",
       "</tr>\n",
       "<tr>\n",
       "  <th>Ticket_PC 17757</th>           <td>-3.061e-16</td> <td> 1.75e-16</td> <td>   -1.751</td> <td> 0.083</td> <td>-6.52e-16</td> <td> 4.01e-17</td>\n",
       "</tr>\n",
       "<tr>\n",
       "  <th>Ticket_PC 17758</th>           <td>   -0.0704</td> <td>   20.327</td> <td>   -0.003</td> <td> 0.997</td> <td>  -40.320</td> <td>   40.179</td>\n",
       "</tr>\n",
       "<tr>\n",
       "  <th>Ticket_PC 17759</th>           <td>    0.2643</td> <td>    3.328</td> <td>    0.079</td> <td> 0.937</td> <td>   -6.326</td> <td>    6.855</td>\n",
       "</tr>\n",
       "<tr>\n",
       "  <th>Ticket_PC 17760</th>           <td>    0.1539</td> <td>   42.570</td> <td>    0.004</td> <td> 0.997</td> <td>  -84.139</td> <td>   84.446</td>\n",
       "</tr>\n",
       "<tr>\n",
       "  <th>Ticket_PC 17761</th>           <td>    0.4046</td> <td>   62.114</td> <td>    0.007</td> <td> 0.995</td> <td> -122.586</td> <td>  123.396</td>\n",
       "</tr>\n",
       "<tr>\n",
       "  <th>Ticket_PP 4348</th>            <td>   -0.1751</td> <td>    3.906</td> <td>   -0.045</td> <td> 0.964</td> <td>   -7.910</td> <td>    7.559</td>\n",
       "</tr>\n",
       "<tr>\n",
       "  <th>Ticket_PP 9549</th>            <td>    0.4239</td> <td>    5.687</td> <td>    0.075</td> <td> 0.941</td> <td>  -10.837</td> <td>   11.685</td>\n",
       "</tr>\n",
       "<tr>\n",
       "  <th>Ticket_S.C./A.4. 23567</th>    <td>   -0.1751</td> <td>    4.874</td> <td>   -0.036</td> <td> 0.971</td> <td>   -9.826</td> <td>    9.476</td>\n",
       "</tr>\n",
       "<tr>\n",
       "  <th>Ticket_S.C./PARIS 2079</th>    <td>    0.2433</td> <td>   10.280</td> <td>    0.024</td> <td> 0.981</td> <td>  -20.113</td> <td>   20.600</td>\n",
       "</tr>\n",
       "<tr>\n",
       "  <th>Ticket_S.O./P.P. 3</th>        <td>   -0.1751</td> <td>    3.051</td> <td>   -0.057</td> <td> 0.954</td> <td>   -6.217</td> <td>    5.867</td>\n",
       "</tr>\n",
       "<tr>\n",
       "  <th>Ticket_S.O./P.P. 751</th>      <td>   -0.1751</td> <td>    5.246</td> <td>   -0.033</td> <td> 0.973</td> <td>  -10.564</td> <td>   10.213</td>\n",
       "</tr>\n",
       "<tr>\n",
       "  <th>Ticket_S.O.C. 14879</th>       <td>   -0.1751</td> <td>   44.008</td> <td>   -0.004</td> <td> 0.997</td> <td>  -87.315</td> <td>   86.965</td>\n",
       "</tr>\n",
       "<tr>\n",
       "  <th>Ticket_S.O.P. 1166</th>        <td>-1.131e-16</td> <td> 1.41e-16</td> <td>   -0.802</td> <td> 0.424</td> <td>-3.92e-16</td> <td> 1.66e-16</td>\n",
       "</tr>\n",
       "<tr>\n",
       "  <th>Ticket_S.P. 3464</th>          <td>   -0.1751</td> <td>    4.793</td> <td>   -0.037</td> <td> 0.971</td> <td>   -9.666</td> <td>    9.316</td>\n",
       "</tr>\n",
       "<tr>\n",
       "  <th>Ticket_S.W./PP 752</th>        <td>    0.8249</td> <td>    3.051</td> <td>    0.270</td> <td> 0.787</td> <td>   -5.217</td> <td>    6.867</td>\n",
       "</tr>\n",
       "<tr>\n",
       "  <th>Ticket_SC 1748</th>            <td> 1.219e-17</td> <td> 1.66e-16</td> <td>    0.073</td> <td> 0.942</td> <td>-3.17e-16</td> <td> 3.42e-16</td>\n",
       "</tr>\n",
       "<tr>\n",
       "  <th>Ticket_SC/AH 29037</th>        <td> 7.618e-17</td> <td> 1.42e-16</td> <td>    0.535</td> <td> 0.593</td> <td>-2.06e-16</td> <td> 3.58e-16</td>\n",
       "</tr>\n",
       "<tr>\n",
       "  <th>Ticket_SC/AH 3085</th>         <td>-1.344e-17</td> <td> 1.47e-16</td> <td>   -0.092</td> <td> 0.927</td> <td>-3.04e-16</td> <td> 2.77e-16</td>\n",
       "</tr>\n",
       "<tr>\n",
       "  <th>Ticket_SC/AH Basle 541</th>    <td>-8.748e-17</td> <td> 1.53e-16</td> <td>   -0.571</td> <td> 0.569</td> <td>-3.91e-16</td> <td> 2.16e-16</td>\n",
       "</tr>\n",
       "<tr>\n",
       "  <th>Ticket_SC/PARIS 2131</th>      <td>   -0.2567</td> <td>    6.124</td> <td>   -0.042</td> <td> 0.967</td> <td>  -12.382</td> <td>   11.869</td>\n",
       "</tr>\n",
       "<tr>\n",
       "  <th>Ticket_SC/PARIS 2133</th>      <td>   -0.2567</td> <td>    6.127</td> <td>   -0.042</td> <td> 0.967</td> <td>  -12.389</td> <td>   11.875</td>\n",
       "</tr>\n",
       "<tr>\n",
       "  <th>Ticket_SC/PARIS 2146</th>      <td>    0.7433</td> <td>    7.009</td> <td>    0.106</td> <td> 0.916</td> <td>  -13.136</td> <td>   14.622</td>\n",
       "</tr>\n",
       "<tr>\n",
       "  <th>Ticket_SC/PARIS 2149</th>      <td> 6.056e-17</td> <td> 1.48e-16</td> <td>    0.410</td> <td> 0.682</td> <td>-2.32e-16</td> <td> 3.53e-16</td>\n",
       "</tr>\n",
       "<tr>\n",
       "  <th>Ticket_SC/PARIS 2167</th>      <td>   -0.2567</td> <td>    3.362</td> <td>   -0.076</td> <td> 0.939</td> <td>   -6.915</td> <td>    6.401</td>\n",
       "</tr>\n",
       "<tr>\n",
       "  <th>Ticket_SC/Paris 2123</th>      <td>    0.0739</td> <td>   13.696</td> <td>    0.005</td> <td> 0.996</td> <td>  -27.045</td> <td>   27.193</td>\n",
       "</tr>\n",
       "<tr>\n",
       "  <th>Ticket_SC/Paris 2163</th>      <td>   -0.4048</td> <td>   12.542</td> <td>   -0.032</td> <td> 0.974</td> <td>  -25.239</td> <td>   24.429</td>\n",
       "</tr>\n",
       "<tr>\n",
       "  <th>Ticket_SCO/W 1585</th>         <td>   -0.1751</td> <td>    1.740</td> <td>   -0.101</td> <td> 0.920</td> <td>   -3.620</td> <td>    3.270</td>\n",
       "</tr>\n",
       "<tr>\n",
       "  <th>Ticket_SO/C 14885</th>         <td>    0.4863</td> <td>    3.052</td> <td>    0.159</td> <td> 0.874</td> <td>   -5.556</td> <td>    6.529</td>\n",
       "</tr>\n",
       "<tr>\n",
       "  <th>Ticket_SOTON/O.Q. 3101305</th> <td> 1.966e-16</td> <td> 1.16e-16</td> <td>    1.699</td> <td> 0.092</td> <td>-3.25e-17</td> <td> 4.26e-16</td>\n",
       "</tr>\n",
       "<tr>\n",
       "  <th>Ticket_SOTON/O.Q. 3101306</th> <td>   -0.1751</td> <td>    5.619</td> <td>   -0.031</td> <td> 0.975</td> <td>  -11.302</td> <td>   10.951</td>\n",
       "</tr>\n",
       "<tr>\n",
       "  <th>Ticket_SOTON/O.Q. 3101307</th> <td>   -0.1751</td> <td>    5.619</td> <td>   -0.031</td> <td> 0.975</td> <td>  -11.302</td> <td>   10.951</td>\n",
       "</tr>\n",
       "<tr>\n",
       "  <th>Ticket_SOTON/O.Q. 3101310</th> <td>-9.293e-17</td> <td> 1.09e-16</td> <td>   -0.852</td> <td> 0.396</td> <td>-3.09e-16</td> <td> 1.23e-16</td>\n",
       "</tr>\n",
       "<tr>\n",
       "  <th>Ticket_SOTON/O.Q. 3101311</th> <td>   -0.1751</td> <td>    5.619</td> <td>   -0.031</td> <td> 0.975</td> <td>  -11.302</td> <td>   10.951</td>\n",
       "</tr>\n",
       "<tr>\n",
       "  <th>Ticket_SOTON/O.Q. 3101312</th> <td>   -0.1751</td> <td>    5.619</td> <td>   -0.031</td> <td> 0.975</td> <td>  -11.302</td> <td>   10.951</td>\n",
       "</tr>\n",
       "<tr>\n",
       "  <th>Ticket_SOTON/O.Q. 392078</th>  <td>    0.3051</td> <td>   14.086</td> <td>    0.022</td> <td> 0.983</td> <td>  -27.586</td> <td>   28.196</td>\n",
       "</tr>\n",
       "<tr>\n",
       "  <th>Ticket_SOTON/O.Q. 392087</th>  <td>   -0.5137</td> <td>    4.874</td> <td>   -0.105</td> <td> 0.916</td> <td>  -10.165</td> <td>    9.138</td>\n",
       "</tr>\n",
       "<tr>\n",
       "  <th>Ticket_SOTON/O2 3101272</th>   <td>   -0.1751</td> <td>    5.563</td> <td>   -0.031</td> <td> 0.975</td> <td>  -11.191</td> <td>   10.841</td>\n",
       "</tr>\n",
       "<tr>\n",
       "  <th>Ticket_SOTON/O2 3101287</th>   <td>   -0.1751</td> <td>    4.967</td> <td>   -0.035</td> <td> 0.972</td> <td>  -10.010</td> <td>    9.660</td>\n",
       "</tr>\n",
       "<tr>\n",
       "  <th>Ticket_SOTON/OQ 3101316</th>   <td>   -0.1751</td> <td>    4.874</td> <td>   -0.036</td> <td> 0.971</td> <td>   -9.826</td> <td>    9.476</td>\n",
       "</tr>\n",
       "<tr>\n",
       "  <th>Ticket_SOTON/OQ 3101317</th>   <td>   -0.1751</td> <td>    5.470</td> <td>   -0.032</td> <td> 0.975</td> <td>  -11.006</td> <td>   10.656</td>\n",
       "</tr>\n",
       "<tr>\n",
       "  <th>Ticket_SOTON/OQ 392076</th>    <td>   -0.1751</td> <td>    5.619</td> <td>   -0.031</td> <td> 0.975</td> <td>  -11.302</td> <td>   10.951</td>\n",
       "</tr>\n",
       "<tr>\n",
       "  <th>Ticket_SOTON/OQ 392082</th>    <td> 2.472e-17</td> <td> 1.08e-16</td> <td>    0.228</td> <td> 0.820</td> <td> -1.9e-16</td> <td> 2.39e-16</td>\n",
       "</tr>\n",
       "<tr>\n",
       "  <th>Ticket_SOTON/OQ 392086</th>    <td>   -0.1751</td> <td>    4.874</td> <td>   -0.036</td> <td> 0.971</td> <td>   -9.826</td> <td>    9.476</td>\n",
       "</tr>\n",
       "<tr>\n",
       "  <th>Ticket_SOTON/OQ 392089</th>    <td>    0.8249</td> <td>    4.874</td> <td>    0.169</td> <td> 0.866</td> <td>   -8.826</td> <td>   10.476</td>\n",
       "</tr>\n",
       "<tr>\n",
       "  <th>Ticket_SOTON/OQ 392090</th>    <td>   -0.1751</td> <td>    4.874</td> <td>   -0.036</td> <td> 0.971</td> <td>   -9.826</td> <td>    9.476</td>\n",
       "</tr>\n",
       "<tr>\n",
       "  <th>Ticket_STON/O 2. 3101269</th>  <td>    0.8249</td> <td>    4.967</td> <td>    0.166</td> <td> 0.868</td> <td>   -9.010</td> <td>   10.660</td>\n",
       "</tr>\n",
       "<tr>\n",
       "  <th>Ticket_STON/O 2. 3101273</th>  <td>   -0.1751</td> <td>    5.563</td> <td>   -0.031</td> <td> 0.975</td> <td>  -11.191</td> <td>   10.841</td>\n",
       "</tr>\n",
       "<tr>\n",
       "  <th>Ticket_STON/O 2. 3101274</th>  <td>-7.078e-17</td> <td> 8.57e-17</td> <td>   -0.826</td> <td> 0.410</td> <td> -2.4e-16</td> <td> 9.88e-17</td>\n",
       "</tr>\n",
       "<tr>\n",
       "  <th>Ticket_STON/O 2. 3101275</th>  <td>   -0.1751</td> <td>    5.563</td> <td>   -0.031</td> <td> 0.975</td> <td>  -11.191</td> <td>   10.841</td>\n",
       "</tr>\n",
       "<tr>\n",
       "  <th>Ticket_STON/O 2. 3101280</th>  <td>   -0.1751</td> <td>    4.967</td> <td>   -0.035</td> <td> 0.972</td> <td>  -10.010</td> <td>    9.660</td>\n",
       "</tr>\n",
       "<tr>\n",
       "  <th>Ticket_STON/O 2. 3101285</th>  <td> 2.764e-17</td> <td> 9.22e-17</td> <td>    0.300</td> <td> 0.765</td> <td>-1.55e-16</td> <td>  2.1e-16</td>\n",
       "</tr>\n",
       "<tr>\n",
       "  <th>Ticket_STON/O 2. 3101286</th>  <td>-6.098e-17</td> <td> 6.03e-17</td> <td>   -1.011</td> <td> 0.314</td> <td> -1.8e-16</td> <td> 5.85e-17</td>\n",
       "</tr>\n",
       "<tr>\n",
       "  <th>Ticket_STON/O 2. 3101288</th>  <td>    0.8249</td> <td>    4.967</td> <td>    0.166</td> <td> 0.868</td> <td>   -9.010</td> <td>   10.660</td>\n",
       "</tr>\n",
       "<tr>\n",
       "  <th>Ticket_STON/O 2. 3101289</th>  <td>    0.8249</td> <td>    4.967</td> <td>    0.166</td> <td> 0.868</td> <td>   -9.010</td> <td>   10.660</td>\n",
       "</tr>\n",
       "<tr>\n",
       "  <th>Ticket_STON/O 2. 3101292</th>  <td>   -0.1751</td> <td>    4.967</td> <td>   -0.035</td> <td> 0.972</td> <td>  -10.010</td> <td>    9.660</td>\n",
       "</tr>\n",
       "<tr>\n",
       "  <th>Ticket_STON/O 2. 3101293</th>  <td>   -0.1751</td> <td>    4.967</td> <td>   -0.035</td> <td> 0.972</td> <td>  -10.010</td> <td>    9.660</td>\n",
       "</tr>\n",
       "<tr>\n",
       "  <th>Ticket_STON/O 2. 3101294</th>  <td>   -0.1751</td> <td>    4.967</td> <td>   -0.035</td> <td> 0.972</td> <td>  -10.010</td> <td>    9.660</td>\n",
       "</tr>\n",
       "<tr>\n",
       "  <th>Ticket_STON/O2. 3101271</th>   <td>   -0.5137</td> <td>    4.967</td> <td>   -0.103</td> <td> 0.918</td> <td>  -10.349</td> <td>    9.322</td>\n",
       "</tr>\n",
       "<tr>\n",
       "  <th>Ticket_STON/O2. 3101279</th>   <td>    0.1556</td> <td>    0.990</td> <td>    0.157</td> <td> 0.875</td> <td>   -1.804</td> <td>    2.115</td>\n",
       "</tr>\n",
       "<tr>\n",
       "  <th>Ticket_STON/O2. 3101282</th>   <td>    0.4863</td> <td>    4.967</td> <td>    0.098</td> <td> 0.922</td> <td>   -9.349</td> <td>   10.322</td>\n",
       "</tr>\n",
       "<tr>\n",
       "  <th>Ticket_STON/O2. 3101283</th>   <td> 7.597e-17</td> <td> 8.48e-17</td> <td>    0.896</td> <td> 0.372</td> <td>-9.19e-17</td> <td> 2.44e-16</td>\n",
       "</tr>\n",
       "<tr>\n",
       "  <th>Ticket_STON/O2. 3101290</th>   <td>   -0.5137</td> <td>    4.967</td> <td>   -0.103</td> <td> 0.918</td> <td>  -10.349</td> <td>    9.322</td>\n",
       "</tr>\n",
       "<tr>\n",
       "  <th>Ticket_SW/PP 751</th>          <td>    0.8249</td> <td>    3.051</td> <td>    0.270</td> <td> 0.787</td> <td>   -5.217</td> <td>    6.867</td>\n",
       "</tr>\n",
       "<tr>\n",
       "  <th>Ticket_W./C. 14258</th>        <td>    0.4863</td> <td>    3.052</td> <td>    0.159</td> <td> 0.874</td> <td>   -5.556</td> <td>    6.529</td>\n",
       "</tr>\n",
       "<tr>\n",
       "  <th>Ticket_W./C. 14263</th>        <td> 1.008e-16</td> <td> 5.83e-17</td> <td>    1.730</td> <td> 0.086</td> <td>-1.46e-17</td> <td> 2.16e-16</td>\n",
       "</tr>\n",
       "<tr>\n",
       "  <th>Ticket_W./C. 6607</th>         <td>   -0.1751</td> <td>    6.644</td> <td>   -0.026</td> <td> 0.979</td> <td>  -13.332</td> <td>   12.982</td>\n",
       "</tr>\n",
       "<tr>\n",
       "  <th>Ticket_W./C. 6608</th>         <td>   -0.4009</td> <td>   14.795</td> <td>   -0.027</td> <td> 0.978</td> <td>  -29.696</td> <td>   28.894</td>\n",
       "</tr>\n",
       "<tr>\n",
       "  <th>Ticket_W./C. 6609</th>         <td> 3.777e-18</td> <td> 3.71e-17</td> <td>    0.102</td> <td> 0.919</td> <td>-6.97e-17</td> <td> 7.72e-17</td>\n",
       "</tr>\n",
       "<tr>\n",
       "  <th>Ticket_W.E.P. 5734</th>        <td>   -0.1949</td> <td>    5.751</td> <td>   -0.034</td> <td> 0.973</td> <td>  -11.583</td> <td>   11.193</td>\n",
       "</tr>\n",
       "<tr>\n",
       "  <th>Ticket_W/C 14208</th>          <td> 5.038e-17</td> <td> 3.01e-17</td> <td>    1.671</td> <td> 0.097</td> <td>-9.31e-18</td> <td>  1.1e-16</td>\n",
       "</tr>\n",
       "<tr>\n",
       "  <th>Ticket_WE/P 5735</th>          <td>   -0.0295</td> <td>    9.418</td> <td>   -0.003</td> <td> 0.998</td> <td>  -18.677</td> <td>   18.618</td>\n",
       "</tr>\n",
       "<tr>\n",
       "  <th>Cabin_A10</th>                 <td>-3.226e-17</td> <td> 5.72e-17</td> <td>   -0.564</td> <td> 0.574</td> <td>-1.45e-16</td> <td>  8.1e-17</td>\n",
       "</tr>\n",
       "<tr>\n",
       "  <th>Cabin_A14</th>                 <td>   -0.1299</td> <td>    1.569</td> <td>   -0.083</td> <td> 0.934</td> <td>   -3.236</td> <td>    2.976</td>\n",
       "</tr>\n",
       "<tr>\n",
       "  <th>Cabin_A16</th>                 <td>    0.0950</td> <td>    5.548</td> <td>    0.017</td> <td> 0.986</td> <td>  -10.891</td> <td>   11.081</td>\n",
       "</tr>\n",
       "<tr>\n",
       "  <th>Cabin_A19</th>                 <td>   -0.1949</td> <td>    7.385</td> <td>   -0.026</td> <td> 0.979</td> <td>  -14.818</td> <td>   14.429</td>\n",
       "</tr>\n",
       "<tr>\n",
       "  <th>Cabin_A20</th>                 <td>    0.2891</td> <td>    0.665</td> <td>    0.435</td> <td> 0.664</td> <td>   -1.027</td> <td>    1.605</td>\n",
       "</tr>\n",
       "<tr>\n",
       "  <th>Cabin_A23</th>                 <td>    0.3051</td> <td>    5.892</td> <td>    0.052</td> <td> 0.959</td> <td>  -11.362</td> <td>   11.973</td>\n",
       "</tr>\n",
       "<tr>\n",
       "  <th>Cabin_A24</th>                 <td>   -0.1949</td> <td>    1.770</td> <td>   -0.110</td> <td> 0.912</td> <td>   -3.699</td> <td>    3.309</td>\n",
       "</tr>\n",
       "<tr>\n",
       "  <th>Cabin_A26</th>                 <td>    0.2643</td> <td>    7.078</td> <td>    0.037</td> <td> 0.970</td> <td>  -13.751</td> <td>   14.280</td>\n",
       "</tr>\n",
       "<tr>\n",
       "  <th>Cabin_A31</th>                 <td>    0.2643</td> <td>    8.758</td> <td>    0.030</td> <td> 0.976</td> <td>  -17.077</td> <td>   17.606</td>\n",
       "</tr>\n",
       "<tr>\n",
       "  <th>Cabin_A32</th>                 <td> 1.286e-17</td> <td> 2.07e-17</td> <td>    0.620</td> <td> 0.536</td> <td>-2.82e-17</td> <td> 5.39e-17</td>\n",
       "</tr>\n",
       "<tr>\n",
       "  <th>Cabin_A34</th>                 <td>         0</td> <td>        0</td> <td>      nan</td> <td>   nan</td> <td>        0</td> <td>        0</td>\n",
       "</tr>\n",
       "<tr>\n",
       "  <th>Cabin_A36</th>                 <td>   -0.1949</td> <td>   17.091</td> <td>   -0.011</td> <td> 0.991</td> <td>  -34.037</td> <td>   33.647</td>\n",
       "</tr>\n",
       "<tr>\n",
       "  <th>Cabin_A5</th>                  <td>   -0.2357</td> <td>    7.394</td> <td>   -0.032</td> <td> 0.975</td> <td>  -14.876</td> <td>   14.405</td>\n",
       "</tr>\n",
       "<tr>\n",
       "  <th>Cabin_A6</th>                  <td>         0</td> <td>        0</td> <td>      nan</td> <td>   nan</td> <td>        0</td> <td>        0</td>\n",
       "</tr>\n",
       "<tr>\n",
       "  <th>Cabin_A7</th>                  <td>   -0.2357</td> <td>    8.871</td> <td>   -0.027</td> <td> 0.979</td> <td>  -17.802</td> <td>   17.330</td>\n",
       "</tr>\n",
       "<tr>\n",
       "  <th>Cabin_B101</th>                <td>         0</td> <td>        0</td> <td>      nan</td> <td>   nan</td> <td>        0</td> <td>        0</td>\n",
       "</tr>\n",
       "<tr>\n",
       "  <th>Cabin_B102</th>                <td>   -0.1949</td> <td>   17.091</td> <td>   -0.011</td> <td> 0.991</td> <td>  -34.037</td> <td>   33.647</td>\n",
       "</tr>\n",
       "<tr>\n",
       "  <th>Cabin_B18</th>                 <td>    0.0950</td> <td>    1.327</td> <td>    0.072</td> <td> 0.943</td> <td>   -2.532</td> <td>    2.722</td>\n",
       "</tr>\n",
       "<tr>\n",
       "  <th>Cabin_B19</th>                 <td>   -0.1949</td> <td>    4.586</td> <td>   -0.042</td> <td> 0.966</td> <td>   -9.276</td> <td>    8.887</td>\n",
       "</tr>\n",
       "<tr>\n",
       "  <th>Cabin_B20</th>                 <td>    0.2205</td> <td>    4.192</td> <td>    0.053</td> <td> 0.958</td> <td>   -8.080</td> <td>    8.520</td>\n",
       "</tr>\n",
       "<tr>\n",
       "  <th>Cabin_B22</th>                 <td>   -0.0295</td> <td>    9.418</td> <td>   -0.003</td> <td> 0.998</td> <td>  -18.677</td> <td>   18.618</td>\n",
       "</tr>\n",
       "<tr>\n",
       "  <th>Cabin_B28</th>                 <td>    0.1358</td> <td>   12.777</td> <td>    0.011</td> <td> 0.992</td> <td>  -25.165</td> <td>   25.436</td>\n",
       "</tr>\n",
       "<tr>\n",
       "  <th>Cabin_B3</th>                  <td>         0</td> <td>        0</td> <td>      nan</td> <td>   nan</td> <td>        0</td> <td>        0</td>\n",
       "</tr>\n",
       "<tr>\n",
       "  <th>Cabin_B30</th>                 <td>   -0.2357</td> <td>    2.814</td> <td>   -0.084</td> <td> 0.933</td> <td>   -5.808</td> <td>    5.337</td>\n",
       "</tr>\n",
       "<tr>\n",
       "  <th>Cabin_B35</th>                 <td>    0.0950</td> <td>    5.545</td> <td>    0.017</td> <td> 0.986</td> <td>  -10.885</td> <td>   11.075</td>\n",
       "</tr>\n",
       "<tr>\n",
       "  <th>Cabin_B37</th>                 <td>   -0.2357</td> <td>    9.243</td> <td>   -0.025</td> <td> 0.980</td> <td>  -18.538</td> <td>   18.066</td>\n",
       "</tr>\n",
       "<tr>\n",
       "  <th>Cabin_B38</th>                 <td>   -0.1949</td> <td>    7.180</td> <td>   -0.027</td> <td> 0.978</td> <td>  -14.412</td> <td>   14.022</td>\n",
       "</tr>\n",
       "<tr>\n",
       "  <th>Cabin_B39</th>                 <td>    0.0950</td> <td>    1.857</td> <td>    0.051</td> <td> 0.959</td> <td>   -3.582</td> <td>    3.772</td>\n",
       "</tr>\n",
       "<tr>\n",
       "  <th>Cabin_B4</th>                  <td>    0.0950</td> <td>    9.982</td> <td>    0.010</td> <td> 0.992</td> <td>  -19.670</td> <td>   19.860</td>\n",
       "</tr>\n",
       "<tr>\n",
       "  <th>Cabin_B41</th>                 <td>    0.2643</td> <td>    9.240</td> <td>    0.029</td> <td> 0.977</td> <td>  -18.032</td> <td>   18.561</td>\n",
       "</tr>\n",
       "<tr>\n",
       "  <th>Cabin_B42</th>                 <td>    0.1358</td> <td>    5.892</td> <td>    0.023</td> <td> 0.982</td> <td>  -11.532</td> <td>   11.803</td>\n",
       "</tr>\n",
       "<tr>\n",
       "  <th>Cabin_B49</th>                 <td>    0.1796</td> <td>   13.674</td> <td>    0.013</td> <td> 0.990</td> <td>  -26.897</td> <td>   27.256</td>\n",
       "</tr>\n",
       "<tr>\n",
       "  <th>Cabin_B5</th>                  <td>         0</td> <td>        0</td> <td>      nan</td> <td>   nan</td> <td>        0</td> <td>        0</td>\n",
       "</tr>\n",
       "<tr>\n",
       "  <th>Cabin_B50</th>                 <td>    0.2643</td> <td>    8.944</td> <td>    0.030</td> <td> 0.976</td> <td>  -17.447</td> <td>   17.975</td>\n",
       "</tr>\n",
       "<tr>\n",
       "  <th>Cabin_B51 B53 B55</th>         <td>         0</td> <td>        0</td> <td>      nan</td> <td>   nan</td> <td>        0</td> <td>        0</td>\n",
       "</tr>\n",
       "<tr>\n",
       "  <th>Cabin_B57 B59 B63 B66</th>     <td>         0</td> <td>        0</td> <td>      nan</td> <td>   nan</td> <td>        0</td> <td>        0</td>\n",
       "</tr>\n",
       "<tr>\n",
       "  <th>Cabin_B58 B60</th>             <td>         0</td> <td>        0</td> <td>      nan</td> <td>   nan</td> <td>        0</td> <td>        0</td>\n",
       "</tr>\n",
       "<tr>\n",
       "  <th>Cabin_B69</th>                 <td>    0.0905</td> <td>   11.881</td> <td>    0.008</td> <td> 0.994</td> <td>  -23.434</td> <td>   23.615</td>\n",
       "</tr>\n",
       "<tr>\n",
       "  <th>Cabin_B71</th>                 <td>   -0.1949</td> <td>    2.329</td> <td>   -0.084</td> <td> 0.933</td> <td>   -4.807</td> <td>    4.417</td>\n",
       "</tr>\n",
       "<tr>\n",
       "  <th>Cabin_B73</th>                 <td>    0.0905</td> <td>   11.881</td> <td>    0.008</td> <td> 0.994</td> <td>  -23.434</td> <td>   23.615</td>\n",
       "</tr>\n",
       "<tr>\n",
       "  <th>Cabin_B77</th>                 <td>    0.0905</td> <td>   10.139</td> <td>    0.009</td> <td> 0.993</td> <td>  -19.985</td> <td>   20.166</td>\n",
       "</tr>\n",
       "<tr>\n",
       "  <th>Cabin_B78</th>                 <td>    0.0633</td> <td>   22.916</td> <td>    0.003</td> <td> 0.998</td> <td>  -45.313</td> <td>   45.439</td>\n",
       "</tr>\n",
       "<tr>\n",
       "  <th>Cabin_B79</th>                 <td>    0.0905</td> <td>   10.139</td> <td>    0.009</td> <td> 0.993</td> <td>  -19.985</td> <td>   20.166</td>\n",
       "</tr>\n",
       "<tr>\n",
       "  <th>Cabin_B80</th>                 <td>    0.0633</td> <td>   22.916</td> <td>    0.003</td> <td> 0.998</td> <td>  -45.313</td> <td>   45.439</td>\n",
       "</tr>\n",
       "<tr>\n",
       "  <th>Cabin_B82 B84</th>             <td>         0</td> <td>        0</td> <td>      nan</td> <td>   nan</td> <td>        0</td> <td>        0</td>\n",
       "</tr>\n",
       "<tr>\n",
       "  <th>Cabin_B86</th>                 <td>   -0.2357</td> <td>    9.240</td> <td>   -0.026</td> <td> 0.980</td> <td>  -18.532</td> <td>   18.061</td>\n",
       "</tr>\n",
       "<tr>\n",
       "  <th>Cabin_B94</th>                 <td>   -0.1949</td> <td>   17.091</td> <td>   -0.011</td> <td> 0.991</td> <td>  -34.037</td> <td>   33.647</td>\n",
       "</tr>\n",
       "<tr>\n",
       "  <th>Cabin_B96 B98</th>             <td>   -0.2147</td> <td>   23.307</td> <td>   -0.009</td> <td> 0.993</td> <td>  -46.365</td> <td>   45.936</td>\n",
       "</tr>\n",
       "<tr>\n",
       "  <th>Cabin_C101</th>                <td>    0.1358</td> <td>    2.135</td> <td>    0.064</td> <td> 0.949</td> <td>   -4.093</td> <td>    4.364</td>\n",
       "</tr>\n",
       "<tr>\n",
       "  <th>Cabin_C103</th>                <td>    0.1358</td> <td>    7.180</td> <td>    0.019</td> <td> 0.985</td> <td>  -14.081</td> <td>   14.353</td>\n",
       "</tr>\n",
       "<tr>\n",
       "  <th>Cabin_C104</th>                <td>         0</td> <td>        0</td> <td>      nan</td> <td>   nan</td> <td>        0</td> <td>        0</td>\n",
       "</tr>\n",
       "<tr>\n",
       "  <th>Cabin_C106</th>                <td>    0.3051</td> <td>    5.706</td> <td>    0.053</td> <td> 0.957</td> <td>  -10.993</td> <td>   11.603</td>\n",
       "</tr>\n",
       "<tr>\n",
       "  <th>Cabin_C110</th>                <td>   -0.1299</td> <td>    1.569</td> <td>   -0.083</td> <td> 0.934</td> <td>   -3.236</td> <td>    2.976</td>\n",
       "</tr>\n",
       "<tr>\n",
       "  <th>Cabin_C111</th>                <td>   -0.2357</td> <td>    9.971</td> <td>   -0.024</td> <td> 0.981</td> <td>  -19.979</td> <td>   19.508</td>\n",
       "</tr>\n",
       "<tr>\n",
       "  <th>Cabin_C118</th>                <td>   -0.2357</td> <td>    9.243</td> <td>   -0.025</td> <td> 0.980</td> <td>  -18.538</td> <td>   18.066</td>\n",
       "</tr>\n",
       "<tr>\n",
       "  <th>Cabin_C123</th>                <td>   -0.0295</td> <td>    2.737</td> <td>   -0.011</td> <td> 0.991</td> <td>   -5.448</td> <td>    5.389</td>\n",
       "</tr>\n",
       "<tr>\n",
       "  <th>Cabin_C124</th>                <td>   -0.2598</td> <td>    9.087</td> <td>   -0.029</td> <td> 0.977</td> <td>  -18.253</td> <td>   17.733</td>\n",
       "</tr>\n",
       "<tr>\n",
       "  <th>Cabin_C125</th>                <td>    0.3110</td> <td>   26.803</td> <td>    0.012</td> <td> 0.991</td> <td>  -52.761</td> <td>   53.383</td>\n",
       "</tr>\n",
       "<tr>\n",
       "  <th>Cabin_C126</th>                <td>    0.3051</td> <td>    2.329</td> <td>    0.131</td> <td> 0.896</td> <td>   -4.307</td> <td>    4.917</td>\n",
       "</tr>\n",
       "<tr>\n",
       "  <th>Cabin_C128</th>                <td>   -0.1949</td> <td>    4.027</td> <td>   -0.048</td> <td> 0.961</td> <td>   -8.168</td> <td>    7.779</td>\n",
       "</tr>\n",
       "<tr>\n",
       "  <th>Cabin_C148</th>                <td>    0.2643</td> <td>    9.131</td> <td>    0.029</td> <td> 0.977</td> <td>  -17.816</td> <td>   18.345</td>\n",
       "</tr>\n",
       "<tr>\n",
       "  <th>Cabin_C2</th>                  <td>   -0.0295</td> <td>    7.775</td> <td>   -0.004</td> <td> 0.997</td> <td>  -15.425</td> <td>   15.366</td>\n",
       "</tr>\n",
       "<tr>\n",
       "  <th>Cabin_C22 C26</th>             <td>   -0.7684</td> <td>   23.310</td> <td>   -0.033</td> <td> 0.974</td> <td>  -46.925</td> <td>   45.388</td>\n",
       "</tr>\n",
       "<tr>\n",
       "  <th>Cabin_C23 C25 C27</th>         <td>         0</td> <td>        0</td> <td>      nan</td> <td>   nan</td> <td>        0</td> <td>        0</td>\n",
       "</tr>\n",
       "<tr>\n",
       "  <th>Cabin_C30</th>                 <td>   -0.1949</td> <td>    5.706</td> <td>   -0.034</td> <td> 0.973</td> <td>  -11.493</td> <td>   11.103</td>\n",
       "</tr>\n",
       "<tr>\n",
       "  <th>Cabin_C32</th>                 <td>    0.0361</td> <td>   18.047</td> <td>    0.002</td> <td> 0.998</td> <td>  -35.699</td> <td>   35.771</td>\n",
       "</tr>\n",
       "<tr>\n",
       "  <th>Cabin_C45</th>                 <td>         0</td> <td>        0</td> <td>      nan</td> <td>   nan</td> <td>        0</td> <td>        0</td>\n",
       "</tr>\n",
       "<tr>\n",
       "  <th>Cabin_C46</th>                 <td>   -0.8760</td> <td>   23.312</td> <td>   -0.038</td> <td> 0.970</td> <td>  -47.036</td> <td>   45.284</td>\n",
       "</tr>\n",
       "<tr>\n",
       "  <th>Cabin_C47</th>                 <td>    0.2643</td> <td>    9.243</td> <td>    0.029</td> <td> 0.977</td> <td>  -18.038</td> <td>   18.566</td>\n",
       "</tr>\n",
       "<tr>\n",
       "  <th>Cabin_C49</th>                 <td>   -0.4050</td> <td>    9.612</td> <td>   -0.042</td> <td> 0.966</td> <td>  -19.437</td> <td>   18.627</td>\n",
       "</tr>\n",
       "<tr>\n",
       "  <th>Cabin_C50</th>                 <td>    0.0633</td> <td>    7.149</td> <td>    0.009</td> <td> 0.993</td> <td>  -14.092</td> <td>   14.218</td>\n",
       "</tr>\n",
       "<tr>\n",
       "  <th>Cabin_C52</th>                 <td>    0.3051</td> <td>    3.840</td> <td>    0.079</td> <td> 0.937</td> <td>   -7.299</td> <td>    7.909</td>\n",
       "</tr>\n",
       "<tr>\n",
       "  <th>Cabin_C54</th>                 <td>    0.0633</td> <td>    7.149</td> <td>    0.009</td> <td> 0.993</td> <td>  -14.092</td> <td>   14.218</td>\n",
       "</tr>\n",
       "<tr>\n",
       "  <th>Cabin_C62 C64</th>             <td>         0</td> <td>        0</td> <td>      nan</td> <td>   nan</td> <td>        0</td> <td>        0</td>\n",
       "</tr>\n",
       "<tr>\n",
       "  <th>Cabin_C65</th>                 <td>   -0.0704</td> <td>   20.327</td> <td>   -0.003</td> <td> 0.997</td> <td>  -40.320</td> <td>   40.179</td>\n",
       "</tr>\n",
       "<tr>\n",
       "  <th>Cabin_C68</th>                 <td>   -0.0496</td> <td>   14.047</td> <td>   -0.004</td> <td> 0.997</td> <td>  -27.864</td> <td>   27.765</td>\n",
       "</tr>\n",
       "<tr>\n",
       "  <th>Cabin_C7</th>                  <td>    0.1358</td> <td>   44.461</td> <td>    0.003</td> <td> 0.998</td> <td>  -87.902</td> <td>   88.173</td>\n",
       "</tr>\n",
       "<tr>\n",
       "  <th>Cabin_C70</th>                 <td>    0.2891</td> <td>   14.047</td> <td>    0.021</td> <td> 0.984</td> <td>  -27.525</td> <td>   28.104</td>\n",
       "</tr>\n",
       "<tr>\n",
       "  <th>Cabin_C78</th>                 <td>   -0.0605</td> <td>   18.339</td> <td>   -0.003</td> <td> 0.997</td> <td>  -36.373</td> <td>   36.252</td>\n",
       "</tr>\n",
       "<tr>\n",
       "  <th>Cabin_C82</th>                 <td>         0</td> <td>        0</td> <td>      nan</td> <td>   nan</td> <td>        0</td> <td>        0</td>\n",
       "</tr>\n",
       "<tr>\n",
       "  <th>Cabin_C83</th>                 <td>   -0.0295</td> <td>   14.075</td> <td>   -0.002</td> <td> 0.998</td> <td>  -27.899</td> <td>   27.840</td>\n",
       "</tr>\n",
       "<tr>\n",
       "  <th>Cabin_C85</th>                 <td>    0.0950</td> <td>    6.285</td> <td>    0.015</td> <td> 0.988</td> <td>  -12.350</td> <td>   12.540</td>\n",
       "</tr>\n",
       "<tr>\n",
       "  <th>Cabin_C86</th>                 <td>   -0.8760</td> <td>   23.312</td> <td>   -0.038</td> <td> 0.970</td> <td>  -47.036</td> <td>   45.283</td>\n",
       "</tr>\n",
       "<tr>\n",
       "  <th>Cabin_C87</th>                 <td>   -0.1949</td> <td>    7.180</td> <td>   -0.027</td> <td> 0.978</td> <td>  -14.412</td> <td>   14.022</td>\n",
       "</tr>\n",
       "<tr>\n",
       "  <th>Cabin_C90</th>                 <td>    0.0950</td> <td>    1.855</td> <td>    0.051</td> <td> 0.959</td> <td>   -3.579</td> <td>    3.769</td>\n",
       "</tr>\n",
       "<tr>\n",
       "  <th>Cabin_C91</th>                 <td>   -0.3504</td> <td>   26.803</td> <td>   -0.013</td> <td> 0.990</td> <td>  -53.423</td> <td>   52.723</td>\n",
       "</tr>\n",
       "<tr>\n",
       "  <th>Cabin_C92</th>                 <td>    0.0950</td> <td>   12.937</td> <td>    0.007</td> <td> 0.994</td> <td>  -25.522</td> <td>   25.712</td>\n",
       "</tr>\n",
       "<tr>\n",
       "  <th>Cabin_C93</th>                 <td>    0.2205</td> <td>   16.511</td> <td>    0.013</td> <td> 0.989</td> <td>  -32.472</td> <td>   32.913</td>\n",
       "</tr>\n",
       "<tr>\n",
       "  <th>Cabin_C95</th>                 <td>         0</td> <td>        0</td> <td>      nan</td> <td>   nan</td> <td>        0</td> <td>        0</td>\n",
       "</tr>\n",
       "<tr>\n",
       "  <th>Cabin_C99</th>                 <td>    0.1177</td> <td>   24.525</td> <td>    0.005</td> <td> 0.996</td> <td>  -48.445</td> <td>   48.681</td>\n",
       "</tr>\n",
       "<tr>\n",
       "  <th>Cabin_D</th>                   <td>   -0.0666</td> <td>   18.507</td> <td>   -0.004</td> <td> 0.997</td> <td>  -36.713</td> <td>   36.579</td>\n",
       "</tr>\n",
       "<tr>\n",
       "  <th>Cabin_D10 D12</th>             <td>    0.2643</td> <td>    3.328</td> <td>    0.079</td> <td> 0.937</td> <td>   -6.326</td> <td>    6.855</td>\n",
       "</tr>\n",
       "<tr>\n",
       "  <th>Cabin_D11</th>                 <td>    0.0679</td> <td>    6.014</td> <td>    0.011</td> <td> 0.991</td> <td>  -11.840</td> <td>   11.975</td>\n",
       "</tr>\n",
       "<tr>\n",
       "  <th>Cabin_D15</th>                 <td>         0</td> <td>        0</td> <td>      nan</td> <td>   nan</td> <td>        0</td> <td>        0</td>\n",
       "</tr>\n",
       "<tr>\n",
       "  <th>Cabin_D17</th>                 <td>    0.1811</td> <td>    9.881</td> <td>    0.018</td> <td> 0.985</td> <td>  -19.384</td> <td>   19.747</td>\n",
       "</tr>\n",
       "<tr>\n",
       "  <th>Cabin_D19</th>                 <td>         0</td> <td>        0</td> <td>      nan</td> <td>   nan</td> <td>        0</td> <td>        0</td>\n",
       "</tr>\n",
       "<tr>\n",
       "  <th>Cabin_D20</th>                 <td>    0.0950</td> <td>    8.891</td> <td>    0.011</td> <td> 0.991</td> <td>  -17.510</td> <td>   17.700</td>\n",
       "</tr>\n",
       "<tr>\n",
       "  <th>Cabin_D21</th>                 <td>    0.1358</td> <td>    2.278</td> <td>    0.060</td> <td> 0.953</td> <td>   -4.375</td> <td>    4.647</td>\n",
       "</tr>\n",
       "<tr>\n",
       "  <th>Cabin_D26</th>                 <td>   -0.1949</td> <td>   11.765</td> <td>   -0.017</td> <td> 0.987</td> <td>  -23.490</td> <td>   23.101</td>\n",
       "</tr>\n",
       "<tr>\n",
       "  <th>Cabin_D28</th>                 <td>         0</td> <td>        0</td> <td>      nan</td> <td>   nan</td> <td>        0</td> <td>        0</td>\n",
       "</tr>\n",
       "<tr>\n",
       "  <th>Cabin_D30</th>                 <td>   -0.1949</td> <td>    2.739</td> <td>   -0.071</td> <td> 0.943</td> <td>   -5.618</td> <td>    5.229</td>\n",
       "</tr>\n",
       "<tr>\n",
       "  <th>Cabin_D33</th>                 <td>    0.0633</td> <td>    5.548</td> <td>    0.011</td> <td> 0.991</td> <td>  -10.921</td> <td>   11.048</td>\n",
       "</tr>\n",
       "<tr>\n",
       "  <th>Cabin_D35</th>                 <td>    0.2205</td> <td>    2.533</td> <td>    0.087</td> <td> 0.931</td> <td>   -4.795</td> <td>    5.236</td>\n",
       "</tr>\n",
       "<tr>\n",
       "  <th>Cabin_D36</th>                 <td>    0.2838</td> <td>   14.641</td> <td>    0.019</td> <td> 0.985</td> <td>  -28.708</td> <td>   29.275</td>\n",
       "</tr>\n",
       "<tr>\n",
       "  <th>Cabin_D37</th>                 <td>    0.0950</td> <td>    7.766</td> <td>    0.012</td> <td> 0.990</td> <td>  -15.282</td> <td>   15.472</td>\n",
       "</tr>\n",
       "<tr>\n",
       "  <th>Cabin_D45</th>                 <td>    0.3051</td> <td>    5.892</td> <td>    0.052</td> <td> 0.959</td> <td>  -11.362</td> <td>   11.973</td>\n",
       "</tr>\n",
       "<tr>\n",
       "  <th>Cabin_D46</th>                 <td>   -0.1949</td> <td>    4.392</td> <td>   -0.044</td> <td> 0.965</td> <td>   -8.892</td> <td>    8.502</td>\n",
       "</tr>\n",
       "<tr>\n",
       "  <th>Cabin_D47</th>                 <td>    0.1358</td> <td>    7.280</td> <td>    0.019</td> <td> 0.985</td> <td>  -14.278</td> <td>   14.550</td>\n",
       "</tr>\n",
       "<tr>\n",
       "  <th>Cabin_D48</th>                 <td>   -0.3776</td> <td>   14.642</td> <td>   -0.026</td> <td> 0.979</td> <td>  -29.370</td> <td>   28.615</td>\n",
       "</tr>\n",
       "<tr>\n",
       "  <th>Cabin_D49</th>                 <td>    0.2326</td> <td>    5.549</td> <td>    0.042</td> <td> 0.967</td> <td>  -10.755</td> <td>   11.221</td>\n",
       "</tr>\n",
       "<tr>\n",
       "  <th>Cabin_D50</th>                 <td>   -0.1949</td> <td>    5.026</td> <td>   -0.039</td> <td> 0.969</td> <td>  -10.148</td> <td>    9.758</td>\n",
       "</tr>\n",
       "<tr>\n",
       "  <th>Cabin_D56</th>                 <td>    0.3051</td> <td>   12.238</td> <td>    0.025</td> <td> 0.980</td> <td>  -23.927</td> <td>   24.537</td>\n",
       "</tr>\n",
       "<tr>\n",
       "  <th>Cabin_D6</th>                  <td>   -0.1949</td> <td>    5.892</td> <td>   -0.033</td> <td> 0.974</td> <td>  -11.862</td> <td>   11.473</td>\n",
       "</tr>\n",
       "<tr>\n",
       "  <th>Cabin_D7</th>                  <td>    0.0679</td> <td>    6.014</td> <td>    0.011</td> <td> 0.991</td> <td>  -11.840</td> <td>   11.975</td>\n",
       "</tr>\n",
       "<tr>\n",
       "  <th>Cabin_D9</th>                  <td>    0.0679</td> <td>    6.014</td> <td>    0.011</td> <td> 0.991</td> <td>  -11.840</td> <td>   11.975</td>\n",
       "</tr>\n",
       "<tr>\n",
       "  <th>Cabin_E10</th>                 <td>    0.3051</td> <td>   14.086</td> <td>    0.022</td> <td> 0.983</td> <td>  -27.586</td> <td>   28.196</td>\n",
       "</tr>\n",
       "<tr>\n",
       "  <th>Cabin_E101</th>                <td>    0.1882</td> <td>   18.030</td> <td>    0.010</td> <td> 0.992</td> <td>  -35.512</td> <td>   35.889</td>\n",
       "</tr>\n",
       "<tr>\n",
       "  <th>Cabin_E12</th>                 <td>    0.3051</td> <td>    7.180</td> <td>    0.042</td> <td> 0.966</td> <td>  -13.912</td> <td>   14.522</td>\n",
       "</tr>\n",
       "<tr>\n",
       "  <th>Cabin_E121</th>                <td>    0.2205</td> <td>   12.433</td> <td>    0.018</td> <td> 0.986</td> <td>  -24.399</td> <td>   24.840</td>\n",
       "</tr>\n",
       "<tr>\n",
       "  <th>Cabin_E17</th>                 <td>         0</td> <td>        0</td> <td>      nan</td> <td>   nan</td> <td>        0</td> <td>        0</td>\n",
       "</tr>\n",
       "<tr>\n",
       "  <th>Cabin_E24</th>                 <td>    0.4068</td> <td>    9.703</td> <td>    0.042</td> <td> 0.967</td> <td>  -18.806</td> <td>   19.619</td>\n",
       "</tr>\n",
       "<tr>\n",
       "  <th>Cabin_E25</th>                 <td>    0.4068</td> <td>    9.678</td> <td>    0.042</td> <td> 0.967</td> <td>  -18.756</td> <td>   19.570</td>\n",
       "</tr>\n",
       "<tr>\n",
       "  <th>Cabin_E31</th>                 <td>   -0.1949</td> <td>    5.751</td> <td>   -0.034</td> <td> 0.973</td> <td>  -11.583</td> <td>   11.193</td>\n",
       "</tr>\n",
       "<tr>\n",
       "  <th>Cabin_E33</th>                 <td>    0.1358</td> <td>    3.447</td> <td>    0.039</td> <td> 0.969</td> <td>   -6.690</td> <td>    6.962</td>\n",
       "</tr>\n",
       "<tr>\n",
       "  <th>Cabin_E34</th>                 <td>    0.0633</td> <td>   19.924</td> <td>    0.003</td> <td> 0.997</td> <td>  -39.389</td> <td>   39.516</td>\n",
       "</tr>\n",
       "<tr>\n",
       "  <th>Cabin_E36</th>                 <td>   -0.0496</td> <td>    0.665</td> <td>   -0.075</td> <td> 0.941</td> <td>   -1.366</td> <td>    1.267</td>\n",
       "</tr>\n",
       "<tr>\n",
       "  <th>Cabin_E38</th>                 <td>   -0.1949</td> <td>    7.180</td> <td>   -0.027</td> <td> 0.978</td> <td>  -14.412</td> <td>   14.022</td>\n",
       "</tr>\n",
       "<tr>\n",
       "  <th>Cabin_E40</th>                 <td>    0.0633</td> <td>   19.924</td> <td>    0.003</td> <td> 0.997</td> <td>  -39.389</td> <td>   39.516</td>\n",
       "</tr>\n",
       "<tr>\n",
       "  <th>Cabin_E44</th>                 <td>    0.1358</td> <td>    3.783</td> <td>    0.036</td> <td> 0.971</td> <td>   -7.355</td> <td>    7.627</td>\n",
       "</tr>\n",
       "<tr>\n",
       "  <th>Cabin_E46</th>                 <td>         0</td> <td>        0</td> <td>      nan</td> <td>   nan</td> <td>        0</td> <td>        0</td>\n",
       "</tr>\n",
       "<tr>\n",
       "  <th>Cabin_E49</th>                 <td>    0.0950</td> <td>   10.718</td> <td>    0.009</td> <td> 0.993</td> <td>  -21.127</td> <td>   21.317</td>\n",
       "</tr>\n",
       "<tr>\n",
       "  <th>Cabin_E50</th>                 <td>    0.2643</td> <td>    0.404</td> <td>    0.654</td> <td> 0.515</td> <td>   -0.536</td> <td>    1.065</td>\n",
       "</tr>\n",
       "<tr>\n",
       "  <th>Cabin_E58</th>                 <td>         0</td> <td>        0</td> <td>      nan</td> <td>   nan</td> <td>        0</td> <td>        0</td>\n",
       "</tr>\n",
       "<tr>\n",
       "  <th>Cabin_E63</th>                 <td>   -0.1949</td> <td>    2.722</td> <td>   -0.072</td> <td> 0.943</td> <td>   -5.584</td> <td>    5.194</td>\n",
       "</tr>\n",
       "<tr>\n",
       "  <th>Cabin_E67</th>                 <td>   -0.0295</td> <td>   12.647</td> <td>   -0.002</td> <td> 0.998</td> <td>  -25.071</td> <td>   25.012</td>\n",
       "</tr>\n",
       "<tr>\n",
       "  <th>Cabin_E68</th>                 <td>         0</td> <td>        0</td> <td>      nan</td> <td>   nan</td> <td>        0</td> <td>        0</td>\n",
       "</tr>\n",
       "<tr>\n",
       "  <th>Cabin_E77</th>                 <td>   -0.5533</td> <td>   23.312</td> <td>   -0.024</td> <td> 0.981</td> <td>  -46.713</td> <td>   45.606</td>\n",
       "</tr>\n",
       "<tr>\n",
       "  <th>Cabin_E8</th>                  <td>    0.2205</td> <td>    2.737</td> <td>    0.081</td> <td> 0.936</td> <td>   -5.198</td> <td>    5.639</td>\n",
       "</tr>\n",
       "<tr>\n",
       "  <th>Cabin_F E69</th>               <td>   -0.2147</td> <td>   23.312</td> <td>   -0.009</td> <td> 0.993</td> <td>  -46.374</td> <td>   45.945</td>\n",
       "</tr>\n",
       "<tr>\n",
       "  <th>Cabin_F G63</th>               <td>   -0.1949</td> <td>   14.235</td> <td>   -0.014</td> <td> 0.989</td> <td>  -28.382</td> <td>   27.992</td>\n",
       "</tr>\n",
       "<tr>\n",
       "  <th>Cabin_F G73</th>               <td>   -0.2598</td> <td>   18.980</td> <td>   -0.014</td> <td> 0.989</td> <td>  -37.841</td> <td>   37.322</td>\n",
       "</tr>\n",
       "<tr>\n",
       "  <th>Cabin_F2</th>                  <td>    0.1385</td> <td>    7.384</td> <td>    0.019</td> <td> 0.985</td> <td>  -14.483</td> <td>   14.760</td>\n",
       "</tr>\n",
       "<tr>\n",
       "  <th>Cabin_F33</th>                 <td>    0.1811</td> <td>   16.939</td> <td>    0.011</td> <td> 0.991</td> <td>  -33.359</td> <td>   33.721</td>\n",
       "</tr>\n",
       "<tr>\n",
       "  <th>Cabin_F38</th>                 <td>   -0.2258</td> <td>   12.370</td> <td>   -0.018</td> <td> 0.985</td> <td>  -24.719</td> <td>   24.268</td>\n",
       "</tr>\n",
       "<tr>\n",
       "  <th>Cabin_F4</th>                  <td>    0.1358</td> <td>    2.535</td> <td>    0.054</td> <td> 0.957</td> <td>   -4.885</td> <td>    5.156</td>\n",
       "</tr>\n",
       "<tr>\n",
       "  <th>Cabin_G6</th>                  <td>   -0.1523</td> <td>   16.027</td> <td>   -0.010</td> <td> 0.992</td> <td>  -31.887</td> <td>   31.582</td>\n",
       "</tr>\n",
       "<tr>\n",
       "  <th>Cabin_T</th>                   <td>   -0.1949</td> <td>    3.840</td> <td>   -0.051</td> <td> 0.960</td> <td>   -7.799</td> <td>    7.409</td>\n",
       "</tr>\n",
       "<tr>\n",
       "  <th>Embarked_C</th>                <td>    0.1442</td> <td>    7.552</td> <td>    0.019</td> <td> 0.985</td> <td>  -14.809</td> <td>   15.098</td>\n",
       "</tr>\n",
       "<tr>\n",
       "  <th>Embarked_Q</th>                <td>    0.1244</td> <td>    2.584</td> <td>    0.048</td> <td> 0.962</td> <td>   -4.992</td> <td>    5.241</td>\n",
       "</tr>\n",
       "<tr>\n",
       "  <th>Embarked_S</th>                <td>    0.0625</td> <td>    1.073</td> <td>    0.058</td> <td> 0.954</td> <td>   -2.062</td> <td>    2.187</td>\n",
       "</tr>\n",
       "</table>\n",
       "<table class=\"simpletable\">\n",
       "<tr>\n",
       "  <th>Omnibus:</th>       <td>122.411</td> <th>  Durbin-Watson:     </th> <td>   2.078</td>\n",
       "</tr>\n",
       "<tr>\n",
       "  <th>Prob(Omnibus):</th> <td> 0.000</td>  <th>  Jarque-Bera (JB):  </th> <td>2121.461</td>\n",
       "</tr>\n",
       "<tr>\n",
       "  <th>Skew:</th>          <td>-0.072</td>  <th>  Prob(JB):          </th> <td>    0.00</td>\n",
       "</tr>\n",
       "<tr>\n",
       "  <th>Kurtosis:</th>      <td>11.552</td>  <th>  Cond. No.          </th> <td>4.48e+17</td>\n",
       "</tr>\n",
       "</table><br/><br/>Notes:<br/>[1] Standard Errors assume that the covariance matrix of the errors is correctly specified.<br/>[2] The input rank is higher than the number of observations.<br/>[3] The smallest eigenvalue is 9.83e-33. This might indicate that there are<br/>strong multicollinearity problems or that the design matrix is singular."
      ],
      "text/plain": [
       "<class 'statsmodels.iolib.summary.Summary'>\n",
       "\"\"\"\n",
       "                            OLS Regression Results                            \n",
       "==============================================================================\n",
       "Dep. Variable:               Survived   R-squared:                       0.919\n",
       "Model:                            OLS   Adj. R-squared:                  0.528\n",
       "Method:                 Least Squares   F-statistic:                     2.352\n",
       "Date:                Mon, 04 Jul 2022   Prob (F-statistic):           2.97e-08\n",
       "Time:                        22:08:42   Log-Likelihood:                 394.17\n",
       "No. Observations:                 696   AIC:                             365.7\n",
       "Df Residuals:                     119   BIC:                             2988.\n",
       "Df Model:                         576                                         \n",
       "Covariance Type:            nonrobust                                         \n",
       "=============================================================================================\n",
       "                                coef    std err          t      P>|t|      [0.025      0.975]\n",
       "---------------------------------------------------------------------------------------------\n",
       "const                         0.3310      6.041      0.055      0.956     -11.631      12.293\n",
       "Fare                       -1.15e-10     37.084   -3.1e-12      1.000     -73.430      73.430\n",
       "Sex_female                    0.3348      3.021      0.111      0.912      -5.646       6.316\n",
       "Sex_male                     -0.0038      3.021     -0.001      0.999      -5.985       5.977\n",
       "Ticket_110152                 0.1811     20.272      0.009      0.993     -39.960      40.322\n",
       "Ticket_110413                -0.0295     12.647     -0.002      0.998     -25.071      25.012\n",
       "Ticket_110465                -0.2598      3.102     -0.084      0.933      -6.402       5.882\n",
       "Ticket_110564             -1.264e-11   2.21e-09     -0.006      0.995   -4.38e-09    4.36e-09\n",
       "Ticket_110813                 0.0950      7.766      0.012      0.990     -15.282      15.472\n",
       "Ticket_111240                -0.1949      4.586     -0.042      0.966      -9.276       8.887\n",
       "Ticket_111320                -0.1949      2.722     -0.072      0.943      -5.584       5.194\n",
       "Ticket_111361                 0.0950      1.327      0.072      0.943      -2.532       2.722\n",
       "Ticket_111369                 0.2643      9.131      0.029      0.977     -17.816      18.345\n",
       "Ticket_111426                 0.7433      2.494      0.298      0.766      -4.195       5.681\n",
       "Ticket_111427                 0.8249      8.957      0.092      0.927     -16.911      18.561\n",
       "Ticket_111428                 0.8249      8.957      0.092      0.927     -16.911      18.561\n",
       "Ticket_112050                -0.1949     17.091     -0.011      0.991     -34.037      33.647\n",
       "Ticket_112052                -0.1751     10.878     -0.016      0.987     -21.716      21.365\n",
       "Ticket_112053                 0.1358      5.892      0.023      0.982     -11.532      11.803\n",
       "Ticket_112058                -0.1949     17.091     -0.011      0.991     -34.037      33.647\n",
       "Ticket_112059                -0.1949     17.091     -0.011      0.991     -34.037      33.647\n",
       "Ticket_112277                 0.2643      8.758      0.030      0.976     -17.077      17.606\n",
       "Ticket_112379                -0.2567     12.220     -0.021      0.983     -24.455      23.941\n",
       "Ticket_113028                -0.1299      5.277     -0.025      0.980     -10.578      10.318\n",
       "Ticket_113043                -0.1299      3.823     -0.034      0.973      -7.699       7.439\n",
       "Ticket_113050                -0.1949      7.180     -0.027      0.978     -14.412      14.022\n",
       "Ticket_113051                -0.2357      9.971     -0.024      0.981     -19.979      19.508\n",
       "Ticket_113055             -4.535e-16   1.71e-13     -0.003      0.998   -3.39e-13    3.38e-13\n",
       "Ticket_113056                -0.1949      7.385     -0.026      0.979     -14.818      14.429\n",
       "Ticket_113059                -0.1751     24.297     -0.007      0.994     -48.286      47.936\n",
       "Ticket_113501                -0.1949      5.892     -0.033      0.974     -11.862      11.473\n",
       "Ticket_113503             -2.402e-15   3.73e-13     -0.006      0.995   -7.41e-13    7.36e-13\n",
       "Ticket_113505                 0.1358      3.447      0.039      0.969      -6.690       6.962\n",
       "Ticket_113509                -0.2357      2.814     -0.084      0.933      -5.808       5.337\n",
       "Ticket_113510                -0.1949      4.027     -0.048      0.961      -8.168       7.779\n",
       "Ticket_113514                -0.1949      7.180     -0.027      0.978     -14.412      14.022\n",
       "Ticket_113572                 0.1358     12.777      0.011      0.992     -25.165      25.436\n",
       "Ticket_113760                 0.7120     78.728      0.009      0.993    -155.177     156.601\n",
       "Ticket_113767              5.439e-16   4.95e-16      1.100      0.274   -4.36e-16    1.52e-15\n",
       "Ticket_113773                -0.1949      2.739     -0.071      0.943      -5.618       5.229\n",
       "Ticket_113776                -0.0295      7.775     -0.004      0.997     -15.425      15.366\n",
       "Ticket_113781                 0.4863    102.286      0.005      0.996    -202.050     203.023\n",
       "Ticket_113783                 0.1358      7.180      0.019      0.985     -14.081      14.353\n",
       "Ticket_113784                -0.1949      3.840     -0.051      0.960      -7.799       7.409\n",
       "Ticket_113786              7.166e-16   3.59e-16      1.995      0.048    5.48e-18    1.43e-15\n",
       "Ticket_113787                -0.1949      5.706     -0.034      0.973     -11.493      11.103\n",
       "Ticket_113788              3.298e-16   3.97e-16      0.832      0.407   -4.56e-16    1.12e-15\n",
       "Ticket_113789                 0.1556     27.955      0.006      0.996     -55.198      55.509\n",
       "Ticket_113792                -0.1751      8.957     -0.020      0.984     -17.911      17.561\n",
       "Ticket_113794                 0.8249      8.957      0.092      0.927     -16.911      18.561\n",
       "Ticket_113796                -0.1751     20.788     -0.008      0.993     -41.338      40.988\n",
       "Ticket_113798                -0.1751     12.278     -0.014      0.989     -24.487      24.137\n",
       "Ticket_113800             -5.645e-17   3.92e-16     -0.144      0.886   -8.33e-16     7.2e-16\n",
       "Ticket_113803                -0.0295      2.737     -0.011      0.991      -5.448       5.389\n",
       "Ticket_113804                 0.8249     11.905      0.069      0.945     -22.748      24.398\n",
       "Ticket_113806                 0.2205      2.737      0.081      0.936      -5.198       5.639\n",
       "Ticket_113807                -0.1751      8.957     -0.020      0.984     -17.911      17.561\n",
       "Ticket_11668                 -0.3444      4.813     -0.072      0.943      -9.874       9.185\n",
       "Ticket_11751                  0.2205      2.533      0.087      0.931      -4.795       5.236\n",
       "Ticket_11752                  0.1358      7.280      0.019      0.985     -14.278      14.550\n",
       "Ticket_11753               -5.73e-17   3.74e-16     -0.153      0.878   -7.97e-16    6.82e-16\n",
       "Ticket_11755                  0.0950      5.548      0.017      0.986     -10.891      11.081\n",
       "Ticket_11765                  0.2643      0.404      0.654      0.515      -0.536       1.065\n",
       "Ticket_11767                  0.1266     14.289      0.009      0.993     -28.168      28.421\n",
       "Ticket_11769                  0.1358      2.135      0.064      0.949      -4.093       4.364\n",
       "Ticket_11771                 -0.2357      9.243     -0.025      0.980     -18.538      18.066\n",
       "Ticket_11774                  0.2643      9.243      0.029      0.977     -18.038      18.566\n",
       "Ticket_11813               6.758e-16   3.59e-16      1.883      0.062    -3.5e-17    1.39e-15\n",
       "Ticket_11967                  0.1796     13.674      0.013      0.990     -26.897      27.256\n",
       "Ticket_12233                 -0.1751      1.213     -0.144      0.885      -2.577       2.227\n",
       "Ticket_12460                 -0.2370      1.468     -0.161      0.872      -3.143       2.669\n",
       "Ticket_12749                  0.1811     23.756      0.008      0.994     -46.859      47.221\n",
       "Ticket_13049              -4.917e-16   4.06e-16     -1.211      0.228    -1.3e-15    3.12e-16\n",
       "Ticket_13213                  0.2643      7.078      0.037      0.970     -13.751      14.280\n",
       "Ticket_13214                  0.2643      8.944      0.030      0.976     -17.447      17.975\n",
       "Ticket_13502                  0.2037     18.022      0.011      0.991     -35.483      35.890\n",
       "Ticket_13507                  0.1358      3.783      0.036      0.971      -7.355       7.627\n",
       "Ticket_13509                 -0.1949      7.180     -0.027      0.978     -14.412      14.022\n",
       "Ticket_13567                  0.2643      9.240      0.029      0.977     -18.032      18.561\n",
       "Ticket_13568                  0.0950      1.857      0.051      0.959      -3.582       3.772\n",
       "Ticket_14311                  0.4244      1.468      0.289      0.773      -2.482       3.331\n",
       "Ticket_14312                  0.4244      1.468      0.289      0.773      -2.482       3.331\n",
       "Ticket_14313                  0.4244      1.468      0.289      0.773      -2.482       3.331\n",
       "Ticket_14973                 -0.1751      4.874     -0.036      0.971      -9.826       9.476\n",
       "Ticket_1601                   0.6249     31.311      0.020      0.984     -61.374      62.624\n",
       "Ticket_16966                  0.1266     39.846      0.003      0.997     -78.772      79.026\n",
       "Ticket_16988                  0.3051      5.892      0.052      0.959     -11.362      11.973\n",
       "Ticket_17421                  0.2395     28.090      0.009      0.993     -55.382      55.861\n",
       "Ticket_17453                  0.0950     12.937      0.007      0.994     -25.522      25.712\n",
       "Ticket_17463               2.337e-16   3.63e-16      0.644      0.521   -4.85e-16    9.52e-16\n",
       "Ticket_17464                  0.1358      2.278      0.060      0.953      -4.375       4.647\n",
       "Ticket_17465                  0.0905      4.946      0.018      0.985      -9.703       9.884\n",
       "Ticket_17466                  0.0905      4.946      0.018      0.985      -9.703       9.884\n",
       "Ticket_17474                  0.2205      4.192      0.053      0.958      -8.080       8.520\n",
       "Ticket_17764                 -0.2357      8.871     -0.027      0.979     -17.802      17.330\n",
       "Ticket_19877                  0.4863     48.003      0.010      0.992     -94.565      95.537\n",
       "Ticket_19928                 -0.0605     18.339     -0.003      0.997     -36.373      36.252\n",
       "Ticket_19943                  0.2205     16.511      0.013      0.989     -32.472      32.913\n",
       "Ticket_19947                  0.3051      3.840      0.079      0.937      -7.299       7.909\n",
       "Ticket_19950               2.495e-16   3.73e-16      0.669      0.505   -4.89e-16    9.88e-16\n",
       "Ticket_19952                  0.3051      7.180      0.042      0.966     -13.912      14.522\n",
       "Ticket_19972                 -0.1751     10.878     -0.016      0.987     -21.716      21.365\n",
       "Ticket_19988                  0.3051      5.706      0.053      0.957     -10.993      11.603\n",
       "Ticket_19996                  0.3051      2.329      0.131      0.896      -4.307       4.917\n",
       "Ticket_2003                   0.4863      8.547      0.057      0.955     -16.437      17.410\n",
       "Ticket_211536                -0.1751      1.213     -0.144      0.885      -2.577       2.227\n",
       "Ticket_21440                 -0.1751      4.874     -0.036      0.971      -9.826       9.476\n",
       "Ticket_218629                -0.1751      0.860     -0.204      0.839      -1.878       1.528\n",
       "Ticket_219533             -4.087e-16   4.05e-16     -1.010      0.314   -1.21e-15    3.92e-16\n",
       "Ticket_220367              7.794e-17   4.06e-16      0.192      0.848   -7.26e-16    8.82e-16\n",
       "Ticket_220845                 0.4863     37.662      0.013      0.990     -74.088      75.061\n",
       "Ticket_2223                  -0.1751      4.688     -0.037      0.970      -9.457       9.107\n",
       "Ticket_223596               1.44e-16   4.04e-16      0.357      0.722   -6.55e-16    9.43e-16\n",
       "Ticket_226593                 0.0215      3.285      0.007      0.995      -6.483       6.526\n",
       "Ticket_226875                 0.4863      8.547      0.057      0.955     -16.437      17.410\n",
       "Ticket_228414                 0.4863      8.547      0.057      0.955     -16.437      17.410\n",
       "Ticket_229236                -0.1751      1.213     -0.144      0.885      -2.577       2.227\n",
       "Ticket_230080                 0.1385      7.384      0.019      0.985     -14.483      14.760\n",
       "Ticket_230136                 0.1358      2.535      0.054      0.957      -4.885       5.156\n",
       "Ticket_230433                 0.4863      8.547      0.057      0.955     -16.437      17.410\n",
       "Ticket_230434                 0.4863      1.214      0.401      0.689      -1.917       2.889\n",
       "Ticket_231919                 0.4863      6.305      0.077      0.939     -11.998      12.970\n",
       "Ticket_231945                -0.1751      2.311     -0.076      0.940      -4.750       4.400\n",
       "Ticket_233639              7.636e-18   4.15e-16      0.018      0.985   -8.14e-16    8.29e-16\n",
       "Ticket_233866                -0.1751      1.213     -0.144      0.885      -2.577       2.227\n",
       "Ticket_234360                -0.1751      1.213     -0.144      0.885      -2.577       2.227\n",
       "Ticket_234604             -4.212e-16   3.68e-16     -1.145      0.255   -1.15e-15    3.07e-16\n",
       "Ticket_234686                -0.1751      1.213     -0.144      0.885      -2.577       2.227\n",
       "Ticket_234818                 0.4244      2.031      0.209      0.835      -3.598       4.447\n",
       "Ticket_236171                -0.1751      1.213     -0.144      0.885      -2.577       2.227\n",
       "Ticket_236852                 0.4863      1.214      0.401      0.689      -1.917       2.889\n",
       "Ticket_236853              6.097e-16   3.78e-16      1.613      0.109   -1.39e-16    1.36e-15\n",
       "Ticket_237442                -0.1751      0.860     -0.204      0.839      -1.878       1.528\n",
       "Ticket_237565                -0.1751      0.466     -0.376      0.708      -1.097       0.747\n",
       "Ticket_237668                 0.4863      1.214      0.401      0.689      -1.917       2.889\n",
       "Ticket_237671                -0.5137      1.214     -0.423      0.673      -2.917       1.889\n",
       "Ticket_237736             -5.468e-16   4.25e-16     -1.287      0.201   -1.39e-15    2.94e-16\n",
       "Ticket_237789                 0.4863     11.532      0.042      0.966     -22.348      23.320\n",
       "Ticket_237798                 0.8249      1.213      0.680      0.498      -1.577       3.227\n",
       "Ticket_239853                -0.1751     10.878     -0.016      0.987     -21.716      21.365\n",
       "Ticket_239854                -0.1751     10.878     -0.016      0.987     -21.716      21.365\n",
       "Ticket_239855                -0.1751     10.878     -0.016      0.987     -21.716      21.365\n",
       "Ticket_239856             -8.069e-16   4.18e-16     -1.929      0.056   -1.64e-15    2.13e-17\n",
       "Ticket_239865                -0.1751      8.543     -0.020      0.984     -17.092      16.742\n",
       "Ticket_240929                 0.4863      1.467      0.332      0.741      -2.418       3.390\n",
       "Ticket_24160               2.556e-17    4.3e-16      0.059      0.953   -8.26e-16    8.77e-16\n",
       "Ticket_243847                 0.1556      9.290      0.017      0.987     -18.239      18.550\n",
       "Ticket_243880                 0.4863      1.214      0.401      0.689      -1.917       2.889\n",
       "Ticket_244252                -0.1751      8.547     -0.020      0.984     -17.098      16.748\n",
       "Ticket_244270                 0.8249      1.213      0.680      0.498      -1.577       3.227\n",
       "Ticket_244278                -0.1751      3.051     -0.057      0.954      -6.217       5.867\n",
       "Ticket_244310             -2.016e-16   3.53e-16     -0.571      0.569      -9e-16    4.97e-16\n",
       "Ticket_244358                -0.1751      8.547     -0.020      0.984     -17.098      16.748\n",
       "Ticket_244361                -0.1751      1.213     -0.144      0.885      -2.577       2.227\n",
       "Ticket_244367                 0.4863      8.547      0.057      0.955     -16.437      17.410\n",
       "Ticket_244373                 0.8249      1.213      0.680      0.498      -1.577       3.227\n",
       "Ticket_248698                 0.3051     12.238      0.025      0.980     -23.927      24.537\n",
       "Ticket_248706                 0.4863      1.124      0.432      0.666      -1.740       2.713\n",
       "Ticket_248723                -0.1751      1.213     -0.144      0.885      -2.577       2.227\n",
       "Ticket_248727                 0.2658     13.768      0.019      0.985     -26.997      27.528\n",
       "Ticket_248731                -0.1751      0.860     -0.204      0.839      -1.878       1.528\n",
       "Ticket_248733                 0.0905      7.540      0.012      0.990     -14.839      15.020\n",
       "Ticket_248738             -5.903e-16      4e-16     -1.477      0.142   -1.38e-15    2.01e-16\n",
       "Ticket_248740             -2.163e-16   5.18e-16     -0.417      0.677   -1.24e-15     8.1e-16\n",
       "Ticket_248747              4.213e-16   4.74e-16      0.890      0.375   -5.16e-16    1.36e-15\n",
       "Ticket_250643             -4.591e-16   5.82e-16     -0.788      0.432   -1.61e-15    6.94e-16\n",
       "Ticket_250644                 0.4863      3.695      0.132      0.896      -6.829       7.802\n",
       "Ticket_250646                -0.1751      1.213     -0.144      0.885      -2.577       2.227\n",
       "Ticket_250647                -0.1751      1.190     -0.147      0.883      -2.532       2.181\n",
       "Ticket_250648             -1.022e-16   3.74e-16     -0.273      0.785   -8.44e-16    6.39e-16\n",
       "Ticket_250649                 0.6556      0.240      2.734      0.007       0.181       1.130\n",
       "Ticket_250651                -0.5137      8.547     -0.060      0.952     -17.437      16.410\n",
       "Ticket_250652                 0.4863      1.214      0.401      0.689      -1.917       2.889\n",
       "Ticket_250653                -0.1751      1.213     -0.144      0.885      -2.577       2.227\n",
       "Ticket_250655                -0.1751      8.547     -0.020      0.984     -17.098      16.748\n",
       "Ticket_2620                1.331e-16    5.2e-16      0.256      0.799   -8.97e-16    1.16e-15\n",
       "Ticket_2623                  -0.2567     11.962     -0.021      0.983     -23.943      23.430\n",
       "Ticket_2624                  -0.2567     11.962     -0.021      0.983     -23.943      23.430\n",
       "Ticket_2625                   0.7433     10.998      0.068      0.946     -21.034      22.521\n",
       "Ticket_2626                   0.4046     11.959      0.034      0.973     -23.276      24.085\n",
       "Ticket_2627                  -0.4261      6.561     -0.065      0.948     -13.417      12.565\n",
       "Ticket_2628                  -0.2567     11.962     -0.021      0.983     -23.943      23.430\n",
       "Ticket_2629                1.351e-16   4.27e-16      0.317      0.752    -7.1e-16     9.8e-16\n",
       "Ticket_2631                5.786e-17   3.84e-16      0.150      0.881   -7.03e-16    8.19e-16\n",
       "Ticket_26360                  0.4863      8.547      0.057      0.955     -16.437      17.410\n",
       "Ticket_2641                  -0.2567     11.959     -0.021      0.983     -23.937      23.423\n",
       "Ticket_2647                4.347e-16   3.38e-16      1.287      0.201   -2.34e-16     1.1e-15\n",
       "Ticket_2648                  -0.2567     14.360     -0.018      0.986     -28.691      28.178\n",
       "Ticket_2649               -1.125e-16   4.28e-16     -0.263      0.793   -9.61e-16    7.35e-16\n",
       "Ticket_2650                   0.4046      5.978      0.068      0.946     -11.432      12.241\n",
       "Ticket_2651                   0.5739      8.962      0.064      0.949     -17.171      18.319\n",
       "Ticket_2653                   0.5739      5.603      0.102      0.919     -10.521      11.669\n",
       "Ticket_2659                   0.0739      6.564      0.011      0.991     -12.923      13.071\n",
       "Ticket_2661                   0.7433      5.973      0.124      0.901     -11.084      12.571\n",
       "Ticket_2662                  -0.2567      1.211     -0.212      0.832      -2.654       2.141\n",
       "Ticket_2663                   0.7433     11.959      0.062      0.951     -22.937      24.423\n",
       "Ticket_2664                  -0.2567     11.962     -0.021      0.983     -23.943      23.430\n",
       "Ticket_2665                  -0.5954      6.564     -0.091      0.928     -13.593      12.402\n",
       "Ticket_2666                   0.4046      2.979      0.136      0.892      -5.494       6.304\n",
       "Ticket_2667                   0.4046     11.962      0.034      0.973     -23.282      24.091\n",
       "Ticket_2668                   0.4046      0.736      0.549      0.584      -1.053       1.863\n",
       "Ticket_2669                  -0.2567     11.959     -0.021      0.983     -23.937      23.423\n",
       "Ticket_26707                 -0.1751      8.547     -0.020      0.984     -17.098      16.748\n",
       "Ticket_2671                  -0.2567     11.959     -0.021      0.983     -23.937      23.423\n",
       "Ticket_2672                  -0.2567     11.962     -0.021      0.983     -23.943      23.430\n",
       "Ticket_2674                  -0.2567     11.962     -0.021      0.983     -23.943      23.430\n",
       "Ticket_2677                   0.7433     11.959      0.062      0.951     -22.937      24.423\n",
       "Ticket_2678                  -0.5954      5.973     -0.100      0.921     -12.423      11.233\n",
       "Ticket_2680                2.791e-16    3.9e-16      0.715      0.476   -4.94e-16    1.05e-15\n",
       "Ticket_2683                  -0.2567     12.550     -0.020      0.984     -25.107      24.593\n",
       "Ticket_2685                  -0.2567     11.959     -0.021      0.983     -23.937      23.423\n",
       "Ticket_2686                  -0.2567     11.959     -0.021      0.983     -23.937      23.423\n",
       "Ticket_2687               -5.321e-16   3.67e-16     -1.450      0.150   -1.26e-15    1.95e-16\n",
       "Ticket_2689                  -0.5954      6.565     -0.091      0.928     -13.595      12.404\n",
       "Ticket_2690                  -0.2567     11.959     -0.021      0.983     -23.937      23.423\n",
       "Ticket_2691                  -0.5954      6.564     -0.091      0.928     -13.593      12.402\n",
       "Ticket_2693                4.138e-16   3.38e-16      1.226      0.223   -2.55e-16    1.08e-15\n",
       "Ticket_2694                  -0.2567     11.962     -0.021      0.983     -23.943      23.430\n",
       "Ticket_2695                  -0.2567     11.959     -0.021      0.983     -23.937      23.423\n",
       "Ticket_2697                  -0.2567     11.959     -0.021      0.983     -23.937      23.423\n",
       "Ticket_2699                   0.2433      3.332      0.073      0.942      -6.355       6.842\n",
       "Ticket_2700                  -0.2567     11.959     -0.021      0.983     -23.937      23.423\n",
       "Ticket_27042                  0.3051      5.892      0.052      0.959     -11.362      11.973\n",
       "Ticket_27267                  0.0834      6.450      0.013      0.990     -12.689      12.856\n",
       "Ticket_27849                  0.4863      1.214      0.401      0.689      -1.917       2.889\n",
       "Ticket_28134               2.577e-16   3.43e-16      0.752      0.453   -4.21e-16    9.36e-16\n",
       "Ticket_28206                 -0.1751      3.051     -0.057      0.954      -6.217       5.867\n",
       "Ticket_28213               1.567e-16   3.75e-16      0.418      0.676   -5.85e-16    8.98e-16\n",
       "Ticket_28220                  0.4863     13.398      0.036      0.971     -26.043      27.015\n",
       "Ticket_28228                 -0.1751      1.213     -0.144      0.885      -2.577       2.227\n",
       "Ticket_28403                 -0.1751      8.543     -0.020      0.984     -17.092      16.742\n",
       "Ticket_28424                 -0.1751      1.213     -0.144      0.885      -2.577       2.227\n",
       "Ticket_28425                 -0.1751      1.213     -0.144      0.885      -2.577       2.227\n",
       "Ticket_28551                  0.3382      5.972      0.057      0.955     -11.488      12.164\n",
       "Ticket_28664               1.233e-16   3.13e-16      0.394      0.695   -4.97e-16    7.43e-16\n",
       "Ticket_28665                 -0.1751      3.051     -0.057      0.954      -6.217       5.867\n",
       "Ticket_29011               1.122e-17   3.78e-16      0.030      0.976   -7.38e-16     7.6e-16\n",
       "Ticket_2908                   0.6556      8.543      0.077      0.939     -16.261      17.572\n",
       "Ticket_29103                  0.4863      6.309      0.077      0.939     -12.006      12.979\n",
       "Ticket_29104                 -0.1751      2.311     -0.076      0.940      -4.750       4.400\n",
       "Ticket_29105              -1.419e-16    3.9e-16     -0.363      0.717   -9.15e-16    6.31e-16\n",
       "Ticket_29106                  0.7120      3.133      0.227      0.821      -5.491       6.915\n",
       "Ticket_29108                 -0.1751      2.311     -0.076      0.940      -4.750       4.400\n",
       "Ticket_2926                   0.4863      8.547      0.057      0.955     -16.437      17.410\n",
       "Ticket_29750                  0.1556     18.249      0.009      0.993     -35.978      36.289\n",
       "Ticket_29751                 -0.1751      1.213     -0.144      0.885      -2.577       2.227\n",
       "Ticket_3101264             2.644e-16   3.48e-16      0.759      0.449   -4.25e-16    9.54e-16\n",
       "Ticket_3101265                0.4863      5.287      0.092      0.927      -9.983      10.955\n",
       "Ticket_3101267               -0.1751      6.032     -0.029      0.977     -12.120      11.769\n",
       "Ticket_3101276               -0.1751      4.967     -0.035      0.972     -10.010       9.660\n",
       "Ticket_3101277             2.612e-16    4.1e-16      0.637      0.525   -5.51e-16    1.07e-15\n",
       "Ticket_3101278                0.1556      0.990      0.157      0.875      -1.804       2.115\n",
       "Ticket_3101281                0.4863      4.967      0.098      0.922      -9.349      10.322\n",
       "Ticket_3101295               -0.2315     18.761     -0.012      0.990     -37.380      36.917\n",
       "Ticket_3101296               -0.1751      4.967     -0.035      0.972     -10.010       9.660\n",
       "Ticket_3101298                0.4863      1.731      0.281      0.779      -2.942       3.914\n",
       "Ticket_31027              -3.537e-16   4.24e-16     -0.835      0.405   -1.19e-15    4.85e-16\n",
       "Ticket_31028                 -0.1751      3.051     -0.057      0.954      -6.217       5.867\n",
       "Ticket_312991                 0.8249      5.079      0.162      0.871      -9.232      10.882\n",
       "Ticket_312992                -0.1751      5.079     -0.034      0.973     -10.232       9.882\n",
       "Ticket_312993                -0.1751      5.079     -0.034      0.973     -10.232       9.882\n",
       "Ticket_31418                  0.4863      1.214      0.401      0.689      -1.917       2.889\n",
       "Ticket_315037                -0.1751      4.418     -0.040      0.968      -8.923       8.573\n",
       "Ticket_315082                -0.1751      5.004     -0.035      0.972     -10.084       9.734\n",
       "Ticket_315084                -0.5137      4.418     -0.116      0.908      -9.262       8.234\n",
       "Ticket_315086                -0.1751      4.418     -0.040      0.968      -8.923       8.573\n",
       "Ticket_315088                -0.1751      4.418     -0.040      0.968      -8.923       8.573\n",
       "Ticket_315089                -0.1751      4.418     -0.040      0.968      -8.923       8.573\n",
       "Ticket_315090                -0.1751      4.418     -0.040      0.968      -8.923       8.573\n",
       "Ticket_315093                -0.1751      4.418     -0.040      0.968      -8.923       8.573\n",
       "Ticket_315094                -0.1751      4.418     -0.040      0.968      -8.923       8.573\n",
       "Ticket_315096                -0.5137      4.418     -0.116      0.908      -9.262       8.234\n",
       "Ticket_315097                -0.1751      4.418     -0.040      0.968      -8.923       8.573\n",
       "Ticket_315098                 0.8249      4.418      0.187      0.852      -7.923       9.573\n",
       "Ticket_315151                -0.1751      4.418     -0.040      0.968      -8.923       8.573\n",
       "Ticket_315153                 0.4863      5.582      0.087      0.931     -10.567      11.540\n",
       "Ticket_323592                -0.1751      5.470     -0.032      0.975     -11.006      10.656\n",
       "Ticket_323951                -0.1751      4.874     -0.036      0.971      -9.826       9.476\n",
       "Ticket_324669              1.328e-16   3.83e-16      0.347      0.729   -6.25e-16    8.91e-16\n",
       "Ticket_330877                -0.2370      0.960     -0.247      0.805      -2.138       1.664\n",
       "Ticket_330909                -0.5756      1.556     -0.370      0.712      -3.656       2.505\n",
       "Ticket_330919                 0.4244      1.410      0.301      0.764      -2.368       3.217\n",
       "Ticket_330923             -5.703e-16   3.24e-16     -1.758      0.081   -1.21e-15     7.2e-17\n",
       "Ticket_330931                 0.4244      1.374      0.309      0.758      -2.296       3.145\n",
       "Ticket_330932                 0.4244      1.440      0.295      0.769      -2.428       3.277\n",
       "Ticket_330935                -0.5756      1.188     -0.485      0.629      -2.927       1.776\n",
       "Ticket_330958                 0.4244      1.374      0.309      0.758      -2.296       3.145\n",
       "Ticket_330959                 0.4244      1.374      0.309      0.758      -2.296       3.145\n",
       "Ticket_330979                -0.2370      1.410     -0.168      0.867      -3.029       2.555\n",
       "Ticket_330980                 0.4244      1.374      0.309      0.758      -2.296       3.145\n",
       "Ticket_334912              4.206e-16   4.57e-16      0.920      0.359   -4.84e-16    1.33e-15\n",
       "Ticket_335097                -0.2370      1.468     -0.161      0.872      -3.143       2.669\n",
       "Ticket_335677                 0.4244      1.468      0.289      0.773      -2.482       3.331\n",
       "Ticket_33638              -3.259e-16   4.31e-16     -0.757      0.451   -1.18e-15    5.27e-16\n",
       "Ticket_336439              2.685e-16   3.69e-16      0.727      0.469   -4.63e-16       1e-15\n",
       "Ticket_3411                  -0.2567     10.852     -0.024      0.981     -21.745      21.231\n",
       "Ticket_341826                -0.1751      4.874     -0.036      0.971      -9.826       9.476\n",
       "Ticket_34218                  0.0834      8.316      0.010      0.992     -16.383      16.549\n",
       "Ticket_342826                -0.1751      4.874     -0.036      0.971      -9.826       9.476\n",
       "Ticket_343095                -0.5137      4.874     -0.105      0.916     -10.165       9.138\n",
       "Ticket_343120              4.596e-17   4.24e-16      0.109      0.914   -7.93e-16    8.85e-16\n",
       "Ticket_343275                -0.1751      4.874     -0.036      0.971      -9.826       9.476\n",
       "Ticket_343276                -0.1751      4.874     -0.036      0.971      -9.826       9.476\n",
       "Ticket_345364                -0.1751      6.225     -0.028      0.978     -12.501      12.151\n",
       "Ticket_345572                 0.4863      2.145      0.227      0.821      -3.761       4.734\n",
       "Ticket_345763                -0.5137      2.588     -0.198      0.843      -5.639       4.612\n",
       "Ticket_345764                -0.3444      2.578     -0.134      0.894      -5.448       4.759\n",
       "Ticket_345765                -0.1751      4.167     -0.042      0.967      -8.425       8.075\n",
       "Ticket_345767              2.634e-16   3.75e-16      0.702      0.484    -4.8e-16    1.01e-15\n",
       "Ticket_345769                -0.1751      3.795     -0.046      0.963      -7.689       7.338\n",
       "Ticket_345770                -0.1751      3.795     -0.046      0.963      -7.689       7.338\n",
       "Ticket_345773                -0.3444      7.163     -0.048      0.962     -14.527      13.838\n",
       "Ticket_345774                 0.8249      3.795      0.217      0.828      -6.689       8.338\n",
       "Ticket_345777                -0.1751      3.795     -0.046      0.963      -7.689       7.338\n",
       "Ticket_345778                -0.1751      3.795     -0.046      0.963      -7.689       7.338\n",
       "Ticket_345779                 0.8249      3.795      0.217      0.828      -6.689       8.338\n",
       "Ticket_345780                -0.1751      3.795     -0.046      0.963      -7.689       7.338\n",
       "Ticket_345781                -0.1751      3.795     -0.046      0.963      -7.689       7.338\n",
       "Ticket_345783                -0.1751      3.795     -0.046      0.963      -7.689       7.338\n",
       "Ticket_3460                2.907e-17   3.33e-16      0.087      0.931    -6.3e-16    6.88e-16\n",
       "Ticket_347054                -0.5761     10.343     -0.056      0.956     -21.057      19.905\n",
       "Ticket_347060                -0.1751      5.079     -0.034      0.973     -10.232       9.882\n",
       "Ticket_347061              1.636e-18    3.5e-16      0.005      0.996   -6.91e-16    6.95e-16\n",
       "Ticket_347062                -0.1751      5.079     -0.034      0.973     -10.232       9.882\n",
       "Ticket_347063                -0.1751      5.079     -0.034      0.973     -10.232       9.882\n",
       "Ticket_347064                -0.1751      5.097     -0.034      0.973     -10.269       9.918\n",
       "Ticket_347067                -0.1751      5.079     -0.034      0.973     -10.232       9.882\n",
       "Ticket_347068                -0.1751      5.079     -0.034      0.973     -10.232       9.882\n",
       "Ticket_347069                -0.1751      5.079     -0.034      0.973     -10.232       9.882\n",
       "Ticket_347071                -0.5137      5.079     -0.101      0.920     -10.571       9.543\n",
       "Ticket_347073             -2.447e-16   3.56e-16     -0.687      0.494    -9.5e-16    4.61e-16\n",
       "Ticket_347074                -0.1751      5.079     -0.034      0.973     -10.232       9.882\n",
       "Ticket_347076              7.969e-16   3.22e-16      2.475      0.015    1.59e-16    1.43e-15\n",
       "Ticket_347077                 0.3787     12.564      0.030      0.976     -24.500      25.257\n",
       "Ticket_347078                -0.1751      5.097     -0.034      0.973     -10.269       9.918\n",
       "Ticket_347080                -0.5137      0.356     -1.444      0.151      -1.218       0.191\n",
       "Ticket_347081                 0.4863      5.098      0.095      0.924      -9.608      10.580\n",
       "Ticket_347082                -0.4009     12.480     -0.032      0.974     -25.112      24.310\n",
       "Ticket_347083                 0.8249      5.079      0.162      0.871      -9.232      10.882\n",
       "Ticket_347085                 0.4863      5.079      0.096      0.924      -9.571      10.543\n",
       "Ticket_347087                -0.5137      5.079     -0.101      0.920     -10.571       9.543\n",
       "Ticket_347088                -0.3444      9.960     -0.035      0.972     -20.066      19.377\n",
       "Ticket_347089             -6.354e-16   3.29e-16     -1.934      0.055   -1.29e-15    1.51e-17\n",
       "Ticket_3474                  -0.1751      4.995     -0.035      0.972     -10.066       9.716\n",
       "Ticket_347464              2.034e-16   3.96e-16      0.513      0.609   -5.81e-16    9.88e-16\n",
       "Ticket_347466                -0.1751      5.020     -0.035      0.972     -10.115       9.765\n",
       "Ticket_347468                -0.1751      5.020     -0.035      0.972     -10.115       9.765\n",
       "Ticket_347470                 0.4863      5.020      0.097      0.923      -9.454      10.426\n",
       "Ticket_347742                 0.6556      2.571      0.255      0.799      -4.436       5.747\n",
       "Ticket_347743                -0.1751      5.616     -0.031      0.975     -11.295      10.945\n",
       "Ticket_348121                -0.1949     14.235     -0.014      0.989     -28.382      27.992\n",
       "Ticket_348123                -0.1299      9.493     -0.014      0.989     -18.926      18.667\n",
       "Ticket_348124                -0.1299      9.493     -0.014      0.989     -18.926      18.667\n",
       "Ticket_349201                -0.1751      4.989     -0.035      0.972     -10.053       9.703\n",
       "Ticket_349203                -0.1751      4.989     -0.035      0.972     -10.053       9.703\n",
       "Ticket_349204                -0.1751      4.989     -0.035      0.972     -10.053       9.703\n",
       "Ticket_349205                -0.1751      4.989     -0.035      0.972     -10.053       9.703\n",
       "Ticket_349206                -0.1751      4.989     -0.035      0.972     -10.053       9.703\n",
       "Ticket_349207              4.296e-16   3.78e-16      1.137      0.258   -3.18e-16    1.18e-15\n",
       "Ticket_349208                -0.1751      4.989     -0.035      0.972     -10.053       9.703\n",
       "Ticket_349209                -0.1751      5.287     -0.033      0.974     -10.644      10.293\n",
       "Ticket_349210                -0.1751      5.287     -0.033      0.974     -10.644      10.293\n",
       "Ticket_349212              3.937e-16   3.63e-16      1.086      0.280   -3.24e-16    1.11e-15\n",
       "Ticket_349213                -0.2567     11.461     -0.022      0.982     -22.952      22.438\n",
       "Ticket_349214                -0.1751      4.989     -0.035      0.972     -10.053       9.703\n",
       "Ticket_349215                -0.1751      4.989     -0.035      0.972     -10.053       9.703\n",
       "Ticket_349216                -0.1751      4.989     -0.035      0.972     -10.053       9.703\n",
       "Ticket_349217                -0.1751      4.989     -0.035      0.972     -10.053       9.703\n",
       "Ticket_349218              5.283e-16   3.43e-16      1.539      0.127   -1.52e-16    1.21e-15\n",
       "Ticket_349219                -0.1751      4.989     -0.035      0.972     -10.053       9.703\n",
       "Ticket_349221                -0.1751      4.989     -0.035      0.972     -10.053       9.703\n",
       "Ticket_349222                -0.1751      4.989     -0.035      0.972     -10.053       9.703\n",
       "Ticket_349223                -0.1751      4.989     -0.035      0.972     -10.053       9.703\n",
       "Ticket_349224             -2.524e-16   3.81e-16     -0.662      0.509   -1.01e-15    5.03e-16\n",
       "Ticket_349225                -0.1751      4.989     -0.035      0.972     -10.053       9.703\n",
       "Ticket_349227                -0.1751      4.989     -0.035      0.972     -10.053       9.703\n",
       "Ticket_349228                -0.1751      3.296     -0.053      0.958      -6.701       6.351\n",
       "Ticket_349231                -0.1751      4.989     -0.035      0.972     -10.053       9.703\n",
       "Ticket_349233             -2.875e-16   3.24e-16     -0.888      0.376   -9.28e-16    3.54e-16\n",
       "Ticket_349234                -0.1751      4.989     -0.035      0.972     -10.053       9.703\n",
       "Ticket_349236                -0.5137      4.278     -0.120      0.905      -8.985       7.958\n",
       "Ticket_349237                -0.3444      2.429     -0.142      0.887      -5.154       4.465\n",
       "Ticket_349239                -0.2567     10.889     -0.024      0.981     -21.819      21.305\n",
       "Ticket_349240             -1.694e-16   3.18e-16     -0.532      0.596      -8e-16    4.61e-16\n",
       "Ticket_349241                -0.2567     11.461     -0.022      0.982     -22.952      22.438\n",
       "Ticket_349242                -0.1751      4.989     -0.035      0.972     -10.053       9.703\n",
       "Ticket_349243                -0.1751      4.989     -0.035      0.972     -10.053       9.703\n",
       "Ticket_349244                 0.4863      4.402      0.110      0.912      -8.231       9.204\n",
       "Ticket_349245                -0.5137      4.989     -0.103      0.918     -10.392       9.365\n",
       "Ticket_349246                -0.1751      4.989     -0.035      0.972     -10.053       9.703\n",
       "Ticket_349247                -0.1751      4.989     -0.035      0.972     -10.053       9.703\n",
       "Ticket_349248                -0.1751      4.989     -0.035      0.972     -10.053       9.703\n",
       "Ticket_349249                -0.1751      4.989     -0.035      0.972     -10.053       9.703\n",
       "Ticket_349251                -0.1751      4.989     -0.035      0.972     -10.053       9.703\n",
       "Ticket_349252                -0.1751      4.989     -0.035      0.972     -10.053       9.703\n",
       "Ticket_349253                -0.2567     11.461     -0.022      0.982     -22.952      22.438\n",
       "Ticket_349254                -0.2567     11.461     -0.022      0.982     -22.952      22.438\n",
       "Ticket_349256                 0.4046      7.342      0.055      0.956     -14.133      14.942\n",
       "Ticket_349257             -1.532e-17   3.25e-16     -0.047      0.963    -6.6e-16    6.29e-16\n",
       "Ticket_349909                -0.4291      4.866     -0.088      0.930     -10.064       9.206\n",
       "Ticket_349910                -0.1751      0.809     -0.217      0.829      -1.776       1.426\n",
       "Ticket_349912                -0.1751      5.079     -0.034      0.973     -10.232       9.882\n",
       "Ticket_350025                -0.1751      5.020     -0.035      0.972     -10.115       9.765\n",
       "Ticket_350026                -0.1751      0.474     -0.369      0.713      -1.115       0.764\n",
       "Ticket_350029              6.782e-17    3.3e-16      0.206      0.837   -5.85e-16    7.21e-16\n",
       "Ticket_350034              -4.47e-16   3.48e-16     -1.285      0.201   -1.14e-15    2.42e-16\n",
       "Ticket_350035                -0.1751      5.063     -0.035      0.972     -10.201       9.851\n",
       "Ticket_350036                -0.1751      5.063     -0.035      0.972     -10.201       9.851\n",
       "Ticket_350042                -0.1751      5.063     -0.035      0.972     -10.201       9.851\n",
       "Ticket_350043                 0.8249      5.063      0.163      0.871      -9.201      10.851\n",
       "Ticket_350046                 0.4863      5.020      0.097      0.923      -9.454      10.426\n",
       "Ticket_350047                -0.1751      5.020     -0.035      0.972     -10.115       9.765\n",
       "Ticket_350048                -0.1751      5.616     -0.031      0.975     -11.295      10.945\n",
       "Ticket_350050                -0.1751      5.020     -0.035      0.972     -10.115       9.765\n",
       "Ticket_350052                -0.1751      5.063     -0.035      0.972     -10.201       9.851\n",
       "Ticket_350060                -0.1751      5.268     -0.033      0.974     -10.607      10.257\n",
       "Ticket_350404             -1.008e-16   3.04e-16     -0.332      0.741   -7.02e-16    5.01e-16\n",
       "Ticket_350406                -0.5137      5.020     -0.102      0.919     -10.454       9.426\n",
       "Ticket_350407                -0.5137      5.020     -0.102      0.919     -10.454       9.426\n",
       "Ticket_350417             -1.316e-16   2.74e-16     -0.480      0.632   -6.74e-16    4.11e-16\n",
       "Ticket_35273                 -0.0938     29.281     -0.003      0.997     -58.072      57.885\n",
       "Ticket_35281                 -0.1949     11.765     -0.017      0.987     -23.490      23.101\n",
       "Ticket_35851                  0.4244      1.480      0.287      0.775      -2.506       3.355\n",
       "Ticket_35852                  0.4244      1.480      0.287      0.775      -2.506       3.355\n",
       "Ticket_358585                -0.1751      0.335     -0.522      0.602      -0.839       0.489\n",
       "Ticket_36209                 -0.2370      1.486     -0.159      0.874      -3.179       2.705\n",
       "Ticket_362316             -4.724e-16   3.55e-16     -1.331      0.186   -1.18e-15    2.31e-16\n",
       "Ticket_363291                 0.3787      4.456      0.085      0.932      -8.445       9.203\n",
       "Ticket_363294                -0.1751      4.874     -0.036      0.971      -9.826       9.476\n",
       "Ticket_363592                -0.1751      4.874     -0.036      0.971      -9.826       9.476\n",
       "Ticket_364498                -0.1751      0.335     -0.522      0.602      -0.839       0.489\n",
       "Ticket_364499                -0.1751      4.874     -0.036      0.971      -9.826       9.476\n",
       "Ticket_364500             -8.548e-17   3.19e-16     -0.268      0.789   -7.17e-16    5.46e-16\n",
       "Ticket_364506                -0.1751      4.874     -0.036      0.971      -9.826       9.476\n",
       "Ticket_364511                -0.1751      4.874     -0.036      0.971      -9.826       9.476\n",
       "Ticket_364512              6.475e-16   3.16e-16      2.049      0.043    2.17e-17    1.27e-15\n",
       "Ticket_364516                 0.4863      1.577      0.308      0.758      -2.636       3.608\n",
       "Ticket_364846                -0.5756      1.468     -0.392      0.696      -3.482       2.331\n",
       "Ticket_364848                -0.5756      1.468     -0.392      0.696      -3.482       2.331\n",
       "Ticket_364849                -0.4063      4.363     -0.093      0.926      -9.045       8.233\n",
       "Ticket_364850                -0.5756      1.468     -0.392      0.696      -3.482       2.331\n",
       "Ticket_364851                -0.2370      1.468     -0.161      0.872      -3.143       2.669\n",
       "Ticket_365222                -0.2370      2.202     -0.108      0.914      -4.597       4.123\n",
       "Ticket_365226                -0.5756      2.202     -0.261      0.794      -4.935       3.784\n",
       "Ticket_36568              -2.107e-16   3.52e-16     -0.599      0.551   -9.08e-16    4.86e-16\n",
       "Ticket_367226                 0.5937     10.146      0.059      0.953     -19.496      20.684\n",
       "Ticket_367228                 0.7630      1.468      0.520      0.604      -2.143       3.669\n",
       "Ticket_367229             -3.424e-16   2.94e-16     -1.164      0.247   -9.25e-16     2.4e-16\n",
       "Ticket_367230                 0.4244      4.369      0.097      0.923      -8.227       9.075\n",
       "Ticket_367231                 0.4244      1.468      0.289      0.773      -2.482       3.331\n",
       "Ticket_367232                -0.2370      1.468     -0.161      0.872      -3.143       2.669\n",
       "Ticket_367655             -5.462e-17   2.87e-16     -0.190      0.849   -6.23e-16    5.14e-16\n",
       "Ticket_368323                -0.2370      2.054     -0.115      0.908      -4.304       3.831\n",
       "Ticket_36864              -3.021e-18    2.6e-16     -0.012      0.991   -5.19e-16    5.13e-16\n",
       "Ticket_36865                 -0.2370      1.477     -0.160      0.873      -3.161       2.687\n",
       "Ticket_36866               2.945e-16    2.8e-16      1.052      0.295    -2.6e-16    8.49e-16\n",
       "Ticket_368703                -0.2370      1.468     -0.161      0.872      -3.143       2.669\n",
       "Ticket_36928                  0.1358     44.461      0.003      0.998     -87.902      88.173\n",
       "Ticket_36947                  0.0950      8.891      0.011      0.991     -17.510      17.700\n",
       "Ticket_36963                 -0.1949      5.026     -0.039      0.969     -10.148       9.758\n",
       "Ticket_36967                 -0.1949      4.392     -0.044      0.965      -8.892       8.502\n",
       "Ticket_36973                 -0.0295     14.075     -0.002      0.998     -27.899      27.840\n",
       "Ticket_370129                -0.5137      4.232     -0.121      0.904      -8.894       7.866\n",
       "Ticket_370365                 0.0937      4.363      0.021      0.983      -8.545       8.733\n",
       "Ticket_370369                -0.2370      1.468     -0.161      0.872      -3.143       2.669\n",
       "Ticket_370370              5.714e-18   2.71e-16      0.021      0.983    -5.3e-16    5.42e-16\n",
       "Ticket_370371                -0.2370      4.369     -0.054      0.957      -8.888       8.414\n",
       "Ticket_370372              2.369e-16   3.75e-16      0.632      0.529   -5.06e-16    9.79e-16\n",
       "Ticket_370373                 0.4244      1.468      0.289      0.773      -2.482       3.331\n",
       "Ticket_370375                 0.4244      1.468      0.289      0.773      -2.482       3.331\n",
       "Ticket_370376                -0.2370      1.468     -0.161      0.872      -3.143       2.669\n",
       "Ticket_370377              1.034e-16   2.66e-16      0.389      0.698   -4.23e-16     6.3e-16\n",
       "Ticket_371060                -0.2370      1.468     -0.161      0.872      -3.143       2.669\n",
       "Ticket_371110                -0.0165     10.817     -0.002      0.999     -21.435      21.402\n",
       "Ticket_371362              8.663e-17   2.98e-16      0.291      0.772   -5.04e-16    6.77e-16\n",
       "Ticket_372622                -0.2370      1.468     -0.161      0.872      -3.143       2.669\n",
       "Ticket_373450             -1.388e-17   3.22e-16     -0.043      0.966   -6.51e-16    6.23e-16\n",
       "Ticket_374746             -4.286e-17   2.37e-16     -0.181      0.857   -5.12e-16    4.26e-16\n",
       "Ticket_374887                -0.1751      5.470     -0.032      0.975     -11.006      10.656\n",
       "Ticket_374910              2.733e-16   3.33e-16      0.820      0.414   -3.86e-16    9.33e-16\n",
       "Ticket_376564                -0.1751      1.195     -0.147      0.884      -2.542       2.191\n",
       "Ticket_376566                -0.1751      1.195     -0.147      0.884      -2.542       2.191\n",
       "Ticket_382649             -9.895e-18   3.33e-16     -0.030      0.976   -6.69e-16    6.49e-16\n",
       "Ticket_382651             -1.051e-17   2.56e-16     -0.041      0.967   -5.18e-16    4.97e-16\n",
       "Ticket_382652                -0.3216     14.531     -0.022      0.982     -29.094      28.451\n",
       "Ticket_383121                -0.2258     12.370     -0.018      0.985     -24.719      24.268\n",
       "Ticket_384461                -0.2370      1.468     -0.161      0.872      -3.143       2.669\n",
       "Ticket_386525              1.795e-16   3.16e-16      0.568      0.571   -4.46e-16    8.05e-16\n",
       "Ticket_392091                 0.4863      3.906      0.124      0.901      -7.249       8.221\n",
       "Ticket_392092                -0.1751      4.874     -0.036      0.971      -9.826       9.476\n",
       "Ticket_392096                 0.2205     12.433      0.018      0.986     -24.399      24.840\n",
       "Ticket_394140                -0.2370      2.122     -0.112      0.911      -4.438       3.964\n",
       "Ticket_4133                  -0.4009      8.144     -0.049      0.961     -16.527      15.726\n",
       "Ticket_4134                   0.4863      3.730      0.130      0.896      -6.899       7.871\n",
       "Ticket_4135                  -0.5137      3.730     -0.138      0.891      -7.899       6.871\n",
       "Ticket_4136                  -0.5137      3.553     -0.145      0.885      -7.549       6.522\n",
       "Ticket_4137               -1.428e-16   2.72e-16     -0.524      0.601   -6.82e-16    3.96e-16\n",
       "Ticket_4138                   0.4863      3.541      0.137      0.891      -6.525       7.497\n",
       "Ticket_4579                6.386e-17   2.99e-16      0.213      0.831   -5.29e-16    6.56e-16\n",
       "Ticket_54636                 -0.1751      1.195     -0.147      0.884      -2.542       2.191\n",
       "Ticket_5727                8.091e-17   3.06e-16      0.264      0.792   -5.25e-16    6.87e-16\n",
       "Ticket_65303                 -0.1751      4.049     -0.043      0.966      -8.192       7.842\n",
       "Ticket_65304                1.35e-16   2.52e-16      0.535      0.593   -3.64e-16    6.34e-16\n",
       "Ticket_65306                  0.8249      4.827      0.171      0.865      -8.734      10.384\n",
       "Ticket_6563                3.055e-16    3.4e-16      0.899      0.371   -3.68e-16    9.79e-16\n",
       "Ticket_693                   -0.1751      8.547     -0.020      0.984     -17.098      16.748\n",
       "Ticket_695                -7.998e-17   2.82e-16     -0.284      0.777   -6.39e-16    4.79e-16\n",
       "Ticket_7267                  -0.1751      3.999     -0.044      0.965      -8.094       7.744\n",
       "Ticket_7534                  -0.1751      3.764     -0.047      0.963      -7.628       7.278\n",
       "Ticket_7540                  -0.1751      4.424     -0.040      0.968      -8.935       8.585\n",
       "Ticket_7545                  -0.1751      3.807     -0.046      0.963      -7.713       7.363\n",
       "Ticket_7546                  -0.5137      3.813     -0.135      0.893      -8.064       7.037\n",
       "Ticket_7552                  -0.5137      3.039     -0.169      0.866      -6.532       5.504\n",
       "Ticket_7553                  -0.5137      3.544     -0.145      0.885      -7.531       6.503\n",
       "Ticket_7598                   0.8249      4.874      0.169      0.866      -8.826      10.476\n",
       "Ticket_8471                  -0.1751      4.641     -0.038      0.970      -9.365       9.015\n",
       "Ticket_8475                4.543e-16   2.97e-16      1.529      0.129   -1.34e-16    1.04e-15\n",
       "Ticket_9234                   0.4244      1.468      0.289      0.773      -2.482       3.331\n",
       "Ticket_A./5. 2152            -0.1751      4.874     -0.036      0.971      -9.826       9.476\n",
       "Ticket_A./5. 3235            -0.1751      4.874     -0.036      0.971      -9.826       9.476\n",
       "Ticket_A.5. 11206         -8.115e-17    2.6e-16     -0.312      0.756   -5.97e-16    4.34e-16\n",
       "Ticket_A.5. 18509          5.754e-16    3.1e-16      1.855      0.066   -3.87e-17    1.19e-15\n",
       "Ticket_A/4 45380             -0.1751      4.874     -0.036      0.971      -9.826       9.476\n",
       "Ticket_A/4 48871             -0.1751      7.167     -0.024      0.981     -14.366      14.015\n",
       "Ticket_A/4. 20589            -0.1751      4.874     -0.036      0.971      -9.826       9.476\n",
       "Ticket_A/4. 34244            -0.1751      5.470     -0.032      0.975     -11.006      10.656\n",
       "Ticket_A/4. 39886            -0.1751      5.060     -0.035      0.972     -10.195       9.845\n",
       "Ticket_A/5 21171             -0.1751      5.470     -0.032      0.975     -11.006      10.656\n",
       "Ticket_A/5 21172             -0.1751      5.470     -0.032      0.975     -11.006      10.656\n",
       "Ticket_A/5 21173           1.746e-16   3.16e-16      0.553      0.581    -4.5e-16       8e-16\n",
       "Ticket_A/5 21174          -7.291e-17   2.45e-16     -0.297      0.767   -5.59e-16    4.13e-16\n",
       "Ticket_A/5 2466              -0.1751      4.874     -0.036      0.971      -9.826       9.476\n",
       "Ticket_A/5 2817            4.948e-16   3.26e-16      1.519      0.131    -1.5e-16    1.14e-15\n",
       "Ticket_A/5 3536              -0.1751      4.874     -0.036      0.971      -9.826       9.476\n",
       "Ticket_A/5 3540               0.8249      4.874      0.169      0.866      -8.826      10.476\n",
       "Ticket_A/5 3594              -0.1751      4.874     -0.036      0.971      -9.826       9.476\n",
       "Ticket_A/5 3902              -0.1751      5.470     -0.032      0.975     -11.006      10.656\n",
       "Ticket_A/5. 10482             0.8249      4.874      0.169      0.866      -8.826      10.476\n",
       "Ticket_A/5. 13032            -0.2370      1.480     -0.160      0.873      -3.167       2.693\n",
       "Ticket_A/5. 2151             -0.1751      4.874     -0.036      0.971      -9.826       9.476\n",
       "Ticket_A/5. 3336             -0.3444      1.172     -0.294      0.769      -2.665       1.976\n",
       "Ticket_A/5. 3337             -0.5137      0.338     -1.522      0.131      -1.182       0.155\n",
       "Ticket_A/5. 851              -0.1751      0.335     -0.522      0.602      -0.839       0.489\n",
       "Ticket_A/S 2816              -0.1751      4.874     -0.036      0.971      -9.826       9.476\n",
       "Ticket_A4. 54510             -0.1751      4.874     -0.036      0.971      -9.826       9.476\n",
       "Ticket_C 17369                0.8249      5.551      0.149      0.882     -10.166      11.816\n",
       "Ticket_C 4001                -0.1751      5.955     -0.029      0.977     -11.966      11.616\n",
       "Ticket_C 7075                -0.1751      6.066     -0.029      0.977     -12.187      11.837\n",
       "Ticket_C 7076                -0.1751      5.470     -0.032      0.975     -11.006      10.656\n",
       "Ticket_C 7077             -2.169e-16   3.35e-16     -0.648      0.518    -8.8e-16    4.46e-16\n",
       "Ticket_C.A. 17248            -0.1751      3.051     -0.057      0.954      -6.217       5.867\n",
       "Ticket_C.A. 18723            -0.1751      3.051     -0.057      0.954      -6.217       5.867\n",
       "Ticket_C.A. 2315              0.3249      4.496      0.072      0.943      -8.577       9.227\n",
       "Ticket_C.A. 24579            -0.1751      3.051     -0.057      0.954      -6.217       5.867\n",
       "Ticket_C.A. 24580            -0.1751      3.051     -0.057      0.954      -6.217       5.867\n",
       "Ticket_C.A. 2673              0.1556      4.253      0.037      0.971      -8.266       8.578\n",
       "Ticket_C.A. 29178         -3.131e-17   2.84e-16     -0.110      0.912   -5.93e-16    5.31e-16\n",
       "Ticket_C.A. 29395         -1.492e-16   3.12e-16     -0.479      0.633   -7.67e-16    4.68e-16\n",
       "Ticket_C.A. 29566            -0.1751      3.051     -0.057      0.954      -6.217       5.867\n",
       "Ticket_C.A. 31026             0.4863      3.052      0.159      0.874      -5.556       6.529\n",
       "Ticket_C.A. 31921             0.1556      8.730      0.018      0.986     -17.131      17.442\n",
       "Ticket_C.A. 33111            -0.1751      3.051     -0.057      0.954      -6.217       5.867\n",
       "Ticket_C.A. 33112            -0.1751     16.570     -0.011      0.992     -32.986      32.636\n",
       "Ticket_C.A. 33595             0.4863      0.948      0.513      0.609      -1.390       2.363\n",
       "Ticket_C.A. 34260             0.0905      9.406      0.010      0.992     -18.534      18.715\n",
       "Ticket_C.A. 34651             0.1556      9.850      0.016      0.987     -19.348      19.659\n",
       "Ticket_C.A. 37671             0.8249      1.052      0.784      0.435      -1.259       2.909\n",
       "Ticket_C.A. 5547             -0.1751      5.246     -0.033      0.973     -10.564      10.213\n",
       "Ticket_C.A. 6212             -0.1751      0.521     -0.336      0.737      -1.207       0.856\n",
       "Ticket_C.A./SOTON 34068   -7.596e-17    2.6e-16     -0.292      0.771   -5.91e-16    4.39e-16\n",
       "Ticket_CA 2144               -0.2428     24.146     -0.010      0.992     -48.055      47.569\n",
       "Ticket_CA. 2314               0.4863      5.247      0.093      0.926      -9.903      10.875\n",
       "Ticket_CA. 2343              -0.3444     41.058     -0.008      0.993     -81.644      80.955\n",
       "Ticket_F.C. 12750            -0.1949      2.329     -0.084      0.933      -4.807       4.417\n",
       "Ticket_F.C.C. 13528           0.4863      4.818      0.101      0.920      -9.055      10.027\n",
       "Ticket_F.C.C. 13529          -0.1751      8.733     -0.020      0.984     -17.468      17.117\n",
       "Ticket_F.C.C. 13531         4.14e-16   2.44e-16      1.694      0.093   -6.99e-17    8.98e-16\n",
       "Ticket_Fa 265302             -0.1751      5.423     -0.032      0.974     -10.914      10.564\n",
       "Ticket_LINE                   0.1582     10.875      0.015      0.988     -21.376      21.692\n",
       "Ticket_P/PP 3381              0.0739      0.614      0.120      0.904      -1.143       1.291\n",
       "Ticket_PC 17318            2.499e-16   2.14e-16      1.170      0.244   -1.73e-16    6.73e-16\n",
       "Ticket_PC 17473               0.2034      4.882      0.042      0.967      -9.463       9.870\n",
       "Ticket_PC 17474               0.2034      4.807      0.042      0.966      -9.316       9.722\n",
       "Ticket_PC 17475               0.2034      4.857      0.042      0.967      -9.414       9.821\n",
       "Ticket_PC 17476               0.2034      4.857      0.042      0.967      -9.414       9.821\n",
       "Ticket_PC 17477               0.0950      5.545      0.017      0.986     -10.885      11.075\n",
       "Ticket_PC 17482               0.0950      1.855      0.051      0.959      -3.579       3.769\n",
       "Ticket_PC 17483            2.001e-16   2.24e-16      0.895      0.372   -2.42e-16    6.43e-16\n",
       "Ticket_PC 17485               0.2395      1.242      0.193      0.847      -2.220       2.699\n",
       "Ticket_PC 17558           -2.441e-16   1.86e-16     -1.309      0.193   -6.13e-16    1.25e-16\n",
       "Ticket_PC 17569               0.1266     45.830      0.003      0.998     -90.621      90.874\n",
       "Ticket_PC 17572               0.2960     11.089      0.027      0.979     -21.662      22.254\n",
       "Ticket_PC 17582              -0.0394     53.604     -0.001      0.999    -106.182     106.103\n",
       "Ticket_PC 17585               0.4046     41.786      0.010      0.992     -82.335      83.145\n",
       "Ticket_PC 17590              -0.1949      1.770     -0.110      0.912      -3.699       3.309\n",
       "Ticket_PC 17592           -1.389e-16   2.22e-16     -0.627      0.532   -5.77e-16       3e-16\n",
       "Ticket_PC 17593              -0.2357      9.240     -0.026      0.980     -18.532      18.061\n",
       "Ticket_PC 17595              -0.4050      9.612     -0.042      0.966     -19.437      18.627\n",
       "Ticket_PC 17596              -0.2357      9.243     -0.025      0.980     -18.538      18.066\n",
       "Ticket_PC 17597              -0.2567     28.480     -0.009      0.993     -56.650      56.136\n",
       "Ticket_PC 17599               0.0950      6.285      0.015      0.988     -12.350      12.540\n",
       "Ticket_PC 17600              -0.2567      5.577     -0.046      0.963     -11.300      10.787\n",
       "Ticket_PC 17601              -0.2567      3.362     -0.076      0.939      -6.915       6.401\n",
       "Ticket_PC 17603               0.4046     27.002      0.015      0.988     -53.063      53.872\n",
       "Ticket_PC 17604               0.0739     44.003      0.002      0.999     -87.057      87.205\n",
       "Ticket_PC 17605              -0.2567      3.362     -0.076      0.939      -6.915       6.401\n",
       "Ticket_PC 17608            2.324e-17   1.88e-16      0.124      0.902   -3.49e-16    3.95e-16\n",
       "Ticket_PC 17609              -0.2567     19.614     -0.013      0.990     -39.094      38.581\n",
       "Ticket_PC 17610               0.0950      9.982      0.010      0.992     -19.670      19.860\n",
       "Ticket_PC 17611               0.8249     88.921      0.009      0.993    -175.247     176.896\n",
       "Ticket_PC 17612              -0.2567      3.362     -0.076      0.939      -6.915       6.401\n",
       "Ticket_PC 17754              -0.2357      7.394     -0.032      0.975     -14.876      14.405\n",
       "Ticket_PC 17755            1.064e-17   1.82e-16      0.058      0.954    -3.5e-16    3.71e-16\n",
       "Ticket_PC 17756               0.0950     10.718      0.009      0.993     -21.127      21.317\n",
       "Ticket_PC 17757           -3.061e-16   1.75e-16     -1.751      0.083   -6.52e-16    4.01e-17\n",
       "Ticket_PC 17758              -0.0704     20.327     -0.003      0.997     -40.320      40.179\n",
       "Ticket_PC 17759               0.2643      3.328      0.079      0.937      -6.326       6.855\n",
       "Ticket_PC 17760               0.1539     42.570      0.004      0.997     -84.139      84.446\n",
       "Ticket_PC 17761               0.4046     62.114      0.007      0.995    -122.586     123.396\n",
       "Ticket_PP 4348               -0.1751      3.906     -0.045      0.964      -7.910       7.559\n",
       "Ticket_PP 9549                0.4239      5.687      0.075      0.941     -10.837      11.685\n",
       "Ticket_S.C./A.4. 23567       -0.1751      4.874     -0.036      0.971      -9.826       9.476\n",
       "Ticket_S.C./PARIS 2079        0.2433     10.280      0.024      0.981     -20.113      20.600\n",
       "Ticket_S.O./P.P. 3           -0.1751      3.051     -0.057      0.954      -6.217       5.867\n",
       "Ticket_S.O./P.P. 751         -0.1751      5.246     -0.033      0.973     -10.564      10.213\n",
       "Ticket_S.O.C. 14879          -0.1751     44.008     -0.004      0.997     -87.315      86.965\n",
       "Ticket_S.O.P. 1166        -1.131e-16   1.41e-16     -0.802      0.424   -3.92e-16    1.66e-16\n",
       "Ticket_S.P. 3464             -0.1751      4.793     -0.037      0.971      -9.666       9.316\n",
       "Ticket_S.W./PP 752            0.8249      3.051      0.270      0.787      -5.217       6.867\n",
       "Ticket_SC 1748             1.219e-17   1.66e-16      0.073      0.942   -3.17e-16    3.42e-16\n",
       "Ticket_SC/AH 29037         7.618e-17   1.42e-16      0.535      0.593   -2.06e-16    3.58e-16\n",
       "Ticket_SC/AH 3085         -1.344e-17   1.47e-16     -0.092      0.927   -3.04e-16    2.77e-16\n",
       "Ticket_SC/AH Basle 541    -8.748e-17   1.53e-16     -0.571      0.569   -3.91e-16    2.16e-16\n",
       "Ticket_SC/PARIS 2131         -0.2567      6.124     -0.042      0.967     -12.382      11.869\n",
       "Ticket_SC/PARIS 2133         -0.2567      6.127     -0.042      0.967     -12.389      11.875\n",
       "Ticket_SC/PARIS 2146          0.7433      7.009      0.106      0.916     -13.136      14.622\n",
       "Ticket_SC/PARIS 2149       6.056e-17   1.48e-16      0.410      0.682   -2.32e-16    3.53e-16\n",
       "Ticket_SC/PARIS 2167         -0.2567      3.362     -0.076      0.939      -6.915       6.401\n",
       "Ticket_SC/Paris 2123          0.0739     13.696      0.005      0.996     -27.045      27.193\n",
       "Ticket_SC/Paris 2163         -0.4048     12.542     -0.032      0.974     -25.239      24.429\n",
       "Ticket_SCO/W 1585            -0.1751      1.740     -0.101      0.920      -3.620       3.270\n",
       "Ticket_SO/C 14885             0.4863      3.052      0.159      0.874      -5.556       6.529\n",
       "Ticket_SOTON/O.Q. 3101305  1.966e-16   1.16e-16      1.699      0.092   -3.25e-17    4.26e-16\n",
       "Ticket_SOTON/O.Q. 3101306    -0.1751      5.619     -0.031      0.975     -11.302      10.951\n",
       "Ticket_SOTON/O.Q. 3101307    -0.1751      5.619     -0.031      0.975     -11.302      10.951\n",
       "Ticket_SOTON/O.Q. 3101310 -9.293e-17   1.09e-16     -0.852      0.396   -3.09e-16    1.23e-16\n",
       "Ticket_SOTON/O.Q. 3101311    -0.1751      5.619     -0.031      0.975     -11.302      10.951\n",
       "Ticket_SOTON/O.Q. 3101312    -0.1751      5.619     -0.031      0.975     -11.302      10.951\n",
       "Ticket_SOTON/O.Q. 392078      0.3051     14.086      0.022      0.983     -27.586      28.196\n",
       "Ticket_SOTON/O.Q. 392087     -0.5137      4.874     -0.105      0.916     -10.165       9.138\n",
       "Ticket_SOTON/O2 3101272      -0.1751      5.563     -0.031      0.975     -11.191      10.841\n",
       "Ticket_SOTON/O2 3101287      -0.1751      4.967     -0.035      0.972     -10.010       9.660\n",
       "Ticket_SOTON/OQ 3101316      -0.1751      4.874     -0.036      0.971      -9.826       9.476\n",
       "Ticket_SOTON/OQ 3101317      -0.1751      5.470     -0.032      0.975     -11.006      10.656\n",
       "Ticket_SOTON/OQ 392076       -0.1751      5.619     -0.031      0.975     -11.302      10.951\n",
       "Ticket_SOTON/OQ 392082     2.472e-17   1.08e-16      0.228      0.820    -1.9e-16    2.39e-16\n",
       "Ticket_SOTON/OQ 392086       -0.1751      4.874     -0.036      0.971      -9.826       9.476\n",
       "Ticket_SOTON/OQ 392089        0.8249      4.874      0.169      0.866      -8.826      10.476\n",
       "Ticket_SOTON/OQ 392090       -0.1751      4.874     -0.036      0.971      -9.826       9.476\n",
       "Ticket_STON/O 2. 3101269      0.8249      4.967      0.166      0.868      -9.010      10.660\n",
       "Ticket_STON/O 2. 3101273     -0.1751      5.563     -0.031      0.975     -11.191      10.841\n",
       "Ticket_STON/O 2. 3101274  -7.078e-17   8.57e-17     -0.826      0.410    -2.4e-16    9.88e-17\n",
       "Ticket_STON/O 2. 3101275     -0.1751      5.563     -0.031      0.975     -11.191      10.841\n",
       "Ticket_STON/O 2. 3101280     -0.1751      4.967     -0.035      0.972     -10.010       9.660\n",
       "Ticket_STON/O 2. 3101285   2.764e-17   9.22e-17      0.300      0.765   -1.55e-16     2.1e-16\n",
       "Ticket_STON/O 2. 3101286  -6.098e-17   6.03e-17     -1.011      0.314    -1.8e-16    5.85e-17\n",
       "Ticket_STON/O 2. 3101288      0.8249      4.967      0.166      0.868      -9.010      10.660\n",
       "Ticket_STON/O 2. 3101289      0.8249      4.967      0.166      0.868      -9.010      10.660\n",
       "Ticket_STON/O 2. 3101292     -0.1751      4.967     -0.035      0.972     -10.010       9.660\n",
       "Ticket_STON/O 2. 3101293     -0.1751      4.967     -0.035      0.972     -10.010       9.660\n",
       "Ticket_STON/O 2. 3101294     -0.1751      4.967     -0.035      0.972     -10.010       9.660\n",
       "Ticket_STON/O2. 3101271      -0.5137      4.967     -0.103      0.918     -10.349       9.322\n",
       "Ticket_STON/O2. 3101279       0.1556      0.990      0.157      0.875      -1.804       2.115\n",
       "Ticket_STON/O2. 3101282       0.4863      4.967      0.098      0.922      -9.349      10.322\n",
       "Ticket_STON/O2. 3101283    7.597e-17   8.48e-17      0.896      0.372   -9.19e-17    2.44e-16\n",
       "Ticket_STON/O2. 3101290      -0.5137      4.967     -0.103      0.918     -10.349       9.322\n",
       "Ticket_SW/PP 751              0.8249      3.051      0.270      0.787      -5.217       6.867\n",
       "Ticket_W./C. 14258            0.4863      3.052      0.159      0.874      -5.556       6.529\n",
       "Ticket_W./C. 14263         1.008e-16   5.83e-17      1.730      0.086   -1.46e-17    2.16e-16\n",
       "Ticket_W./C. 6607            -0.1751      6.644     -0.026      0.979     -13.332      12.982\n",
       "Ticket_W./C. 6608            -0.4009     14.795     -0.027      0.978     -29.696      28.894\n",
       "Ticket_W./C. 6609          3.777e-18   3.71e-17      0.102      0.919   -6.97e-17    7.72e-17\n",
       "Ticket_W.E.P. 5734           -0.1949      5.751     -0.034      0.973     -11.583      11.193\n",
       "Ticket_W/C 14208           5.038e-17   3.01e-17      1.671      0.097   -9.31e-18     1.1e-16\n",
       "Ticket_WE/P 5735             -0.0295      9.418     -0.003      0.998     -18.677      18.618\n",
       "Cabin_A10                 -3.226e-17   5.72e-17     -0.564      0.574   -1.45e-16     8.1e-17\n",
       "Cabin_A14                    -0.1299      1.569     -0.083      0.934      -3.236       2.976\n",
       "Cabin_A16                     0.0950      5.548      0.017      0.986     -10.891      11.081\n",
       "Cabin_A19                    -0.1949      7.385     -0.026      0.979     -14.818      14.429\n",
       "Cabin_A20                     0.2891      0.665      0.435      0.664      -1.027       1.605\n",
       "Cabin_A23                     0.3051      5.892      0.052      0.959     -11.362      11.973\n",
       "Cabin_A24                    -0.1949      1.770     -0.110      0.912      -3.699       3.309\n",
       "Cabin_A26                     0.2643      7.078      0.037      0.970     -13.751      14.280\n",
       "Cabin_A31                     0.2643      8.758      0.030      0.976     -17.077      17.606\n",
       "Cabin_A32                  1.286e-17   2.07e-17      0.620      0.536   -2.82e-17    5.39e-17\n",
       "Cabin_A34                          0          0        nan        nan           0           0\n",
       "Cabin_A36                    -0.1949     17.091     -0.011      0.991     -34.037      33.647\n",
       "Cabin_A5                     -0.2357      7.394     -0.032      0.975     -14.876      14.405\n",
       "Cabin_A6                           0          0        nan        nan           0           0\n",
       "Cabin_A7                     -0.2357      8.871     -0.027      0.979     -17.802      17.330\n",
       "Cabin_B101                         0          0        nan        nan           0           0\n",
       "Cabin_B102                   -0.1949     17.091     -0.011      0.991     -34.037      33.647\n",
       "Cabin_B18                     0.0950      1.327      0.072      0.943      -2.532       2.722\n",
       "Cabin_B19                    -0.1949      4.586     -0.042      0.966      -9.276       8.887\n",
       "Cabin_B20                     0.2205      4.192      0.053      0.958      -8.080       8.520\n",
       "Cabin_B22                    -0.0295      9.418     -0.003      0.998     -18.677      18.618\n",
       "Cabin_B28                     0.1358     12.777      0.011      0.992     -25.165      25.436\n",
       "Cabin_B3                           0          0        nan        nan           0           0\n",
       "Cabin_B30                    -0.2357      2.814     -0.084      0.933      -5.808       5.337\n",
       "Cabin_B35                     0.0950      5.545      0.017      0.986     -10.885      11.075\n",
       "Cabin_B37                    -0.2357      9.243     -0.025      0.980     -18.538      18.066\n",
       "Cabin_B38                    -0.1949      7.180     -0.027      0.978     -14.412      14.022\n",
       "Cabin_B39                     0.0950      1.857      0.051      0.959      -3.582       3.772\n",
       "Cabin_B4                      0.0950      9.982      0.010      0.992     -19.670      19.860\n",
       "Cabin_B41                     0.2643      9.240      0.029      0.977     -18.032      18.561\n",
       "Cabin_B42                     0.1358      5.892      0.023      0.982     -11.532      11.803\n",
       "Cabin_B49                     0.1796     13.674      0.013      0.990     -26.897      27.256\n",
       "Cabin_B5                           0          0        nan        nan           0           0\n",
       "Cabin_B50                     0.2643      8.944      0.030      0.976     -17.447      17.975\n",
       "Cabin_B51 B53 B55                  0          0        nan        nan           0           0\n",
       "Cabin_B57 B59 B63 B66              0          0        nan        nan           0           0\n",
       "Cabin_B58 B60                      0          0        nan        nan           0           0\n",
       "Cabin_B69                     0.0905     11.881      0.008      0.994     -23.434      23.615\n",
       "Cabin_B71                    -0.1949      2.329     -0.084      0.933      -4.807       4.417\n",
       "Cabin_B73                     0.0905     11.881      0.008      0.994     -23.434      23.615\n",
       "Cabin_B77                     0.0905     10.139      0.009      0.993     -19.985      20.166\n",
       "Cabin_B78                     0.0633     22.916      0.003      0.998     -45.313      45.439\n",
       "Cabin_B79                     0.0905     10.139      0.009      0.993     -19.985      20.166\n",
       "Cabin_B80                     0.0633     22.916      0.003      0.998     -45.313      45.439\n",
       "Cabin_B82 B84                      0          0        nan        nan           0           0\n",
       "Cabin_B86                    -0.2357      9.240     -0.026      0.980     -18.532      18.061\n",
       "Cabin_B94                    -0.1949     17.091     -0.011      0.991     -34.037      33.647\n",
       "Cabin_B96 B98                -0.2147     23.307     -0.009      0.993     -46.365      45.936\n",
       "Cabin_C101                    0.1358      2.135      0.064      0.949      -4.093       4.364\n",
       "Cabin_C103                    0.1358      7.180      0.019      0.985     -14.081      14.353\n",
       "Cabin_C104                         0          0        nan        nan           0           0\n",
       "Cabin_C106                    0.3051      5.706      0.053      0.957     -10.993      11.603\n",
       "Cabin_C110                   -0.1299      1.569     -0.083      0.934      -3.236       2.976\n",
       "Cabin_C111                   -0.2357      9.971     -0.024      0.981     -19.979      19.508\n",
       "Cabin_C118                   -0.2357      9.243     -0.025      0.980     -18.538      18.066\n",
       "Cabin_C123                   -0.0295      2.737     -0.011      0.991      -5.448       5.389\n",
       "Cabin_C124                   -0.2598      9.087     -0.029      0.977     -18.253      17.733\n",
       "Cabin_C125                    0.3110     26.803      0.012      0.991     -52.761      53.383\n",
       "Cabin_C126                    0.3051      2.329      0.131      0.896      -4.307       4.917\n",
       "Cabin_C128                   -0.1949      4.027     -0.048      0.961      -8.168       7.779\n",
       "Cabin_C148                    0.2643      9.131      0.029      0.977     -17.816      18.345\n",
       "Cabin_C2                     -0.0295      7.775     -0.004      0.997     -15.425      15.366\n",
       "Cabin_C22 C26                -0.7684     23.310     -0.033      0.974     -46.925      45.388\n",
       "Cabin_C23 C25 C27                  0          0        nan        nan           0           0\n",
       "Cabin_C30                    -0.1949      5.706     -0.034      0.973     -11.493      11.103\n",
       "Cabin_C32                     0.0361     18.047      0.002      0.998     -35.699      35.771\n",
       "Cabin_C45                          0          0        nan        nan           0           0\n",
       "Cabin_C46                    -0.8760     23.312     -0.038      0.970     -47.036      45.284\n",
       "Cabin_C47                     0.2643      9.243      0.029      0.977     -18.038      18.566\n",
       "Cabin_C49                    -0.4050      9.612     -0.042      0.966     -19.437      18.627\n",
       "Cabin_C50                     0.0633      7.149      0.009      0.993     -14.092      14.218\n",
       "Cabin_C52                     0.3051      3.840      0.079      0.937      -7.299       7.909\n",
       "Cabin_C54                     0.0633      7.149      0.009      0.993     -14.092      14.218\n",
       "Cabin_C62 C64                      0          0        nan        nan           0           0\n",
       "Cabin_C65                    -0.0704     20.327     -0.003      0.997     -40.320      40.179\n",
       "Cabin_C68                    -0.0496     14.047     -0.004      0.997     -27.864      27.765\n",
       "Cabin_C7                      0.1358     44.461      0.003      0.998     -87.902      88.173\n",
       "Cabin_C70                     0.2891     14.047      0.021      0.984     -27.525      28.104\n",
       "Cabin_C78                    -0.0605     18.339     -0.003      0.997     -36.373      36.252\n",
       "Cabin_C82                          0          0        nan        nan           0           0\n",
       "Cabin_C83                    -0.0295     14.075     -0.002      0.998     -27.899      27.840\n",
       "Cabin_C85                     0.0950      6.285      0.015      0.988     -12.350      12.540\n",
       "Cabin_C86                    -0.8760     23.312     -0.038      0.970     -47.036      45.283\n",
       "Cabin_C87                    -0.1949      7.180     -0.027      0.978     -14.412      14.022\n",
       "Cabin_C90                     0.0950      1.855      0.051      0.959      -3.579       3.769\n",
       "Cabin_C91                    -0.3504     26.803     -0.013      0.990     -53.423      52.723\n",
       "Cabin_C92                     0.0950     12.937      0.007      0.994     -25.522      25.712\n",
       "Cabin_C93                     0.2205     16.511      0.013      0.989     -32.472      32.913\n",
       "Cabin_C95                          0          0        nan        nan           0           0\n",
       "Cabin_C99                     0.1177     24.525      0.005      0.996     -48.445      48.681\n",
       "Cabin_D                      -0.0666     18.507     -0.004      0.997     -36.713      36.579\n",
       "Cabin_D10 D12                 0.2643      3.328      0.079      0.937      -6.326       6.855\n",
       "Cabin_D11                     0.0679      6.014      0.011      0.991     -11.840      11.975\n",
       "Cabin_D15                          0          0        nan        nan           0           0\n",
       "Cabin_D17                     0.1811      9.881      0.018      0.985     -19.384      19.747\n",
       "Cabin_D19                          0          0        nan        nan           0           0\n",
       "Cabin_D20                     0.0950      8.891      0.011      0.991     -17.510      17.700\n",
       "Cabin_D21                     0.1358      2.278      0.060      0.953      -4.375       4.647\n",
       "Cabin_D26                    -0.1949     11.765     -0.017      0.987     -23.490      23.101\n",
       "Cabin_D28                          0          0        nan        nan           0           0\n",
       "Cabin_D30                    -0.1949      2.739     -0.071      0.943      -5.618       5.229\n",
       "Cabin_D33                     0.0633      5.548      0.011      0.991     -10.921      11.048\n",
       "Cabin_D35                     0.2205      2.533      0.087      0.931      -4.795       5.236\n",
       "Cabin_D36                     0.2838     14.641      0.019      0.985     -28.708      29.275\n",
       "Cabin_D37                     0.0950      7.766      0.012      0.990     -15.282      15.472\n",
       "Cabin_D45                     0.3051      5.892      0.052      0.959     -11.362      11.973\n",
       "Cabin_D46                    -0.1949      4.392     -0.044      0.965      -8.892       8.502\n",
       "Cabin_D47                     0.1358      7.280      0.019      0.985     -14.278      14.550\n",
       "Cabin_D48                    -0.3776     14.642     -0.026      0.979     -29.370      28.615\n",
       "Cabin_D49                     0.2326      5.549      0.042      0.967     -10.755      11.221\n",
       "Cabin_D50                    -0.1949      5.026     -0.039      0.969     -10.148       9.758\n",
       "Cabin_D56                     0.3051     12.238      0.025      0.980     -23.927      24.537\n",
       "Cabin_D6                     -0.1949      5.892     -0.033      0.974     -11.862      11.473\n",
       "Cabin_D7                      0.0679      6.014      0.011      0.991     -11.840      11.975\n",
       "Cabin_D9                      0.0679      6.014      0.011      0.991     -11.840      11.975\n",
       "Cabin_E10                     0.3051     14.086      0.022      0.983     -27.586      28.196\n",
       "Cabin_E101                    0.1882     18.030      0.010      0.992     -35.512      35.889\n",
       "Cabin_E12                     0.3051      7.180      0.042      0.966     -13.912      14.522\n",
       "Cabin_E121                    0.2205     12.433      0.018      0.986     -24.399      24.840\n",
       "Cabin_E17                          0          0        nan        nan           0           0\n",
       "Cabin_E24                     0.4068      9.703      0.042      0.967     -18.806      19.619\n",
       "Cabin_E25                     0.4068      9.678      0.042      0.967     -18.756      19.570\n",
       "Cabin_E31                    -0.1949      5.751     -0.034      0.973     -11.583      11.193\n",
       "Cabin_E33                     0.1358      3.447      0.039      0.969      -6.690       6.962\n",
       "Cabin_E34                     0.0633     19.924      0.003      0.997     -39.389      39.516\n",
       "Cabin_E36                    -0.0496      0.665     -0.075      0.941      -1.366       1.267\n",
       "Cabin_E38                    -0.1949      7.180     -0.027      0.978     -14.412      14.022\n",
       "Cabin_E40                     0.0633     19.924      0.003      0.997     -39.389      39.516\n",
       "Cabin_E44                     0.1358      3.783      0.036      0.971      -7.355       7.627\n",
       "Cabin_E46                          0          0        nan        nan           0           0\n",
       "Cabin_E49                     0.0950     10.718      0.009      0.993     -21.127      21.317\n",
       "Cabin_E50                     0.2643      0.404      0.654      0.515      -0.536       1.065\n",
       "Cabin_E58                          0          0        nan        nan           0           0\n",
       "Cabin_E63                    -0.1949      2.722     -0.072      0.943      -5.584       5.194\n",
       "Cabin_E67                    -0.0295     12.647     -0.002      0.998     -25.071      25.012\n",
       "Cabin_E68                          0          0        nan        nan           0           0\n",
       "Cabin_E77                    -0.5533     23.312     -0.024      0.981     -46.713      45.606\n",
       "Cabin_E8                      0.2205      2.737      0.081      0.936      -5.198       5.639\n",
       "Cabin_F E69                  -0.2147     23.312     -0.009      0.993     -46.374      45.945\n",
       "Cabin_F G63                  -0.1949     14.235     -0.014      0.989     -28.382      27.992\n",
       "Cabin_F G73                  -0.2598     18.980     -0.014      0.989     -37.841      37.322\n",
       "Cabin_F2                      0.1385      7.384      0.019      0.985     -14.483      14.760\n",
       "Cabin_F33                     0.1811     16.939      0.011      0.991     -33.359      33.721\n",
       "Cabin_F38                    -0.2258     12.370     -0.018      0.985     -24.719      24.268\n",
       "Cabin_F4                      0.1358      2.535      0.054      0.957      -4.885       5.156\n",
       "Cabin_G6                     -0.1523     16.027     -0.010      0.992     -31.887      31.582\n",
       "Cabin_T                      -0.1949      3.840     -0.051      0.960      -7.799       7.409\n",
       "Embarked_C                    0.1442      7.552      0.019      0.985     -14.809      15.098\n",
       "Embarked_Q                    0.1244      2.584      0.048      0.962      -4.992       5.241\n",
       "Embarked_S                    0.0625      1.073      0.058      0.954      -2.062       2.187\n",
       "==============================================================================\n",
       "Omnibus:                      122.411   Durbin-Watson:                   2.078\n",
       "Prob(Omnibus):                  0.000   Jarque-Bera (JB):             2121.461\n",
       "Skew:                          -0.072   Prob(JB):                         0.00\n",
       "Kurtosis:                      11.552   Cond. No.                     4.48e+17\n",
       "==============================================================================\n",
       "\n",
       "Notes:\n",
       "[1] Standard Errors assume that the covariance matrix of the errors is correctly specified.\n",
       "[2] The input rank is higher than the number of observations.\n",
       "[3] The smallest eigenvalue is 9.83e-33. This might indicate that there are\n",
       "strong multicollinearity problems or that the design matrix is singular.\n",
       "\"\"\""
      ]
     },
     "execution_count": 27,
     "metadata": {},
     "output_type": "execute_result"
    }
   ],
   "source": [
    "from statsmodels.api import add_constant,OLS\n",
    "xconst = add_constant(xtrain)\n",
    "ols = OLS(ytrain,xconst)\n",
    "model = ols.fit()\n",
    "model.summary()"
   ]
  },
  {
   "cell_type": "code",
   "execution_count": 28,
   "id": "a59f0069",
   "metadata": {
    "execution": {
     "iopub.execute_input": "2022-07-04T15:32:58.631785Z",
     "iopub.status.busy": "2022-07-04T15:32:58.630612Z",
     "iopub.status.idle": "2022-07-04T15:32:58.636281Z",
     "shell.execute_reply": "2022-07-04T15:32:58.635511Z"
    },
    "papermill": {
     "duration": 0.046254,
     "end_time": "2022-07-04T15:32:58.638427",
     "exception": false,
     "start_time": "2022-07-04T15:32:58.592173",
     "status": "completed"
    },
    "tags": []
   },
   "outputs": [],
   "source": [
    "cols_to_drop = model.pvalues.sort_values().index[-1]"
   ]
  },
  {
   "cell_type": "code",
   "execution_count": 29,
   "id": "196f5569",
   "metadata": {
    "execution": {
     "iopub.execute_input": "2022-07-04T15:32:58.715107Z",
     "iopub.status.busy": "2022-07-04T15:32:58.714331Z",
     "iopub.status.idle": "2022-07-04T15:32:59.215775Z",
     "shell.execute_reply": "2022-07-04T15:32:59.214507Z"
    },
    "papermill": {
     "duration": 0.543545,
     "end_time": "2022-07-04T15:32:59.219042",
     "exception": false,
     "start_time": "2022-07-04T15:32:58.675497",
     "status": "completed"
    },
    "tags": []
   },
   "outputs": [
    {
     "data": {
      "text/plain": [
       "0.6201"
      ]
     },
     "execution_count": 29,
     "metadata": {},
     "output_type": "execute_result"
    }
   ],
   "source": [
    "Xnew = Xnew.drop(labels = cols_to_drop,axis=1)\n",
    "from sklearn.model_selection import train_test_split\n",
    "xtrain,xtest,ytrain,ytest = train_test_split(Xnew,Y,test_size=0.2,random_state=31)\n",
    "from statsmodels.api import add_constant,OLS\n",
    "xconst = add_constant(xtrain)\n",
    "ols = OLS(ytrain,xconst)\n",
    "model = ols.fit()\n",
    "round(model.rsquared_adj,4)"
   ]
  },
  {
   "cell_type": "code",
   "execution_count": 30,
   "id": "23b92bbd",
   "metadata": {
    "execution": {
     "iopub.execute_input": "2022-07-04T15:32:59.346915Z",
     "iopub.status.busy": "2022-07-04T15:32:59.346541Z",
     "iopub.status.idle": "2022-07-04T15:32:59.828507Z",
     "shell.execute_reply": "2022-07-04T15:32:59.827407Z"
    },
    "papermill": {
     "duration": 0.543006,
     "end_time": "2022-07-04T15:32:59.831704",
     "exception": false,
     "start_time": "2022-07-04T15:32:59.288698",
     "status": "completed"
    },
    "tags": []
   },
   "outputs": [
    {
     "data": {
      "text/plain": [
       "0.6201"
      ]
     },
     "execution_count": 30,
     "metadata": {},
     "output_type": "execute_result"
    }
   ],
   "source": [
    "cols_to_drop = model.pvalues.sort_values().index[-1]\n",
    "Xnew = Xnew.drop(labels = cols_to_drop,axis=1)\n",
    "from sklearn.model_selection import train_test_split\n",
    "xtrain,xtest,ytrain,ytest = train_test_split(Xnew,Y,test_size=0.2,random_state=31)\n",
    "from statsmodels.api import add_constant,OLS\n",
    "xconst = add_constant(xtrain)\n",
    "ols = OLS(ytrain,xconst)\n",
    "model = ols.fit()\n",
    "round(model.rsquared_adj,5)"
   ]
  },
  {
   "cell_type": "code",
   "execution_count": 31,
   "id": "69229c66",
   "metadata": {
    "execution": {
     "iopub.execute_input": "2022-07-04T15:32:59.960996Z",
     "iopub.status.busy": "2022-07-04T15:32:59.960621Z",
     "iopub.status.idle": "2022-07-04T15:33:00.475742Z",
     "shell.execute_reply": "2022-07-04T15:33:00.474570Z"
    },
    "papermill": {
     "duration": 0.576667,
     "end_time": "2022-07-04T15:33:00.479084",
     "exception": false,
     "start_time": "2022-07-04T15:32:59.902417",
     "status": "completed"
    },
    "tags": []
   },
   "outputs": [
    {
     "data": {
      "text/plain": [
       "0.6201"
      ]
     },
     "execution_count": 31,
     "metadata": {},
     "output_type": "execute_result"
    }
   ],
   "source": [
    "cols_to_drop = model.pvalues.sort_values().index[-1]\n",
    "Xnew = Xnew.drop(labels = cols_to_drop,axis=1)\n",
    "from sklearn.model_selection import train_test_split\n",
    "xtrain,xtest,ytrain,ytest = train_test_split(Xnew,Y,test_size=0.2,random_state=31)\n",
    "from statsmodels.api import add_constant,OLS\n",
    "xconst = add_constant(xtrain)\n",
    "ols = OLS(ytrain,xconst)\n",
    "model = ols.fit()\n",
    "round(model.rsquared_adj,5)"
   ]
  },
  {
   "cell_type": "code",
   "execution_count": 32,
   "id": "0c5d5625",
   "metadata": {
    "execution": {
     "iopub.execute_input": "2022-07-04T15:33:00.608508Z",
     "iopub.status.busy": "2022-07-04T15:33:00.608095Z",
     "iopub.status.idle": "2022-07-04T15:33:01.091882Z",
     "shell.execute_reply": "2022-07-04T15:33:01.090540Z"
    },
    "papermill": {
     "duration": 0.544962,
     "end_time": "2022-07-04T15:33:01.095914",
     "exception": false,
     "start_time": "2022-07-04T15:33:00.550952",
     "status": "completed"
    },
    "tags": []
   },
   "outputs": [
    {
     "data": {
      "text/plain": [
       "0.6201"
      ]
     },
     "execution_count": 32,
     "metadata": {},
     "output_type": "execute_result"
    }
   ],
   "source": [
    "cols_to_drop = model.pvalues.sort_values().index[-1]\n",
    "Xnew = Xnew.drop(labels = cols_to_drop,axis=1)\n",
    "from sklearn.model_selection import train_test_split\n",
    "xtrain,xtest,ytrain,ytest = train_test_split(Xnew,Y,test_size=0.2,random_state=31)\n",
    "from statsmodels.api import add_constant,OLS\n",
    "xconst = add_constant(xtrain)\n",
    "ols = OLS(ytrain,xconst)\n",
    "model = ols.fit()\n",
    "round(model.rsquared_adj,5)"
   ]
  },
  {
   "cell_type": "code",
   "execution_count": 33,
   "id": "e6ee15b9",
   "metadata": {
    "execution": {
     "iopub.execute_input": "2022-07-04T15:33:01.224140Z",
     "iopub.status.busy": "2022-07-04T15:33:01.223728Z",
     "iopub.status.idle": "2022-07-04T15:33:01.700128Z",
     "shell.execute_reply": "2022-07-04T15:33:01.698931Z"
    },
    "papermill": {
     "duration": 0.535173,
     "end_time": "2022-07-04T15:33:01.703434",
     "exception": false,
     "start_time": "2022-07-04T15:33:01.168261",
     "status": "completed"
    },
    "tags": []
   },
   "outputs": [
    {
     "data": {
      "text/plain": [
       "0.6201"
      ]
     },
     "execution_count": 33,
     "metadata": {},
     "output_type": "execute_result"
    }
   ],
   "source": [
    "cols_to_drop = model.pvalues.sort_values().index[-1]\n",
    "Xnew = Xnew.drop(labels = cols_to_drop,axis=1)\n",
    "from sklearn.model_selection import train_test_split\n",
    "xtrain,xtest,ytrain,ytest = train_test_split(Xnew,Y,test_size=0.2,random_state=31)\n",
    "from statsmodels.api import add_constant,OLS\n",
    "xconst = add_constant(xtrain)\n",
    "ols = OLS(ytrain,xconst)\n",
    "model = ols.fit()\n",
    "round(model.rsquared_adj,5)"
   ]
  },
  {
   "cell_type": "code",
   "execution_count": 34,
   "id": "393c32d5",
   "metadata": {
    "execution": {
     "iopub.execute_input": "2022-07-04T15:33:01.831361Z",
     "iopub.status.busy": "2022-07-04T15:33:01.830972Z",
     "iopub.status.idle": "2022-07-04T15:33:02.298268Z",
     "shell.execute_reply": "2022-07-04T15:33:02.297006Z"
    },
    "papermill": {
     "duration": 0.528319,
     "end_time": "2022-07-04T15:33:02.302134",
     "exception": false,
     "start_time": "2022-07-04T15:33:01.773815",
     "status": "completed"
    },
    "tags": []
   },
   "outputs": [
    {
     "data": {
      "text/plain": [
       "0.6201"
      ]
     },
     "execution_count": 34,
     "metadata": {},
     "output_type": "execute_result"
    }
   ],
   "source": [
    "cols_to_drop = model.pvalues.sort_values().index[-1]\n",
    "Xnew = Xnew.drop(labels = cols_to_drop,axis=1)\n",
    "from sklearn.model_selection import train_test_split\n",
    "xtrain,xtest,ytrain,ytest = train_test_split(Xnew,Y,test_size=0.2,random_state=31)\n",
    "from statsmodels.api import add_constant,OLS\n",
    "xconst = add_constant(xtrain)\n",
    "ols = OLS(ytrain,xconst)\n",
    "model = ols.fit()\n",
    "round(model.rsquared_adj,5)"
   ]
  },
  {
   "cell_type": "code",
   "execution_count": 35,
   "id": "4929dd26",
   "metadata": {
    "execution": {
     "iopub.execute_input": "2022-07-04T15:33:02.430626Z",
     "iopub.status.busy": "2022-07-04T15:33:02.430204Z",
     "iopub.status.idle": "2022-07-04T15:33:02.890839Z",
     "shell.execute_reply": "2022-07-04T15:33:02.889602Z"
    },
    "papermill": {
     "duration": 0.520129,
     "end_time": "2022-07-04T15:33:02.893896",
     "exception": false,
     "start_time": "2022-07-04T15:33:02.373767",
     "status": "completed"
    },
    "tags": []
   },
   "outputs": [
    {
     "data": {
      "text/plain": [
       "0.6201"
      ]
     },
     "execution_count": 35,
     "metadata": {},
     "output_type": "execute_result"
    }
   ],
   "source": [
    "cols_to_drop = model.pvalues.sort_values().index[-1]\n",
    "Xnew = Xnew.drop(labels = cols_to_drop,axis=1)\n",
    "from sklearn.model_selection import train_test_split\n",
    "xtrain,xtest,ytrain,ytest = train_test_split(Xnew,Y,test_size=0.2,random_state=31)\n",
    "from statsmodels.api import add_constant,OLS\n",
    "xconst = add_constant(xtrain)\n",
    "ols = OLS(ytrain,xconst)\n",
    "model = ols.fit()\n",
    "round(model.rsquared_adj,5)"
   ]
  },
  {
   "cell_type": "code",
   "execution_count": 36,
   "id": "1bf08c92",
   "metadata": {
    "execution": {
     "iopub.execute_input": "2022-07-04T15:33:03.023438Z",
     "iopub.status.busy": "2022-07-04T15:33:03.023073Z",
     "iopub.status.idle": "2022-07-04T15:33:03.500550Z",
     "shell.execute_reply": "2022-07-04T15:33:03.499304Z"
    },
    "papermill": {
     "duration": 0.537769,
     "end_time": "2022-07-04T15:33:03.503875",
     "exception": false,
     "start_time": "2022-07-04T15:33:02.966106",
     "status": "completed"
    },
    "tags": []
   },
   "outputs": [
    {
     "data": {
      "text/plain": [
       "0.6201"
      ]
     },
     "execution_count": 36,
     "metadata": {},
     "output_type": "execute_result"
    }
   ],
   "source": [
    "cols_to_drop = model.pvalues.sort_values().index[-1]\n",
    "Xnew = Xnew.drop(labels = cols_to_drop,axis=1)\n",
    "from sklearn.model_selection import train_test_split\n",
    "xtrain,xtest,ytrain,ytest = train_test_split(Xnew,Y,test_size=0.2,random_state=31)\n",
    "from statsmodels.api import add_constant,OLS\n",
    "xconst = add_constant(xtrain)\n",
    "ols = OLS(ytrain,xconst)\n",
    "model = ols.fit()\n",
    "round(model.rsquared_adj,5)"
   ]
  },
  {
   "cell_type": "code",
   "execution_count": 37,
   "id": "6ffa1e63",
   "metadata": {
    "execution": {
     "iopub.execute_input": "2022-07-04T15:33:03.633986Z",
     "iopub.status.busy": "2022-07-04T15:33:03.633226Z",
     "iopub.status.idle": "2022-07-04T15:33:04.110052Z",
     "shell.execute_reply": "2022-07-04T15:33:04.108789Z"
    },
    "papermill": {
     "duration": 0.538252,
     "end_time": "2022-07-04T15:33:04.113752",
     "exception": false,
     "start_time": "2022-07-04T15:33:03.575500",
     "status": "completed"
    },
    "tags": []
   },
   "outputs": [
    {
     "data": {
      "text/plain": [
       "0.6201"
      ]
     },
     "execution_count": 37,
     "metadata": {},
     "output_type": "execute_result"
    }
   ],
   "source": [
    "cols_to_drop = model.pvalues.sort_values().index[-1]\n",
    "Xnew = Xnew.drop(labels = cols_to_drop,axis=1)\n",
    "from sklearn.model_selection import train_test_split\n",
    "xtrain,xtest,ytrain,ytest = train_test_split(Xnew,Y,test_size=0.2,random_state=31)\n",
    "from statsmodels.api import add_constant,OLS\n",
    "xconst = add_constant(xtrain)\n",
    "ols = OLS(ytrain,xconst)\n",
    "model = ols.fit()\n",
    "round(model.rsquared_adj,5)"
   ]
  },
  {
   "cell_type": "code",
   "execution_count": 38,
   "id": "ae9810a2",
   "metadata": {
    "execution": {
     "iopub.execute_input": "2022-07-04T15:33:04.241582Z",
     "iopub.status.busy": "2022-07-04T15:33:04.241206Z",
     "iopub.status.idle": "2022-07-04T15:33:04.703636Z",
     "shell.execute_reply": "2022-07-04T15:33:04.702420Z"
    },
    "papermill": {
     "duration": 0.5222,
     "end_time": "2022-07-04T15:33:04.707365",
     "exception": false,
     "start_time": "2022-07-04T15:33:04.185165",
     "status": "completed"
    },
    "tags": []
   },
   "outputs": [
    {
     "data": {
      "text/plain": [
       "0.6201"
      ]
     },
     "execution_count": 38,
     "metadata": {},
     "output_type": "execute_result"
    }
   ],
   "source": [
    "cols_to_drop = model.pvalues.sort_values().index[-1]\n",
    "Xnew = Xnew.drop(labels = cols_to_drop,axis=1)\n",
    "from sklearn.model_selection import train_test_split\n",
    "xtrain,xtest,ytrain,ytest = train_test_split(Xnew,Y,test_size=0.2,random_state=31)\n",
    "from statsmodels.api import add_constant,OLS\n",
    "xconst = add_constant(xtrain)\n",
    "ols = OLS(ytrain,xconst)\n",
    "model = ols.fit()\n",
    "round(model.rsquared_adj,5)"
   ]
  },
  {
   "cell_type": "code",
   "execution_count": 39,
   "id": "4541e78e",
   "metadata": {
    "execution": {
     "iopub.execute_input": "2022-07-04T15:33:04.835163Z",
     "iopub.status.busy": "2022-07-04T15:33:04.834773Z",
     "iopub.status.idle": "2022-07-04T15:33:05.307722Z",
     "shell.execute_reply": "2022-07-04T15:33:05.306415Z"
    },
    "papermill": {
     "duration": 0.532653,
     "end_time": "2022-07-04T15:33:05.311664",
     "exception": false,
     "start_time": "2022-07-04T15:33:04.779011",
     "status": "completed"
    },
    "tags": []
   },
   "outputs": [
    {
     "data": {
      "text/plain": [
       "0.6201"
      ]
     },
     "execution_count": 39,
     "metadata": {},
     "output_type": "execute_result"
    }
   ],
   "source": [
    "cols_to_drop = model.pvalues.sort_values().index[-1]\n",
    "Xnew = Xnew.drop(labels = cols_to_drop,axis=1)\n",
    "from sklearn.model_selection import train_test_split\n",
    "xtrain,xtest,ytrain,ytest = train_test_split(Xnew,Y,test_size=0.2,random_state=31)\n",
    "from statsmodels.api import add_constant,OLS\n",
    "xconst = add_constant(xtrain)\n",
    "ols = OLS(ytrain,xconst)\n",
    "model = ols.fit()\n",
    "round(model.rsquared_adj,5)"
   ]
  },
  {
   "cell_type": "code",
   "execution_count": 40,
   "id": "d4c6fe7a",
   "metadata": {
    "execution": {
     "iopub.execute_input": "2022-07-04T15:33:05.440656Z",
     "iopub.status.busy": "2022-07-04T15:33:05.440244Z",
     "iopub.status.idle": "2022-07-04T15:33:05.912759Z",
     "shell.execute_reply": "2022-07-04T15:33:05.911515Z"
    },
    "papermill": {
     "duration": 0.53268,
     "end_time": "2022-07-04T15:33:05.916138",
     "exception": false,
     "start_time": "2022-07-04T15:33:05.383458",
     "status": "completed"
    },
    "tags": []
   },
   "outputs": [
    {
     "data": {
      "text/plain": [
       "0.6201"
      ]
     },
     "execution_count": 40,
     "metadata": {},
     "output_type": "execute_result"
    }
   ],
   "source": [
    "cols_to_drop = model.pvalues.sort_values().index[-1]\n",
    "Xnew = Xnew.drop(labels = cols_to_drop,axis=1)\n",
    "from sklearn.model_selection import train_test_split\n",
    "xtrain,xtest,ytrain,ytest = train_test_split(Xnew,Y,test_size=0.2,random_state=31)\n",
    "from statsmodels.api import add_constant,OLS\n",
    "xconst = add_constant(xtrain)\n",
    "ols = OLS(ytrain,xconst)\n",
    "model = ols.fit()\n",
    "round(model.rsquared_adj,5)"
   ]
  },
  {
   "cell_type": "code",
   "execution_count": 41,
   "id": "977d604c",
   "metadata": {
    "execution": {
     "iopub.execute_input": "2022-07-04T15:33:06.048140Z",
     "iopub.status.busy": "2022-07-04T15:33:06.047711Z",
     "iopub.status.idle": "2022-07-04T15:33:06.505929Z",
     "shell.execute_reply": "2022-07-04T15:33:06.504737Z"
    },
    "papermill": {
     "duration": 0.521175,
     "end_time": "2022-07-04T15:33:06.509295",
     "exception": false,
     "start_time": "2022-07-04T15:33:05.988120",
     "status": "completed"
    },
    "tags": []
   },
   "outputs": [
    {
     "data": {
      "text/plain": [
       "0.6201"
      ]
     },
     "execution_count": 41,
     "metadata": {},
     "output_type": "execute_result"
    }
   ],
   "source": [
    "cols_to_drop = model.pvalues.sort_values().index[-1]\n",
    "Xnew = Xnew.drop(labels = cols_to_drop,axis=1)\n",
    "from sklearn.model_selection import train_test_split\n",
    "xtrain,xtest,ytrain,ytest = train_test_split(Xnew,Y,test_size=0.2,random_state=31)\n",
    "from statsmodels.api import add_constant,OLS\n",
    "xconst = add_constant(xtrain)\n",
    "ols = OLS(ytrain,xconst)\n",
    "model = ols.fit()\n",
    "round(model.rsquared_adj,5)"
   ]
  },
  {
   "cell_type": "code",
   "execution_count": 42,
   "id": "b3b38a9e",
   "metadata": {
    "execution": {
     "iopub.execute_input": "2022-07-04T15:33:06.639768Z",
     "iopub.status.busy": "2022-07-04T15:33:06.639368Z",
     "iopub.status.idle": "2022-07-04T15:33:07.133958Z",
     "shell.execute_reply": "2022-07-04T15:33:07.132530Z"
    },
    "papermill": {
     "duration": 0.555034,
     "end_time": "2022-07-04T15:33:07.137585",
     "exception": false,
     "start_time": "2022-07-04T15:33:06.582551",
     "status": "completed"
    },
    "tags": []
   },
   "outputs": [
    {
     "data": {
      "text/plain": [
       "0.6201"
      ]
     },
     "execution_count": 42,
     "metadata": {},
     "output_type": "execute_result"
    }
   ],
   "source": [
    "cols_to_drop = model.pvalues.sort_values().index[-1]\n",
    "Xnew = Xnew.drop(labels = cols_to_drop,axis=1)\n",
    "from sklearn.model_selection import train_test_split\n",
    "xtrain,xtest,ytrain,ytest = train_test_split(Xnew,Y,test_size=0.2,random_state=31)\n",
    "from statsmodels.api import add_constant,OLS\n",
    "xconst = add_constant(xtrain)\n",
    "ols = OLS(ytrain,xconst)\n",
    "model = ols.fit()\n",
    "round(model.rsquared_adj,5)"
   ]
  },
  {
   "cell_type": "code",
   "execution_count": 43,
   "id": "31b51145",
   "metadata": {
    "execution": {
     "iopub.execute_input": "2022-07-04T15:33:07.267107Z",
     "iopub.status.busy": "2022-07-04T15:33:07.266338Z",
     "iopub.status.idle": "2022-07-04T15:33:07.725814Z",
     "shell.execute_reply": "2022-07-04T15:33:07.724641Z"
    },
    "papermill": {
     "duration": 0.518904,
     "end_time": "2022-07-04T15:33:07.729081",
     "exception": false,
     "start_time": "2022-07-04T15:33:07.210177",
     "status": "completed"
    },
    "tags": []
   },
   "outputs": [
    {
     "data": {
      "text/plain": [
       "0.6201"
      ]
     },
     "execution_count": 43,
     "metadata": {},
     "output_type": "execute_result"
    }
   ],
   "source": [
    "cols_to_drop = model.pvalues.sort_values().index[-1]\n",
    "Xnew = Xnew.drop(labels = cols_to_drop,axis=1)\n",
    "from sklearn.model_selection import train_test_split\n",
    "xtrain,xtest,ytrain,ytest = train_test_split(Xnew,Y,test_size=0.2,random_state=31)\n",
    "from statsmodels.api import add_constant,OLS\n",
    "xconst = add_constant(xtrain)\n",
    "ols = OLS(ytrain,xconst)\n",
    "model = ols.fit()\n",
    "round(model.rsquared_adj,5)"
   ]
  },
  {
   "cell_type": "code",
   "execution_count": 44,
   "id": "81f54d82",
   "metadata": {
    "execution": {
     "iopub.execute_input": "2022-07-04T15:33:07.860660Z",
     "iopub.status.busy": "2022-07-04T15:33:07.860024Z",
     "iopub.status.idle": "2022-07-04T15:33:08.335097Z",
     "shell.execute_reply": "2022-07-04T15:33:08.333709Z"
    },
    "papermill": {
     "duration": 0.536905,
     "end_time": "2022-07-04T15:33:08.339220",
     "exception": false,
     "start_time": "2022-07-04T15:33:07.802315",
     "status": "completed"
    },
    "tags": []
   },
   "outputs": [
    {
     "data": {
      "text/plain": [
       "0.6201"
      ]
     },
     "execution_count": 44,
     "metadata": {},
     "output_type": "execute_result"
    }
   ],
   "source": [
    "cols_to_drop = model.pvalues.sort_values().index[-1]\n",
    "Xnew = Xnew.drop(labels = cols_to_drop,axis=1)\n",
    "from sklearn.model_selection import train_test_split\n",
    "xtrain,xtest,ytrain,ytest = train_test_split(Xnew,Y,test_size=0.2,random_state=31)\n",
    "from statsmodels.api import add_constant,OLS\n",
    "xconst = add_constant(xtrain)\n",
    "ols = OLS(ytrain,xconst)\n",
    "model = ols.fit()\n",
    "round(model.rsquared_adj,5)"
   ]
  },
  {
   "cell_type": "code",
   "execution_count": 45,
   "id": "fcc76bcf",
   "metadata": {
    "execution": {
     "iopub.execute_input": "2022-07-04T15:33:08.479852Z",
     "iopub.status.busy": "2022-07-04T15:33:08.479008Z",
     "iopub.status.idle": "2022-07-04T15:33:09.200399Z",
     "shell.execute_reply": "2022-07-04T15:33:09.199064Z"
    },
    "papermill": {
     "duration": 0.788025,
     "end_time": "2022-07-04T15:33:09.205653",
     "exception": false,
     "start_time": "2022-07-04T15:33:08.417628",
     "status": "completed"
    },
    "tags": []
   },
   "outputs": [
    {
     "data": {
      "text/plain": [
       "0.6201"
      ]
     },
     "execution_count": 45,
     "metadata": {},
     "output_type": "execute_result"
    }
   ],
   "source": [
    "cols_to_drop = model.pvalues.sort_values().index[-1]\n",
    "Xnew = Xnew.drop(labels = cols_to_drop,axis=1)\n",
    "from sklearn.model_selection import train_test_split\n",
    "xtrain,xtest,ytrain,ytest = train_test_split(Xnew,Y,test_size=0.2,random_state=31)\n",
    "from statsmodels.api import add_constant,OLS\n",
    "xconst = add_constant(xtrain)\n",
    "ols = OLS(ytrain,xconst)\n",
    "model = ols.fit()\n",
    "round(model.rsquared_adj,5)"
   ]
  },
  {
   "cell_type": "code",
   "execution_count": 46,
   "id": "6bc40d90",
   "metadata": {
    "execution": {
     "iopub.execute_input": "2022-07-04T15:33:09.334945Z",
     "iopub.status.busy": "2022-07-04T15:33:09.334582Z",
     "iopub.status.idle": "2022-07-04T15:33:09.871462Z",
     "shell.execute_reply": "2022-07-04T15:33:09.869943Z"
    },
    "papermill": {
     "duration": 0.604588,
     "end_time": "2022-07-04T15:33:09.875882",
     "exception": false,
     "start_time": "2022-07-04T15:33:09.271294",
     "status": "completed"
    },
    "tags": []
   },
   "outputs": [
    {
     "data": {
      "text/plain": [
       "0.6201"
      ]
     },
     "execution_count": 46,
     "metadata": {},
     "output_type": "execute_result"
    }
   ],
   "source": [
    "cols_to_drop = model.pvalues.sort_values().index[-1]\n",
    "Xnew = Xnew.drop(labels = cols_to_drop,axis=1)\n",
    "from sklearn.model_selection import train_test_split\n",
    "xtrain,xtest,ytrain,ytest = train_test_split(Xnew,Y,test_size=0.2,random_state=31)\n",
    "from statsmodels.api import add_constant,OLS\n",
    "xconst = add_constant(xtrain)\n",
    "ols = OLS(ytrain,xconst)\n",
    "model = ols.fit()\n",
    "round(model.rsquared_adj,5)"
   ]
  },
  {
   "cell_type": "code",
   "execution_count": 47,
   "id": "33aa0553",
   "metadata": {
    "execution": {
     "iopub.execute_input": "2022-07-04T15:33:10.006928Z",
     "iopub.status.busy": "2022-07-04T15:33:10.006510Z",
     "iopub.status.idle": "2022-07-04T15:33:10.476778Z",
     "shell.execute_reply": "2022-07-04T15:33:10.475487Z"
    },
    "papermill": {
     "duration": 0.528333,
     "end_time": "2022-07-04T15:33:10.480164",
     "exception": false,
     "start_time": "2022-07-04T15:33:09.951831",
     "status": "completed"
    },
    "tags": []
   },
   "outputs": [
    {
     "data": {
      "text/plain": [
       "0.6201"
      ]
     },
     "execution_count": 47,
     "metadata": {},
     "output_type": "execute_result"
    }
   ],
   "source": [
    "cols_to_drop = model.pvalues.sort_values().index[-1]\n",
    "Xnew = Xnew.drop(labels = cols_to_drop,axis=1)\n",
    "from sklearn.model_selection import train_test_split\n",
    "xtrain,xtest,ytrain,ytest = train_test_split(Xnew,Y,test_size=0.2,random_state=31)\n",
    "from statsmodels.api import add_constant,OLS\n",
    "xconst = add_constant(xtrain)\n",
    "ols = OLS(ytrain,xconst)\n",
    "model = ols.fit()\n",
    "round(model.rsquared_adj,5)"
   ]
  },
  {
   "cell_type": "code",
   "execution_count": 48,
   "id": "e715a87e",
   "metadata": {
    "execution": {
     "iopub.execute_input": "2022-07-04T15:33:10.612192Z",
     "iopub.status.busy": "2022-07-04T15:33:10.611436Z",
     "iopub.status.idle": "2022-07-04T15:33:11.175921Z",
     "shell.execute_reply": "2022-07-04T15:33:11.174410Z"
    },
    "papermill": {
     "duration": 0.626087,
     "end_time": "2022-07-04T15:33:11.180277",
     "exception": false,
     "start_time": "2022-07-04T15:33:10.554190",
     "status": "completed"
    },
    "tags": []
   },
   "outputs": [
    {
     "data": {
      "text/plain": [
       "0.6201"
      ]
     },
     "execution_count": 48,
     "metadata": {},
     "output_type": "execute_result"
    }
   ],
   "source": [
    "cols_to_drop = model.pvalues.sort_values().index[-1]\n",
    "Xnew = Xnew.drop(labels = cols_to_drop,axis=1)\n",
    "from sklearn.model_selection import train_test_split\n",
    "xtrain,xtest,ytrain,ytest = train_test_split(Xnew,Y,test_size=0.2,random_state=31)\n",
    "from statsmodels.api import add_constant,OLS\n",
    "xconst = add_constant(xtrain)\n",
    "ols = OLS(ytrain,xconst)\n",
    "model = ols.fit()\n",
    "round(model.rsquared_adj,5)"
   ]
  },
  {
   "cell_type": "code",
   "execution_count": 49,
   "id": "e5241c41",
   "metadata": {
    "execution": {
     "iopub.execute_input": "2022-07-04T15:33:11.325991Z",
     "iopub.status.busy": "2022-07-04T15:33:11.325182Z",
     "iopub.status.idle": "2022-07-04T15:33:11.813672Z",
     "shell.execute_reply": "2022-07-04T15:33:11.812481Z"
    },
    "papermill": {
     "duration": 0.535182,
     "end_time": "2022-07-04T15:33:11.817061",
     "exception": false,
     "start_time": "2022-07-04T15:33:11.281879",
     "status": "completed"
    },
    "tags": []
   },
   "outputs": [
    {
     "data": {
      "text/plain": [
       "0.6201"
      ]
     },
     "execution_count": 49,
     "metadata": {},
     "output_type": "execute_result"
    }
   ],
   "source": [
    "cols_to_drop = model.pvalues.sort_values().index[-1]\n",
    "Xnew = Xnew.drop(labels = cols_to_drop,axis=1)\n",
    "from sklearn.model_selection import train_test_split\n",
    "xtrain,xtest,ytrain,ytest = train_test_split(Xnew,Y,test_size=0.2,random_state=31)\n",
    "from statsmodels.api import add_constant,OLS\n",
    "xconst = add_constant(xtrain)\n",
    "ols = OLS(ytrain,xconst)\n",
    "model = ols.fit()\n",
    "round(model.rsquared_adj,5)"
   ]
  },
  {
   "cell_type": "code",
   "execution_count": 50,
   "id": "f1496fde",
   "metadata": {
    "execution": {
     "iopub.execute_input": "2022-07-04T15:33:11.955713Z",
     "iopub.status.busy": "2022-07-04T15:33:11.955276Z",
     "iopub.status.idle": "2022-07-04T15:33:12.451249Z",
     "shell.execute_reply": "2022-07-04T15:33:12.450176Z"
    },
    "papermill": {
     "duration": 0.557281,
     "end_time": "2022-07-04T15:33:12.454839",
     "exception": false,
     "start_time": "2022-07-04T15:33:11.897558",
     "status": "completed"
    },
    "tags": []
   },
   "outputs": [
    {
     "data": {
      "text/plain": [
       "0.6201"
      ]
     },
     "execution_count": 50,
     "metadata": {},
     "output_type": "execute_result"
    }
   ],
   "source": [
    "cols_to_drop = model.pvalues.sort_values().index[-1]\n",
    "Xnew = Xnew.drop(labels = cols_to_drop,axis=1)\n",
    "from sklearn.model_selection import train_test_split\n",
    "xtrain,xtest,ytrain,ytest = train_test_split(Xnew,Y,test_size=0.2,random_state=31)\n",
    "from statsmodels.api import add_constant,OLS\n",
    "xconst = add_constant(xtrain)\n",
    "ols = OLS(ytrain,xconst)\n",
    "model = ols.fit()\n",
    "round(model.rsquared_adj,5)"
   ]
  },
  {
   "cell_type": "code",
   "execution_count": 51,
   "id": "6f844a8a",
   "metadata": {
    "execution": {
     "iopub.execute_input": "2022-07-04T15:33:12.599601Z",
     "iopub.status.busy": "2022-07-04T15:33:12.598997Z",
     "iopub.status.idle": "2022-07-04T15:33:13.086889Z",
     "shell.execute_reply": "2022-07-04T15:33:13.085531Z"
    },
    "papermill": {
     "duration": 0.549578,
     "end_time": "2022-07-04T15:33:13.091191",
     "exception": false,
     "start_time": "2022-07-04T15:33:12.541613",
     "status": "completed"
    },
    "tags": []
   },
   "outputs": [
    {
     "data": {
      "text/plain": [
       "0.6201"
      ]
     },
     "execution_count": 51,
     "metadata": {},
     "output_type": "execute_result"
    }
   ],
   "source": [
    "cols_to_drop = model.pvalues.sort_values().index[-1]\n",
    "Xnew = Xnew.drop(labels = cols_to_drop,axis=1)\n",
    "from sklearn.model_selection import train_test_split\n",
    "xtrain,xtest,ytrain,ytest = train_test_split(Xnew,Y,test_size=0.2,random_state=31)\n",
    "from statsmodels.api import add_constant,OLS\n",
    "xconst = add_constant(xtrain)\n",
    "ols = OLS(ytrain,xconst)\n",
    "model = ols.fit()\n",
    "round(model.rsquared_adj,5)"
   ]
  },
  {
   "cell_type": "code",
   "execution_count": 52,
   "id": "9de4f756",
   "metadata": {
    "execution": {
     "iopub.execute_input": "2022-07-04T15:33:13.221833Z",
     "iopub.status.busy": "2022-07-04T15:33:13.220791Z",
     "iopub.status.idle": "2022-07-04T15:33:13.712329Z",
     "shell.execute_reply": "2022-07-04T15:33:13.710956Z"
    },
    "papermill": {
     "duration": 0.550804,
     "end_time": "2022-07-04T15:33:13.716025",
     "exception": false,
     "start_time": "2022-07-04T15:33:13.165221",
     "status": "completed"
    },
    "tags": []
   },
   "outputs": [
    {
     "data": {
      "text/plain": [
       "0.6201"
      ]
     },
     "execution_count": 52,
     "metadata": {},
     "output_type": "execute_result"
    }
   ],
   "source": [
    "cols_to_drop = model.pvalues.sort_values().index[-1]\n",
    "Xnew = Xnew.drop(labels = cols_to_drop,axis=1)\n",
    "from sklearn.model_selection import train_test_split\n",
    "xtrain,xtest,ytrain,ytest = train_test_split(Xnew,Y,test_size=0.2,random_state=31)\n",
    "from statsmodels.api import add_constant,OLS\n",
    "xconst = add_constant(xtrain)\n",
    "ols = OLS(ytrain,xconst)\n",
    "model = ols.fit()\n",
    "round(model.rsquared_adj,5)"
   ]
  },
  {
   "cell_type": "code",
   "execution_count": 53,
   "id": "921e4e97",
   "metadata": {
    "execution": {
     "iopub.execute_input": "2022-07-04T15:33:13.853659Z",
     "iopub.status.busy": "2022-07-04T15:33:13.853225Z",
     "iopub.status.idle": "2022-07-04T15:33:14.347800Z",
     "shell.execute_reply": "2022-07-04T15:33:14.346600Z"
    },
    "papermill": {
     "duration": 0.555214,
     "end_time": "2022-07-04T15:33:14.351905",
     "exception": false,
     "start_time": "2022-07-04T15:33:13.796691",
     "status": "completed"
    },
    "tags": []
   },
   "outputs": [
    {
     "data": {
      "text/plain": [
       "0.6201"
      ]
     },
     "execution_count": 53,
     "metadata": {},
     "output_type": "execute_result"
    }
   ],
   "source": [
    "cols_to_drop = model.pvalues.sort_values().index[-1]\n",
    "Xnew = Xnew.drop(labels = cols_to_drop,axis=1)\n",
    "from sklearn.model_selection import train_test_split\n",
    "xtrain,xtest,ytrain,ytest = train_test_split(Xnew,Y,test_size=0.2,random_state=31)\n",
    "from statsmodels.api import add_constant,OLS\n",
    "xconst = add_constant(xtrain)\n",
    "ols = OLS(ytrain,xconst)\n",
    "model = ols.fit()\n",
    "round(model.rsquared_adj,5)"
   ]
  },
  {
   "cell_type": "code",
   "execution_count": 54,
   "id": "7ec8f3f5",
   "metadata": {
    "execution": {
     "iopub.execute_input": "2022-07-04T15:33:14.500148Z",
     "iopub.status.busy": "2022-07-04T15:33:14.499775Z",
     "iopub.status.idle": "2022-07-04T15:33:14.997704Z",
     "shell.execute_reply": "2022-07-04T15:33:14.995977Z"
    },
    "papermill": {
     "duration": 0.55656,
     "end_time": "2022-07-04T15:33:15.001402",
     "exception": false,
     "start_time": "2022-07-04T15:33:14.444842",
     "status": "completed"
    },
    "tags": []
   },
   "outputs": [
    {
     "data": {
      "text/plain": [
       "0.6201"
      ]
     },
     "execution_count": 54,
     "metadata": {},
     "output_type": "execute_result"
    }
   ],
   "source": [
    "cols_to_drop = model.pvalues.sort_values().index[-1]\n",
    "Xnew = Xnew.drop(labels = cols_to_drop,axis=1)\n",
    "from sklearn.model_selection import train_test_split\n",
    "xtrain,xtest,ytrain,ytest = train_test_split(Xnew,Y,test_size=0.2,random_state=31)\n",
    "from statsmodels.api import add_constant,OLS\n",
    "xconst = add_constant(xtrain)\n",
    "ols = OLS(ytrain,xconst)\n",
    "model = ols.fit()\n",
    "round(model.rsquared_adj,5)"
   ]
  },
  {
   "cell_type": "code",
   "execution_count": 55,
   "id": "1ae70b42",
   "metadata": {
    "execution": {
     "iopub.execute_input": "2022-07-04T15:33:15.158044Z",
     "iopub.status.busy": "2022-07-04T15:33:15.157663Z",
     "iopub.status.idle": "2022-07-04T15:33:15.654549Z",
     "shell.execute_reply": "2022-07-04T15:33:15.652868Z"
    },
    "papermill": {
     "duration": 0.563557,
     "end_time": "2022-07-04T15:33:15.659124",
     "exception": false,
     "start_time": "2022-07-04T15:33:15.095567",
     "status": "completed"
    },
    "tags": []
   },
   "outputs": [
    {
     "data": {
      "text/plain": [
       "0.6201"
      ]
     },
     "execution_count": 55,
     "metadata": {},
     "output_type": "execute_result"
    }
   ],
   "source": [
    "cols_to_drop = model.pvalues.sort_values().index[-1]\n",
    "Xnew = Xnew.drop(labels = cols_to_drop,axis=1)\n",
    "from sklearn.model_selection import train_test_split\n",
    "xtrain,xtest,ytrain,ytest = train_test_split(Xnew,Y,test_size=0.2,random_state=31)\n",
    "from statsmodels.api import add_constant,OLS\n",
    "xconst = add_constant(xtrain)\n",
    "ols = OLS(ytrain,xconst)\n",
    "model = ols.fit()\n",
    "round(model.rsquared_adj,5)"
   ]
  },
  {
   "cell_type": "code",
   "execution_count": 56,
   "id": "30fb6b66",
   "metadata": {
    "execution": {
     "iopub.execute_input": "2022-07-04T15:33:15.799715Z",
     "iopub.status.busy": "2022-07-04T15:33:15.798782Z",
     "iopub.status.idle": "2022-07-04T15:33:16.303371Z",
     "shell.execute_reply": "2022-07-04T15:33:16.301807Z"
    },
    "papermill": {
     "duration": 0.562712,
     "end_time": "2022-07-04T15:33:16.307864",
     "exception": false,
     "start_time": "2022-07-04T15:33:15.745152",
     "status": "completed"
    },
    "tags": []
   },
   "outputs": [
    {
     "data": {
      "text/plain": [
       "0.6201"
      ]
     },
     "execution_count": 56,
     "metadata": {},
     "output_type": "execute_result"
    }
   ],
   "source": [
    "cols_to_drop = model.pvalues.sort_values().index[-1]\n",
    "Xnew = Xnew.drop(labels = cols_to_drop,axis=1)\n",
    "from sklearn.model_selection import train_test_split\n",
    "xtrain,xtest,ytrain,ytest = train_test_split(Xnew,Y,test_size=0.2,random_state=31)\n",
    "from statsmodels.api import add_constant,OLS\n",
    "xconst = add_constant(xtrain)\n",
    "ols = OLS(ytrain,xconst)\n",
    "model = ols.fit()\n",
    "round(model.rsquared_adj,5)"
   ]
  },
  {
   "cell_type": "code",
   "execution_count": 57,
   "id": "8bc88ebc",
   "metadata": {
    "execution": {
     "iopub.execute_input": "2022-07-04T15:33:16.450129Z",
     "iopub.status.busy": "2022-07-04T15:33:16.449754Z",
     "iopub.status.idle": "2022-07-04T15:33:16.945567Z",
     "shell.execute_reply": "2022-07-04T15:33:16.943950Z"
    },
    "papermill": {
     "duration": 0.554178,
     "end_time": "2022-07-04T15:33:16.949257",
     "exception": false,
     "start_time": "2022-07-04T15:33:16.395079",
     "status": "completed"
    },
    "tags": []
   },
   "outputs": [
    {
     "data": {
      "text/plain": [
       "0.6201"
      ]
     },
     "execution_count": 57,
     "metadata": {},
     "output_type": "execute_result"
    }
   ],
   "source": [
    "cols_to_drop = model.pvalues.sort_values().index[-1]\n",
    "Xnew = Xnew.drop(labels = cols_to_drop,axis=1)\n",
    "from sklearn.model_selection import train_test_split\n",
    "xtrain,xtest,ytrain,ytest = train_test_split(Xnew,Y,test_size=0.2,random_state=31)\n",
    "from statsmodels.api import add_constant,OLS\n",
    "xconst = add_constant(xtrain)\n",
    "ols = OLS(ytrain,xconst)\n",
    "model = ols.fit()\n",
    "round(model.rsquared_adj,5)"
   ]
  },
  {
   "cell_type": "code",
   "execution_count": 58,
   "id": "5ced0e32",
   "metadata": {
    "execution": {
     "iopub.execute_input": "2022-07-04T15:33:17.087912Z",
     "iopub.status.busy": "2022-07-04T15:33:17.087557Z",
     "iopub.status.idle": "2022-07-04T15:33:17.556435Z",
     "shell.execute_reply": "2022-07-04T15:33:17.555164Z"
    },
    "papermill": {
     "duration": 0.533633,
     "end_time": "2022-07-04T15:33:17.560213",
     "exception": false,
     "start_time": "2022-07-04T15:33:17.026580",
     "status": "completed"
    },
    "tags": []
   },
   "outputs": [
    {
     "data": {
      "text/plain": [
       "0.6201"
      ]
     },
     "execution_count": 58,
     "metadata": {},
     "output_type": "execute_result"
    }
   ],
   "source": [
    "cols_to_drop = model.pvalues.sort_values().index[-1]\n",
    "Xnew = Xnew.drop(labels = cols_to_drop,axis=1)\n",
    "from sklearn.model_selection import train_test_split\n",
    "xtrain,xtest,ytrain,ytest = train_test_split(Xnew,Y,test_size=0.2,random_state=31)\n",
    "from statsmodels.api import add_constant,OLS\n",
    "xconst = add_constant(xtrain)\n",
    "ols = OLS(ytrain,xconst)\n",
    "model = ols.fit()\n",
    "round(model.rsquared_adj,5)"
   ]
  },
  {
   "cell_type": "code",
   "execution_count": 59,
   "id": "b673401e",
   "metadata": {
    "execution": {
     "iopub.execute_input": "2022-07-04T15:33:17.693870Z",
     "iopub.status.busy": "2022-07-04T15:33:17.693476Z",
     "iopub.status.idle": "2022-07-04T15:33:18.162063Z",
     "shell.execute_reply": "2022-07-04T15:33:18.160955Z"
    },
    "papermill": {
     "duration": 0.528111,
     "end_time": "2022-07-04T15:33:18.165350",
     "exception": false,
     "start_time": "2022-07-04T15:33:17.637239",
     "status": "completed"
    },
    "tags": []
   },
   "outputs": [
    {
     "data": {
      "text/plain": [
       "0.6201"
      ]
     },
     "execution_count": 59,
     "metadata": {},
     "output_type": "execute_result"
    }
   ],
   "source": [
    "cols_to_drop = model.pvalues.sort_values().index[-1]\n",
    "Xnew = Xnew.drop(labels = cols_to_drop,axis=1)\n",
    "from sklearn.model_selection import train_test_split\n",
    "xtrain,xtest,ytrain,ytest = train_test_split(Xnew,Y,test_size=0.2,random_state=31)\n",
    "from statsmodels.api import add_constant,OLS\n",
    "xconst = add_constant(xtrain)\n",
    "ols = OLS(ytrain,xconst)\n",
    "model = ols.fit()\n",
    "round(model.rsquared_adj,5)"
   ]
  },
  {
   "cell_type": "code",
   "execution_count": 60,
   "id": "744795d4",
   "metadata": {
    "execution": {
     "iopub.execute_input": "2022-07-04T15:33:18.302755Z",
     "iopub.status.busy": "2022-07-04T15:33:18.302342Z",
     "iopub.status.idle": "2022-07-04T15:33:18.763455Z",
     "shell.execute_reply": "2022-07-04T15:33:18.762152Z"
    },
    "papermill": {
     "duration": 0.524437,
     "end_time": "2022-07-04T15:33:18.767356",
     "exception": false,
     "start_time": "2022-07-04T15:33:18.242919",
     "status": "completed"
    },
    "tags": []
   },
   "outputs": [
    {
     "data": {
      "text/plain": [
       "0.623"
      ]
     },
     "execution_count": 60,
     "metadata": {},
     "output_type": "execute_result"
    }
   ],
   "source": [
    "cols_to_drop = model.pvalues.sort_values().index[-1]\n",
    "Xnew = Xnew.drop(labels = cols_to_drop,axis=1)\n",
    "from sklearn.model_selection import train_test_split\n",
    "xtrain,xtest,ytrain,ytest = train_test_split(Xnew,Y,test_size=0.2,random_state=31)\n",
    "from statsmodels.api import add_constant,OLS\n",
    "xconst = add_constant(xtrain)\n",
    "ols = OLS(ytrain,xconst)\n",
    "model = ols.fit()\n",
    "round(model.rsquared_adj,5)"
   ]
  },
  {
   "cell_type": "code",
   "execution_count": 61,
   "id": "f8098669",
   "metadata": {
    "execution": {
     "iopub.execute_input": "2022-07-04T15:33:18.902875Z",
     "iopub.status.busy": "2022-07-04T15:33:18.902510Z",
     "iopub.status.idle": "2022-07-04T15:33:19.361110Z",
     "shell.execute_reply": "2022-07-04T15:33:19.359927Z"
    },
    "papermill": {
     "duration": 0.519216,
     "end_time": "2022-07-04T15:33:19.365120",
     "exception": false,
     "start_time": "2022-07-04T15:33:18.845904",
     "status": "completed"
    },
    "tags": []
   },
   "outputs": [
    {
     "data": {
      "text/plain": [
       "0.623"
      ]
     },
     "execution_count": 61,
     "metadata": {},
     "output_type": "execute_result"
    }
   ],
   "source": [
    "cols_to_drop = model.pvalues.sort_values().index[-1]\n",
    "Xnew = Xnew.drop(labels = cols_to_drop,axis=1)\n",
    "from sklearn.model_selection import train_test_split\n",
    "xtrain,xtest,ytrain,ytest = train_test_split(Xnew,Y,test_size=0.2,random_state=31)\n",
    "from statsmodels.api import add_constant,OLS\n",
    "xconst = add_constant(xtrain)\n",
    "ols = OLS(ytrain,xconst)\n",
    "model = ols.fit()\n",
    "round(model.rsquared_adj,5)"
   ]
  },
  {
   "cell_type": "code",
   "execution_count": 62,
   "id": "bb37c4a9",
   "metadata": {
    "execution": {
     "iopub.execute_input": "2022-07-04T15:33:19.500146Z",
     "iopub.status.busy": "2022-07-04T15:33:19.499788Z",
     "iopub.status.idle": "2022-07-04T15:33:19.951429Z",
     "shell.execute_reply": "2022-07-04T15:33:19.950292Z"
    },
    "papermill": {
     "duration": 0.512088,
     "end_time": "2022-07-04T15:33:19.954729",
     "exception": false,
     "start_time": "2022-07-04T15:33:19.442641",
     "status": "completed"
    },
    "tags": []
   },
   "outputs": [
    {
     "data": {
      "text/plain": [
       "0.623"
      ]
     },
     "execution_count": 62,
     "metadata": {},
     "output_type": "execute_result"
    }
   ],
   "source": [
    "cols_to_drop = model.pvalues.sort_values().index[-1]\n",
    "Xnew = Xnew.drop(labels = cols_to_drop,axis=1)\n",
    "from sklearn.model_selection import train_test_split\n",
    "xtrain,xtest,ytrain,ytest = train_test_split(Xnew,Y,test_size=0.2,random_state=31)\n",
    "from statsmodels.api import add_constant,OLS\n",
    "xconst = add_constant(xtrain)\n",
    "ols = OLS(ytrain,xconst)\n",
    "model = ols.fit()\n",
    "round(model.rsquared_adj,5)"
   ]
  },
  {
   "cell_type": "code",
   "execution_count": 63,
   "id": "0d75821c",
   "metadata": {
    "execution": {
     "iopub.execute_input": "2022-07-04T15:33:20.090274Z",
     "iopub.status.busy": "2022-07-04T15:33:20.089904Z",
     "iopub.status.idle": "2022-07-04T15:33:20.534020Z",
     "shell.execute_reply": "2022-07-04T15:33:20.532815Z"
    },
    "papermill": {
     "duration": 0.505442,
     "end_time": "2022-07-04T15:33:20.537140",
     "exception": false,
     "start_time": "2022-07-04T15:33:20.031698",
     "status": "completed"
    },
    "tags": []
   },
   "outputs": [
    {
     "data": {
      "text/plain": [
       "0.623"
      ]
     },
     "execution_count": 63,
     "metadata": {},
     "output_type": "execute_result"
    }
   ],
   "source": [
    "cols_to_drop = model.pvalues.sort_values().index[-1]\n",
    "Xnew = Xnew.drop(labels = cols_to_drop,axis=1)\n",
    "from sklearn.model_selection import train_test_split\n",
    "xtrain,xtest,ytrain,ytest = train_test_split(Xnew,Y,test_size=0.2,random_state=31)\n",
    "from statsmodels.api import add_constant,OLS\n",
    "xconst = add_constant(xtrain)\n",
    "ols = OLS(ytrain,xconst)\n",
    "model = ols.fit()\n",
    "round(model.rsquared_adj,5)"
   ]
  },
  {
   "cell_type": "code",
   "execution_count": 64,
   "id": "ab01d398",
   "metadata": {
    "execution": {
     "iopub.execute_input": "2022-07-04T15:33:20.672994Z",
     "iopub.status.busy": "2022-07-04T15:33:20.672083Z",
     "iopub.status.idle": "2022-07-04T15:33:21.121859Z",
     "shell.execute_reply": "2022-07-04T15:33:21.120636Z"
    },
    "papermill": {
     "duration": 0.511031,
     "end_time": "2022-07-04T15:33:21.125185",
     "exception": false,
     "start_time": "2022-07-04T15:33:20.614154",
     "status": "completed"
    },
    "tags": []
   },
   "outputs": [
    {
     "data": {
      "text/plain": [
       "0.623"
      ]
     },
     "execution_count": 64,
     "metadata": {},
     "output_type": "execute_result"
    }
   ],
   "source": [
    "cols_to_drop = model.pvalues.sort_values().index[-1]\n",
    "Xnew = Xnew.drop(labels = cols_to_drop,axis=1)\n",
    "from sklearn.model_selection import train_test_split\n",
    "xtrain,xtest,ytrain,ytest = train_test_split(Xnew,Y,test_size=0.2,random_state=31)\n",
    "from statsmodels.api import add_constant,OLS\n",
    "xconst = add_constant(xtrain)\n",
    "ols = OLS(ytrain,xconst)\n",
    "model = ols.fit()\n",
    "round(model.rsquared_adj,5)"
   ]
  },
  {
   "cell_type": "code",
   "execution_count": 65,
   "id": "2ca34979",
   "metadata": {
    "execution": {
     "iopub.execute_input": "2022-07-04T15:33:21.262530Z",
     "iopub.status.busy": "2022-07-04T15:33:21.261397Z",
     "iopub.status.idle": "2022-07-04T15:33:21.714456Z",
     "shell.execute_reply": "2022-07-04T15:33:21.713154Z"
    },
    "papermill": {
     "duration": 0.515589,
     "end_time": "2022-07-04T15:33:21.718620",
     "exception": false,
     "start_time": "2022-07-04T15:33:21.203031",
     "status": "completed"
    },
    "tags": []
   },
   "outputs": [
    {
     "data": {
      "text/plain": [
       "0.623"
      ]
     },
     "execution_count": 65,
     "metadata": {},
     "output_type": "execute_result"
    }
   ],
   "source": [
    "cols_to_drop = model.pvalues.sort_values().index[-1]\n",
    "Xnew = Xnew.drop(labels = cols_to_drop,axis=1)\n",
    "from sklearn.model_selection import train_test_split\n",
    "xtrain,xtest,ytrain,ytest = train_test_split(Xnew,Y,test_size=0.2,random_state=31)\n",
    "from statsmodels.api import add_constant,OLS\n",
    "xconst = add_constant(xtrain)\n",
    "ols = OLS(ytrain,xconst)\n",
    "model = ols.fit()\n",
    "round(model.rsquared_adj,5)"
   ]
  },
  {
   "cell_type": "code",
   "execution_count": 66,
   "id": "3ca9ab44",
   "metadata": {
    "execution": {
     "iopub.execute_input": "2022-07-04T15:33:21.854354Z",
     "iopub.status.busy": "2022-07-04T15:33:21.853334Z",
     "iopub.status.idle": "2022-07-04T15:33:22.432741Z",
     "shell.execute_reply": "2022-07-04T15:33:22.429530Z"
    },
    "papermill": {
     "duration": 0.639596,
     "end_time": "2022-07-04T15:33:22.436760",
     "exception": false,
     "start_time": "2022-07-04T15:33:21.797164",
     "status": "completed"
    },
    "tags": []
   },
   "outputs": [
    {
     "data": {
      "text/plain": [
       "0.623"
      ]
     },
     "execution_count": 66,
     "metadata": {},
     "output_type": "execute_result"
    }
   ],
   "source": [
    "cols_to_drop = model.pvalues.sort_values().index[-1]\n",
    "Xnew = Xnew.drop(labels = cols_to_drop,axis=1)\n",
    "from sklearn.model_selection import train_test_split\n",
    "xtrain,xtest,ytrain,ytest = train_test_split(Xnew,Y,test_size=0.2,random_state=31)\n",
    "from statsmodels.api import add_constant,OLS\n",
    "xconst = add_constant(xtrain)\n",
    "ols = OLS(ytrain,xconst)\n",
    "model = ols.fit()\n",
    "round(model.rsquared_adj,5)"
   ]
  },
  {
   "cell_type": "code",
   "execution_count": 67,
   "id": "38b0b9df",
   "metadata": {
    "execution": {
     "iopub.execute_input": "2022-07-04T15:33:22.572124Z",
     "iopub.status.busy": "2022-07-04T15:33:22.570934Z",
     "iopub.status.idle": "2022-07-04T15:33:23.017655Z",
     "shell.execute_reply": "2022-07-04T15:33:23.016352Z"
    },
    "papermill": {
     "duration": 0.506465,
     "end_time": "2022-07-04T15:33:23.021735",
     "exception": false,
     "start_time": "2022-07-04T15:33:22.515270",
     "status": "completed"
    },
    "tags": []
   },
   "outputs": [
    {
     "data": {
      "text/plain": [
       "0.60193"
      ]
     },
     "execution_count": 67,
     "metadata": {},
     "output_type": "execute_result"
    }
   ],
   "source": [
    "cols_to_drop = model.pvalues.sort_values().index[-1]\n",
    "Xnew = Xnew.drop(labels = cols_to_drop,axis=1)\n",
    "from sklearn.model_selection import train_test_split\n",
    "xtrain,xtest,ytrain,ytest = train_test_split(Xnew,Y,test_size=0.2,random_state=31)\n",
    "from statsmodels.api import add_constant,OLS\n",
    "xconst = add_constant(xtrain)\n",
    "ols = OLS(ytrain,xconst)\n",
    "model = ols.fit()\n",
    "round(model.rsquared_adj,5)"
   ]
  },
  {
   "cell_type": "code",
   "execution_count": 68,
   "id": "504325b0",
   "metadata": {
    "execution": {
     "iopub.execute_input": "2022-07-04T15:33:23.158296Z",
     "iopub.status.busy": "2022-07-04T15:33:23.157908Z",
     "iopub.status.idle": "2022-07-04T15:33:23.164471Z",
     "shell.execute_reply": "2022-07-04T15:33:23.163367Z"
    },
    "papermill": {
     "duration": 0.065284,
     "end_time": "2022-07-04T15:33:23.166832",
     "exception": false,
     "start_time": "2022-07-04T15:33:23.101548",
     "status": "completed"
    },
    "tags": []
   },
   "outputs": [
    {
     "data": {
      "text/plain": [
       "'Ticket_PC 17757'"
      ]
     },
     "execution_count": 68,
     "metadata": {},
     "output_type": "execute_result"
    }
   ],
   "source": [
    "cols_to_drop"
   ]
  },
  {
   "cell_type": "code",
   "execution_count": 69,
   "id": "fdc21796",
   "metadata": {},
   "outputs": [],
   "source": [
    "Z = X2[[\"Ticket_PC 17757\"]]"
   ]
  },
  {
   "cell_type": "code",
   "execution_count": 70,
   "id": "c3f7afbf",
   "metadata": {
    "papermill": {
     "duration": 0.041711,
     "end_time": "2022-07-04T15:33:23.438130",
     "exception": false,
     "start_time": "2022-07-04T15:33:23.396419",
     "status": "completed"
    },
    "tags": []
   },
   "outputs": [],
   "source": [
    "Xnew = Xnew.join(Z)"
   ]
  },
  {
   "cell_type": "markdown",
   "id": "fc9526a6",
   "metadata": {},
   "source": [
    "Check For Overfitting"
   ]
  },
  {
   "cell_type": "code",
   "execution_count": 71,
   "id": "cc6ef308",
   "metadata": {
    "execution": {
     "iopub.execute_input": "2022-07-04T15:33:23.524200Z",
     "iopub.status.busy": "2022-07-04T15:33:23.523388Z",
     "iopub.status.idle": "2022-07-04T15:33:23.535277Z",
     "shell.execute_reply": "2022-07-04T15:33:23.534222Z"
    },
    "papermill": {
     "duration": 0.057176,
     "end_time": "2022-07-04T15:33:23.537864",
     "exception": false,
     "start_time": "2022-07-04T15:33:23.480688",
     "status": "completed"
    },
    "tags": []
   },
   "outputs": [],
   "source": [
    "from sklearn.model_selection import train_test_split\n",
    "xtrain,xtest,ytrain,ytest = train_test_split(Xnew,Y,test_size= 0.2,random_state=21)"
   ]
  },
  {
   "cell_type": "code",
   "execution_count": 72,
   "id": "ab8b467e",
   "metadata": {
    "execution": {
     "iopub.execute_input": "2022-07-04T15:33:23.623604Z",
     "iopub.status.busy": "2022-07-04T15:33:23.623200Z",
     "iopub.status.idle": "2022-07-04T15:33:23.927685Z",
     "shell.execute_reply": "2022-07-04T15:33:23.926323Z"
    },
    "papermill": {
     "duration": 0.351479,
     "end_time": "2022-07-04T15:33:23.931656",
     "exception": false,
     "start_time": "2022-07-04T15:33:23.580177",
     "status": "completed"
    },
    "tags": []
   },
   "outputs": [],
   "source": [
    "from sklearn.linear_model import LinearRegression\n",
    "lm = LinearRegression()\n",
    "model = lm.fit(xtrain,ytrain)\n",
    "tr_pred = model.predict(xtrain)\n",
    "ts_pred = model.predict(xtest)\n",
    "\n",
    "from sklearn.metrics import mean_squared_error\n",
    "tr_err = round(mean_squared_error(ytrain,tr_pred),2)\n",
    "ts_err = round(mean_squared_error(ytest,ts_pred),2)"
   ]
  },
  {
   "cell_type": "code",
   "execution_count": 73,
   "id": "c799f0ac",
   "metadata": {
    "execution": {
     "iopub.execute_input": "2022-07-04T15:33:24.074346Z",
     "iopub.status.busy": "2022-07-04T15:33:24.073962Z",
     "iopub.status.idle": "2022-07-04T15:33:24.080557Z",
     "shell.execute_reply": "2022-07-04T15:33:24.079497Z"
    },
    "papermill": {
     "duration": 0.054674,
     "end_time": "2022-07-04T15:33:24.082700",
     "exception": false,
     "start_time": "2022-07-04T15:33:24.028026",
     "status": "completed"
    },
    "tags": []
   },
   "outputs": [
    {
     "data": {
      "text/plain": [
       "0.04"
      ]
     },
     "execution_count": 73,
     "metadata": {},
     "output_type": "execute_result"
    }
   ],
   "source": [
    "tr_err"
   ]
  },
  {
   "cell_type": "code",
   "execution_count": 74,
   "id": "82a880ad",
   "metadata": {
    "execution": {
     "iopub.execute_input": "2022-07-04T15:33:24.168703Z",
     "iopub.status.busy": "2022-07-04T15:33:24.167601Z",
     "iopub.status.idle": "2022-07-04T15:33:24.173999Z",
     "shell.execute_reply": "2022-07-04T15:33:24.173104Z"
    },
    "papermill": {
     "duration": 0.051724,
     "end_time": "2022-07-04T15:33:24.176229",
     "exception": false,
     "start_time": "2022-07-04T15:33:24.124505",
     "status": "completed"
    },
    "tags": []
   },
   "outputs": [
    {
     "data": {
      "text/plain": [
       "4.514629056767072e+25"
      ]
     },
     "execution_count": 74,
     "metadata": {},
     "output_type": "execute_result"
    }
   ],
   "source": [
    "ts_err"
   ]
  },
  {
   "cell_type": "markdown",
   "id": "473b6ef5",
   "metadata": {
    "papermill": {
     "duration": 0.041488,
     "end_time": "2022-07-04T15:33:24.259715",
     "exception": false,
     "start_time": "2022-07-04T15:33:24.218227",
     "status": "completed"
    },
    "tags": []
   },
   "source": [
    "Reduce overfitting using ridge or lasso model"
   ]
  },
  {
   "cell_type": "code",
   "execution_count": 75,
   "id": "7f17c8e0",
   "metadata": {
    "execution": {
     "iopub.execute_input": "2022-07-04T15:33:24.345165Z",
     "iopub.status.busy": "2022-07-04T15:33:24.344513Z",
     "iopub.status.idle": "2022-07-04T15:33:24.350704Z",
     "shell.execute_reply": "2022-07-04T15:33:24.349527Z"
    },
    "papermill": {
     "duration": 0.051508,
     "end_time": "2022-07-04T15:33:24.353106",
     "exception": false,
     "start_time": "2022-07-04T15:33:24.301598",
     "status": "completed"
    },
    "tags": []
   },
   "outputs": [],
   "source": [
    "from sklearn.linear_model import Ridge,Lasso\n",
    "rr = Ridge()\n",
    "ls = Lasso()"
   ]
  },
  {
   "cell_type": "code",
   "execution_count": 76,
   "id": "1df682e4",
   "metadata": {
    "execution": {
     "iopub.execute_input": "2022-07-04T15:33:24.439998Z",
     "iopub.status.busy": "2022-07-04T15:33:24.438866Z",
     "iopub.status.idle": "2022-07-04T15:33:24.444946Z",
     "shell.execute_reply": "2022-07-04T15:33:24.444133Z"
    },
    "papermill": {
     "duration": 0.05142,
     "end_time": "2022-07-04T15:33:24.447211",
     "exception": false,
     "start_time": "2022-07-04T15:33:24.395791",
     "status": "completed"
    },
    "tags": []
   },
   "outputs": [],
   "source": [
    "q = 0.01\n",
    "w = []\n",
    "for i in range(0,300):\n",
    "    w.append(q)\n",
    "    q = q + 0.01"
   ]
  },
  {
   "cell_type": "markdown",
   "id": "f9359b1f",
   "metadata": {
    "papermill": {
     "duration": 0.040935,
     "end_time": "2022-07-04T15:33:24.534556",
     "exception": false,
     "start_time": "2022-07-04T15:33:24.493621",
     "status": "completed"
    },
    "tags": []
   },
   "source": [
    "GridSearchCV for alpha value"
   ]
  },
  {
   "cell_type": "code",
   "execution_count": 77,
   "id": "25d86dd3",
   "metadata": {
    "execution": {
     "iopub.execute_input": "2022-07-04T15:33:24.619293Z",
     "iopub.status.busy": "2022-07-04T15:33:24.618628Z",
     "iopub.status.idle": "2022-07-04T15:35:54.960907Z",
     "shell.execute_reply": "2022-07-04T15:35:54.959474Z"
    },
    "papermill": {
     "duration": 150.453297,
     "end_time": "2022-07-04T15:35:55.029102",
     "exception": false,
     "start_time": "2022-07-04T15:33:24.575805",
     "status": "completed"
    },
    "tags": []
   },
   "outputs": [
    {
     "name": "stdout",
     "output_type": "stream",
     "text": [
      "{'alpha': 1.0300000000000007} alpha value using Ridge\n"
     ]
    }
   ],
   "source": [
    "from sklearn.model_selection import GridSearchCV\n",
    "\n",
    "tuning_grid = {\"alpha\":w}\n",
    "cv = GridSearchCV(rr,tuning_grid,scoring=\"neg_mean_squared_error\",cv = 4)\n",
    "cvmodel = cv.fit(Xnew,Y)\n",
    "print(cvmodel.best_params_,\"alpha value using Ridge\")"
   ]
  },
  {
   "cell_type": "code",
   "execution_count": 78,
   "id": "34063b9c",
   "metadata": {
    "execution": {
     "iopub.execute_input": "2022-07-04T15:35:55.131972Z",
     "iopub.status.busy": "2022-07-04T15:35:55.131476Z",
     "iopub.status.idle": "2022-07-04T15:37:43.461462Z",
     "shell.execute_reply": "2022-07-04T15:37:43.454850Z"
    },
    "papermill": {
     "duration": 108.488408,
     "end_time": "2022-07-04T15:37:43.575540",
     "exception": false,
     "start_time": "2022-07-04T15:35:55.087132",
     "status": "completed"
    },
    "tags": []
   },
   "outputs": [
    {
     "name": "stdout",
     "output_type": "stream",
     "text": [
      "{'alpha': 0.01} alpha value using Lasso\n"
     ]
    }
   ],
   "source": [
    "from sklearn.model_selection import GridSearchCV\n",
    "\n",
    "tuning_grid = {\"alpha\":w}\n",
    "cv = GridSearchCV(ls,tuning_grid,scoring=\"neg_mean_squared_error\",cv=4)\n",
    "cvmodel = cv.fit(Xnew,Y)\n",
    "print(cvmodel.best_params_ ,\"alpha value using Lasso\")"
   ]
  },
  {
   "cell_type": "code",
   "execution_count": 79,
   "id": "c7f1d1cd",
   "metadata": {
    "execution": {
     "iopub.execute_input": "2022-07-04T15:37:43.663923Z",
     "iopub.status.busy": "2022-07-04T15:37:43.663543Z",
     "iopub.status.idle": "2022-07-04T15:37:43.765697Z",
     "shell.execute_reply": "2022-07-04T15:37:43.764258Z"
    },
    "papermill": {
     "duration": 0.150153,
     "end_time": "2022-07-04T15:37:43.768993",
     "exception": false,
     "start_time": "2022-07-04T15:37:43.618840",
     "status": "completed"
    },
    "tags": []
   },
   "outputs": [
    {
     "name": "stdout",
     "output_type": "stream",
     "text": [
      "0.05 0.12\n"
     ]
    }
   ],
   "source": [
    "rr = Ridge(alpha=1.03)\n",
    "model = rr.fit(xtrain,ytrain)\n",
    "tr_pred = model.predict(xtrain) \n",
    "ts_pred = model.predict(xtest)\n",
    "tr_err = round(mean_squared_error(ytrain,tr_pred),2)\n",
    "ts_err = round(mean_squared_error(ytest,ts_pred),2)\n",
    "print(tr_err,ts_err)"
   ]
  },
  {
   "cell_type": "code",
   "execution_count": 80,
   "id": "bc5092a7",
   "metadata": {
    "execution": {
     "iopub.execute_input": "2022-07-04T15:37:43.922801Z",
     "iopub.status.busy": "2022-07-04T15:37:43.922380Z",
     "iopub.status.idle": "2022-07-04T15:37:44.018053Z",
     "shell.execute_reply": "2022-07-04T15:37:44.016734Z"
    },
    "papermill": {
     "duration": 0.142696,
     "end_time": "2022-07-04T15:37:44.021555",
     "exception": false,
     "start_time": "2022-07-04T15:37:43.878859",
     "status": "completed"
    },
    "tags": []
   },
   "outputs": [
    {
     "name": "stdout",
     "output_type": "stream",
     "text": [
      "0.16 0.14\n"
     ]
    }
   ],
   "source": [
    "ls = Lasso(alpha=0.01)\n",
    "model = ls.fit(xtrain,ytrain)\n",
    "tr_pred = model.predict(xtrain) \n",
    "ts_pred = model.predict(xtest)\n",
    "tr_err = round(mean_squared_error(ytrain,tr_pred),2)\n",
    "ts_err = round(mean_squared_error(ytest,ts_pred),2)\n",
    "print(tr_err,ts_err)"
   ]
  },
  {
   "cell_type": "markdown",
   "id": "e36d3ec5",
   "metadata": {
    "papermill": {
     "duration": 0.044632,
     "end_time": "2022-07-04T15:37:44.161670",
     "exception": false,
     "start_time": "2022-07-04T15:37:44.117038",
     "status": "completed"
    },
    "tags": []
   },
   "source": [
    "Making Test Set Ready for Prediction"
   ]
  },
  {
   "cell_type": "code",
   "execution_count": 81,
   "id": "4ed944ae",
   "metadata": {
    "execution": {
     "iopub.execute_input": "2022-07-04T15:37:44.247044Z",
     "iopub.status.busy": "2022-07-04T15:37:44.246673Z",
     "iopub.status.idle": "2022-07-04T15:37:44.262350Z",
     "shell.execute_reply": "2022-07-04T15:37:44.261411Z"
    },
    "papermill": {
     "duration": 0.06089,
     "end_time": "2022-07-04T15:37:44.264408",
     "exception": false,
     "start_time": "2022-07-04T15:37:44.203518",
     "status": "completed"
    },
    "tags": []
   },
   "outputs": [
    {
     "data": {
      "text/html": [
       "<div>\n",
       "<style scoped>\n",
       "    .dataframe tbody tr th:only-of-type {\n",
       "        vertical-align: middle;\n",
       "    }\n",
       "\n",
       "    .dataframe tbody tr th {\n",
       "        vertical-align: top;\n",
       "    }\n",
       "\n",
       "    .dataframe thead th {\n",
       "        text-align: right;\n",
       "    }\n",
       "</style>\n",
       "<table border=\"1\" class=\"dataframe\">\n",
       "  <thead>\n",
       "    <tr style=\"text-align: right;\">\n",
       "      <th></th>\n",
       "      <th>PassengerId</th>\n",
       "      <th>Pclass</th>\n",
       "      <th>Name</th>\n",
       "      <th>Sex</th>\n",
       "      <th>Age</th>\n",
       "      <th>SibSp</th>\n",
       "      <th>Parch</th>\n",
       "      <th>Ticket</th>\n",
       "      <th>Fare</th>\n",
       "      <th>Cabin</th>\n",
       "      <th>Embarked</th>\n",
       "    </tr>\n",
       "  </thead>\n",
       "  <tbody>\n",
       "    <tr>\n",
       "      <th>0</th>\n",
       "      <td>892</td>\n",
       "      <td>3</td>\n",
       "      <td>Kelly, Mr. James</td>\n",
       "      <td>male</td>\n",
       "      <td>34.5</td>\n",
       "      <td>0</td>\n",
       "      <td>0</td>\n",
       "      <td>330911</td>\n",
       "      <td>7.8292</td>\n",
       "      <td>B57 B59 B63 B66</td>\n",
       "      <td>Q</td>\n",
       "    </tr>\n",
       "    <tr>\n",
       "      <th>1</th>\n",
       "      <td>893</td>\n",
       "      <td>3</td>\n",
       "      <td>Wilkes, Mrs. James (Ellen Needs)</td>\n",
       "      <td>female</td>\n",
       "      <td>47.0</td>\n",
       "      <td>1</td>\n",
       "      <td>0</td>\n",
       "      <td>363272</td>\n",
       "      <td>7.0000</td>\n",
       "      <td>B57 B59 B63 B66</td>\n",
       "      <td>S</td>\n",
       "    </tr>\n",
       "    <tr>\n",
       "      <th>2</th>\n",
       "      <td>894</td>\n",
       "      <td>2</td>\n",
       "      <td>Myles, Mr. Thomas Francis</td>\n",
       "      <td>male</td>\n",
       "      <td>62.0</td>\n",
       "      <td>0</td>\n",
       "      <td>0</td>\n",
       "      <td>240276</td>\n",
       "      <td>9.6875</td>\n",
       "      <td>B57 B59 B63 B66</td>\n",
       "      <td>Q</td>\n",
       "    </tr>\n",
       "    <tr>\n",
       "      <th>3</th>\n",
       "      <td>895</td>\n",
       "      <td>3</td>\n",
       "      <td>Wirz, Mr. Albert</td>\n",
       "      <td>male</td>\n",
       "      <td>27.0</td>\n",
       "      <td>0</td>\n",
       "      <td>0</td>\n",
       "      <td>315154</td>\n",
       "      <td>8.6625</td>\n",
       "      <td>B57 B59 B63 B66</td>\n",
       "      <td>S</td>\n",
       "    </tr>\n",
       "    <tr>\n",
       "      <th>4</th>\n",
       "      <td>896</td>\n",
       "      <td>3</td>\n",
       "      <td>Hirvonen, Mrs. Alexander (Helga E Lindqvist)</td>\n",
       "      <td>female</td>\n",
       "      <td>22.0</td>\n",
       "      <td>1</td>\n",
       "      <td>1</td>\n",
       "      <td>3101298</td>\n",
       "      <td>12.2875</td>\n",
       "      <td>B57 B59 B63 B66</td>\n",
       "      <td>S</td>\n",
       "    </tr>\n",
       "  </tbody>\n",
       "</table>\n",
       "</div>"
      ],
      "text/plain": [
       "   PassengerId  Pclass                                          Name     Sex  \\\n",
       "0          892       3                              Kelly, Mr. James    male   \n",
       "1          893       3              Wilkes, Mrs. James (Ellen Needs)  female   \n",
       "2          894       2                     Myles, Mr. Thomas Francis    male   \n",
       "3          895       3                              Wirz, Mr. Albert    male   \n",
       "4          896       3  Hirvonen, Mrs. Alexander (Helga E Lindqvist)  female   \n",
       "\n",
       "    Age  SibSp  Parch   Ticket     Fare            Cabin Embarked  \n",
       "0  34.5      0      0   330911   7.8292  B57 B59 B63 B66        Q  \n",
       "1  47.0      1      0   363272   7.0000  B57 B59 B63 B66        S  \n",
       "2  62.0      0      0   240276   9.6875  B57 B59 B63 B66        Q  \n",
       "3  27.0      0      0   315154   8.6625  B57 B59 B63 B66        S  \n",
       "4  22.0      1      1  3101298  12.2875  B57 B59 B63 B66        S  "
      ]
     },
     "execution_count": 81,
     "metadata": {},
     "output_type": "execute_result"
    }
   ],
   "source": [
    "B.head()"
   ]
  },
  {
   "cell_type": "code",
   "execution_count": 82,
   "id": "ce996b8c",
   "metadata": {
    "execution": {
     "iopub.execute_input": "2022-07-04T15:37:44.350842Z",
     "iopub.status.busy": "2022-07-04T15:37:44.350213Z",
     "iopub.status.idle": "2022-07-04T15:37:44.358084Z",
     "shell.execute_reply": "2022-07-04T15:37:44.357384Z"
    },
    "papermill": {
     "duration": 0.053354,
     "end_time": "2022-07-04T15:37:44.360058",
     "exception": false,
     "start_time": "2022-07-04T15:37:44.306704",
     "status": "completed"
    },
    "tags": []
   },
   "outputs": [
    {
     "data": {
      "text/plain": [
       "PassengerId    0\n",
       "Pclass         0\n",
       "Name           0\n",
       "Sex            0\n",
       "Age            0\n",
       "SibSp          0\n",
       "Parch          0\n",
       "Ticket         0\n",
       "Fare           0\n",
       "Cabin          0\n",
       "Embarked       0\n",
       "dtype: int64"
      ]
     },
     "execution_count": 82,
     "metadata": {},
     "output_type": "execute_result"
    }
   ],
   "source": [
    "B.isna().sum()"
   ]
  },
  {
   "cell_type": "code",
   "execution_count": 83,
   "id": "07382a89",
   "metadata": {
    "execution": {
     "iopub.execute_input": "2022-07-04T15:37:44.446909Z",
     "iopub.status.busy": "2022-07-04T15:37:44.446270Z",
     "iopub.status.idle": "2022-07-04T15:37:44.451712Z",
     "shell.execute_reply": "2022-07-04T15:37:44.450796Z"
    },
    "papermill": {
     "duration": 0.05143,
     "end_time": "2022-07-04T15:37:44.454082",
     "exception": false,
     "start_time": "2022-07-04T15:37:44.402652",
     "status": "completed"
    },
    "tags": []
   },
   "outputs": [],
   "source": [
    "X = B.drop(labels = [\"PassengerId\", \"Pclass\" , \"Age\",\"SibSp\",\"Parch\"],axis = 1)"
   ]
  },
  {
   "cell_type": "code",
   "execution_count": 84,
   "id": "975875b7",
   "metadata": {
    "execution": {
     "iopub.execute_input": "2022-07-04T15:37:44.541899Z",
     "iopub.status.busy": "2022-07-04T15:37:44.541517Z",
     "iopub.status.idle": "2022-07-04T15:37:44.547575Z",
     "shell.execute_reply": "2022-07-04T15:37:44.546506Z"
    },
    "papermill": {
     "duration": 0.053356,
     "end_time": "2022-07-04T15:37:44.550242",
     "exception": false,
     "start_time": "2022-07-04T15:37:44.496886",
     "status": "completed"
    },
    "tags": []
   },
   "outputs": [],
   "source": [
    "cat = []\n",
    "con = []\n",
    "for i in X.columns:\n",
    "    if(X[i].dtypes == \"object\"):\n",
    "        cat.append(i)\n",
    "    else:\n",
    "        con.append(i)"
   ]
  },
  {
   "cell_type": "code",
   "execution_count": 85,
   "id": "bfbd3b11",
   "metadata": {
    "execution": {
     "iopub.execute_input": "2022-07-04T15:37:44.703773Z",
     "iopub.status.busy": "2022-07-04T15:37:44.703349Z",
     "iopub.status.idle": "2022-07-04T15:37:44.712866Z",
     "shell.execute_reply": "2022-07-04T15:37:44.711592Z"
    },
    "papermill": {
     "duration": 0.055586,
     "end_time": "2022-07-04T15:37:44.715245",
     "exception": false,
     "start_time": "2022-07-04T15:37:44.659659",
     "status": "completed"
    },
    "tags": []
   },
   "outputs": [],
   "source": [
    "Xtst1 = pd.DataFrame(ss.fit_transform(X[con]),columns = con)"
   ]
  },
  {
   "cell_type": "code",
   "execution_count": 86,
   "id": "ce54568e",
   "metadata": {
    "execution": {
     "iopub.execute_input": "2022-07-04T15:37:45.086408Z",
     "iopub.status.busy": "2022-07-04T15:37:45.085690Z",
     "iopub.status.idle": "2022-07-04T15:37:45.090381Z",
     "shell.execute_reply": "2022-07-04T15:37:45.089656Z"
    },
    "papermill": {
     "duration": 0.051153,
     "end_time": "2022-07-04T15:37:45.092522",
     "exception": false,
     "start_time": "2022-07-04T15:37:45.041369",
     "status": "completed"
    },
    "tags": []
   },
   "outputs": [],
   "source": [
    "cat.remove(\"Name\")"
   ]
  },
  {
   "cell_type": "code",
   "execution_count": 87,
   "id": "89cd64e5",
   "metadata": {
    "execution": {
     "iopub.execute_input": "2022-07-04T15:37:45.178384Z",
     "iopub.status.busy": "2022-07-04T15:37:45.177661Z",
     "iopub.status.idle": "2022-07-04T15:37:45.189524Z",
     "shell.execute_reply": "2022-07-04T15:37:45.188712Z"
    },
    "papermill": {
     "duration": 0.057485,
     "end_time": "2022-07-04T15:37:45.191919",
     "exception": false,
     "start_time": "2022-07-04T15:37:45.134434",
     "status": "completed"
    },
    "tags": []
   },
   "outputs": [],
   "source": [
    "Xtst2 = pd.get_dummies(B[cat])"
   ]
  },
  {
   "cell_type": "code",
   "execution_count": 88,
   "id": "9b437c76",
   "metadata": {
    "execution": {
     "iopub.execute_input": "2022-07-04T15:37:45.279586Z",
     "iopub.status.busy": "2022-07-04T15:37:45.278858Z",
     "iopub.status.idle": "2022-07-04T15:37:45.286125Z",
     "shell.execute_reply": "2022-07-04T15:37:45.285348Z"
    },
    "papermill": {
     "duration": 0.052742,
     "end_time": "2022-07-04T15:37:45.288306",
     "exception": false,
     "start_time": "2022-07-04T15:37:45.235564",
     "status": "completed"
    },
    "tags": []
   },
   "outputs": [],
   "source": [
    "Xtst_new = Xtst1.join(Xtst2)"
   ]
  },
  {
   "cell_type": "code",
   "execution_count": 89,
   "id": "8e07fcd4",
   "metadata": {
    "execution": {
     "iopub.execute_input": "2022-07-04T15:37:45.374087Z",
     "iopub.status.busy": "2022-07-04T15:37:45.373310Z",
     "iopub.status.idle": "2022-07-04T15:37:45.378162Z",
     "shell.execute_reply": "2022-07-04T15:37:45.377486Z"
    },
    "papermill": {
     "duration": 0.050178,
     "end_time": "2022-07-04T15:37:45.380351",
     "exception": false,
     "start_time": "2022-07-04T15:37:45.330173",
     "status": "completed"
    },
    "tags": []
   },
   "outputs": [],
   "source": [
    "cols_to_keep = xtrain.columns"
   ]
  },
  {
   "cell_type": "code",
   "execution_count": 90,
   "id": "d2114eb8",
   "metadata": {
    "execution": {
     "iopub.execute_input": "2022-07-04T15:37:45.466699Z",
     "iopub.status.busy": "2022-07-04T15:37:45.465964Z",
     "iopub.status.idle": "2022-07-04T15:37:45.471067Z",
     "shell.execute_reply": "2022-07-04T15:37:45.470307Z"
    },
    "papermill": {
     "duration": 0.050601,
     "end_time": "2022-07-04T15:37:45.473217",
     "exception": false,
     "start_time": "2022-07-04T15:37:45.422616",
     "status": "completed"
    },
    "tags": []
   },
   "outputs": [],
   "source": [
    "Xtst_new.index = range(0,len(Xtst_new),1)"
   ]
  },
  {
   "cell_type": "code",
   "execution_count": 91,
   "id": "e3da73de",
   "metadata": {},
   "outputs": [],
   "source": [
    "new_list = ['Cabin_B20', 'Ticket_220367', 'Ticket_2672', 'Cabin_B79', 'Ticket_342826', 'Cabin_E77', 'Ticket_STON/O 2. 3101275', 'Ticket_SC/Paris 2163', 'Ticket_SC/PARIS 2146', 'Ticket_C.A. 29178', 'Ticket_350052', 'Ticket_PC 17476', 'Cabin_C123', 'Ticket_374746', 'Ticket_349257', 'Ticket_PC 17609', 'Ticket_7534', 'Cabin_C110', 'Ticket_349237', 'Ticket_236852', 'Ticket_113800', 'Cabin_B18', 'Cabin_D56', 'Ticket_7267', 'Ticket_13568', 'Ticket_STON/O2. 3101283', 'Ticket_WE/P 5735', 'Ticket_312992', 'Ticket_394140', 'Ticket_364500', 'Ticket_STON/O 2. 3101273', 'Ticket_PC 17611', 'Ticket_349231', 'Ticket_PC 17601', 'Ticket_349217', 'Ticket_4579', 'Ticket_370370', 'Cabin_D17', 'Ticket_335097', 'Ticket_PC 17473', 'Ticket_A/5 2817', 'Ticket_113510', 'Ticket_112053', 'Ticket_110413', 'Ticket_113572', 'Ticket_343276', 'Ticket_345779', 'Ticket_2690', 'Ticket_345773', 'Ticket_SC/PARIS 2133', 'Ticket_28424', 'Ticket_111369', 'Ticket_PC 17610', 'Ticket_330979', 'Ticket_347083', 'Ticket_2695', 'Ticket_113789', 'Cabin_D7', 'Ticket_365222', 'Cabin_D48', 'Ticket_250649', 'Ticket_A.5. 11206', 'Ticket_349246', 'Cabin_E44', 'Ticket_A/5 3536', 'Cabin_A36', 'Ticket_315088', 'Ticket_2659', 'Ticket_14312', 'Ticket_PC 17600', 'Ticket_348123', 'Ticket_347089', 'Ticket_2663', 'Ticket_349204', 'Ticket_28206', 'Ticket_248747', 'Ticket_113803', 'Ticket_SC/PARIS 2149', 'Ticket_2664', 'Ticket_A/4. 20589', 'Cabin_B39', 'Ticket_3460', 'Ticket_347060', 'Ticket_239854', 'Ticket_334912', 'Ticket_3101296', 'Ticket_3101277', 'Ticket_347087', 'Ticket_Fa 265302', 'Cabin_A6', 'Ticket_11755', 'Ticket_243880', 'Ticket_349208', 'Ticket_35281', 'Ticket_343120', 'Ticket_343275', 'Ticket_36865', 'Ticket_234818', 'Cabin_C148', 'Ticket_PC 17474', 'Ticket_384461', 'Ticket_SO/C 14885', 'Ticket_SOTON/O.Q. 3101311', 'Ticket_348121', 'Ticket_13213', 'Ticket_330935', 'Cabin_D20', 'Ticket_113051', 'Ticket_SOTON/OQ 3101317', 'Ticket_28425', 'Ticket_3411', 'Ticket_244373', 'Ticket_250644', 'Ticket_370377', 'Cabin_E24', 'Ticket_237668', 'Ticket_237442', 'Cabin_B73', 'Cabin_E121', 'Cabin_C90', 'Ticket_350417', 'Ticket_2699', 'Ticket_SOTON/O.Q. 3101312', 'Ticket_2666', 'Ticket_S.O./P.P. 751', 'Ticket_239856', 'Ticket_347466', 'Ticket_SC/PARIS 2131', 'Ticket_347064', 'Ticket_349222', 'Ticket_695', 'Ticket_111428', 'Ticket_243847', 'Ticket_250653', 'Ticket_364846', 'Cabin_C50', 'Cabin_D6', 'Ticket_113807', 'Ticket_330980', 'Ticket_2641', 'Ticket_9234', 'Ticket_371110', 'Ticket_315093', 'Ticket_2693', 'Ticket_349251', 'Ticket_230080', 'Ticket_19972', 'Ticket_240929', 'Ticket_349236', 'Ticket_C 7077', 'Ticket_SOTON/OQ 392082', 'Ticket_349240', 'Ticket_347062', 'Ticket_349228', 'Ticket_364848', 'Ticket_SOTON/OQ 392076', 'Ticket_17453', 'Ticket_A.5. 18509', 'Ticket_13509', 'Cabin_B30', 'Ticket_113501', 'Ticket_330959', 'Ticket_315094', 'Ticket_STON/O 2. 3101292', 'Ticket_250652', 'Ticket_347076', 'Ticket_A/5 3902', 'Ticket_A/5. 10482', 'Ticket_A/5. 3336', 'Ticket_28134', 'Ticket_347464', 'Ticket_368703', 'Ticket_2623', 'Ticket_7540', 'Ticket_27267', 'Ticket_113776', 'Ticket_374910', 'Ticket_13049', 'Ticket_C.A. 29566', 'Cabin_A7', 'Cabin_D45', 'Ticket_345774', 'Ticket_347468', 'Ticket_315151', 'Ticket_2669', 'Cabin_E10', 'Ticket_370369', 'Ticket_11751', 'Ticket_112052', 'Ticket_11752', 'Ticket_349215', 'Ticket_2700', 'Cabin_C124', 'Ticket_STON/O 2. 3101294', 'Ticket_367231', 'Ticket_A./5. 2152', 'Ticket_4137', 'Ticket_349205', 'Ticket_237736', 'Ticket_STON/O 2. 3101274', 'Cabin_B38', 'Ticket_349216', 'Ticket_323951', 'Ticket_3101276', 'Ticket_367228', 'Ticket_370372', 'Cabin_A24', 'Ticket_315090', 'Cabin_C128', 'Ticket_C.A. 31026', 'Ticket_SOTON/O.Q. 3101306', 'Ticket_36973', 'Ticket_111427', 'Ticket_347071', 'Ticket_315084', 'Ticket_248723', 'Ticket_250648', 'Ticket_349203', 'Ticket_347074', 'Ticket_PC 17582', 'Ticket_3474', 'Ticket_345364', 'Cabin_D49', 'Cabin_C92', 'Cabin_A20', 'Cabin_E58', 'Ticket_110465', 'Ticket_13507', 'Ticket_336439', 'Ticket_315037', 'Ticket_341826', 'Ticket_248698', 'Cabin_B49', 'Ticket_392096', 'Ticket_113760', 'Cabin_C93', 'Ticket_345780', 'Ticket_C 17369', 'Ticket_364851', 'Ticket_12460', 'Ticket_345765', 'Ticket_2626', 'Ticket_244252', 'Ticket_364511', 'Ticket_A/5 3540', 'Ticket_350406', 'Ticket_31418', 'Cabin_F E69', 'Ticket_349233', 'Ticket_113505', 'Ticket_STON/O2. 3101290', 'Ticket_349224', 'Cabin_C103', 'Ticket_PC 17605', 'Ticket_4138', 'Ticket_349219', 'Ticket_383121', 'Ticket_350034', 'Ticket_28213', 'Ticket_PC 17572', 'Ticket_250647', 'Ticket_65306', 'Ticket_2694', 'Ticket_2677', 'Ticket_343095', 'Ticket_17474', 'Ticket_65304', 'Ticket_7598', 'Ticket_113783', 'Ticket_STON/O 2. 3101288', 'Ticket_2687', 'Ticket_349207', 'Ticket_C.A. 31921', 'Ticket_3101278', 'Ticket_A/5 2466', 'Ticket_CA. 2314', 'Cabin_A26', 'Cabin_E101', 'Ticket_A/5. 2151', 'Ticket_239865', 'Ticket_350035', 'Ticket_C.A. 33111', 'Ticket_28228', 'Ticket_350029', 'Ticket_6563', 'Ticket_5727', 'Ticket_350047', 'Ticket_113798', 'Ticket_349206', 'Cabin_E40', 'Ticket_239853', 'Ticket_2651', 'Ticket_113787', 'Ticket_349243', 'Ticket_7545', 'Cabin_C49', 'Ticket_250646', 'Ticket_PC 17754', 'Cabin_D26', 'Ticket_13214', 'Ticket_12233', 'Ticket_PC 17596', 'Cabin_C87', 'Ticket_349242', 'Cabin_B94', 'Ticket_218629', 'Ticket_29751', 'Cabin_C99', 'Ticket_365226', 'Ticket_54636', 'Ticket_367229', 'Ticket_330909', 'Ticket_PC 17595', 'Ticket_350404', 'Ticket_113055', 'Ticket_7553', 'Ticket_A/5. 13032', 'Ticket_4134', 'Ticket_250655', 'Ticket_349209', 'Ticket_244310', 'Ticket_PP 4348', 'Ticket_312991', 'Ticket_7552', 'Ticket_27042', 'Ticket_31028', 'Ticket_SOTON/OQ 3101316', 'Ticket_C.A. 29395', 'Cabin_E25', 'Ticket_A4. 54510', 'Ticket_113056', 'Ticket_349221', 'Ticket_2649', 'Ticket_C 7075', 'Cabin_D9', 'Cabin_D11', 'Ticket_SOTON/O2 3101287', 'Ticket_330923', 'Ticket_29106', 'Ticket_349253', 'Ticket_349225', 'Ticket_364499', 'Ticket_2671', 'Ticket_376564', 'Ticket_219533', 'Ticket_2629', 'Ticket_330931', 'Ticket_A/4 45380', 'Ticket_SW/PP 751', 'Ticket_17466', 'Ticket_362316', 'Ticket_4135', 'Cabin_C68', 'Ticket_364516', 'Ticket_233639', 'Ticket_112050', 'Ticket_250643', 'Ticket_364512', 'Ticket_113028', 'Ticket_2665', 'Cabin_B96 B98', 'Ticket_113804', 'Cabin_A10', 'Ticket_248731', 'Ticket_110152', 'Ticket_STON/O 2. 3101293', 'Ticket_363294', 'Ticket_223596', 'Ticket_244361', 'Ticket_C.A. 5547', 'Ticket_244367', 'Cabin_B82 B84', 'Ticket_PC 17590', 'Ticket_347061', 'Ticket_STON/O2. 3101282', 'Ticket_35852', 'Ticket_349210', 'Ticket_349218', 'Ticket_233866', 'Ticket_370365', 'Ticket_W./C. 6609', 'Ticket_19947', 'Ticket_349223', 'Cabin_C126', 'Ticket_112379', 'Ticket_PC 17318', 'Ticket_A/5 21173', 'Ticket_372622', 'Ticket_349241', 'Ticket_36209', 'Ticket_34218', 'Ticket_113767', 'Ticket_345767', 'Ticket_3101265', 'Ticket_382649', 'Ticket_2697', 'Ticket_349244', 'Ticket_345783', 'Ticket_A/S 2816', 'Ticket_234360', 'Ticket_13502', 'Ticket_345781', 'Ticket_14973', 'Ticket_315098', 'Ticket_347073', 'Ticket_LINE', 'Ticket_231945', 'Ticket_A/4. 39886', 'Cabin_E8', 'Ticket_19988', 'Ticket_11771', 'Ticket_2691', 'Ticket_113786', 'Ticket_C.A. 24580', 'Cabin_B77', 'Cabin_A31', 'Cabin_B28', 'Ticket_A/5 21171', 'Ticket_2647', 'Ticket_31027', 'Ticket_113514', 'Ticket_STON/O2. 3101271', 'Cabin_B19', 'Ticket_2685', 'Ticket_358585', 'Ticket_2908', 'Ticket_STON/O 2. 3101269', 'Ticket_349249', 'Cabin_B35', 'Ticket_347081', 'Ticket_248740', 'Ticket_STON/O 2. 3101286', 'Ticket_349239', 'Ticket_36967', 'Ticket_370375', 'Cabin_C91', 'Ticket_330919', 'Ticket_7546', 'Ticket_PC 17477', 'Cabin_C52', 'Ticket_36947', 'Ticket_F.C.C. 13531', 'Cabin_E49', 'Ticket_312993', 'Ticket_345777', 'Ticket_17764', 'Ticket_SC/AH Basle 541', 'Ticket_239855', 'Ticket_373450', 'Ticket_367232', 'Ticket_14313', 'Ticket_347742', 'Ticket_SOTON/O.Q. 3101310', 'Ticket_211536', 'Ticket_2620', 'Ticket_A/4. 34244', 'Ticket_PC 17593', 'Ticket_345778', 'Ticket_348124', 'Cabin_B22', 'Ticket_2686', 'Ticket_29104', 'Ticket_392092', 'Ticket_113043', 'Ticket_347088', 'Ticket_17421', 'Ticket_65303', 'Ticket_A/5 21172', 'Ticket_349214', 'Ticket_347054', 'Ticket_SOTON/O.Q. 392087', 'Ticket_35273', 'Ticket_2683', 'Ticket_248727', 'Ticket_693', 'Ticket_2667', 'Ticket_347470', 'Ticket_36864', 'Ticket_17465', 'Ticket_349254', 'Ticket_368323', 'Ticket_350046', 'Ticket_A/5 21174', 'Cabin_E36', 'Cabin_E67', 'Ticket_349252', 'Ticket_PC 17482', 'Ticket_350050', 'Ticket_350025', 'Ticket_8475', 'Ticket_3101267', 'Ticket_SOTON/O.Q. 392078', 'Ticket_113784', 'Ticket_C.A. 18723', 'Ticket_C.A./SOTON 34068', 'Ticket_349227', 'Ticket_SOTON/O.Q. 3101305', 'Ticket_2223', 'Ticket_A./5. 3235', 'Cabin_A16', 'Ticket_28551', 'Ticket_236171', 'Ticket_11668', 'Ticket_11967', 'Ticket_230434', 'Cabin_B102', 'Ticket_347063', 'Ticket_234604', 'Ticket_PC 17475', 'Ticket_SOTON/OQ 392090', 'Ticket_P/PP 3381', 'Ticket_347067', 'Ticket_S.O.P. 1166', 'Cabin_A5', 'Ticket_28403', 'Ticket_237565', 'Ticket_STON/O 2. 3101280', 'Ticket_21440', 'Cabin_C47', 'Ticket_370376', 'Ticket_2648', 'Ticket_111320', 'Ticket_382651', 'Cabin_C111', 'Ticket_315082', 'Cabin_A32', 'Ticket_S.C./A.4. 23567', 'Cabin_F G73', 'Ticket_C.A. 24579', 'Ticket_330877', 'Ticket_350042', 'Ticket_244270', 'Ticket_112277', 'Cabin_B50', 'Ticket_SOTON/OQ 392089', 'Ticket_36963', 'Ticket_2674', 'Ticket_350060', 'Ticket_SC 1748', 'Ticket_350036', 'Ticket_345764', 'Ticket_349234', 'Ticket_112059', 'Ticket_364506', 'Ticket_C.A. 34260', 'Ticket_113788', 'Ticket_111361', 'Cabin_A19', 'Ticket_330958', 'Ticket_35851', 'Cabin_A23', 'Ticket_347082', 'Ticket_14311', 'Ticket_STON/O 2. 3101285', 'Ticket_324669', 'Ticket_36866', 'Ticket_113794', 'Cabin_D33', 'Ticket_4136', 'Cabin_D35', 'Ticket_C.A. 17248', 'Ticket_230433', 'Ticket_349245', 'Ticket_SOTON/O2 3101272', 'Ticket_244278', 'Ticket_349248', 'Ticket_113792', 'Ticket_363592', 'Ticket_350407', 'Ticket_8471', 'Ticket_SCO/W 1585', 'Ticket_3101281', 'Ticket_STON/O2. 3101279', 'Ticket_330932', 'Ticket_350048', 'Ticket_2628', 'Ticket_237798', 'Ticket_347743', 'Ticket_SOTON/OQ 392086', 'Ticket_19996', 'Ticket_349212', 'Ticket_16988', 'Ticket_W./C. 14263', 'Cabin_D47', 'Ticket_347068', 'Ticket_248706', 'Ticket_364850', 'Ticket_S.W./PP 752', 'Ticket_SOTON/O.Q. 3101307', 'Ticket_371060', 'Ticket_11774', 'Ticket_226593', 'Cabin_A14', 'Cabin_C83', 'Ticket_PC 17485', 'Ticket_345770', 'Ticket_349247', 'Ticket_S.P. 3464', 'Ticket_347078', 'Ticket_29011', 'Ticket_19943', 'Ticket_345769', 'Ticket_347069', 'Ticket_363291', 'Ticket_349912', 'Cabin_B37', 'Cabin_E33', 'Ticket_2627', 'Ticket_234686', 'Cabin_D36', 'Ticket_367230', 'Ticket_27849', 'Ticket_323592', 'Ticket_347085', 'Ticket_C 7076', 'Ticket_3101264', 'Ticket_349201', 'Ticket_367655', 'Ticket_W./C. 14258', 'Ticket_315097', 'Ticket_364849', 'Ticket_28665', 'Ticket_W/C 14208', 'Ticket_248733', 'Ticket_111240', 'Ticket_19952', 'Ticket_374887', 'Cabin_B42', 'Ticket_PC 17612', 'Ticket_29108', 'Ticket_A/5 3594', 'Ticket_STON/O 2. 3101289', 'Ticket_113050', 'Cabin_B4', 'Ticket_F.C.C. 13529', 'Cabin_C2', 'Ticket_2631', 'Ticket_2624', 'Ticket_349213', 'Ticket_111426', 'Ticket_350043', 'Ticket_315096', 'Ticket_231919', 'Cabin_C65', 'Ticket_110564', 'Ticket_315089', 'Ticket_PC 17604', 'Ticket_S.O./P.P. 3', 'Ticket_113806', 'Ticket_229236', 'Cabin_C125']\n",
    "for i in new_list:\n",
    "    Xtst_new[i] = 0"
   ]
  },
  {
   "cell_type": "code",
   "execution_count": 92,
   "id": "e779bf5c",
   "metadata": {},
   "outputs": [],
   "source": [
    "final_xtst = Xtst_new[cols_to_keep]"
   ]
  },
  {
   "cell_type": "code",
   "execution_count": 93,
   "id": "f1e37a0c",
   "metadata": {
    "execution": {
     "iopub.execute_input": "2022-07-04T15:37:45.559479Z",
     "iopub.status.busy": "2022-07-04T15:37:45.558722Z",
     "iopub.status.idle": "2022-07-04T15:37:45.595135Z",
     "shell.execute_reply": "2022-07-04T15:37:45.594200Z"
    },
    "papermill": {
     "duration": 0.082601,
     "end_time": "2022-07-04T15:37:45.597766",
     "exception": false,
     "start_time": "2022-07-04T15:37:45.515165",
     "status": "completed"
    },
    "tags": []
   },
   "outputs": [],
   "source": [
    "pred = model.predict(final_xtst)"
   ]
  },
  {
   "cell_type": "code",
   "execution_count": 98,
   "id": "2e70f569",
   "metadata": {},
   "outputs": [],
   "source": [
    "prediction = pd.DataFrame(pred)"
   ]
  },
  {
   "cell_type": "code",
   "execution_count": 99,
   "id": "f4519a98",
   "metadata": {},
   "outputs": [],
   "source": [
    "prediction = round(prediction,0)"
   ]
  },
  {
   "cell_type": "code",
   "execution_count": 100,
   "id": "8a237f20",
   "metadata": {
    "execution": {
     "iopub.execute_input": "2022-07-04T15:22:02.146532Z",
     "iopub.status.busy": "2022-07-04T15:22:02.145398Z",
     "iopub.status.idle": "2022-07-04T15:22:02.152475Z",
     "shell.execute_reply": "2022-07-04T15:22:02.151463Z",
     "shell.execute_reply.started": "2022-07-04T15:22:02.146485Z"
    },
    "papermill": {
     "duration": null,
     "end_time": null,
     "exception": null,
     "start_time": null,
     "status": "pending"
    },
    "tags": []
   },
   "outputs": [],
   "source": [
    "K = B[[\"PassengerId\"]]"
   ]
  },
  {
   "cell_type": "code",
   "execution_count": 101,
   "id": "6e24fc75",
   "metadata": {
    "execution": {
     "iopub.execute_input": "2022-07-04T15:22:03.550630Z",
     "iopub.status.busy": "2022-07-04T15:22:03.549714Z",
     "iopub.status.idle": "2022-07-04T15:22:03.560304Z",
     "shell.execute_reply": "2022-07-04T15:22:03.559081Z",
     "shell.execute_reply.started": "2022-07-04T15:22:03.550584Z"
    },
    "papermill": {
     "duration": null,
     "end_time": null,
     "exception": null,
     "start_time": null,
     "status": "pending"
    },
    "tags": []
   },
   "outputs": [],
   "source": [
    "K[\"Survived\"] = prediction"
   ]
  },
  {
   "cell_type": "code",
   "execution_count": 102,
   "id": "4ff85ee7",
   "metadata": {
    "execution": {
     "iopub.execute_input": "2022-07-04T15:22:06.717722Z",
     "iopub.status.busy": "2022-07-04T15:22:06.717218Z",
     "iopub.status.idle": "2022-07-04T15:22:06.733036Z",
     "shell.execute_reply": "2022-07-04T15:22:06.731789Z",
     "shell.execute_reply.started": "2022-07-04T15:22:06.717678Z"
    },
    "papermill": {
     "duration": null,
     "end_time": null,
     "exception": null,
     "start_time": null,
     "status": "pending"
    },
    "tags": []
   },
   "outputs": [
    {
     "data": {
      "text/html": [
       "<div>\n",
       "<style scoped>\n",
       "    .dataframe tbody tr th:only-of-type {\n",
       "        vertical-align: middle;\n",
       "    }\n",
       "\n",
       "    .dataframe tbody tr th {\n",
       "        vertical-align: top;\n",
       "    }\n",
       "\n",
       "    .dataframe thead th {\n",
       "        text-align: right;\n",
       "    }\n",
       "</style>\n",
       "<table border=\"1\" class=\"dataframe\">\n",
       "  <thead>\n",
       "    <tr style=\"text-align: right;\">\n",
       "      <th></th>\n",
       "      <th>PassengerId</th>\n",
       "      <th>Survived</th>\n",
       "    </tr>\n",
       "  </thead>\n",
       "  <tbody>\n",
       "    <tr>\n",
       "      <th>0</th>\n",
       "      <td>892</td>\n",
       "      <td>0.0</td>\n",
       "    </tr>\n",
       "    <tr>\n",
       "      <th>1</th>\n",
       "      <td>893</td>\n",
       "      <td>1.0</td>\n",
       "    </tr>\n",
       "    <tr>\n",
       "      <th>2</th>\n",
       "      <td>894</td>\n",
       "      <td>0.0</td>\n",
       "    </tr>\n",
       "    <tr>\n",
       "      <th>3</th>\n",
       "      <td>895</td>\n",
       "      <td>0.0</td>\n",
       "    </tr>\n",
       "    <tr>\n",
       "      <th>4</th>\n",
       "      <td>896</td>\n",
       "      <td>1.0</td>\n",
       "    </tr>\n",
       "    <tr>\n",
       "      <th>...</th>\n",
       "      <td>...</td>\n",
       "      <td>...</td>\n",
       "    </tr>\n",
       "    <tr>\n",
       "      <th>413</th>\n",
       "      <td>1305</td>\n",
       "      <td>0.0</td>\n",
       "    </tr>\n",
       "    <tr>\n",
       "      <th>414</th>\n",
       "      <td>1306</td>\n",
       "      <td>1.0</td>\n",
       "    </tr>\n",
       "    <tr>\n",
       "      <th>415</th>\n",
       "      <td>1307</td>\n",
       "      <td>0.0</td>\n",
       "    </tr>\n",
       "    <tr>\n",
       "      <th>416</th>\n",
       "      <td>1308</td>\n",
       "      <td>0.0</td>\n",
       "    </tr>\n",
       "    <tr>\n",
       "      <th>417</th>\n",
       "      <td>1309</td>\n",
       "      <td>0.0</td>\n",
       "    </tr>\n",
       "  </tbody>\n",
       "</table>\n",
       "<p>418 rows × 2 columns</p>\n",
       "</div>"
      ],
      "text/plain": [
       "     PassengerId  Survived\n",
       "0            892       0.0\n",
       "1            893       1.0\n",
       "2            894       0.0\n",
       "3            895       0.0\n",
       "4            896       1.0\n",
       "..           ...       ...\n",
       "413         1305       0.0\n",
       "414         1306       1.0\n",
       "415         1307       0.0\n",
       "416         1308       0.0\n",
       "417         1309       0.0\n",
       "\n",
       "[418 rows x 2 columns]"
      ]
     },
     "execution_count": 102,
     "metadata": {},
     "output_type": "execute_result"
    }
   ],
   "source": [
    "K"
   ]
  },
  {
   "cell_type": "code",
   "execution_count": 106,
   "id": "4c6c5697",
   "metadata": {
    "execution": {
     "iopub.execute_input": "2022-07-04T15:15:32.850474Z",
     "iopub.status.busy": "2022-07-04T15:15:32.849294Z",
     "iopub.status.idle": "2022-07-04T15:15:32.871323Z",
     "shell.execute_reply": "2022-07-04T15:15:32.870351Z",
     "shell.execute_reply.started": "2022-07-04T15:15:32.850428Z"
    },
    "papermill": {
     "duration": null,
     "end_time": null,
     "exception": null,
     "start_time": null,
     "status": "pending"
    },
    "tags": []
   },
   "outputs": [],
   "source": [
    "K.to_csv(\"C:/Users/kruta/Desktop/submission.csv\",index = False)"
   ]
  }
 ],
 "metadata": {
  "kernelspec": {
   "display_name": "Python 3",
   "language": "python",
   "name": "python3"
  },
  "language_info": {
   "codemirror_mode": {
    "name": "ipython",
    "version": 3
   },
   "file_extension": ".py",
   "mimetype": "text/x-python",
   "name": "python",
   "nbconvert_exporter": "python",
   "pygments_lexer": "ipython3",
   "version": "3.8.8"
  },
  "papermill": {
   "default_parameters": {},
   "duration": 306.592708,
   "end_time": "2022-07-04T15:37:47.218099",
   "environment_variables": {},
   "exception": true,
   "input_path": "__notebook__.ipynb",
   "output_path": "__notebook__.ipynb",
   "parameters": {},
   "start_time": "2022-07-04T15:32:40.625391",
   "version": "2.3.4"
  }
 },
 "nbformat": 4,
 "nbformat_minor": 5
}
